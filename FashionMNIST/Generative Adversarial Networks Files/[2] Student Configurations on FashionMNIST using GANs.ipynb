{
 "cells": [
  {
   "cell_type": "markdown",
   "metadata": {
    "id": "XcYlxyy2dj0s"
   },
   "source": [
    "# Distilling Knowledge in Multiple Students Using Generative Models"
   ]
  },
  {
   "cell_type": "code",
   "execution_count": 1,
   "metadata": {
    "id": "ce2GSoOKWFKP"
   },
   "outputs": [],
   "source": [
    "# %tensorflow_version 1.x\n",
    "# !pip install --upgrade opencv-python==3.4.2.17\n",
    "import numpy as np\n",
    "import tensorflow as tf\n",
    "import tensorflow.keras\n",
    "import tensorflow.keras.backend as K\n",
    "# import os\n",
    "from tensorflow.keras.datasets import fashion_mnist,mnist,cifar10\n",
    "# import keras.backend as K\n",
    "from tensorflow.keras.layers import Conv2D,Activation,BatchNormalization,UpSampling2D,Embedding,ZeroPadding2D, Input, Flatten, Dense, Reshape, LeakyReLU, Dropout,MaxPooling2D\n",
    "from tensorflow.keras.models import Sequential, Model\n",
    "from tensorflow.keras.optimizers import Adam, SGD, RMSprop\n",
    "from tensorflow.keras import regularizers\n",
    "\n",
    "from tensorflow.keras.utils import Progbar\n",
    "from keras.initializers import RandomNormal\n",
    "import random\n",
    "from sklearn.model_selection import train_test_split\n",
    "# from keras.utils import np_utils\n",
    "from tensorflow.keras import utils as np_utils\n",
    "\n"
   ]
  },
  {
   "cell_type": "code",
   "execution_count": 2,
   "metadata": {
    "colab": {
     "base_uri": "https://localhost:8080/"
    },
    "executionInfo": {
     "elapsed": 21258,
     "status": "ok",
     "timestamp": 1613835780197,
     "user": {
      "displayName": "Musab R.",
      "photoUrl": "https://lh3.googleusercontent.com/a-/AOh14Ggo6kK28_a_Swx27ReDE7W6SlcMcsOsRyiTC_xFvA=s64",
      "userId": "11675938905762231877"
     },
     "user_tz": -300
    },
    "id": "lyIJv1WRNo7G",
    "outputId": "feb02b96-e14b-4e57-cc3a-7561223cdef6",
    "scrolled": true
   },
   "outputs": [
    {
     "name": "stdout",
     "output_type": "stream",
     "text": [
      "Model: \"sequential\"\n",
      "_________________________________________________________________\n",
      "Layer (type)                 Output Shape              Param #   \n",
      "=================================================================\n",
      "conv2d (Conv2D)              (None, 26, 26, 32)        320       \n",
      "_________________________________________________________________\n",
      "conv2d_1 (Conv2D)            (None, 24, 24, 64)        18496     \n",
      "_________________________________________________________________\n",
      "max_pooling2d (MaxPooling2D) (None, 12, 12, 64)        0         \n",
      "_________________________________________________________________\n",
      "dropout (Dropout)            (None, 12, 12, 64)        0         \n",
      "_________________________________________________________________\n",
      "flatten (Flatten)            (None, 9216)              0         \n",
      "_________________________________________________________________\n",
      "dense (Dense)                (None, 256)               2359552   \n",
      "_________________________________________________________________\n",
      "dense_1 (Dense)              (None, 256)               65792     \n",
      "_________________________________________________________________\n",
      "dropout_1 (Dropout)          (None, 256)               0         \n",
      "_________________________________________________________________\n",
      "dense_2 (Dense)              (None, 10)                2570      \n",
      "_________________________________________________________________\n",
      "activation (Activation)      (None, 10)                0         \n",
      "=================================================================\n",
      "Total params: 2,446,730\n",
      "Trainable params: 2,446,730\n",
      "Non-trainable params: 0\n",
      "_________________________________________________________________\n",
      "None\n"
     ]
    }
   ],
   "source": [
    "#Loading and splitting the dataset into train, validation and test\n",
    "nb_classes = 10\n",
    "\n",
    "(X_Train, y_Train), (X_test, y_test) = fashion_mnist.load_data()\n",
    "X_train, X_val, y_train, y_val = train_test_split(X_Train, y_Train, test_size=0.20)\n",
    "# convert y_train and y_test to categorical binary values \n",
    "Y_train = np_utils.to_categorical(y_train, nb_classes)\n",
    "Y_val = np_utils.to_categorical(y_val, nb_classes)\n",
    "\n",
    "X_train = X_train.reshape(48000, 28, 28, 1)\n",
    "X_val = X_val.reshape(12000, 28, 28, 1)\n",
    "\n",
    "X_train = X_train.astype('float32')\n",
    "X_val = X_val.astype('float32')\n",
    "\n",
    "# Normalize the values\n",
    "X_train /= 255\n",
    "X_val /= 255\n",
    "\n",
    "\n",
    "#Creating a teacher network\n",
    "input_shape = (28, 28, 1) # Input shape of each image\n",
    "\n",
    "teacher = Sequential()\n",
    "teacher.add(Conv2D(32, kernel_size=(3, 3),\n",
    "                 activation='relu',\n",
    "                 input_shape=input_shape))\n",
    "teacher.add(Conv2D(64, (3, 3), activation='relu'))\n",
    "teacher.add(MaxPooling2D(pool_size=(2, 2)))\n",
    "\n",
    "teacher.add(Dropout(0.25)) # For reguralization\n",
    "\n",
    "teacher.add(Flatten())\n",
    "teacher.add(Dense(256, activation='relu'))\n",
    "teacher.add(Dense(256, activation='relu', name=\"dense_1\"))\n",
    "\n",
    "teacher.add(Dropout(0.5)) # For reguralization\n",
    "\n",
    "teacher.add(Dense(nb_classes, name = 'dense_2'))\n",
    "teacher.add(Activation('softmax')) # Note that we add a normal softmax layer to begin with\n",
    "\n",
    "teacher.compile(loss='categorical_crossentropy',\n",
    "              optimizer='adam',\n",
    "              metrics=['accuracy'])\n",
    "\n",
    "print(teacher.summary())"
   ]
  },
  {
   "cell_type": "code",
   "execution_count": 3,
   "metadata": {},
   "outputs": [
    {
     "name": "stdout",
     "output_type": "stream",
     "text": [
      "Epoch 1/20\n",
      "188/188 [==============================] - 4s 11ms/step - loss: 0.8719 - accuracy: 0.6807 - val_loss: 0.3312 - val_accuracy: 0.8777\n",
      "Epoch 2/20\n",
      "188/188 [==============================] - 2s 10ms/step - loss: 0.3500 - accuracy: 0.8756 - val_loss: 0.3218 - val_accuracy: 0.8813\n",
      "Epoch 3/20\n",
      "188/188 [==============================] - 2s 11ms/step - loss: 0.2820 - accuracy: 0.8993 - val_loss: 0.2854 - val_accuracy: 0.8932\n",
      "Epoch 4/20\n",
      "188/188 [==============================] - 2s 11ms/step - loss: 0.2463 - accuracy: 0.9121 - val_loss: 0.2439 - val_accuracy: 0.9113\n",
      "Epoch 5/20\n",
      "188/188 [==============================] - 2s 9ms/step - loss: 0.2072 - accuracy: 0.9225 - val_loss: 0.2246 - val_accuracy: 0.9153\n",
      "Epoch 6/20\n",
      "188/188 [==============================] - 2s 9ms/step - loss: 0.1813 - accuracy: 0.9339 - val_loss: 0.2160 - val_accuracy: 0.9222\n",
      "Epoch 7/20\n",
      "188/188 [==============================] - 2s 9ms/step - loss: 0.1549 - accuracy: 0.9427 - val_loss: 0.2151 - val_accuracy: 0.9221\n",
      "Epoch 8/20\n",
      "188/188 [==============================] - 2s 10ms/step - loss: 0.1369 - accuracy: 0.9496 - val_loss: 0.2218 - val_accuracy: 0.9224\n",
      "Epoch 9/20\n",
      "188/188 [==============================] - 2s 10ms/step - loss: 0.1189 - accuracy: 0.9570 - val_loss: 0.2263 - val_accuracy: 0.9224\n",
      "Epoch 10/20\n",
      "188/188 [==============================] - 2s 10ms/step - loss: 0.1021 - accuracy: 0.9618 - val_loss: 0.2332 - val_accuracy: 0.9236\n",
      "Epoch 11/20\n",
      "188/188 [==============================] - 2s 9ms/step - loss: 0.0876 - accuracy: 0.9676 - val_loss: 0.2271 - val_accuracy: 0.9303\n",
      "Epoch 12/20\n",
      "188/188 [==============================] - 2s 10ms/step - loss: 0.0734 - accuracy: 0.9729 - val_loss: 0.2396 - val_accuracy: 0.9278\n",
      "Epoch 13/20\n",
      "188/188 [==============================] - 2s 10ms/step - loss: 0.0717 - accuracy: 0.9742 - val_loss: 0.2428 - val_accuracy: 0.9287\n",
      "Epoch 14/20\n",
      "188/188 [==============================] - 2s 10ms/step - loss: 0.0552 - accuracy: 0.9808 - val_loss: 0.2643 - val_accuracy: 0.9265\n",
      "Epoch 15/20\n",
      "188/188 [==============================] - 2s 10ms/step - loss: 0.0513 - accuracy: 0.9811 - val_loss: 0.2862 - val_accuracy: 0.9245\n",
      "Epoch 16/20\n",
      "188/188 [==============================] - 2s 10ms/step - loss: 0.0485 - accuracy: 0.9816 - val_loss: 0.2827 - val_accuracy: 0.9268\n",
      "Epoch 17/20\n",
      "188/188 [==============================] - 2s 9ms/step - loss: 0.0356 - accuracy: 0.9866 - val_loss: 0.2978 - val_accuracy: 0.9256\n",
      "Epoch 18/20\n",
      "188/188 [==============================] - 2s 10ms/step - loss: 0.0345 - accuracy: 0.9874 - val_loss: 0.3076 - val_accuracy: 0.9272\n",
      "Epoch 19/20\n",
      "188/188 [==============================] - 2s 10ms/step - loss: 0.0291 - accuracy: 0.9898 - val_loss: 0.3146 - val_accuracy: 0.9265\n",
      "Epoch 20/20\n",
      "188/188 [==============================] - 2s 9ms/step - loss: 0.0282 - accuracy: 0.9904 - val_loss: 0.3125 - val_accuracy: 0.9283\n"
     ]
    },
    {
     "data": {
      "text/plain": [
       "<tensorflow.python.keras.callbacks.History at 0x7fae701652e8>"
      ]
     },
     "execution_count": 3,
     "metadata": {},
     "output_type": "execute_result"
    }
   ],
   "source": [
    "# Train the teacher model as usual\n",
    "epochs = 20\n",
    "batch_size = 256\n",
    "teacher.fit(X_train, Y_train,\n",
    "          batch_size=batch_size,\n",
    "          epochs=epochs,\n",
    "          verbose=1,\n",
    "          validation_data=(X_val, Y_val))\n"
   ]
  },
  {
   "cell_type": "code",
   "execution_count": 7,
   "metadata": {},
   "outputs": [],
   "source": [
    "teacher.save_weights(\"Teacher_FMNIST_92.h5\")"
   ]
  },
  {
   "cell_type": "code",
   "execution_count": 6,
   "metadata": {
    "colab": {
     "base_uri": "https://localhost:8080/"
    },
    "executionInfo": {
     "elapsed": 1274,
     "status": "ok",
     "timestamp": 1613838372449,
     "user": {
      "displayName": "Musab R.",
      "photoUrl": "https://lh3.googleusercontent.com/a-/AOh14Ggo6kK28_a_Swx27ReDE7W6SlcMcsOsRyiTC_xFvA=s64",
      "userId": "11675938905762231877"
     },
     "user_tz": -300
    },
    "id": "EoLx2I_dNo7N",
    "outputId": "8b734d09-b493-471c-9319-6db08429be32"
   },
   "outputs": [
    {
     "name": "stdout",
     "output_type": "stream",
     "text": [
      "313/313 [==============================] - 1s 3ms/step - loss: 0.3516 - accuracy: 0.9239\n"
     ]
    },
    {
     "data": {
      "text/plain": [
       "[0.351641982793808, 0.9239000082015991]"
      ]
     },
     "execution_count": 6,
     "metadata": {},
     "output_type": "execute_result"
    }
   ],
   "source": [
    "Y_test = np_utils.to_categorical(y_test, nb_classes)\n",
    "X_test = X_test.reshape(10000, 28, 28, 1)\n",
    "X_test = X_test.astype('float32')\n",
    "X_test /= 255\n",
    "\n",
    "\n",
    "teacher.evaluate(X_test,Y_test)"
   ]
  },
  {
   "cell_type": "code",
   "execution_count": null,
   "metadata": {},
   "outputs": [],
   "source": []
  },
  {
   "cell_type": "code",
   "execution_count": 8,
   "metadata": {
    "id": "eIlRbRObW-kc"
   },
   "outputs": [],
   "source": [
    "teacher_WO_Softmax = Model(teacher.input, teacher.get_layer('dense_1').output)\n",
    "train_dense = teacher_WO_Softmax.predict(X_train)\n",
    "val_dense = teacher_WO_Softmax.predict(X_val)\n",
    "\n",
    "\n",
    "# 2 Students case\n",
    "# ---------------------------------------------\n",
    "s1Train=train_dense[:,:128]\n",
    "s2Train=train_dense[:,128:]\n"
   ]
  },
  {
   "cell_type": "markdown",
   "metadata": {
    "id": "EYAK5r6yeH-3"
   },
   "source": [
    "## GANs' Training"
   ]
  },
  {
   "cell_type": "code",
   "execution_count": 9,
   "metadata": {
    "id": "5Bf51HQeYB19"
   },
   "outputs": [],
   "source": [
    "# import np.random import random\n",
    "BATCH_SIZE=32\n",
    "def smooth_real_labels(y):\n",
    "    return y - 0.3+(np.random.random(y.shape)*0.5)\n",
    "def smooth_fake_labels(y):\n",
    "    return y + (0.3 * np.random.random(y.shape))\n",
    "def build_gan(gen,disc): \n",
    "    disc.trainable = False\n",
    "    input= Input(shape=input_shape)\n",
    "    output = gen(input)\n",
    "    output2= disc(output)\n",
    "    gan=Model(input,output2)\n",
    "\n",
    "    gan.compile(Adam(lr=0.0002),loss=['binary_crossentropy','mse'],metrics=['accuracy'])\n",
    "\n",
    "    return gan"
   ]
  },
  {
   "cell_type": "code",
   "execution_count": 10,
   "metadata": {
    "id": "7DN9rlsCXBHl"
   },
   "outputs": [],
   "source": [
    "def build_sdiscriminator():\n",
    "    \n",
    "    input2 = Input(shape=(128,),name='input')\n",
    "    inp=Dense(64,use_bias=False)(input2)\n",
    "\n",
    "    leaky_relu = LeakyReLU(alpha=0.2)(inp)\n",
    "    \n",
    "    conv3 = Dense(128)(leaky_relu)\n",
    "    b_n = BatchNormalization()(conv3)\n",
    "    leaky_relu = LeakyReLU(alpha=0.2)(b_n)\n",
    "    conv4 = Dense(256)(leaky_relu)\n",
    "    b_n = BatchNormalization()(conv4)\n",
    "    leaky_relu = LeakyReLU(alpha=0.2)(b_n)\n",
    "    conv4 = Dense(512)(leaky_relu)\n",
    "    b_n = BatchNormalization()(conv4)\n",
    "    leaky_relu = LeakyReLU(alpha=0.2)(b_n)\n",
    "    conv4 = Dense(1024)(leaky_relu)\n",
    "    b_n = BatchNormalization()(conv4)\n",
    "    leaky_relu = LeakyReLU(alpha=0.2)(b_n)\n",
    "\n",
    "    dense = Dense(1,activation='sigmoid',name='dense')(leaky_relu)\n",
    "    output2=Dense(128)(leaky_relu)\n",
    "    disc = Model(input2,[dense,output2])          \n",
    "    disc.compile(optd,loss=['binary_crossentropy','mse'],metrics=['accuracy'])\n",
    "\n",
    "    return disc"
   ]
  },
  {
   "cell_type": "code",
   "execution_count": 14,
   "metadata": {
    "id": "s12vr0BvNo7X"
   },
   "outputs": [],
   "source": [
    "optd = Adam(lr=0.0002)\n",
    "opt = Adam(lr=0.0002)"
   ]
  },
  {
   "cell_type": "code",
   "execution_count": 17,
   "metadata": {
    "id": "ElnQTkvSXE7h"
   },
   "outputs": [],
   "source": [
    "def build_sgenerator(name):\n",
    "\n",
    "    student1 = Sequential()\n",
    "    student1.add(Conv2D(32, kernel_size=(3, 3),activation='relu',input_shape=(28, 28, 1),kernel_initializer='normal', name=name))\n",
    "    student1.add(Conv2D(32, (3, 3), activation='relu',kernel_initializer='normal'))\n",
    "    student1.add(MaxPooling2D(pool_size=(2, 2)))\n",
    "\n",
    "    student1.add(Conv2D(16, kernel_size=(3, 3),activation='relu',kernel_initializer='normal'))\n",
    "    student1.add(Conv2D(16, (3, 3), activation='relu',kernel_initializer='normal'))\n",
    "    student1.add(MaxPooling2D(pool_size=(2, 2)))\n",
    "\n",
    "    student1.add(Dropout(0.25)) # For reguralization\n",
    "    student1.add(Flatten())\n",
    "    student1.add(Dense(16, activation='relu'))\n",
    "    student1.add(Dropout(0.3))\n",
    "    student1.add(Dense(128,name='req'+name))\n",
    "\n",
    "    student1.compile(opt,loss='mse',metrics=['accuracy'])\n",
    "    student1.summary()\n",
    "    return student1\n",
    "\n"
   ]
  },
  {
   "cell_type": "code",
   "execution_count": 18,
   "metadata": {
    "id": "edsqBRYpNo7e"
   },
   "outputs": [],
   "source": [
    "def training(generator,discriminator,gan,features,epo=20):\n",
    "    BATCH_SIZE = 128\n",
    "    discriminator.trainable = True\n",
    "    total_size = X_train.shape[0]\n",
    "    indices = np.arange(0,total_size ,BATCH_SIZE)\n",
    "    all_disc_loss = []\n",
    "    all_gen_loss = []\n",
    "    all_class_loss=[]\n",
    "    if total_size % BATCH_SIZE:\n",
    "        indices = indices[:-1]\n",
    "    for e in range(epo):\n",
    "        \n",
    "        progress_bar = Progbar(target=len(indices))\n",
    "        np.random.shuffle(indices)\n",
    "        epoch_gen_loss = []\n",
    "        epoch_disc_loss = []\n",
    "        epoch_class_loss= []\n",
    "        for i,index in enumerate(indices):\n",
    "        \n",
    "            inputs=X_train[index:index+BATCH_SIZE]\n",
    "            strain = features[index:index+BATCH_SIZE]\n",
    "            y_real = np.ones((BATCH_SIZE,1))\n",
    "            y_fake = np.zeros((BATCH_SIZE,1))\n",
    "\n",
    "            #Generator Training\n",
    "            fake_images = generator.predict_on_batch(inputs)\n",
    "\n",
    "            #Disrciminator Training\n",
    "            disc_real_loss1,_,disc_real_loss2,_,_= discriminator.train_on_batch(strain,[y_real,strain])\n",
    "            disc_fake_loss1,_,disc_fake_loss2,_,_= discriminator.train_on_batch(fake_images,[y_fake,strain])\n",
    "\n",
    "            #Gans Training\n",
    "            discriminator.trainable = False\n",
    "            gan_loss,_,gan_loss2,_,_ = gan.train_on_batch(inputs, [y_real,strain])\n",
    "\n",
    "            discriminator.trainable = True\n",
    "\n",
    "            disc_loss = (disc_fake_loss1 + disc_real_loss1)/2\n",
    "            epoch_disc_loss.append(disc_loss)\n",
    "            progress_bar.update(i+1)\n",
    "\n",
    "            epoch_gen_loss.append((gan_loss))\n",
    "\n",
    "        avg_epoch_disc_loss = np.array(epoch_disc_loss).mean()\n",
    "        avg_epoch_gen_loss = np.array(epoch_gen_loss).mean()\n",
    "        all_disc_loss.append(avg_epoch_disc_loss)\n",
    "        all_gen_loss.append(avg_epoch_gen_loss)\n",
    "        print(\"Epoch: %d | Discriminator Loss: %f | Generator Loss: %f | \" % (e+1,avg_epoch_disc_loss,avg_epoch_gen_loss))\n",
    "\n",
    "    return generator"
   ]
  },
  {
   "cell_type": "code",
   "execution_count": 19,
   "metadata": {
    "id": "X9oy60_SNo7k",
    "scrolled": true
   },
   "outputs": [],
   "source": [
    "discriminator1 = build_sdiscriminator()\n",
    "discriminator2 = build_sdiscriminator()"
   ]
  },
  {
   "cell_type": "code",
   "execution_count": 20,
   "metadata": {
    "id": "MomgOJRaNo7l",
    "scrolled": true
   },
   "outputs": [
    {
     "name": "stdout",
     "output_type": "stream",
     "text": [
      "Model: \"sequential_3\"\n",
      "_________________________________________________________________\n",
      "Layer (type)                 Output Shape              Param #   \n",
      "=================================================================\n",
      "s1 (Conv2D)                  (None, 26, 26, 32)        320       \n",
      "_________________________________________________________________\n",
      "conv2d_8 (Conv2D)            (None, 24, 24, 32)        9248      \n",
      "_________________________________________________________________\n",
      "max_pooling2d_5 (MaxPooling2 (None, 12, 12, 32)        0         \n",
      "_________________________________________________________________\n",
      "conv2d_9 (Conv2D)            (None, 10, 10, 16)        4624      \n",
      "_________________________________________________________________\n",
      "conv2d_10 (Conv2D)           (None, 8, 8, 16)          2320      \n",
      "_________________________________________________________________\n",
      "max_pooling2d_6 (MaxPooling2 (None, 4, 4, 16)          0         \n",
      "_________________________________________________________________\n",
      "dropout_6 (Dropout)          (None, 4, 4, 16)          0         \n",
      "_________________________________________________________________\n",
      "flatten_3 (Flatten)          (None, 256)               0         \n",
      "_________________________________________________________________\n",
      "dense_33 (Dense)             (None, 16)                4112      \n",
      "_________________________________________________________________\n",
      "dropout_7 (Dropout)          (None, 16)                0         \n",
      "_________________________________________________________________\n",
      "reqs1 (Dense)                (None, 128)               2176      \n",
      "=================================================================\n",
      "Total params: 22,800\n",
      "Trainable params: 22,800\n",
      "Non-trainable params: 0\n",
      "_________________________________________________________________\n",
      "Model: \"sequential_4\"\n",
      "_________________________________________________________________\n",
      "Layer (type)                 Output Shape              Param #   \n",
      "=================================================================\n",
      "s2 (Conv2D)                  (None, 26, 26, 32)        320       \n",
      "_________________________________________________________________\n",
      "conv2d_11 (Conv2D)           (None, 24, 24, 32)        9248      \n",
      "_________________________________________________________________\n",
      "max_pooling2d_7 (MaxPooling2 (None, 12, 12, 32)        0         \n",
      "_________________________________________________________________\n",
      "conv2d_12 (Conv2D)           (None, 10, 10, 16)        4624      \n",
      "_________________________________________________________________\n",
      "conv2d_13 (Conv2D)           (None, 8, 8, 16)          2320      \n",
      "_________________________________________________________________\n",
      "max_pooling2d_8 (MaxPooling2 (None, 4, 4, 16)          0         \n",
      "_________________________________________________________________\n",
      "dropout_8 (Dropout)          (None, 4, 4, 16)          0         \n",
      "_________________________________________________________________\n",
      "flatten_4 (Flatten)          (None, 256)               0         \n",
      "_________________________________________________________________\n",
      "dense_34 (Dense)             (None, 16)                4112      \n",
      "_________________________________________________________________\n",
      "dropout_9 (Dropout)          (None, 16)                0         \n",
      "_________________________________________________________________\n",
      "reqs2 (Dense)                (None, 128)               2176      \n",
      "=================================================================\n",
      "Total params: 22,800\n",
      "Trainable params: 22,800\n",
      "Non-trainable params: 0\n",
      "_________________________________________________________________\n"
     ]
    }
   ],
   "source": [
    "s1=build_sgenerator(\"s1\")\n",
    "s2=build_sgenerator('s2')\n",
    "# s3=build_sgenerator(\"s3\")\n",
    "# s4=build_sgenerator('s4')"
   ]
  },
  {
   "cell_type": "code",
   "execution_count": 21,
   "metadata": {
    "id": "JivZOb38No7l"
   },
   "outputs": [],
   "source": [
    "gan1 = build_gan(s1,discriminator1)\n",
    "gan2 = build_gan(s2,discriminator2)\n"
   ]
  },
  {
   "cell_type": "code",
   "execution_count": 22,
   "metadata": {
    "colab": {
     "base_uri": "https://localhost:8080/"
    },
    "executionInfo": {
     "elapsed": 3406661,
     "status": "ok",
     "timestamp": 1613848509655,
     "user": {
      "displayName": "Musab R.",
      "photoUrl": "https://lh3.googleusercontent.com/a-/AOh14Ggo6kK28_a_Swx27ReDE7W6SlcMcsOsRyiTC_xFvA=s64",
      "userId": "11675938905762231877"
     },
     "user_tz": -300
    },
    "id": "e8wjg4vrNo7l",
    "outputId": "fd9f9112-3240-49ba-81f6-1eb97888c056"
   },
   "outputs": [
    {
     "name": "stdout",
     "output_type": "stream",
     "text": [
      "375/375 [==============================] - 15s 35ms/step\n",
      "Epoch: 1 | Discriminator Loss: 0.484974 | Generator Loss: 1.522924 | \n",
      "375/375 [==============================] - 13s 35ms/step\n",
      "Epoch: 2 | Discriminator Loss: 0.232264 | Generator Loss: 1.050430 | \n",
      "375/375 [==============================] - 13s 34ms/step\n",
      "Epoch: 3 | Discriminator Loss: 0.185770 | Generator Loss: 0.835174 | \n",
      "375/375 [==============================] - 13s 34ms/step\n",
      "Epoch: 4 | Discriminator Loss: 0.165592 | Generator Loss: 0.767950 | \n",
      "375/375 [==============================] - 13s 35ms/step\n",
      "Epoch: 5 | Discriminator Loss: 0.154636 | Generator Loss: 0.755518 | \n",
      "375/375 [==============================] - 13s 35ms/step\n",
      "Epoch: 6 | Discriminator Loss: 0.146981 | Generator Loss: 0.735421 | \n",
      "375/375 [==============================] - 13s 36ms/step\n",
      "Epoch: 7 | Discriminator Loss: 0.141064 | Generator Loss: 0.720830 | \n",
      "375/375 [==============================] - 13s 34ms/step\n",
      "Epoch: 8 | Discriminator Loss: 0.137847 | Generator Loss: 0.699222 | \n",
      "375/375 [==============================] - 13s 35ms/step\n",
      "Epoch: 9 | Discriminator Loss: 0.134544 | Generator Loss: 0.679605 | \n",
      "375/375 [==============================] - 13s 36ms/step\n",
      "Epoch: 10 | Discriminator Loss: 0.131767 | Generator Loss: 0.645129 | \n",
      "375/375 [==============================] - 13s 35ms/step\n",
      "Epoch: 11 | Discriminator Loss: 0.130213 | Generator Loss: 0.615478 | \n",
      "375/375 [==============================] - 13s 36ms/step\n",
      "Epoch: 12 | Discriminator Loss: 0.127408 | Generator Loss: 0.595560 | \n",
      "375/375 [==============================] - 14s 37ms/step\n",
      "Epoch: 13 | Discriminator Loss: 0.125131 | Generator Loss: 0.586648 | \n",
      "375/375 [==============================] - 13s 36ms/step\n",
      "Epoch: 14 | Discriminator Loss: 0.122381 | Generator Loss: 0.568220 | \n",
      "375/375 [==============================] - 14s 37ms/step\n",
      "Epoch: 15 | Discriminator Loss: 0.120320 | Generator Loss: 0.548418 | \n",
      "375/375 [==============================] - 14s 38ms/step\n",
      "Epoch: 16 | Discriminator Loss: 0.118519 | Generator Loss: 0.529006 | \n",
      "375/375 [==============================] - 14s 37ms/step\n",
      "Epoch: 17 | Discriminator Loss: 0.117571 | Generator Loss: 0.512678 | \n",
      "375/375 [==============================] - 14s 37ms/step\n",
      "Epoch: 18 | Discriminator Loss: 0.117157 | Generator Loss: 0.503690 | \n",
      "375/375 [==============================] - 13s 35ms/step\n",
      "Epoch: 19 | Discriminator Loss: 0.115521 | Generator Loss: 0.494017 | \n",
      "375/375 [==============================] - 14s 36ms/step\n",
      "Epoch: 20 | Discriminator Loss: 0.115009 | Generator Loss: 0.504843 | \n",
      "375/375 [==============================] - 13s 35ms/step\n",
      "Epoch: 21 | Discriminator Loss: 0.114051 | Generator Loss: 0.496370 | \n",
      "375/375 [==============================] - 13s 35ms/step\n",
      "Epoch: 22 | Discriminator Loss: 0.113176 | Generator Loss: 0.493024 | \n",
      "375/375 [==============================] - 14s 37ms/step\n",
      "Epoch: 23 | Discriminator Loss: 0.112032 | Generator Loss: 0.487736 | \n",
      "375/375 [==============================] - 13s 35ms/step\n",
      "Epoch: 24 | Discriminator Loss: 0.111232 | Generator Loss: 0.480365 | \n",
      "375/375 [==============================] - 13s 36ms/step\n",
      "Epoch: 25 | Discriminator Loss: 0.109836 | Generator Loss: 0.471305 | \n",
      "375/375 [==============================] - 14s 37ms/step\n",
      "Epoch: 26 | Discriminator Loss: 0.109529 | Generator Loss: 0.472105 | \n",
      "375/375 [==============================] - 14s 37ms/step\n",
      "Epoch: 27 | Discriminator Loss: 0.108370 | Generator Loss: 0.460461 | \n",
      "375/375 [==============================] - 14s 38ms/step\n",
      "Epoch: 28 | Discriminator Loss: 0.106953 | Generator Loss: 0.457317 | \n",
      "375/375 [==============================] - 14s 37ms/step\n",
      "Epoch: 29 | Discriminator Loss: 0.105820 | Generator Loss: 0.448319 | \n",
      "375/375 [==============================] - 13s 34ms/step\n",
      "Epoch: 30 | Discriminator Loss: 0.104658 | Generator Loss: 0.443948 | \n",
      "375/375 [==============================] - 13s 36ms/step\n",
      "Epoch: 31 | Discriminator Loss: 0.103484 | Generator Loss: 0.440299 | \n",
      "375/375 [==============================] - 14s 36ms/step\n",
      "Epoch: 32 | Discriminator Loss: 0.102861 | Generator Loss: 0.430401 | \n",
      "375/375 [==============================] - 13s 35ms/step\n",
      "Epoch: 33 | Discriminator Loss: 0.102172 | Generator Loss: 0.420914 | \n",
      "375/375 [==============================] - 13s 33ms/step\n",
      "Epoch: 34 | Discriminator Loss: 0.101647 | Generator Loss: 0.417422 | \n",
      "375/375 [==============================] - 13s 35ms/step\n",
      "Epoch: 35 | Discriminator Loss: 0.100422 | Generator Loss: 0.416226 | \n",
      "375/375 [==============================] - 13s 34ms/step\n",
      "Epoch: 36 | Discriminator Loss: 0.099239 | Generator Loss: 0.406801 | \n",
      "375/375 [==============================] - 13s 34ms/step\n",
      "Epoch: 37 | Discriminator Loss: 0.098300 | Generator Loss: 0.400543 | \n",
      "375/375 [==============================] - 13s 35ms/step\n",
      "Epoch: 38 | Discriminator Loss: 0.097639 | Generator Loss: 0.395971 | \n",
      "375/375 [==============================] - 13s 35ms/step\n",
      "Epoch: 39 | Discriminator Loss: 0.097171 | Generator Loss: 0.392078 | \n",
      "375/375 [==============================] - 13s 34ms/step\n",
      "Epoch: 40 | Discriminator Loss: 0.097180 | Generator Loss: 0.389433 | \n",
      "375/375 [==============================] - 12s 33ms/step\n",
      "Epoch: 41 | Discriminator Loss: 0.097358 | Generator Loss: 0.388491 | \n",
      "375/375 [==============================] - 13s 34ms/step\n",
      "Epoch: 42 | Discriminator Loss: 0.096732 | Generator Loss: 0.387960 | \n",
      "375/375 [==============================] - 13s 34ms/step\n",
      "Epoch: 43 | Discriminator Loss: 0.095770 | Generator Loss: 0.388074 | \n",
      "375/375 [==============================] - 13s 35ms/step\n",
      "Epoch: 44 | Discriminator Loss: 0.094859 | Generator Loss: 0.384738 | \n",
      "375/375 [==============================] - 13s 35ms/step\n",
      "Epoch: 45 | Discriminator Loss: 0.094145 | Generator Loss: 0.382081 | \n",
      "375/375 [==============================] - 13s 36ms/step\n",
      "Epoch: 46 | Discriminator Loss: 0.093751 | Generator Loss: 0.375897 | \n",
      "375/375 [==============================] - 13s 34ms/step\n",
      "Epoch: 47 | Discriminator Loss: 0.093353 | Generator Loss: 0.373716 | \n",
      "375/375 [==============================] - 12s 33ms/step\n",
      "Epoch: 48 | Discriminator Loss: 0.092383 | Generator Loss: 0.374362 | \n",
      "375/375 [==============================] - 12s 32ms/step\n",
      "Epoch: 49 | Discriminator Loss: 0.091846 | Generator Loss: 0.372938 | \n",
      "375/375 [==============================] - 13s 33ms/step\n",
      "Epoch: 50 | Discriminator Loss: 0.090778 | Generator Loss: 0.374312 | \n",
      "375/375 [==============================] - 13s 35ms/step\n",
      "Epoch: 51 | Discriminator Loss: 0.089997 | Generator Loss: 0.372233 | \n",
      "375/375 [==============================] - 13s 34ms/step\n",
      "Epoch: 52 | Discriminator Loss: 0.089343 | Generator Loss: 0.371324 | \n",
      "375/375 [==============================] - 13s 34ms/step\n",
      "Epoch: 53 | Discriminator Loss: 0.089036 | Generator Loss: 0.381762 | \n",
      "375/375 [==============================] - 12s 33ms/step\n",
      "Epoch: 54 | Discriminator Loss: 0.089487 | Generator Loss: 0.387412 | \n",
      "375/375 [==============================] - 12s 33ms/step\n",
      "Epoch: 55 | Discriminator Loss: 0.088369 | Generator Loss: 0.384037 | \n",
      "375/375 [==============================] - 14s 34ms/step\n",
      "Epoch: 1 | Discriminator Loss: 0.371198 | Generator Loss: 1.559743 | \n",
      "375/375 [==============================] - 13s 35ms/step\n",
      "Epoch: 2 | Discriminator Loss: 0.210504 | Generator Loss: 1.048438 | \n",
      "375/375 [==============================] - 12s 33ms/step\n",
      "Epoch: 3 | Discriminator Loss: 0.190263 | Generator Loss: 0.996902 | \n",
      "375/375 [==============================] - 12s 32ms/step\n",
      "Epoch: 4 | Discriminator Loss: 0.174197 | Generator Loss: 0.923824 | \n",
      "375/375 [==============================] - 12s 32ms/step\n",
      "Epoch: 5 | Discriminator Loss: 0.170226 | Generator Loss: 0.903478 | \n",
      "375/375 [==============================] - 12s 33ms/step\n",
      "Epoch: 6 | Discriminator Loss: 0.161821 | Generator Loss: 0.845493 | \n",
      "375/375 [==============================] - 12s 32ms/step\n",
      "Epoch: 7 | Discriminator Loss: 0.158882 | Generator Loss: 0.957419 | \n",
      "375/375 [==============================] - 13s 34ms/step\n",
      "Epoch: 8 | Discriminator Loss: 0.152584 | Generator Loss: 0.875005 | \n",
      "375/375 [==============================] - 13s 34ms/step\n",
      "Epoch: 9 | Discriminator Loss: 0.148019 | Generator Loss: 0.864026 | \n"
     ]
    },
    {
     "name": "stdout",
     "output_type": "stream",
     "text": [
      "375/375 [==============================] - 13s 36ms/step\n",
      "Epoch: 10 | Discriminator Loss: 0.143047 | Generator Loss: 0.815172 | \n",
      "375/375 [==============================] - 13s 34ms/step\n",
      "Epoch: 11 | Discriminator Loss: 0.139876 | Generator Loss: 0.755555 | \n",
      "375/375 [==============================] - 14s 36ms/step\n",
      "Epoch: 12 | Discriminator Loss: 0.137450 | Generator Loss: 0.732512 | \n",
      "375/375 [==============================] - 13s 35ms/step\n",
      "Epoch: 13 | Discriminator Loss: 0.134187 | Generator Loss: 0.702328 | \n",
      "375/375 [==============================] - 13s 35ms/step\n",
      "Epoch: 14 | Discriminator Loss: 0.131984 | Generator Loss: 0.677313 | \n",
      "375/375 [==============================] - 13s 35ms/step\n",
      "Epoch: 15 | Discriminator Loss: 0.129665 | Generator Loss: 0.672877 | \n",
      "375/375 [==============================] - 13s 34ms/step\n",
      "Epoch: 16 | Discriminator Loss: 0.128412 | Generator Loss: 0.663011 | \n",
      "375/375 [==============================] - 13s 35ms/step\n",
      "Epoch: 17 | Discriminator Loss: 0.127494 | Generator Loss: 0.642572 | \n",
      "375/375 [==============================] - 13s 36ms/step\n",
      "Epoch: 18 | Discriminator Loss: 0.126584 | Generator Loss: 0.636645 | \n",
      "375/375 [==============================] - 14s 36ms/step\n",
      "Epoch: 19 | Discriminator Loss: 0.125528 | Generator Loss: 0.632735 | \n",
      "375/375 [==============================] - 14s 37ms/step\n",
      "Epoch: 20 | Discriminator Loss: 0.127154 | Generator Loss: 0.665338 | \n",
      "375/375 [==============================] - 13s 36ms/step\n",
      "Epoch: 21 | Discriminator Loss: 0.130692 | Generator Loss: 0.734544 | \n",
      "375/375 [==============================] - 13s 34ms/step\n",
      "Epoch: 22 | Discriminator Loss: 0.126268 | Generator Loss: 0.687060 | \n",
      "375/375 [==============================] - 13s 36ms/step\n",
      "Epoch: 23 | Discriminator Loss: 0.123687 | Generator Loss: 0.656974 | \n",
      "375/375 [==============================] - 13s 34ms/step\n",
      "Epoch: 24 | Discriminator Loss: 0.120883 | Generator Loss: 0.643977 | \n",
      "375/375 [==============================] - 13s 35ms/step\n",
      "Epoch: 25 | Discriminator Loss: 0.118726 | Generator Loss: 0.625481 | \n",
      "375/375 [==============================] - 13s 36ms/step\n",
      "Epoch: 26 | Discriminator Loss: 0.117321 | Generator Loss: 0.617966 | \n",
      "375/375 [==============================] - 13s 35ms/step\n",
      "Epoch: 27 | Discriminator Loss: 0.115491 | Generator Loss: 0.612605 | \n",
      "375/375 [==============================] - 13s 35ms/step\n",
      "Epoch: 28 | Discriminator Loss: 0.115236 | Generator Loss: 0.602116 | \n",
      "375/375 [==============================] - 14s 36ms/step\n",
      "Epoch: 29 | Discriminator Loss: 0.114022 | Generator Loss: 0.590191 | \n",
      "375/375 [==============================] - 13s 35ms/step\n",
      "Epoch: 30 | Discriminator Loss: 0.113331 | Generator Loss: 0.588947 | \n",
      "375/375 [==============================] - 13s 35ms/step\n",
      "Epoch: 31 | Discriminator Loss: 0.111892 | Generator Loss: 0.581738 | \n",
      "375/375 [==============================] - 14s 36ms/step\n",
      "Epoch: 32 | Discriminator Loss: 0.112557 | Generator Loss: 0.575978 | \n",
      "375/375 [==============================] - 14s 36ms/step\n",
      "Epoch: 33 | Discriminator Loss: 0.110555 | Generator Loss: 0.576605 | \n",
      "375/375 [==============================] - 14s 37ms/step\n",
      "Epoch: 34 | Discriminator Loss: 0.109021 | Generator Loss: 0.582830 | \n",
      "375/375 [==============================] - 13s 34ms/step\n",
      "Epoch: 35 | Discriminator Loss: 0.108366 | Generator Loss: 0.578504 | \n",
      "375/375 [==============================] - 13s 34ms/step\n",
      "Epoch: 36 | Discriminator Loss: 0.106720 | Generator Loss: 0.577205 | \n",
      "375/375 [==============================] - 13s 36ms/step\n",
      "Epoch: 37 | Discriminator Loss: 0.105461 | Generator Loss: 0.566640 | \n",
      "375/375 [==============================] - 12s 33ms/step\n",
      "Epoch: 38 | Discriminator Loss: 0.104141 | Generator Loss: 0.552082 | \n",
      "375/375 [==============================] - 13s 34ms/step\n",
      "Epoch: 39 | Discriminator Loss: 0.103477 | Generator Loss: 0.566491 | \n",
      "375/375 [==============================] - 13s 33ms/step\n",
      "Epoch: 40 | Discriminator Loss: 0.103241 | Generator Loss: 0.589228 | \n",
      "375/375 [==============================] - 13s 34ms/step\n",
      "Epoch: 41 | Discriminator Loss: 0.226025 | Generator Loss: 1.211614 | \n",
      "375/375 [==============================] - 14s 36ms/step\n",
      "Epoch: 42 | Discriminator Loss: 0.163890 | Generator Loss: 0.964245 | \n",
      "375/375 [==============================] - 14s 37ms/step\n",
      "Epoch: 43 | Discriminator Loss: 0.141594 | Generator Loss: 0.804710 | \n",
      "375/375 [==============================] - 13s 35ms/step\n",
      "Epoch: 44 | Discriminator Loss: 0.136260 | Generator Loss: 1.075773 | \n",
      "375/375 [==============================] - 12s 33ms/step\n",
      "Epoch: 45 | Discriminator Loss: 0.129622 | Generator Loss: 1.114052 | \n",
      "375/375 [==============================] - 13s 34ms/step\n",
      "Epoch: 46 | Discriminator Loss: 0.124905 | Generator Loss: 1.000805 | \n",
      "375/375 [==============================] - 13s 35ms/step\n",
      "Epoch: 47 | Discriminator Loss: 0.121873 | Generator Loss: 0.949803 | \n",
      "375/375 [==============================] - 12s 33ms/step\n",
      "Epoch: 48 | Discriminator Loss: 0.120389 | Generator Loss: 0.844817 | \n",
      "375/375 [==============================] - 12s 32ms/step\n",
      "Epoch: 49 | Discriminator Loss: 0.115920 | Generator Loss: 0.777497 | \n",
      "375/375 [==============================] - 13s 34ms/step\n",
      "Epoch: 50 | Discriminator Loss: 0.113243 | Generator Loss: 0.759669 | \n",
      "375/375 [==============================] - 12s 33ms/step\n",
      "Epoch: 51 | Discriminator Loss: 0.110880 | Generator Loss: 0.735804 | \n",
      "375/375 [==============================] - 13s 34ms/step\n",
      "Epoch: 52 | Discriminator Loss: 0.109329 | Generator Loss: 0.721206 | \n",
      "375/375 [==============================] - 13s 34ms/step\n",
      "Epoch: 53 | Discriminator Loss: 0.107983 | Generator Loss: 0.693870 | \n",
      "375/375 [==============================] - 13s 35ms/step\n",
      "Epoch: 54 | Discriminator Loss: 0.107065 | Generator Loss: 0.673985 | \n",
      "375/375 [==============================] - 12s 33ms/step\n",
      "Epoch: 55 | Discriminator Loss: 0.107015 | Generator Loss: 0.669517 | \n"
     ]
    }
   ],
   "source": [
    "s1 = training(s1,discriminator1,gan1,s1Train,epo=55)\n",
    "s2 = training(s2,discriminator2,gan2,s2Train,epo=55)\n"
   ]
  },
  {
   "cell_type": "markdown",
   "metadata": {
    "id": "kpcbf1dkUWMY"
   },
   "source": [
    "### **2 Students**"
   ]
  },
  {
   "cell_type": "code",
   "execution_count": 23,
   "metadata": {
    "id": "ulPysC0YNo7v"
   },
   "outputs": [],
   "source": [
    "o1=s1.get_layer(\"reqs1\").output\n",
    "o2=s2.get_layer(\"reqs2\").output\n",
    "output=tensorflow.keras.layers.concatenate([o1,o2])\n",
    "\n",
    "output=Activation('relu')(output)\n",
    "output2=Dropout(0.5)(output) # For reguralization\n",
    "output3=Dense(10,activation=\"softmax\", name=\"d1\")(output2)\n",
    "\n",
    "mm2=Model([s1.get_layer(\"s1\").input,s2.get_layer(\"s2\").input], output3)\n",
    "my_weights=teacher.get_layer('dense_2').get_weights()\n",
    "mm2.get_layer('d1').set_weights(my_weights)"
   ]
  },
  {
   "cell_type": "code",
   "execution_count": 24,
   "metadata": {
    "id": "13uCl_ihNo7u"
   },
   "outputs": [],
   "source": [
    "for l in mm2.layers[:len(mm2.layers)-1]:\n",
    "    l.trainable=False\n",
    "\n",
    "mm2.compile(loss='categorical_crossentropy',\n",
    "              optimizer='adam',\n",
    "              metrics=['accuracy'])\n"
   ]
  },
  {
   "cell_type": "code",
   "execution_count": 25,
   "metadata": {
    "colab": {
     "base_uri": "https://localhost:8080/",
     "height": 532
    },
    "executionInfo": {
     "elapsed": 6184,
     "status": "error",
     "timestamp": 1613840036632,
     "user": {
      "displayName": "Musab R.",
      "photoUrl": "https://lh3.googleusercontent.com/a-/AOh14Ggo6kK28_a_Swx27ReDE7W6SlcMcsOsRyiTC_xFvA=s64",
      "userId": "11675938905762231877"
     },
     "user_tz": -300
    },
    "id": "zoQTqTzpNo7t",
    "outputId": "a1aacda4-a786-4cf9-f485-041c2757035f",
    "scrolled": true
   },
   "outputs": [
    {
     "name": "stdout",
     "output_type": "stream",
     "text": [
      "Epoch 1/30\n",
      "375/375 [==============================] - 2s 4ms/step - loss: 5.6394 - accuracy: 0.3523 - val_loss: 0.5095 - val_accuracy: 0.8277\n",
      "Epoch 2/30\n",
      "375/375 [==============================] - 2s 5ms/step - loss: 1.2643 - accuracy: 0.6552 - val_loss: 0.5004 - val_accuracy: 0.8332\n",
      "Epoch 3/30\n",
      "375/375 [==============================] - 2s 5ms/step - loss: 0.8876 - accuracy: 0.7046 - val_loss: 0.5012 - val_accuracy: 0.8329\n",
      "Epoch 4/30\n",
      "375/375 [==============================] - 3s 9ms/step - loss: 0.7946 - accuracy: 0.7241 - val_loss: 0.4948 - val_accuracy: 0.8307\n",
      "Epoch 5/30\n",
      "375/375 [==============================] - 2s 5ms/step - loss: 0.7324 - accuracy: 0.7362 - val_loss: 0.5033 - val_accuracy: 0.8256\n",
      "Epoch 6/30\n",
      "375/375 [==============================] - 3s 7ms/step - loss: 0.7147 - accuracy: 0.7353 - val_loss: 0.4904 - val_accuracy: 0.8267\n",
      "Epoch 7/30\n",
      "375/375 [==============================] - 3s 8ms/step - loss: 0.6974 - accuracy: 0.7429 - val_loss: 0.4987 - val_accuracy: 0.8313\n",
      "Epoch 8/30\n",
      "375/375 [==============================] - 2s 5ms/step - loss: 0.6839 - accuracy: 0.7454 - val_loss: 0.4990 - val_accuracy: 0.8271\n",
      "Epoch 9/30\n",
      "375/375 [==============================] - 3s 9ms/step - loss: 0.6969 - accuracy: 0.7442 - val_loss: 0.4979 - val_accuracy: 0.8262\n",
      "Epoch 10/30\n",
      "375/375 [==============================] - 4s 10ms/step - loss: 0.6809 - accuracy: 0.7452 - val_loss: 0.4914 - val_accuracy: 0.8357\n",
      "Epoch 11/30\n",
      "375/375 [==============================] - 4s 10ms/step - loss: 0.6849 - accuracy: 0.7445 - val_loss: 0.4990 - val_accuracy: 0.8105\n",
      "Epoch 12/30\n",
      "375/375 [==============================] - 3s 9ms/step - loss: 0.6723 - accuracy: 0.7488 - val_loss: 0.4900 - val_accuracy: 0.8373\n",
      "Epoch 13/30\n",
      "375/375 [==============================] - 4s 10ms/step - loss: 0.6717 - accuracy: 0.7481 - val_loss: 0.4890 - val_accuracy: 0.8259\n",
      "Epoch 14/30\n",
      "375/375 [==============================] - 2s 5ms/step - loss: 0.6677 - accuracy: 0.7486 - val_loss: 0.4956 - val_accuracy: 0.8332\n",
      "Epoch 15/30\n",
      "375/375 [==============================] - 3s 9ms/step - loss: 0.6764 - accuracy: 0.7437 - val_loss: 0.4853 - val_accuracy: 0.8374\n",
      "Epoch 16/30\n",
      "375/375 [==============================] - 4s 9ms/step - loss: 0.6692 - accuracy: 0.7469 - val_loss: 0.4889 - val_accuracy: 0.8327\n",
      "Epoch 17/30\n",
      "375/375 [==============================] - 3s 8ms/step - loss: 0.6664 - accuracy: 0.7512 - val_loss: 0.4941 - val_accuracy: 0.8165\n",
      "Epoch 18/30\n",
      "375/375 [==============================] - 4s 10ms/step - loss: 0.6683 - accuracy: 0.7470 - val_loss: 0.4909 - val_accuracy: 0.8267\n",
      "Epoch 19/30\n",
      "375/375 [==============================] - 4s 10ms/step - loss: 0.6728 - accuracy: 0.7481 - val_loss: 0.4916 - val_accuracy: 0.8347\n",
      "Epoch 20/30\n",
      "375/375 [==============================] - 3s 8ms/step - loss: 0.6665 - accuracy: 0.7475 - val_loss: 0.4972 - val_accuracy: 0.8154\n",
      "Epoch 21/30\n",
      "375/375 [==============================] - 3s 9ms/step - loss: 0.6555 - accuracy: 0.7519 - val_loss: 0.4946 - val_accuracy: 0.8286\n",
      "Epoch 22/30\n",
      "375/375 [==============================] - 1s 4ms/step - loss: 0.6684 - accuracy: 0.7491 - val_loss: 0.4970 - val_accuracy: 0.8313\n",
      "Epoch 23/30\n",
      "375/375 [==============================] - 1s 3ms/step - loss: 0.6741 - accuracy: 0.7481 - val_loss: 0.4932 - val_accuracy: 0.8335\n",
      "Epoch 24/30\n",
      "375/375 [==============================] - 2s 5ms/step - loss: 0.6657 - accuracy: 0.7505 - val_loss: 0.4883 - val_accuracy: 0.8304\n",
      "Epoch 25/30\n",
      "375/375 [==============================] - 3s 8ms/step - loss: 0.6705 - accuracy: 0.7516 - val_loss: 0.4950 - val_accuracy: 0.8317\n",
      "Epoch 26/30\n",
      "375/375 [==============================] - 3s 7ms/step - loss: 0.6643 - accuracy: 0.7485 - val_loss: 0.4933 - val_accuracy: 0.8228\n",
      "Epoch 27/30\n",
      "375/375 [==============================] - 2s 6ms/step - loss: 0.6678 - accuracy: 0.7507 - val_loss: 0.5002 - val_accuracy: 0.8327\n",
      "Epoch 28/30\n",
      "375/375 [==============================] - 3s 9ms/step - loss: 0.6570 - accuracy: 0.7526 - val_loss: 0.4912 - val_accuracy: 0.8354\n",
      "Epoch 29/30\n",
      "375/375 [==============================] - 3s 9ms/step - loss: 0.6636 - accuracy: 0.7482 - val_loss: 0.4929 - val_accuracy: 0.8315\n",
      "Epoch 30/30\n",
      "375/375 [==============================] - 4s 10ms/step - loss: 0.6698 - accuracy: 0.7511 - val_loss: 0.4947 - val_accuracy: 0.8302\n"
     ]
    }
   ],
   "source": [
    "batch_size = 128\n",
    "mm2_history=mm2.fit([X_train,X_train], Y_train,\n",
    "          batch_size=batch_size,\n",
    "          epochs=30,\n",
    "          verbose=1, validation_data=([X_val,X_val], Y_val))"
   ]
  },
  {
   "cell_type": "code",
   "execution_count": 26,
   "metadata": {
    "colab": {
     "base_uri": "https://localhost:8080/"
    },
    "executionInfo": {
     "elapsed": 1653,
     "status": "ok",
     "timestamp": 1613839969998,
     "user": {
      "displayName": "Musab R.",
      "photoUrl": "https://lh3.googleusercontent.com/a-/AOh14Ggo6kK28_a_Swx27ReDE7W6SlcMcsOsRyiTC_xFvA=s64",
      "userId": "11675938905762231877"
     },
     "user_tz": -300
    },
    "id": "ZItNMtouNo7v",
    "outputId": "cf669488-d8b2-4587-c70f-62a91402e636"
   },
   "outputs": [
    {
     "name": "stdout",
     "output_type": "stream",
     "text": [
      "313/313 [==============================] - 2s 5ms/step - loss: 0.5186 - accuracy: 0.8217\n"
     ]
    },
    {
     "data": {
      "text/plain": [
       "(0.5186209678649902, 0.8216999769210815)"
      ]
     },
     "execution_count": 26,
     "metadata": {},
     "output_type": "execute_result"
    }
   ],
   "source": [
    "loss, acc = mm2.evaluate([X_test,X_test], Y_test, verbose=1)\n",
    "loss, acc "
   ]
  }
 ],
 "metadata": {
  "accelerator": "GPU",
  "colab": {
   "collapsed_sections": [],
   "name": "[1,2,4,8] Students Configurations on FashionMNIST using GANs.ipynb",
   "provenance": [
    {
     "file_id": "1xZFzUDe8M-ikd-rsFrmtDLECCWSq3dzF",
     "timestamp": 1613663948275
    }
   ]
  },
  "kernelspec": {
   "display_name": "Python 3",
   "language": "python",
   "name": "python3"
  },
  "language_info": {
   "codemirror_mode": {
    "name": "ipython",
    "version": 3
   },
   "file_extension": ".py",
   "mimetype": "text/x-python",
   "name": "python",
   "nbconvert_exporter": "python",
   "pygments_lexer": "ipython3",
   "version": "3.6.9"
  }
 },
 "nbformat": 4,
 "nbformat_minor": 1
}
