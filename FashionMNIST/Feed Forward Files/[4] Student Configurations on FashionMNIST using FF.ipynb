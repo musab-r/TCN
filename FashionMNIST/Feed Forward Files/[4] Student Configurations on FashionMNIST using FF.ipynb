{
 "cells": [
  {
   "cell_type": "markdown",
   "metadata": {
    "id": "XcYlxyy2dj0s"
   },
   "source": [
    "# Distilling Knowledge in Multiple Students Using Generative Models"
   ]
  },
  {
   "cell_type": "code",
   "execution_count": 1,
   "metadata": {
    "id": "ce2GSoOKWFKP"
   },
   "outputs": [],
   "source": [
    "# %tensorflow_version 1.x\n",
    "# !pip install --upgrade opencv-python==3.4.2.17\n",
    "import numpy as np\n",
    "import tensorflow as tf\n",
    "import tensorflow.keras\n",
    "import tensorflow.keras.backend as K\n",
    "# import os\n",
    "from tensorflow.keras.datasets import fashion_mnist,mnist,cifar10\n",
    "# import keras.backend as K\n",
    "from tensorflow.keras.layers import Conv2D,Activation,BatchNormalization,UpSampling2D,Embedding,ZeroPadding2D, Input, Flatten, Dense, Reshape, LeakyReLU, Dropout,MaxPooling2D\n",
    "from tensorflow.keras.models import Sequential, Model\n",
    "from tensorflow.keras.optimizers import Adam, SGD, RMSprop\n",
    "from tensorflow.keras import regularizers\n",
    "\n",
    "from tensorflow.keras.utils import Progbar\n",
    "from keras.initializers import RandomNormal\n",
    "import random\n",
    "from sklearn.model_selection import train_test_split\n",
    "# from keras.utils import np_utils\n",
    "from tensorflow.keras import utils as np_utils\n",
    "\n"
   ]
  },
  {
   "cell_type": "code",
   "execution_count": 2,
   "metadata": {
    "colab": {
     "base_uri": "https://localhost:8080/"
    },
    "executionInfo": {
     "elapsed": 21258,
     "status": "ok",
     "timestamp": 1613835780197,
     "user": {
      "displayName": "Musab R.",
      "photoUrl": "https://lh3.googleusercontent.com/a-/AOh14Ggo6kK28_a_Swx27ReDE7W6SlcMcsOsRyiTC_xFvA=s64",
      "userId": "11675938905762231877"
     },
     "user_tz": -300
    },
    "id": "lyIJv1WRNo7G",
    "outputId": "feb02b96-e14b-4e57-cc3a-7561223cdef6",
    "scrolled": true
   },
   "outputs": [
    {
     "name": "stdout",
     "output_type": "stream",
     "text": [
      "Model: \"sequential\"\n",
      "_________________________________________________________________\n",
      "Layer (type)                 Output Shape              Param #   \n",
      "=================================================================\n",
      "conv2d (Conv2D)              (None, 26, 26, 32)        320       \n",
      "_________________________________________________________________\n",
      "conv2d_1 (Conv2D)            (None, 24, 24, 64)        18496     \n",
      "_________________________________________________________________\n",
      "max_pooling2d (MaxPooling2D) (None, 12, 12, 64)        0         \n",
      "_________________________________________________________________\n",
      "dropout (Dropout)            (None, 12, 12, 64)        0         \n",
      "_________________________________________________________________\n",
      "flatten (Flatten)            (None, 9216)              0         \n",
      "_________________________________________________________________\n",
      "dense (Dense)                (None, 256)               2359552   \n",
      "_________________________________________________________________\n",
      "dense_1 (Dense)              (None, 256)               65792     \n",
      "_________________________________________________________________\n",
      "dropout_1 (Dropout)          (None, 256)               0         \n",
      "_________________________________________________________________\n",
      "dense_2 (Dense)              (None, 10)                2570      \n",
      "_________________________________________________________________\n",
      "activation (Activation)      (None, 10)                0         \n",
      "=================================================================\n",
      "Total params: 2,446,730\n",
      "Trainable params: 2,446,730\n",
      "Non-trainable params: 0\n",
      "_________________________________________________________________\n",
      "None\n"
     ]
    }
   ],
   "source": [
    "#Loading and splitting the dataset into train, validation and test\n",
    "nb_classes = 10\n",
    "\n",
    "(X_Train, y_Train), (X_test, y_test) = fashion_mnist.load_data()\n",
    "X_train, X_val, y_train, y_val = train_test_split(X_Train, y_Train, test_size=0.20)\n",
    "# convert y_train and y_test to categorical binary values \n",
    "Y_train = np_utils.to_categorical(y_train, nb_classes)\n",
    "Y_val = np_utils.to_categorical(y_val, nb_classes)\n",
    "\n",
    "X_train = X_train.reshape(48000, 28, 28, 1)\n",
    "X_val = X_val.reshape(12000, 28, 28, 1)\n",
    "\n",
    "X_train = X_train.astype('float32')\n",
    "X_val = X_val.astype('float32')\n",
    "\n",
    "# Normalize the values\n",
    "X_train /= 255\n",
    "X_val /= 255\n",
    "\n",
    "\n",
    "#Creating a teacher network\n",
    "input_shape = (28, 28, 1) # Input shape of each image\n",
    "\n",
    "teacher = Sequential()\n",
    "teacher.add(Conv2D(32, kernel_size=(3, 3),\n",
    "                 activation='relu',\n",
    "                 input_shape=input_shape))\n",
    "teacher.add(Conv2D(64, (3, 3), activation='relu'))\n",
    "teacher.add(MaxPooling2D(pool_size=(2, 2)))\n",
    "\n",
    "teacher.add(Dropout(0.25)) # For reguralization\n",
    "\n",
    "teacher.add(Flatten())\n",
    "teacher.add(Dense(256, activation='relu'))\n",
    "teacher.add(Dense(256, activation='relu', name=\"dense_1\"))\n",
    "\n",
    "teacher.add(Dropout(0.5)) # For reguralization\n",
    "\n",
    "teacher.add(Dense(nb_classes, name = 'dense_2'))\n",
    "teacher.add(Activation('softmax')) # Note that we add a normal softmax layer to begin with\n",
    "\n",
    "teacher.compile(loss='categorical_crossentropy',\n",
    "              optimizer='adam',\n",
    "              metrics=['accuracy'])\n",
    "\n",
    "print(teacher.summary())\n",
    "\n",
    "# Train the teacher model as usual\n",
    "# epochs = 0\n",
    "# batch_size = 256\n",
    "# teacher.fit(X_train, Y_train,\n",
    "#           batch_size=batch_size,\n",
    "#           epochs=epochs,\n",
    "#           verbose=1,\n",
    "#           validation_data=(X_val, Y_val))"
   ]
  },
  {
   "cell_type": "code",
   "execution_count": 3,
   "metadata": {},
   "outputs": [],
   "source": [
    "teacher.load_weights(\"Teacher_FMNIST_92.h5\")"
   ]
  },
  {
   "cell_type": "code",
   "execution_count": 4,
   "metadata": {},
   "outputs": [
    {
     "name": "stdout",
     "output_type": "stream",
     "text": [
      "313/313 [==============================] - 3s 4ms/step - loss: 0.3734 - accuracy: 0.9195\n"
     ]
    },
    {
     "data": {
      "text/plain": [
       "[0.351641982793808, 0.9239000082015991]"
      ]
     },
     "execution_count": 4,
     "metadata": {},
     "output_type": "execute_result"
    }
   ],
   "source": [
    "Y_test = np_utils.to_categorical(y_test, nb_classes)\n",
    "X_test = X_test.reshape(10000, 28, 28, 1)\n",
    "X_test = X_test.astype('float32')\n",
    "X_test /= 255\n",
    "\n",
    "\n",
    "teacher.evaluate(X_test,Y_test)"
   ]
  },
  {
   "cell_type": "code",
   "execution_count": 5,
   "metadata": {
    "id": "eIlRbRObW-kc"
   },
   "outputs": [],
   "source": [
    "teacher_WO_Softmax = Model(teacher.input, teacher.get_layer('dense_1').output)\n",
    "train_dense = teacher_WO_Softmax.predict(X_train)\n",
    "val_dense = teacher_WO_Softmax.predict(X_val)\n",
    "\n",
    "\n",
    "# 4 Students case\n",
    "# ---------------------------------------------\n",
    "s1Train=train_dense[:,:64]\n",
    "s2Train=train_dense[:,64:128]\n",
    "s3Train=train_dense[:,128:192]\n",
    "s4Train=train_dense[:,192:]\n",
    "\n",
    "s1Val=val_dense[:,:64]\n",
    "s2Val=val_dense[:,64:128]\n",
    "s3Val=val_dense[:,128:192]\n",
    "s4Val=val_dense[:,192:]\n"
   ]
  },
  {
   "cell_type": "code",
   "execution_count": 6,
   "metadata": {
    "id": "ElnQTkvSXE7h"
   },
   "outputs": [],
   "source": [
    "def define_model(name):\n",
    "\n",
    "    student1 = Sequential()\n",
    "    student1.add(Conv2D(32, kernel_size=(3, 3),activation='relu',input_shape=(28, 28, 1),kernel_initializer='normal', name=name))\n",
    "    student1.add(Conv2D(32, (3, 3), activation='relu',kernel_initializer='normal'))\n",
    "    student1.add(MaxPooling2D(pool_size=(2, 2)))\n",
    "\n",
    "    student1.add(Conv2D(16, kernel_size=(3, 3),activation='relu',kernel_initializer='normal'))\n",
    "    student1.add(Conv2D(16, (3, 3), activation='relu',kernel_initializer='normal'))\n",
    "    student1.add(MaxPooling2D(pool_size=(2, 2)))\n",
    "\n",
    "    student1.add(Dropout(0.25)) # For reguralization\n",
    "    student1.add(Flatten())\n",
    "    student1.add(Dense(16, activation='relu'))\n",
    "    student1.add(Dropout(0.3))\n",
    "    student1.add(Dense(64,name='req'+name))\n",
    "\n",
    "    student1.compile('adam',loss='mean_squared_error',metrics=['accuracy'])\n",
    "\n",
    "    return student1\n",
    "\n"
   ]
  },
  {
   "cell_type": "code",
   "execution_count": 7,
   "metadata": {
    "id": "MomgOJRaNo7l"
   },
   "outputs": [],
   "source": [
    "s1=define_model(\"s1\")\n",
    "s2=define_model('s2')\n",
    "s3=define_model(\"s3\")\n",
    "s4=define_model('s4')"
   ]
  },
  {
   "cell_type": "code",
   "execution_count": 9,
   "metadata": {
    "colab": {
     "base_uri": "https://localhost:8080/"
    },
    "executionInfo": {
     "elapsed": 3406661,
     "status": "ok",
     "timestamp": 1613848509655,
     "user": {
      "displayName": "Musab R.",
      "photoUrl": "https://lh3.googleusercontent.com/a-/AOh14Ggo6kK28_a_Swx27ReDE7W6SlcMcsOsRyiTC_xFvA=s64",
      "userId": "11675938905762231877"
     },
     "user_tz": -300
    },
    "id": "e8wjg4vrNo7l",
    "outputId": "fd9f9112-3240-49ba-81f6-1eb97888c056"
   },
   "outputs": [
    {
     "name": "stdout",
     "output_type": "stream",
     "text": [
      "Epoch 1/10\n",
      "375/375 [==============================] - 3s 8ms/step - loss: 0.3570 - accuracy: 0.4154 - val_loss: 0.2394 - val_accuracy: 0.4706\n",
      "Epoch 2/10\n",
      "375/375 [==============================] - 3s 8ms/step - loss: 0.3498 - accuracy: 0.4188 - val_loss: 0.2353 - val_accuracy: 0.4794\n",
      "Epoch 3/10\n",
      "375/375 [==============================] - 3s 8ms/step - loss: 0.3444 - accuracy: 0.4211 - val_loss: 0.2348 - val_accuracy: 0.4757\n",
      "Epoch 4/10\n",
      "375/375 [==============================] - 3s 8ms/step - loss: 0.3457 - accuracy: 0.4156 - val_loss: 0.2338 - val_accuracy: 0.4730\n",
      "Epoch 5/10\n",
      "375/375 [==============================] - 4s 10ms/step - loss: 0.3419 - accuracy: 0.4170 - val_loss: 0.2153 - val_accuracy: 0.4862\n",
      "Epoch 6/10\n",
      "375/375 [==============================] - 2s 6ms/step - loss: 0.3388 - accuracy: 0.4197 - val_loss: 0.2353 - val_accuracy: 0.4737\n",
      "Epoch 7/10\n",
      "375/375 [==============================] - 3s 7ms/step - loss: 0.3366 - accuracy: 0.4191 - val_loss: 0.2072 - val_accuracy: 0.4901\n",
      "Epoch 8/10\n",
      "375/375 [==============================] - 3s 7ms/step - loss: 0.3351 - accuracy: 0.4221 - val_loss: 0.2238 - val_accuracy: 0.4793\n",
      "Epoch 9/10\n",
      "375/375 [==============================] - 3s 7ms/step - loss: 0.3358 - accuracy: 0.4216 - val_loss: 0.2259 - val_accuracy: 0.4800\n",
      "Epoch 10/10\n",
      "375/375 [==============================] - 4s 10ms/step - loss: 0.3327 - accuracy: 0.4236 - val_loss: 0.2079 - val_accuracy: 0.4905\n",
      "Epoch 1/10\n",
      "375/375 [==============================] - 4s 9ms/step - loss: 1.1455 - accuracy: 0.0895 - val_loss: 0.4661 - val_accuracy: 0.3327\n",
      "Epoch 2/10\n",
      "375/375 [==============================] - 4s 9ms/step - loss: 0.5423 - accuracy: 0.3001 - val_loss: 0.3342 - val_accuracy: 0.4187\n",
      "Epoch 3/10\n",
      "375/375 [==============================] - 4s 9ms/step - loss: 0.4668 - accuracy: 0.3426 - val_loss: 0.3099 - val_accuracy: 0.4473\n",
      "Epoch 4/10\n",
      "375/375 [==============================] - 4s 10ms/step - loss: 0.4339 - accuracy: 0.3711 - val_loss: 0.2803 - val_accuracy: 0.4498\n",
      "Epoch 5/10\n",
      "375/375 [==============================] - 4s 10ms/step - loss: 0.4169 - accuracy: 0.3850 - val_loss: 0.2789 - val_accuracy: 0.4555\n",
      "Epoch 6/10\n",
      "375/375 [==============================] - 4s 10ms/step - loss: 0.4138 - accuracy: 0.3898 - val_loss: 0.2536 - val_accuracy: 0.4560\n",
      "Epoch 7/10\n",
      "375/375 [==============================] - 4s 10ms/step - loss: 0.4091 - accuracy: 0.3907 - val_loss: 0.2639 - val_accuracy: 0.4557\n",
      "Epoch 8/10\n",
      "375/375 [==============================] - 4s 10ms/step - loss: 0.4013 - accuracy: 0.3940 - val_loss: 0.2538 - val_accuracy: 0.4585\n",
      "Epoch 9/10\n",
      "375/375 [==============================] - 4s 10ms/step - loss: 0.3960 - accuracy: 0.3961 - val_loss: 0.2564 - val_accuracy: 0.4549\n",
      "Epoch 10/10\n",
      "375/375 [==============================] - 4s 9ms/step - loss: 0.3948 - accuracy: 0.3928 - val_loss: 0.2580 - val_accuracy: 0.4553\n",
      "Epoch 1/10\n",
      "375/375 [==============================] - 4s 10ms/step - loss: 1.1930 - accuracy: 0.0776 - val_loss: 0.4150 - val_accuracy: 0.3685\n",
      "Epoch 2/10\n",
      "375/375 [==============================] - 4s 10ms/step - loss: 0.5140 - accuracy: 0.3200 - val_loss: 0.3295 - val_accuracy: 0.4063\n",
      "Epoch 3/10\n",
      "375/375 [==============================] - 3s 9ms/step - loss: 0.4441 - accuracy: 0.3505 - val_loss: 0.2763 - val_accuracy: 0.4292\n",
      "Epoch 4/10\n",
      "375/375 [==============================] - 3s 8ms/step - loss: 0.4186 - accuracy: 0.3787 - val_loss: 0.2553 - val_accuracy: 0.4520\n",
      "Epoch 5/10\n",
      "375/375 [==============================] - 3s 8ms/step - loss: 0.4022 - accuracy: 0.3914 - val_loss: 0.2551 - val_accuracy: 0.4494\n",
      "Epoch 6/10\n",
      "375/375 [==============================] - 4s 10ms/step - loss: 0.3971 - accuracy: 0.3924 - val_loss: 0.2501 - val_accuracy: 0.4478\n",
      "Epoch 7/10\n",
      "375/375 [==============================] - 4s 9ms/step - loss: 0.3868 - accuracy: 0.3912 - val_loss: 0.2558 - val_accuracy: 0.4392\n",
      "Epoch 8/10\n",
      "375/375 [==============================] - 3s 8ms/step - loss: 0.3816 - accuracy: 0.3983 - val_loss: 0.2476 - val_accuracy: 0.4593\n",
      "Epoch 9/10\n",
      "375/375 [==============================] - 4s 10ms/step - loss: 0.3797 - accuracy: 0.4042 - val_loss: 0.2519 - val_accuracy: 0.4527\n",
      "Epoch 10/10\n",
      "375/375 [==============================] - 3s 8ms/step - loss: 0.3791 - accuracy: 0.3842 - val_loss: 0.2426 - val_accuracy: 0.4544\n",
      "Epoch 1/10\n",
      "375/375 [==============================] - 4s 10ms/step - loss: 1.2248 - accuracy: 0.0648 - val_loss: 0.4142 - val_accuracy: 0.2569\n",
      "Epoch 2/10\n",
      "375/375 [==============================] - 4s 10ms/step - loss: 0.5319 - accuracy: 0.2253 - val_loss: 0.3244 - val_accuracy: 0.3349\n",
      "Epoch 3/10\n",
      "375/375 [==============================] - 3s 9ms/step - loss: 0.4684 - accuracy: 0.2767 - val_loss: 0.3383 - val_accuracy: 0.3502\n",
      "Epoch 4/10\n",
      "375/375 [==============================] - 3s 9ms/step - loss: 0.4423 - accuracy: 0.2866 - val_loss: 0.2817 - val_accuracy: 0.3596\n",
      "Epoch 5/10\n",
      "375/375 [==============================] - 3s 9ms/step - loss: 0.4284 - accuracy: 0.2890 - val_loss: 0.2641 - val_accuracy: 0.3630\n",
      "Epoch 6/10\n",
      "375/375 [==============================] - 3s 9ms/step - loss: 0.4133 - accuracy: 0.2976 - val_loss: 0.2602 - val_accuracy: 0.3678\n",
      "Epoch 7/10\n",
      "375/375 [==============================] - 4s 10ms/step - loss: 0.4061 - accuracy: 0.3043 - val_loss: 0.2702 - val_accuracy: 0.3675\n",
      "Epoch 8/10\n",
      "375/375 [==============================] - 3s 8ms/step - loss: 0.4036 - accuracy: 0.3094 - val_loss: 0.2803 - val_accuracy: 0.3674\n",
      "Epoch 9/10\n",
      "375/375 [==============================] - 3s 9ms/step - loss: 0.4021 - accuracy: 0.3135 - val_loss: 0.2620 - val_accuracy: 0.3681\n",
      "Epoch 10/10\n",
      "375/375 [==============================] - 3s 9ms/step - loss: 0.3987 - accuracy: 0.3210 - val_loss: 0.2607 - val_accuracy: 0.3717\n"
     ]
    },
    {
     "data": {
      "text/plain": [
       "<tensorflow.python.keras.callbacks.History at 0x7f40280e7f28>"
      ]
     },
     "execution_count": 9,
     "metadata": {},
     "output_type": "execute_result"
    }
   ],
   "source": [
    "batch_size = 128\n",
    "s1.fit([X_train], s1Train,\n",
    "          batch_size=batch_size,\n",
    "          epochs=10,\n",
    "          verbose=1, validation_data=([X_val], s1Val))\n",
    "s2.fit([X_train], s2Train,\n",
    "          batch_size=batch_size,\n",
    "          epochs=10,\n",
    "          verbose=1, validation_data=([X_val], s2Val))\n",
    "s3.fit([X_train], s3Train,\n",
    "          batch_size=batch_size,\n",
    "          epochs=10,\n",
    "          verbose=1, validation_data=([X_val], s3Val))\n",
    "s4.fit([X_train], s4Train,\n",
    "          batch_size=batch_size,\n",
    "          epochs=10,\n",
    "          verbose=1, validation_data=([X_val], s4Val))"
   ]
  },
  {
   "cell_type": "markdown",
   "metadata": {
    "id": "PZSyVNV6UY_Z"
   },
   "source": [
    "### **4 Student**"
   ]
  },
  {
   "cell_type": "code",
   "execution_count": 10,
   "metadata": {
    "colab": {
     "base_uri": "https://localhost:8080/"
    },
    "executionInfo": {
     "elapsed": 803,
     "status": "ok",
     "timestamp": 1613849904985,
     "user": {
      "displayName": "Musab R.",
      "photoUrl": "https://lh3.googleusercontent.com/a-/AOh14Ggo6kK28_a_Swx27ReDE7W6SlcMcsOsRyiTC_xFvA=s64",
      "userId": "11675938905762231877"
     },
     "user_tz": -300
    },
    "id": "QvsGpSuiNo7v",
    "outputId": "0a99c2e1-053f-4c18-c977-0f0487e62363"
   },
   "outputs": [
    {
     "name": "stdout",
     "output_type": "stream",
     "text": [
      "(None, 256)\n"
     ]
    }
   ],
   "source": [
    "o1=s1.get_layer(\"reqs1\").output\n",
    "o2=s2.get_layer(\"reqs2\").output\n",
    "o3=s3.get_layer(\"reqs3\").output\n",
    "o4=s4.get_layer(\"reqs4\").output\n",
    "output=tensorflow.keras.layers.concatenate([o1,o2,o3,o4])\n",
    "print (output.shape)\n",
    "output=Activation('relu')(output)\n",
    "output2=Dropout(0.5)(output) # For reguralization\n",
    "output3=Dense(10,activation=\"softmax\", name=\"d1\")(output2)\n",
    "mm4=Model([s1.get_layer(\"s1\").input,s2.get_layer(\"s2\").input,s3.get_layer(\"s3\").input,s4.get_layer(\"s4\").input],output3)\n",
    "my_weights=teacher.get_layer('dense_2').get_weights()\n",
    "mm4.get_layer('d1').set_weights(my_weights)"
   ]
  },
  {
   "cell_type": "code",
   "execution_count": 11,
   "metadata": {
    "id": "E4_9eYYqbLxS"
   },
   "outputs": [],
   "source": [
    "for l in mm4.layers[:len(mm4.layers)-1]:\n",
    "    l.trainable=False\n",
    "\n",
    "mm4.compile(loss='categorical_crossentropy',\n",
    "              optimizer='adam',\n",
    "              metrics=['accuracy'])\n"
   ]
  },
  {
   "cell_type": "code",
   "execution_count": 12,
   "metadata": {
    "colab": {
     "base_uri": "https://localhost:8080/"
    },
    "executionInfo": {
     "elapsed": 74458,
     "status": "ok",
     "timestamp": 1613850010776,
     "user": {
      "displayName": "Musab R.",
      "photoUrl": "https://lh3.googleusercontent.com/a-/AOh14Ggo6kK28_a_Swx27ReDE7W6SlcMcsOsRyiTC_xFvA=s64",
      "userId": "11675938905762231877"
     },
     "user_tz": -300
    },
    "id": "Y75ac5rlbLs2",
    "outputId": "ddbc3622-d1dc-4727-f34c-680a3efc7918"
   },
   "outputs": [
    {
     "name": "stdout",
     "output_type": "stream",
     "text": [
      "Epoch 1/20\n",
      "375/375 [==============================] - 4s 10ms/step - loss: 0.6471 - accuracy: 0.7953 - val_loss: 0.4045 - val_accuracy: 0.8551\n",
      "Epoch 2/20\n",
      "375/375 [==============================] - 4s 10ms/step - loss: 0.5446 - accuracy: 0.7979 - val_loss: 0.3957 - val_accuracy: 0.8532\n",
      "Epoch 3/20\n",
      "375/375 [==============================] - 2s 6ms/step - loss: 0.5031 - accuracy: 0.8074 - val_loss: 0.3935 - val_accuracy: 0.8532\n",
      "Epoch 4/20\n",
      "375/375 [==============================] - 4s 10ms/step - loss: 0.5030 - accuracy: 0.8041 - val_loss: 0.3976 - val_accuracy: 0.8429\n",
      "Epoch 5/20\n",
      "375/375 [==============================] - 4s 11ms/step - loss: 0.4829 - accuracy: 0.8084 - val_loss: 0.3947 - val_accuracy: 0.8513\n",
      "Epoch 6/20\n",
      "375/375 [==============================] - 5s 12ms/step - loss: 0.4822 - accuracy: 0.8095 - val_loss: 0.3967 - val_accuracy: 0.8489\n",
      "Epoch 7/20\n",
      "375/375 [==============================] - 4s 10ms/step - loss: 0.4750 - accuracy: 0.8122 - val_loss: 0.3953 - val_accuracy: 0.8483\n",
      "Epoch 8/20\n",
      "375/375 [==============================] - 4s 10ms/step - loss: 0.4787 - accuracy: 0.8114 - val_loss: 0.3932 - val_accuracy: 0.8554\n",
      "Epoch 9/20\n",
      "375/375 [==============================] - 4s 11ms/step - loss: 0.4764 - accuracy: 0.8113 - val_loss: 0.3907 - val_accuracy: 0.8479\n",
      "Epoch 10/20\n",
      "375/375 [==============================] - 3s 9ms/step - loss: 0.4738 - accuracy: 0.8121 - val_loss: 0.3939 - val_accuracy: 0.8589\n",
      "Epoch 11/20\n",
      "375/375 [==============================] - 5s 12ms/step - loss: 0.4798 - accuracy: 0.8089 - val_loss: 0.3931 - val_accuracy: 0.8526\n",
      "Epoch 12/20\n",
      "375/375 [==============================] - 3s 7ms/step - loss: 0.4837 - accuracy: 0.8108 - val_loss: 0.3936 - val_accuracy: 0.8485\n",
      "Epoch 13/20\n",
      "375/375 [==============================] - 3s 8ms/step - loss: 0.4750 - accuracy: 0.8115 - val_loss: 0.3979 - val_accuracy: 0.8455\n",
      "Epoch 14/20\n",
      "375/375 [==============================] - 4s 10ms/step - loss: 0.4783 - accuracy: 0.8095 - val_loss: 0.3935 - val_accuracy: 0.8487\n",
      "Epoch 15/20\n",
      "375/375 [==============================] - 4s 11ms/step - loss: 0.4805 - accuracy: 0.8084 - val_loss: 0.3919 - val_accuracy: 0.8588\n",
      "Epoch 16/20\n",
      "375/375 [==============================] - 5s 12ms/step - loss: 0.4816 - accuracy: 0.8087 - val_loss: 0.3927 - val_accuracy: 0.8516\n",
      "Epoch 17/20\n",
      "375/375 [==============================] - 4s 11ms/step - loss: 0.4812 - accuracy: 0.8083 - val_loss: 0.3895 - val_accuracy: 0.8568\n",
      "Epoch 18/20\n",
      "375/375 [==============================] - 4s 11ms/step - loss: 0.4750 - accuracy: 0.8132 - val_loss: 0.3930 - val_accuracy: 0.8533\n",
      "Epoch 19/20\n",
      "375/375 [==============================] - 3s 8ms/step - loss: 0.4868 - accuracy: 0.8063 - val_loss: 0.3929 - val_accuracy: 0.8584\n",
      "Epoch 20/20\n",
      "375/375 [==============================] - 3s 8ms/step - loss: 0.4778 - accuracy: 0.8088 - val_loss: 0.3936 - val_accuracy: 0.8575\n"
     ]
    }
   ],
   "source": [
    "batch_size = 128\n",
    "mm2_history=mm4.fit([X_train,X_train,X_train,X_train], Y_train,\n",
    "          batch_size=batch_size,\n",
    "          epochs=20,\n",
    "          verbose=1, validation_data=([X_val,X_val,X_val,X_val], Y_val))"
   ]
  },
  {
   "cell_type": "code",
   "execution_count": 14,
   "metadata": {
    "colab": {
     "base_uri": "https://localhost:8080/"
    },
    "executionInfo": {
     "elapsed": 74103,
     "status": "ok",
     "timestamp": 1613850012155,
     "user": {
      "displayName": "Musab R.",
      "photoUrl": "https://lh3.googleusercontent.com/a-/AOh14Ggo6kK28_a_Swx27ReDE7W6SlcMcsOsRyiTC_xFvA=s64",
      "userId": "11675938905762231877"
     },
     "user_tz": -300
    },
    "id": "h9cFOtEQbLoa",
    "outputId": "0b165a91-083e-43c0-ae52-ccaedc881f46"
   },
   "outputs": [
    {
     "name": "stdout",
     "output_type": "stream",
     "text": [
      "313/313 [==============================] - 3s 8ms/step - loss: 0.4038 - accuracy: 0.8527\n"
     ]
    },
    {
     "data": {
      "text/plain": [
       "(0.4038444757461548, 0.8526999950408936)"
      ]
     },
     "execution_count": 14,
     "metadata": {},
     "output_type": "execute_result"
    }
   ],
   "source": [
    "loss, acc = mm4.evaluate([X_test,X_test,X_test,X_test], Y_test, verbose=1)\n",
    "loss, acc "
   ]
  },
  {
   "cell_type": "code",
   "execution_count": null,
   "metadata": {},
   "outputs": [],
   "source": []
  }
 ],
 "metadata": {
  "accelerator": "GPU",
  "colab": {
   "collapsed_sections": [],
   "name": "[1,2,4,8] Students Configurations on FashionMNIST using GANs.ipynb",
   "provenance": [
    {
     "file_id": "1xZFzUDe8M-ikd-rsFrmtDLECCWSq3dzF",
     "timestamp": 1613663948275
    }
   ]
  },
  "kernelspec": {
   "display_name": "Python 3",
   "language": "python",
   "name": "python3"
  },
  "language_info": {
   "codemirror_mode": {
    "name": "ipython",
    "version": 3
   },
   "file_extension": ".py",
   "mimetype": "text/x-python",
   "name": "python",
   "nbconvert_exporter": "python",
   "pygments_lexer": "ipython3",
   "version": "3.6.9"
  }
 },
 "nbformat": 4,
 "nbformat_minor": 1
}
