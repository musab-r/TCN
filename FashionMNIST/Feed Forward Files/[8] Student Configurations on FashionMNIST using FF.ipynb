{
 "cells": [
  {
   "cell_type": "markdown",
   "metadata": {
    "id": "XcYlxyy2dj0s"
   },
   "source": [
    "# Distilling Knowledge in Multiple Students Using Generative Models"
   ]
  },
  {
   "cell_type": "code",
   "execution_count": 1,
   "metadata": {
    "id": "ce2GSoOKWFKP"
   },
   "outputs": [],
   "source": [
    "# %tensorflow_version 1.x\n",
    "# !pip install --upgrade opencv-python==3.4.2.17\n",
    "import numpy as np\n",
    "import tensorflow as tf\n",
    "import tensorflow.keras\n",
    "import tensorflow.keras.backend as K\n",
    "# import os\n",
    "from tensorflow.keras.datasets import fashion_mnist,mnist,cifar10\n",
    "# import keras.backend as K\n",
    "from tensorflow.keras.layers import Conv2D,Activation,BatchNormalization,UpSampling2D,Embedding,ZeroPadding2D, Input, Flatten, Dense, Reshape, LeakyReLU, Dropout,MaxPooling2D\n",
    "from tensorflow.keras.models import Sequential, Model\n",
    "from tensorflow.keras.optimizers import Adam, SGD, RMSprop\n",
    "from tensorflow.keras import regularizers\n",
    "\n",
    "from tensorflow.keras.utils import Progbar\n",
    "from keras.initializers import RandomNormal\n",
    "import random\n",
    "from sklearn.model_selection import train_test_split\n",
    "# from keras.utils import np_utils\n",
    "from tensorflow.keras import utils as np_utils\n",
    "\n"
   ]
  },
  {
   "cell_type": "code",
   "execution_count": 2,
   "metadata": {
    "colab": {
     "base_uri": "https://localhost:8080/"
    },
    "executionInfo": {
     "elapsed": 21258,
     "status": "ok",
     "timestamp": 1613835780197,
     "user": {
      "displayName": "Musab R.",
      "photoUrl": "https://lh3.googleusercontent.com/a-/AOh14Ggo6kK28_a_Swx27ReDE7W6SlcMcsOsRyiTC_xFvA=s64",
      "userId": "11675938905762231877"
     },
     "user_tz": -300
    },
    "id": "lyIJv1WRNo7G",
    "outputId": "feb02b96-e14b-4e57-cc3a-7561223cdef6",
    "scrolled": true
   },
   "outputs": [
    {
     "name": "stdout",
     "output_type": "stream",
     "text": [
      "Model: \"sequential\"\n",
      "_________________________________________________________________\n",
      "Layer (type)                 Output Shape              Param #   \n",
      "=================================================================\n",
      "conv2d (Conv2D)              (None, 26, 26, 32)        320       \n",
      "_________________________________________________________________\n",
      "conv2d_1 (Conv2D)            (None, 24, 24, 64)        18496     \n",
      "_________________________________________________________________\n",
      "max_pooling2d (MaxPooling2D) (None, 12, 12, 64)        0         \n",
      "_________________________________________________________________\n",
      "dropout (Dropout)            (None, 12, 12, 64)        0         \n",
      "_________________________________________________________________\n",
      "flatten (Flatten)            (None, 9216)              0         \n",
      "_________________________________________________________________\n",
      "dense (Dense)                (None, 256)               2359552   \n",
      "_________________________________________________________________\n",
      "dense_1 (Dense)              (None, 256)               65792     \n",
      "_________________________________________________________________\n",
      "dropout_1 (Dropout)          (None, 256)               0         \n",
      "_________________________________________________________________\n",
      "dense_2 (Dense)              (None, 10)                2570      \n",
      "_________________________________________________________________\n",
      "activation (Activation)      (None, 10)                0         \n",
      "=================================================================\n",
      "Total params: 2,446,730\n",
      "Trainable params: 2,446,730\n",
      "Non-trainable params: 0\n",
      "_________________________________________________________________\n",
      "None\n"
     ]
    }
   ],
   "source": [
    "#Loading and splitting the dataset into train, validation and test\n",
    "nb_classes = 10\n",
    "\n",
    "(X_Train, y_Train), (X_test, y_test) = fashion_mnist.load_data()\n",
    "X_train, X_val, y_train, y_val = train_test_split(X_Train, y_Train, test_size=0.20)\n",
    "# convert y_train and y_test to categorical binary values \n",
    "Y_train = np_utils.to_categorical(y_train, nb_classes)\n",
    "Y_val = np_utils.to_categorical(y_val, nb_classes)\n",
    "\n",
    "X_train = X_train.reshape(48000, 28, 28, 1)\n",
    "X_val = X_val.reshape(12000, 28, 28, 1)\n",
    "\n",
    "X_train = X_train.astype('float32')\n",
    "X_val = X_val.astype('float32')\n",
    "\n",
    "# Normalize the values\n",
    "X_train /= 255\n",
    "X_val /= 255\n",
    "\n",
    "\n",
    "#Creating a teacher network\n",
    "input_shape = (28, 28, 1) # Input shape of each image\n",
    "\n",
    "teacher = Sequential()\n",
    "teacher.add(Conv2D(32, kernel_size=(3, 3),\n",
    "                 activation='relu',\n",
    "                 input_shape=input_shape))\n",
    "teacher.add(Conv2D(64, (3, 3), activation='relu'))\n",
    "teacher.add(MaxPooling2D(pool_size=(2, 2)))\n",
    "\n",
    "teacher.add(Dropout(0.25)) # For reguralization\n",
    "\n",
    "teacher.add(Flatten())\n",
    "teacher.add(Dense(256, activation='relu'))\n",
    "teacher.add(Dense(256, activation='relu', name=\"dense_1\"))\n",
    "\n",
    "teacher.add(Dropout(0.5)) # For reguralization\n",
    "\n",
    "teacher.add(Dense(nb_classes, name = 'dense_2'))\n",
    "teacher.add(Activation('softmax')) # Note that we add a normal softmax layer to begin with\n",
    "\n",
    "teacher.compile(loss='categorical_crossentropy',\n",
    "              optimizer='adam',\n",
    "              metrics=['accuracy'])\n",
    "\n",
    "print(teacher.summary())\n",
    "\n",
    "# Train the teacher model as usual\n",
    "# epochs = 30\n",
    "# batch_size = 256\n",
    "# teacher.fit(X_train, Y_train,\n",
    "#           batch_size=batch_size,\n",
    "#           epochs=epochs,\n",
    "#           verbose=1,\n",
    "#           validation_data=(X_val, Y_val))\n"
   ]
  },
  {
   "cell_type": "code",
   "execution_count": 3,
   "metadata": {},
   "outputs": [],
   "source": [
    "teacher.load_weights(\"Teacher_FMNIST_92.h5\")"
   ]
  },
  {
   "cell_type": "code",
   "execution_count": 4,
   "metadata": {
    "colab": {
     "base_uri": "https://localhost:8080/"
    },
    "executionInfo": {
     "elapsed": 1274,
     "status": "ok",
     "timestamp": 1613838372449,
     "user": {
      "displayName": "Musab R.",
      "photoUrl": "https://lh3.googleusercontent.com/a-/AOh14Ggo6kK28_a_Swx27ReDE7W6SlcMcsOsRyiTC_xFvA=s64",
      "userId": "11675938905762231877"
     },
     "user_tz": -300
    },
    "id": "EoLx2I_dNo7N",
    "outputId": "8b734d09-b493-471c-9319-6db08429be32"
   },
   "outputs": [
    {
     "name": "stdout",
     "output_type": "stream",
     "text": [
      "313/313 [==============================] - 3s 4ms/step - loss: 0.3734 - accuracy: 0.9195\n"
     ]
    },
    {
     "data": {
      "text/plain": [
       "[0.3516419529914856, 0.9239000082015991]"
      ]
     },
     "execution_count": 4,
     "metadata": {},
     "output_type": "execute_result"
    }
   ],
   "source": [
    "Y_test = np_utils.to_categorical(y_test, nb_classes)\n",
    "X_test = X_test.reshape(10000, 28, 28, 1)\n",
    "X_test = X_test.astype('float32')\n",
    "# Normalize the values\n",
    "X_test /= 255\n",
    "teacher.evaluate(X_test,Y_test)"
   ]
  },
  {
   "cell_type": "code",
   "execution_count": null,
   "metadata": {},
   "outputs": [],
   "source": []
  },
  {
   "cell_type": "code",
   "execution_count": 6,
   "metadata": {
    "id": "eIlRbRObW-kc"
   },
   "outputs": [],
   "source": [
    "teacher_WO_Softmax = Model(teacher.input, teacher.get_layer('dense_1').output)\n",
    "train_dense = teacher_WO_Softmax.predict(X_train)\n",
    "val_dense = teacher_WO_Softmax.predict(X_val)\n",
    "\n",
    "\n",
    "# 8 Students case\n",
    "# ---------------------------------------------\n",
    "s1Train=train_dense[:,:32]\n",
    "s2Train=train_dense[:,32:64]\n",
    "s3Train=train_dense[:,64:96]\n",
    "s4Train=train_dense[:,96:128]\n",
    "s5Train=train_dense[:,128:160]\n",
    "s6Train=train_dense[:,160:192]\n",
    "s7Train=train_dense[:,192:224]\n",
    "s8Train=train_dense[:,224:]\n",
    "\n",
    "s1Val=val_dense[:,:32]\n",
    "s2Val=val_dense[:,32:64]\n",
    "s3Val=val_dense[:,64:96]\n",
    "s4Val=val_dense[:,96:128]\n",
    "s5Val=val_dense[:,128:160]\n",
    "s6Val=val_dense[:,160:192]\n",
    "s7Val=val_dense[:,192:224]\n",
    "s8Val=val_dense[:,224:]\n"
   ]
  },
  {
   "cell_type": "code",
   "execution_count": 7,
   "metadata": {
    "id": "ElnQTkvSXE7h"
   },
   "outputs": [],
   "source": [
    "def define_model(name):\n",
    "\n",
    "    student1 = Sequential()\n",
    "    student1.add(Conv2D(32, kernel_size=(3, 3),activation='relu',input_shape=(28, 28, 1),kernel_initializer='normal', name=name))\n",
    "    student1.add(Conv2D(32, (3, 3), activation='relu',kernel_initializer='normal'))\n",
    "    student1.add(MaxPooling2D(pool_size=(2, 2)))\n",
    "\n",
    "    student1.add(Conv2D(16, kernel_size=(3, 3),activation='relu',kernel_initializer='normal'))\n",
    "    student1.add(Conv2D(16, (3, 3), activation='relu',kernel_initializer='normal'))\n",
    "    student1.add(MaxPooling2D(pool_size=(2, 2)))\n",
    "\n",
    "    student1.add(Dropout(0.25)) # For reguralization\n",
    "    student1.add(Flatten())\n",
    "    student1.add(Dense(16, activation='relu'))\n",
    "    student1.add(Dropout(0.3))\n",
    "    student1.add(Dense(32,name='req'+name))\n",
    "\n",
    "    student1.compile('adam',loss='mean_squared_error',metrics=['accuracy'])\n",
    "\n",
    "    return student1\n",
    "\n"
   ]
  },
  {
   "cell_type": "code",
   "execution_count": 8,
   "metadata": {
    "id": "MomgOJRaNo7l"
   },
   "outputs": [],
   "source": [
    "s1=define_model(\"s1\")\n",
    "s2=define_model('s2')\n",
    "s3=define_model(\"s3\")\n",
    "s4=define_model('s4')\n",
    "s5=define_model(\"s5\")\n",
    "s6=define_model('s6')\n",
    "s7=define_model(\"s7\")\n",
    "s8=define_model('s8')"
   ]
  },
  {
   "cell_type": "code",
   "execution_count": 9,
   "metadata": {
    "colab": {
     "base_uri": "https://localhost:8080/"
    },
    "executionInfo": {
     "elapsed": 3406661,
     "status": "ok",
     "timestamp": 1613848509655,
     "user": {
      "displayName": "Musab R.",
      "photoUrl": "https://lh3.googleusercontent.com/a-/AOh14Ggo6kK28_a_Swx27ReDE7W6SlcMcsOsRyiTC_xFvA=s64",
      "userId": "11675938905762231877"
     },
     "user_tz": -300
    },
    "id": "e8wjg4vrNo7l",
    "outputId": "fd9f9112-3240-49ba-81f6-1eb97888c056",
    "scrolled": true
   },
   "outputs": [
    {
     "name": "stdout",
     "output_type": "stream",
     "text": [
      "Epoch 1/10\n",
      "375/375 [==============================] - 4s 10ms/step - loss: 0.9848 - accuracy: 0.1551 - val_loss: 0.3917 - val_accuracy: 0.4513\n",
      "Epoch 2/10\n",
      "375/375 [==============================] - 3s 8ms/step - loss: 0.4703 - accuracy: 0.3917 - val_loss: 0.2868 - val_accuracy: 0.4922\n",
      "Epoch 3/10\n",
      "375/375 [==============================] - 3s 7ms/step - loss: 0.3974 - accuracy: 0.4311 - val_loss: 0.2702 - val_accuracy: 0.5174\n",
      "Epoch 4/10\n",
      "375/375 [==============================] - 3s 8ms/step - loss: 0.3725 - accuracy: 0.4491 - val_loss: 0.2293 - val_accuracy: 0.5328\n",
      "Epoch 5/10\n",
      "375/375 [==============================] - 2s 5ms/step - loss: 0.3630 - accuracy: 0.4634 - val_loss: 0.2267 - val_accuracy: 0.5508\n",
      "Epoch 6/10\n",
      "375/375 [==============================] - 3s 8ms/step - loss: 0.3546 - accuracy: 0.4736 - val_loss: 0.2296 - val_accuracy: 0.5573\n",
      "Epoch 7/10\n",
      "375/375 [==============================] - 3s 9ms/step - loss: 0.3463 - accuracy: 0.4772 - val_loss: 0.2288 - val_accuracy: 0.5592\n",
      "Epoch 8/10\n",
      "375/375 [==============================] - 3s 7ms/step - loss: 0.3449 - accuracy: 0.4819 - val_loss: 0.2332 - val_accuracy: 0.5599\n",
      "Epoch 9/10\n",
      "375/375 [==============================] - 4s 10ms/step - loss: 0.3450 - accuracy: 0.4761 - val_loss: 0.2251 - val_accuracy: 0.5686\n",
      "Epoch 10/10\n",
      "375/375 [==============================] - 4s 10ms/step - loss: 0.3422 - accuracy: 0.4885 - val_loss: 0.2147 - val_accuracy: 0.5761\n",
      "Epoch 1/10\n",
      "375/375 [==============================] - 4s 9ms/step - loss: 0.9174 - accuracy: 0.1029 - val_loss: 0.3652 - val_accuracy: 0.4192\n",
      "Epoch 2/10\n",
      "375/375 [==============================] - 3s 9ms/step - loss: 0.4517 - accuracy: 0.3614 - val_loss: 0.2971 - val_accuracy: 0.4919\n",
      "Epoch 3/10\n",
      "375/375 [==============================] - 4s 9ms/step - loss: 0.3925 - accuracy: 0.4035 - val_loss: 0.2724 - val_accuracy: 0.5027\n",
      "Epoch 4/10\n",
      "375/375 [==============================] - 4s 10ms/step - loss: 0.3654 - accuracy: 0.4145 - val_loss: 0.2485 - val_accuracy: 0.5136\n",
      "Epoch 5/10\n",
      "375/375 [==============================] - 4s 10ms/step - loss: 0.3568 - accuracy: 0.4208 - val_loss: 0.2404 - val_accuracy: 0.5105\n",
      "Epoch 6/10\n",
      "375/375 [==============================] - 4s 10ms/step - loss: 0.3465 - accuracy: 0.4242 - val_loss: 0.2386 - val_accuracy: 0.5134\n",
      "Epoch 7/10\n",
      "375/375 [==============================] - 4s 10ms/step - loss: 0.3426 - accuracy: 0.4256 - val_loss: 0.2226 - val_accuracy: 0.5205\n",
      "Epoch 8/10\n",
      "375/375 [==============================] - 4s 10ms/step - loss: 0.3403 - accuracy: 0.4284 - val_loss: 0.2452 - val_accuracy: 0.5094\n",
      "Epoch 9/10\n",
      "375/375 [==============================] - 4s 10ms/step - loss: 0.3353 - accuracy: 0.4303 - val_loss: 0.2310 - val_accuracy: 0.5057\n",
      "Epoch 10/10\n",
      "375/375 [==============================] - 4s 10ms/step - loss: 0.3353 - accuracy: 0.4342 - val_loss: 0.2370 - val_accuracy: 0.5112\n",
      "Epoch 1/10\n",
      "375/375 [==============================] - 4s 9ms/step - loss: 1.0070 - accuracy: 0.1118 - val_loss: 0.4686 - val_accuracy: 0.3999\n",
      "Epoch 2/10\n",
      "375/375 [==============================] - 4s 10ms/step - loss: 0.5269 - accuracy: 0.3481 - val_loss: 0.2873 - val_accuracy: 0.4897\n",
      "Epoch 3/10\n",
      "375/375 [==============================] - 2s 6ms/step - loss: 0.4303 - accuracy: 0.4013 - val_loss: 0.2889 - val_accuracy: 0.4927\n",
      "Epoch 4/10\n",
      "375/375 [==============================] - 4s 10ms/step - loss: 0.4027 - accuracy: 0.4213 - val_loss: 0.2760 - val_accuracy: 0.5047\n",
      "Epoch 5/10\n",
      "375/375 [==============================] - 4s 10ms/step - loss: 0.3905 - accuracy: 0.4181 - val_loss: 0.2551 - val_accuracy: 0.5008\n",
      "Epoch 6/10\n",
      "375/375 [==============================] - 4s 10ms/step - loss: 0.3808 - accuracy: 0.4270 - val_loss: 0.2489 - val_accuracy: 0.5142\n",
      "Epoch 7/10\n",
      "375/375 [==============================] - 4s 10ms/step - loss: 0.3759 - accuracy: 0.4282 - val_loss: 0.2608 - val_accuracy: 0.5142\n",
      "Epoch 8/10\n",
      "375/375 [==============================] - 3s 9ms/step - loss: 0.3698 - accuracy: 0.4279 - val_loss: 0.2441 - val_accuracy: 0.5143\n",
      "Epoch 9/10\n",
      "375/375 [==============================] - 4s 9ms/step - loss: 0.3675 - accuracy: 0.4308 - val_loss: 0.2693 - val_accuracy: 0.5114\n",
      "Epoch 10/10\n",
      "375/375 [==============================] - 4s 10ms/step - loss: 0.3664 - accuracy: 0.4344 - val_loss: 0.2443 - val_accuracy: 0.5209\n",
      "Epoch 1/10\n",
      "375/375 [==============================] - 3s 8ms/step - loss: 1.1931 - accuracy: 0.1852 - val_loss: 0.4137 - val_accuracy: 0.4704\n",
      "Epoch 2/10\n",
      "375/375 [==============================] - 4s 10ms/step - loss: 0.5599 - accuracy: 0.3931 - val_loss: 0.3174 - val_accuracy: 0.4726\n",
      "Epoch 3/10\n",
      "375/375 [==============================] - 4s 10ms/step - loss: 0.4822 - accuracy: 0.4117 - val_loss: 0.3201 - val_accuracy: 0.4822\n",
      "Epoch 4/10\n",
      "375/375 [==============================] - 4s 10ms/step - loss: 0.4431 - accuracy: 0.4264 - val_loss: 0.2873 - val_accuracy: 0.4869\n",
      "Epoch 5/10\n",
      "375/375 [==============================] - 4s 9ms/step - loss: 0.4308 - accuracy: 0.4371 - val_loss: 0.2601 - val_accuracy: 0.4938\n",
      "Epoch 6/10\n",
      "375/375 [==============================] - 4s 10ms/step - loss: 0.4205 - accuracy: 0.4410 - val_loss: 0.2629 - val_accuracy: 0.4927\n",
      "Epoch 7/10\n",
      "375/375 [==============================] - 4s 9ms/step - loss: 0.4073 - accuracy: 0.4517 - val_loss: 0.2496 - val_accuracy: 0.4930\n",
      "Epoch 8/10\n",
      "375/375 [==============================] - 4s 10ms/step - loss: 0.3989 - accuracy: 0.4550 - val_loss: 0.2724 - val_accuracy: 0.4850\n",
      "Epoch 9/10\n",
      "375/375 [==============================] - 4s 10ms/step - loss: 0.4012 - accuracy: 0.4586 - val_loss: 0.2615 - val_accuracy: 0.4872\n",
      "Epoch 10/10\n",
      "375/375 [==============================] - 2s 6ms/step - loss: 0.3982 - accuracy: 0.4633 - val_loss: 0.2651 - val_accuracy: 0.4874\n",
      "Epoch 1/10\n",
      "375/375 [==============================] - 4s 9ms/step - loss: 1.0683 - accuracy: 0.1235 - val_loss: 0.3879 - val_accuracy: 0.4051\n",
      "Epoch 2/10\n",
      "375/375 [==============================] - 4s 10ms/step - loss: 0.5051 - accuracy: 0.3673 - val_loss: 0.3113 - val_accuracy: 0.5612\n",
      "Epoch 3/10\n",
      "375/375 [==============================] - 3s 9ms/step - loss: 0.4368 - accuracy: 0.4484 - val_loss: 0.2407 - val_accuracy: 0.5665\n",
      "Epoch 4/10\n",
      "375/375 [==============================] - 3s 9ms/step - loss: 0.4026 - accuracy: 0.4808 - val_loss: 0.2521 - val_accuracy: 0.5788\n",
      "Epoch 5/10\n",
      "375/375 [==============================] - 3s 9ms/step - loss: 0.3892 - accuracy: 0.4834 - val_loss: 0.2297 - val_accuracy: 0.5751\n",
      "Epoch 6/10\n",
      "375/375 [==============================] - 4s 10ms/step - loss: 0.3748 - accuracy: 0.4842 - val_loss: 0.2451 - val_accuracy: 0.5766\n",
      "Epoch 7/10\n",
      "375/375 [==============================] - 4s 10ms/step - loss: 0.3697 - accuracy: 0.4836 - val_loss: 0.2404 - val_accuracy: 0.5767\n",
      "Epoch 8/10\n",
      "375/375 [==============================] - 3s 9ms/step - loss: 0.3628 - accuracy: 0.4836 - val_loss: 0.2346 - val_accuracy: 0.5767\n",
      "Epoch 9/10\n",
      "375/375 [==============================] - 3s 9ms/step - loss: 0.3629 - accuracy: 0.4793 - val_loss: 0.2247 - val_accuracy: 0.5756\n",
      "Epoch 10/10\n",
      "375/375 [==============================] - 3s 8ms/step - loss: 0.3603 - accuracy: 0.4799 - val_loss: 0.2495 - val_accuracy: 0.5797\n",
      "Epoch 1/10\n",
      "375/375 [==============================] - 3s 8ms/step - loss: 1.2021 - accuracy: 0.1494 - val_loss: 0.4516 - val_accuracy: 0.5492\n",
      "Epoch 2/10\n",
      "375/375 [==============================] - 3s 9ms/step - loss: 0.5380 - accuracy: 0.4754 - val_loss: 0.3320 - val_accuracy: 0.5792\n",
      "Epoch 3/10\n",
      "375/375 [==============================] - 3s 9ms/step - loss: 0.4786 - accuracy: 0.5010 - val_loss: 0.3304 - val_accuracy: 0.5893\n",
      "Epoch 4/10\n",
      "375/375 [==============================] - 4s 9ms/step - loss: 0.4539 - accuracy: 0.5053 - val_loss: 0.2985 - val_accuracy: 0.6077\n",
      "Epoch 5/10\n",
      "375/375 [==============================] - 3s 8ms/step - loss: 0.4321 - accuracy: 0.5229 - val_loss: 0.2692 - val_accuracy: 0.6080\n",
      "Epoch 6/10\n",
      "375/375 [==============================] - 3s 9ms/step - loss: 0.4216 - accuracy: 0.5294 - val_loss: 0.2625 - val_accuracy: 0.6180\n",
      "Epoch 7/10\n",
      "375/375 [==============================] - 4s 10ms/step - loss: 0.4082 - accuracy: 0.5327 - val_loss: 0.2816 - val_accuracy: 0.6176\n",
      "Epoch 8/10\n"
     ]
    },
    {
     "name": "stdout",
     "output_type": "stream",
     "text": [
      "375/375 [==============================] - 4s 11ms/step - loss: 0.4086 - accuracy: 0.5289 - val_loss: 0.2659 - val_accuracy: 0.6168\n",
      "Epoch 9/10\n",
      "375/375 [==============================] - 4s 10ms/step - loss: 0.4015 - accuracy: 0.5283 - val_loss: 0.2693 - val_accuracy: 0.6237\n",
      "Epoch 10/10\n",
      "375/375 [==============================] - 4s 10ms/step - loss: 0.3958 - accuracy: 0.5339 - val_loss: 0.2533 - val_accuracy: 0.6208\n",
      "Epoch 1/10\n",
      "375/375 [==============================] - 4s 9ms/step - loss: 1.1783 - accuracy: 0.0729 - val_loss: 0.4057 - val_accuracy: 0.3008\n",
      "Epoch 2/10\n",
      "375/375 [==============================] - 4s 10ms/step - loss: 0.5352 - accuracy: 0.2567 - val_loss: 0.3298 - val_accuracy: 0.3991\n",
      "Epoch 3/10\n",
      "375/375 [==============================] - 4s 10ms/step - loss: 0.4630 - accuracy: 0.3252 - val_loss: 0.3169 - val_accuracy: 0.4369\n",
      "Epoch 4/10\n",
      "375/375 [==============================] - 4s 10ms/step - loss: 0.4302 - accuracy: 0.3486 - val_loss: 0.2866 - val_accuracy: 0.4456\n",
      "Epoch 5/10\n",
      "375/375 [==============================] - 4s 10ms/step - loss: 0.4156 - accuracy: 0.3552 - val_loss: 0.2888 - val_accuracy: 0.4431\n",
      "Epoch 6/10\n",
      "375/375 [==============================] - 4s 10ms/step - loss: 0.4063 - accuracy: 0.3636 - val_loss: 0.2533 - val_accuracy: 0.4409\n",
      "Epoch 7/10\n",
      "375/375 [==============================] - 4s 10ms/step - loss: 0.4021 - accuracy: 0.3744 - val_loss: 0.2813 - val_accuracy: 0.4413\n",
      "Epoch 8/10\n",
      "375/375 [==============================] - 4s 10ms/step - loss: 0.3977 - accuracy: 0.3738 - val_loss: 0.2756 - val_accuracy: 0.4449\n",
      "Epoch 9/10\n",
      "375/375 [==============================] - 4s 10ms/step - loss: 0.3961 - accuracy: 0.3725 - val_loss: 0.2724 - val_accuracy: 0.4467\n",
      "Epoch 10/10\n",
      "375/375 [==============================] - 4s 10ms/step - loss: 0.3981 - accuracy: 0.3697 - val_loss: 0.2450 - val_accuracy: 0.4433\n",
      "Epoch 1/10\n",
      "375/375 [==============================] - 4s 9ms/step - loss: 1.1990 - accuracy: 0.1013 - val_loss: 0.4438 - val_accuracy: 0.3575\n",
      "Epoch 2/10\n",
      "375/375 [==============================] - 4s 10ms/step - loss: 0.5269 - accuracy: 0.3018 - val_loss: 0.3287 - val_accuracy: 0.4461\n",
      "Epoch 3/10\n",
      "375/375 [==============================] - 4s 10ms/step - loss: 0.4505 - accuracy: 0.3561 - val_loss: 0.2893 - val_accuracy: 0.4605\n",
      "Epoch 4/10\n",
      "375/375 [==============================] - 3s 9ms/step - loss: 0.4284 - accuracy: 0.3725 - val_loss: 0.2637 - val_accuracy: 0.4616\n",
      "Epoch 5/10\n",
      "375/375 [==============================] - 3s 7ms/step - loss: 0.4136 - accuracy: 0.3827 - val_loss: 0.2787 - val_accuracy: 0.4841\n",
      "Epoch 6/10\n",
      "375/375 [==============================] - 3s 9ms/step - loss: 0.4039 - accuracy: 0.3897 - val_loss: 0.2724 - val_accuracy: 0.4543\n",
      "Epoch 7/10\n",
      "375/375 [==============================] - 4s 10ms/step - loss: 0.3982 - accuracy: 0.3821 - val_loss: 0.2550 - val_accuracy: 0.4618\n",
      "Epoch 8/10\n",
      "375/375 [==============================] - 4s 10ms/step - loss: 0.3973 - accuracy: 0.3828 - val_loss: 0.2377 - val_accuracy: 0.4479\n",
      "Epoch 9/10\n",
      "375/375 [==============================] - 4s 10ms/step - loss: 0.3948 - accuracy: 0.3870 - val_loss: 0.2635 - val_accuracy: 0.4575\n",
      "Epoch 10/10\n",
      "375/375 [==============================] - 4s 10ms/step - loss: 0.3893 - accuracy: 0.3850 - val_loss: 0.2467 - val_accuracy: 0.4526\n"
     ]
    },
    {
     "data": {
      "text/plain": [
       "<tensorflow.python.keras.callbacks.History at 0x7f678fc25978>"
      ]
     },
     "execution_count": 9,
     "metadata": {},
     "output_type": "execute_result"
    }
   ],
   "source": [
    "batch_size = 128\n",
    "s1.fit([X_train], s1Train,\n",
    "          batch_size=batch_size,\n",
    "          epochs=10,\n",
    "          verbose=1, validation_data=([X_val], s1Val))\n",
    "\n",
    "s2.fit([X_train], s2Train,\n",
    "          batch_size=batch_size,\n",
    "          epochs=10,\n",
    "          verbose=1, validation_data=([X_val], s2Val))\n",
    "\n",
    "s3.fit([X_train], s3Train,\n",
    "          batch_size=batch_size,\n",
    "          epochs=10,\n",
    "          verbose=1, validation_data=([X_val], s3Val))\n",
    "\n",
    "s4.fit([X_train], s4Train,\n",
    "          batch_size=batch_size,\n",
    "          epochs=10,\n",
    "          verbose=1, validation_data=([X_val], s4Val))\n",
    "\n",
    "s5.fit([X_train], s5Train,\n",
    "          batch_size=batch_size,\n",
    "          epochs=10,\n",
    "          verbose=1, validation_data=([X_val], s5Val))\n",
    "\n",
    "s6.fit([X_train], s6Train,\n",
    "          batch_size=batch_size,\n",
    "          epochs=10,\n",
    "          verbose=1, validation_data=([X_val], s6Val))\n",
    "\n",
    "s7.fit([X_train], s7Train,\n",
    "          batch_size=batch_size,\n",
    "          epochs=10,\n",
    "          verbose=1, validation_data=([X_val], s7Val))\n",
    "\n",
    "s8.fit([X_train], s8Train,\n",
    "          batch_size=batch_size,\n",
    "          epochs=10,\n",
    "          verbose=1, validation_data=([X_val], s8Val))"
   ]
  },
  {
   "cell_type": "markdown",
   "metadata": {
    "id": "xjs7E3GpUcVs"
   },
   "source": [
    "### **8 Students**"
   ]
  },
  {
   "cell_type": "code",
   "execution_count": 10,
   "metadata": {
    "id": "Zy44O0FFNo7w"
   },
   "outputs": [
    {
     "name": "stdout",
     "output_type": "stream",
     "text": [
      "(None, 256)\n"
     ]
    }
   ],
   "source": [
    "o1=s1.get_layer(\"reqs1\").output\n",
    "o2=s2.get_layer(\"reqs2\").output\n",
    "o3=s3.get_layer(\"reqs3\").output\n",
    "o4=s4.get_layer(\"reqs4\").output\n",
    "\n",
    "o5=s5.get_layer(\"reqs5\").output\n",
    "o6=s6.get_layer(\"reqs6\").output\n",
    "o7=s7.get_layer(\"reqs7\").output\n",
    "o8=s8.get_layer(\"reqs8\").output\n",
    "\n",
    "output=tensorflow.keras.layers.concatenate([o1,o2,o3,o4, o5,o6,o7,o8])\n",
    "print (output.shape)\n",
    "output=Activation('relu')(output)\n",
    "output2=Dropout(0.3)(output) # For reguralization\n",
    "output3=Dense(10, activation=\"softmax\", name=\"d1\")(output2)\n",
    "multi_model=Model([s1.get_layer(\"s1\").input,s2.get_layer(\"s2\").input,s3.get_layer(\"s3\").input,s4.get_layer(\"s4\").input,\n",
    "                  s5.get_layer(\"s5\").input, s6.get_layer(\"s6\").input,s7.get_layer(\"s7\").input,s8.get_layer(\"s8\").input],output3)\n",
    "my_weights=teacher.get_layer('dense_2').get_weights()\n",
    "multi_model.get_layer(\"d1\").set_weights(my_weights)"
   ]
  },
  {
   "cell_type": "code",
   "execution_count": 11,
   "metadata": {
    "id": "4nQy3rQLNo73"
   },
   "outputs": [],
   "source": [
    "for l in multi_model.layers[:len(multi_model.layers)-1]:\n",
    "    l.trainable=False"
   ]
  },
  {
   "cell_type": "code",
   "execution_count": 12,
   "metadata": {
    "id": "qrlNsqfMNo71"
   },
   "outputs": [],
   "source": [
    "multi_model.compile(loss='categorical_crossentropy',\n",
    "            optimizer='nadam',\n",
    "            metrics=['accuracy'])"
   ]
  },
  {
   "cell_type": "code",
   "execution_count": 13,
   "metadata": {
    "id": "PY8jzu06No74",
    "scrolled": true
   },
   "outputs": [
    {
     "name": "stdout",
     "output_type": "stream",
     "text": [
      "Epoch 1/10\n",
      "375/375 [==============================] - 6s 12ms/step - loss: 0.4945 - accuracy: 0.8319 - val_loss: 0.3650 - val_accuracy: 0.8666\n",
      "Epoch 2/10\n",
      "375/375 [==============================] - 5s 12ms/step - loss: 0.4394 - accuracy: 0.8390 - val_loss: 0.3481 - val_accuracy: 0.8685\n",
      "Epoch 3/10\n",
      "375/375 [==============================] - 4s 11ms/step - loss: 0.4244 - accuracy: 0.8390 - val_loss: 0.3414 - val_accuracy: 0.8707\n",
      "Epoch 4/10\n",
      "375/375 [==============================] - 5s 12ms/step - loss: 0.4202 - accuracy: 0.8418 - val_loss: 0.3403 - val_accuracy: 0.8707\n",
      "Epoch 5/10\n",
      "375/375 [==============================] - 5s 12ms/step - loss: 0.4112 - accuracy: 0.8468 - val_loss: 0.3408 - val_accuracy: 0.8712\n",
      "Epoch 6/10\n",
      "375/375 [==============================] - 4s 11ms/step - loss: 0.4037 - accuracy: 0.8482 - val_loss: 0.3373 - val_accuracy: 0.8727\n",
      "Epoch 7/10\n",
      "375/375 [==============================] - 4s 12ms/step - loss: 0.4098 - accuracy: 0.8423 - val_loss: 0.3377 - val_accuracy: 0.8730\n",
      "Epoch 8/10\n",
      "375/375 [==============================] - 4s 12ms/step - loss: 0.4176 - accuracy: 0.8414 - val_loss: 0.3381 - val_accuracy: 0.8736\n",
      "Epoch 9/10\n",
      "375/375 [==============================] - 5s 13ms/step - loss: 0.4050 - accuracy: 0.8456 - val_loss: 0.3418 - val_accuracy: 0.8728\n",
      "Epoch 10/10\n",
      "375/375 [==============================] - 4s 11ms/step - loss: 0.4073 - accuracy: 0.8480 - val_loss: 0.3390 - val_accuracy: 0.8719\n"
     ]
    }
   ],
   "source": [
    "batch_size = 128\n",
    "mm_history=multi_model.fit([X_train,X_train,X_train,X_train,X_train,X_train,X_train,X_train], Y_train,\n",
    "          batch_size=batch_size,\n",
    "          epochs=10,\n",
    "          verbose=1, validation_data=([X_val, X_val, X_val, X_val,X_val, X_val, X_val, X_val], Y_val))"
   ]
  },
  {
   "cell_type": "code",
   "execution_count": 14,
   "metadata": {
    "id": "e_b2fM7yNo76"
   },
   "outputs": [
    {
     "name": "stdout",
     "output_type": "stream",
     "text": [
      "313/313 [==============================] - 6s 18ms/step - loss: 0.3670 - accuracy: 0.8615\n"
     ]
    },
    {
     "data": {
      "text/plain": [
       "(0.3670448362827301, 0.8615000247955322)"
      ]
     },
     "execution_count": 14,
     "metadata": {},
     "output_type": "execute_result"
    }
   ],
   "source": [
    "loss, acc = multi_model.evaluate([X_test,X_test,X_test,X_test,X_test,X_test,X_test,X_test],Y_test)\n",
    "loss, acc"
   ]
  },
  {
   "cell_type": "code",
   "execution_count": null,
   "metadata": {},
   "outputs": [],
   "source": []
  }
 ],
 "metadata": {
  "accelerator": "GPU",
  "colab": {
   "collapsed_sections": [],
   "name": "[1,2,4,8] Students Configurations on FashionMNIST using GANs.ipynb",
   "provenance": [
    {
     "file_id": "1xZFzUDe8M-ikd-rsFrmtDLECCWSq3dzF",
     "timestamp": 1613663948275
    }
   ]
  },
  "kernelspec": {
   "display_name": "Python 3",
   "language": "python",
   "name": "python3"
  },
  "language_info": {
   "codemirror_mode": {
    "name": "ipython",
    "version": 3
   },
   "file_extension": ".py",
   "mimetype": "text/x-python",
   "name": "python",
   "nbconvert_exporter": "python",
   "pygments_lexer": "ipython3",
   "version": "3.6.9"
  }
 },
 "nbformat": 4,
 "nbformat_minor": 1
}
