{
 "cells": [
  {
   "cell_type": "markdown",
   "metadata": {
    "id": "XcYlxyy2dj0s"
   },
   "source": [
    "# Distilling Knowledge in Multiple Students Using Generative Models"
   ]
  },
  {
   "cell_type": "code",
   "execution_count": 1,
   "metadata": {
    "id": "ce2GSoOKWFKP"
   },
   "outputs": [],
   "source": [
    "# %tensorflow_version 1.x\n",
    "# !pip install --upgrade opencv-python==3.4.2.17\n",
    "import numpy as np\n",
    "import tensorflow as tf\n",
    "import tensorflow.keras\n",
    "import tensorflow.keras.backend as K\n",
    "# import os\n",
    "from tensorflow.keras.datasets import fashion_mnist,mnist,cifar10\n",
    "# import keras.backend as K\n",
    "from tensorflow.keras.layers import Conv2D,Activation,BatchNormalization,UpSampling2D,Embedding,ZeroPadding2D, Input, Flatten, Dense, Reshape, LeakyReLU, Dropout,MaxPooling2D\n",
    "from tensorflow.keras.models import Sequential, Model\n",
    "from tensorflow.keras.optimizers import Adam, SGD, RMSprop\n",
    "from tensorflow.keras import regularizers\n",
    "\n",
    "from tensorflow.keras.utils import Progbar\n",
    "from keras.initializers import RandomNormal\n",
    "import random\n",
    "from sklearn.model_selection import train_test_split\n",
    "# from keras.utils import np_utils\n",
    "from tensorflow.keras import utils as np_utils\n",
    "\n"
   ]
  },
  {
   "cell_type": "code",
   "execution_count": 2,
   "metadata": {
    "colab": {
     "base_uri": "https://localhost:8080/"
    },
    "executionInfo": {
     "elapsed": 21258,
     "status": "ok",
     "timestamp": 1613835780197,
     "user": {
      "displayName": "Musab R.",
      "photoUrl": "https://lh3.googleusercontent.com/a-/AOh14Ggo6kK28_a_Swx27ReDE7W6SlcMcsOsRyiTC_xFvA=s64",
      "userId": "11675938905762231877"
     },
     "user_tz": -300
    },
    "id": "lyIJv1WRNo7G",
    "outputId": "feb02b96-e14b-4e57-cc3a-7561223cdef6",
    "scrolled": true
   },
   "outputs": [
    {
     "name": "stdout",
     "output_type": "stream",
     "text": [
      "Model: \"sequential\"\n",
      "_________________________________________________________________\n",
      "Layer (type)                 Output Shape              Param #   \n",
      "=================================================================\n",
      "conv2d (Conv2D)              (None, 26, 26, 32)        320       \n",
      "_________________________________________________________________\n",
      "conv2d_1 (Conv2D)            (None, 24, 24, 64)        18496     \n",
      "_________________________________________________________________\n",
      "max_pooling2d (MaxPooling2D) (None, 12, 12, 64)        0         \n",
      "_________________________________________________________________\n",
      "dropout (Dropout)            (None, 12, 12, 64)        0         \n",
      "_________________________________________________________________\n",
      "flatten (Flatten)            (None, 9216)              0         \n",
      "_________________________________________________________________\n",
      "dense (Dense)                (None, 256)               2359552   \n",
      "_________________________________________________________________\n",
      "dense_1 (Dense)              (None, 256)               65792     \n",
      "_________________________________________________________________\n",
      "dropout_1 (Dropout)          (None, 256)               0         \n",
      "_________________________________________________________________\n",
      "dense_2 (Dense)              (None, 10)                2570      \n",
      "_________________________________________________________________\n",
      "activation (Activation)      (None, 10)                0         \n",
      "=================================================================\n",
      "Total params: 2,446,730\n",
      "Trainable params: 2,446,730\n",
      "Non-trainable params: 0\n",
      "_________________________________________________________________\n",
      "None\n"
     ]
    }
   ],
   "source": [
    "#Loading and splitting the dataset into train, validation and test\n",
    "nb_classes = 10\n",
    "\n",
    "(X_Train, y_Train), (X_test, y_test) = fashion_mnist.load_data()\n",
    "X_train, X_val, y_train, y_val = train_test_split(X_Train, y_Train, test_size=0.20)\n",
    "# convert y_train and y_test to categorical binary values \n",
    "Y_train = np_utils.to_categorical(y_train, nb_classes)\n",
    "Y_val = np_utils.to_categorical(y_val, nb_classes)\n",
    "\n",
    "X_train = X_train.reshape(48000, 28, 28, 1)\n",
    "X_val = X_val.reshape(12000, 28, 28, 1)\n",
    "\n",
    "X_train = X_train.astype('float32')\n",
    "X_val = X_val.astype('float32')\n",
    "\n",
    "# Normalize the values\n",
    "X_train /= 255\n",
    "X_val /= 255\n",
    "\n",
    "\n",
    "#Creating a teacher network\n",
    "input_shape = (28, 28, 1) # Input shape of each image\n",
    "\n",
    "teacher = Sequential()\n",
    "teacher.add(Conv2D(32, kernel_size=(3, 3),\n",
    "                 activation='relu',\n",
    "                 input_shape=input_shape))\n",
    "teacher.add(Conv2D(64, (3, 3), activation='relu'))\n",
    "teacher.add(MaxPooling2D(pool_size=(2, 2)))\n",
    "\n",
    "teacher.add(Dropout(0.25)) # For reguralization\n",
    "\n",
    "teacher.add(Flatten())\n",
    "teacher.add(Dense(256, activation='relu'))\n",
    "teacher.add(Dense(256, activation='relu', name=\"dense_1\"))\n",
    "\n",
    "teacher.add(Dropout(0.5)) # For reguralization\n",
    "\n",
    "teacher.add(Dense(nb_classes, name = 'dense_2'))\n",
    "teacher.add(Activation('softmax')) # Note that we add a normal softmax layer to begin with\n",
    "\n",
    "teacher.compile(loss='categorical_crossentropy',\n",
    "              optimizer='adam',\n",
    "              metrics=['accuracy'])\n",
    "\n",
    "print(teacher.summary())"
   ]
  },
  {
   "cell_type": "code",
   "execution_count": 3,
   "metadata": {},
   "outputs": [
    {
     "name": "stdout",
     "output_type": "stream",
     "text": [
      "Epoch 1/20\n",
      "188/188 [==============================] - 4s 11ms/step - loss: 0.8719 - accuracy: 0.6807 - val_loss: 0.3312 - val_accuracy: 0.8777\n",
      "Epoch 2/20\n",
      "188/188 [==============================] - 2s 10ms/step - loss: 0.3500 - accuracy: 0.8756 - val_loss: 0.3218 - val_accuracy: 0.8813\n",
      "Epoch 3/20\n",
      "188/188 [==============================] - 2s 11ms/step - loss: 0.2820 - accuracy: 0.8993 - val_loss: 0.2854 - val_accuracy: 0.8932\n",
      "Epoch 4/20\n",
      "188/188 [==============================] - 2s 11ms/step - loss: 0.2463 - accuracy: 0.9121 - val_loss: 0.2439 - val_accuracy: 0.9113\n",
      "Epoch 5/20\n",
      "188/188 [==============================] - 2s 9ms/step - loss: 0.2072 - accuracy: 0.9225 - val_loss: 0.2246 - val_accuracy: 0.9153\n",
      "Epoch 6/20\n",
      "188/188 [==============================] - 2s 9ms/step - loss: 0.1813 - accuracy: 0.9339 - val_loss: 0.2160 - val_accuracy: 0.9222\n",
      "Epoch 7/20\n",
      "188/188 [==============================] - 2s 9ms/step - loss: 0.1549 - accuracy: 0.9427 - val_loss: 0.2151 - val_accuracy: 0.9221\n",
      "Epoch 8/20\n",
      "188/188 [==============================] - 2s 10ms/step - loss: 0.1369 - accuracy: 0.9496 - val_loss: 0.2218 - val_accuracy: 0.9224\n",
      "Epoch 9/20\n",
      "188/188 [==============================] - 2s 10ms/step - loss: 0.1189 - accuracy: 0.9570 - val_loss: 0.2263 - val_accuracy: 0.9224\n",
      "Epoch 10/20\n",
      "188/188 [==============================] - 2s 10ms/step - loss: 0.1021 - accuracy: 0.9618 - val_loss: 0.2332 - val_accuracy: 0.9236\n",
      "Epoch 11/20\n",
      "188/188 [==============================] - 2s 9ms/step - loss: 0.0876 - accuracy: 0.9676 - val_loss: 0.2271 - val_accuracy: 0.9303\n",
      "Epoch 12/20\n",
      "188/188 [==============================] - 2s 10ms/step - loss: 0.0734 - accuracy: 0.9729 - val_loss: 0.2396 - val_accuracy: 0.9278\n",
      "Epoch 13/20\n",
      "188/188 [==============================] - 2s 10ms/step - loss: 0.0717 - accuracy: 0.9742 - val_loss: 0.2428 - val_accuracy: 0.9287\n",
      "Epoch 14/20\n",
      "188/188 [==============================] - 2s 10ms/step - loss: 0.0552 - accuracy: 0.9808 - val_loss: 0.2643 - val_accuracy: 0.9265\n",
      "Epoch 15/20\n",
      "188/188 [==============================] - 2s 10ms/step - loss: 0.0513 - accuracy: 0.9811 - val_loss: 0.2862 - val_accuracy: 0.9245\n",
      "Epoch 16/20\n",
      "188/188 [==============================] - 2s 10ms/step - loss: 0.0485 - accuracy: 0.9816 - val_loss: 0.2827 - val_accuracy: 0.9268\n",
      "Epoch 17/20\n",
      "188/188 [==============================] - 2s 9ms/step - loss: 0.0356 - accuracy: 0.9866 - val_loss: 0.2978 - val_accuracy: 0.9256\n",
      "Epoch 18/20\n",
      "188/188 [==============================] - 2s 10ms/step - loss: 0.0345 - accuracy: 0.9874 - val_loss: 0.3076 - val_accuracy: 0.9272\n",
      "Epoch 19/20\n",
      "188/188 [==============================] - 2s 10ms/step - loss: 0.0291 - accuracy: 0.9898 - val_loss: 0.3146 - val_accuracy: 0.9265\n",
      "Epoch 20/20\n",
      "188/188 [==============================] - 2s 9ms/step - loss: 0.0282 - accuracy: 0.9904 - val_loss: 0.3125 - val_accuracy: 0.9283\n"
     ]
    },
    {
     "data": {
      "text/plain": [
       "<tensorflow.python.keras.callbacks.History at 0x7fae701652e8>"
      ]
     },
     "execution_count": 3,
     "metadata": {},
     "output_type": "execute_result"
    }
   ],
   "source": [
    "# Train the teacher model as usual\n",
    "epochs = 20\n",
    "batch_size = 256\n",
    "teacher.fit(X_train, Y_train,\n",
    "          batch_size=batch_size,\n",
    "          epochs=epochs,\n",
    "          verbose=1,\n",
    "          validation_data=(X_val, Y_val))\n"
   ]
  },
  {
   "cell_type": "code",
   "execution_count": 3,
   "metadata": {},
   "outputs": [],
   "source": [
    "teacher.load_weights(\"Teacher_FMNIST_92.h5\")"
   ]
  },
  {
   "cell_type": "code",
   "execution_count": 4,
   "metadata": {
    "colab": {
     "base_uri": "https://localhost:8080/"
    },
    "executionInfo": {
     "elapsed": 1274,
     "status": "ok",
     "timestamp": 1613838372449,
     "user": {
      "displayName": "Musab R.",
      "photoUrl": "https://lh3.googleusercontent.com/a-/AOh14Ggo6kK28_a_Swx27ReDE7W6SlcMcsOsRyiTC_xFvA=s64",
      "userId": "11675938905762231877"
     },
     "user_tz": -300
    },
    "id": "EoLx2I_dNo7N",
    "outputId": "8b734d09-b493-471c-9319-6db08429be32"
   },
   "outputs": [
    {
     "name": "stdout",
     "output_type": "stream",
     "text": [
      "313/313 [==============================] - 2s 2ms/step - loss: 0.3734 - accuracy: 0.9195\n"
     ]
    },
    {
     "data": {
      "text/plain": [
       "[0.351641982793808, 0.9239000082015991]"
      ]
     },
     "execution_count": 4,
     "metadata": {},
     "output_type": "execute_result"
    }
   ],
   "source": [
    "Y_test = np_utils.to_categorical(y_test, nb_classes)\n",
    "X_test = X_test.reshape(10000, 28, 28, 1)\n",
    "X_test = X_test.astype('float32')\n",
    "X_test /= 255\n",
    "\n",
    "\n",
    "teacher.evaluate(X_test,Y_test)"
   ]
  },
  {
   "cell_type": "code",
   "execution_count": null,
   "metadata": {},
   "outputs": [],
   "source": []
  },
  {
   "cell_type": "code",
   "execution_count": 5,
   "metadata": {
    "id": "eIlRbRObW-kc"
   },
   "outputs": [],
   "source": [
    "teacher_WO_Softmax = Model(teacher.input, teacher.get_layer('dense_1').output)\n",
    "train_dense = teacher_WO_Softmax.predict(X_train)\n",
    "val_dense = teacher_WO_Softmax.predict(X_val)\n",
    "\n",
    "\n",
    "# 2 Students case\n",
    "# ---------------------------------------------\n",
    "s1Train=train_dense[:,:128]\n",
    "s2Train=train_dense[:,128:]\n",
    "\n",
    "s1Val=val_dense[:,:128]\n",
    "s2Val=val_dense[:,128:]\n"
   ]
  },
  {
   "cell_type": "code",
   "execution_count": 7,
   "metadata": {
    "id": "ElnQTkvSXE7h"
   },
   "outputs": [],
   "source": [
    "def define_model(name):\n",
    "\n",
    "    student1 = Sequential()\n",
    "    student1.add(Conv2D(32, kernel_size=(3, 3),activation='relu',input_shape=(28, 28, 1),kernel_initializer='normal', name=name))\n",
    "    student1.add(Conv2D(32, (3, 3), activation='relu',kernel_initializer='normal'))\n",
    "    student1.add(MaxPooling2D(pool_size=(2, 2)))\n",
    "\n",
    "    student1.add(Conv2D(16, kernel_size=(3, 3),activation='relu',kernel_initializer='normal'))\n",
    "    student1.add(Conv2D(16, (3, 3), activation='relu',kernel_initializer='normal'))\n",
    "    student1.add(MaxPooling2D(pool_size=(2, 2)))\n",
    "\n",
    "    student1.add(Dropout(0.25)) # For reguralization\n",
    "    student1.add(Flatten())\n",
    "    student1.add(Dense(16, activation='relu'))\n",
    "    student1.add(Dropout(0.3))\n",
    "    student1.add(Dense(128,name='req'+name))\n",
    "    student1.compile('adam',loss='mse',metrics=['accuracy'])\n",
    "    student1.summary()\n",
    "    return student1\n",
    "\n"
   ]
  },
  {
   "cell_type": "code",
   "execution_count": 8,
   "metadata": {
    "id": "MomgOJRaNo7l",
    "scrolled": true
   },
   "outputs": [
    {
     "name": "stdout",
     "output_type": "stream",
     "text": [
      "Model: \"sequential_1\"\n",
      "_________________________________________________________________\n",
      "Layer (type)                 Output Shape              Param #   \n",
      "=================================================================\n",
      "s1 (Conv2D)                  (None, 26, 26, 32)        320       \n",
      "_________________________________________________________________\n",
      "conv2d_2 (Conv2D)            (None, 24, 24, 32)        9248      \n",
      "_________________________________________________________________\n",
      "max_pooling2d_1 (MaxPooling2 (None, 12, 12, 32)        0         \n",
      "_________________________________________________________________\n",
      "conv2d_3 (Conv2D)            (None, 10, 10, 16)        4624      \n",
      "_________________________________________________________________\n",
      "conv2d_4 (Conv2D)            (None, 8, 8, 16)          2320      \n",
      "_________________________________________________________________\n",
      "max_pooling2d_2 (MaxPooling2 (None, 4, 4, 16)          0         \n",
      "_________________________________________________________________\n",
      "dropout_2 (Dropout)          (None, 4, 4, 16)          0         \n",
      "_________________________________________________________________\n",
      "flatten_1 (Flatten)          (None, 256)               0         \n",
      "_________________________________________________________________\n",
      "dense_1 (Dense)              (None, 16)                4112      \n",
      "_________________________________________________________________\n",
      "dropout_3 (Dropout)          (None, 16)                0         \n",
      "_________________________________________________________________\n",
      "reqs1 (Dense)                (None, 128)               2176      \n",
      "=================================================================\n",
      "Total params: 22,800\n",
      "Trainable params: 22,800\n",
      "Non-trainable params: 0\n",
      "_________________________________________________________________\n",
      "Model: \"sequential_2\"\n",
      "_________________________________________________________________\n",
      "Layer (type)                 Output Shape              Param #   \n",
      "=================================================================\n",
      "s2 (Conv2D)                  (None, 26, 26, 32)        320       \n",
      "_________________________________________________________________\n",
      "conv2d_5 (Conv2D)            (None, 24, 24, 32)        9248      \n",
      "_________________________________________________________________\n",
      "max_pooling2d_3 (MaxPooling2 (None, 12, 12, 32)        0         \n",
      "_________________________________________________________________\n",
      "conv2d_6 (Conv2D)            (None, 10, 10, 16)        4624      \n",
      "_________________________________________________________________\n",
      "conv2d_7 (Conv2D)            (None, 8, 8, 16)          2320      \n",
      "_________________________________________________________________\n",
      "max_pooling2d_4 (MaxPooling2 (None, 4, 4, 16)          0         \n",
      "_________________________________________________________________\n",
      "dropout_4 (Dropout)          (None, 4, 4, 16)          0         \n",
      "_________________________________________________________________\n",
      "flatten_2 (Flatten)          (None, 256)               0         \n",
      "_________________________________________________________________\n",
      "dense_2 (Dense)              (None, 16)                4112      \n",
      "_________________________________________________________________\n",
      "dropout_5 (Dropout)          (None, 16)                0         \n",
      "_________________________________________________________________\n",
      "reqs2 (Dense)                (None, 128)               2176      \n",
      "=================================================================\n",
      "Total params: 22,800\n",
      "Trainable params: 22,800\n",
      "Non-trainable params: 0\n",
      "_________________________________________________________________\n"
     ]
    }
   ],
   "source": [
    "s1=define_model(\"s1\")\n",
    "s2=define_model('s2')"
   ]
  },
  {
   "cell_type": "code",
   "execution_count": 9,
   "metadata": {
    "colab": {
     "base_uri": "https://localhost:8080/"
    },
    "executionInfo": {
     "elapsed": 3406661,
     "status": "ok",
     "timestamp": 1613848509655,
     "user": {
      "displayName": "Musab R.",
      "photoUrl": "https://lh3.googleusercontent.com/a-/AOh14Ggo6kK28_a_Swx27ReDE7W6SlcMcsOsRyiTC_xFvA=s64",
      "userId": "11675938905762231877"
     },
     "user_tz": -300
    },
    "id": "e8wjg4vrNo7l",
    "outputId": "fd9f9112-3240-49ba-81f6-1eb97888c056"
   },
   "outputs": [
    {
     "name": "stdout",
     "output_type": "stream",
     "text": [
      "Epoch 1/10\n",
      "375/375 [==============================] - 4s 9ms/step - loss: 1.0604 - accuracy: 0.0659 - val_loss: 0.4026 - val_accuracy: 0.3204\n",
      "Epoch 2/10\n",
      "375/375 [==============================] - 3s 8ms/step - loss: 0.5122 - accuracy: 0.2885 - val_loss: 0.3108 - val_accuracy: 0.3848\n",
      "Epoch 3/10\n",
      "375/375 [==============================] - 4s 10ms/step - loss: 0.4497 - accuracy: 0.3208 - val_loss: 0.3183 - val_accuracy: 0.4047\n",
      "Epoch 4/10\n",
      "375/375 [==============================] - 3s 7ms/step - loss: 0.4229 - accuracy: 0.3311 - val_loss: 0.2797 - val_accuracy: 0.4116\n",
      "Epoch 5/10\n",
      "375/375 [==============================] - 2s 5ms/step - loss: 0.4045 - accuracy: 0.3433 - val_loss: 0.3041 - val_accuracy: 0.4099\n",
      "Epoch 6/10\n",
      "375/375 [==============================] - 3s 9ms/step - loss: 0.3983 - accuracy: 0.3447 - val_loss: 0.2620 - val_accuracy: 0.4108\n",
      "Epoch 7/10\n",
      "375/375 [==============================] - 3s 8ms/step - loss: 0.3884 - accuracy: 0.3574 - val_loss: 0.2488 - val_accuracy: 0.4195\n",
      "Epoch 8/10\n",
      "375/375 [==============================] - 3s 8ms/step - loss: 0.3799 - accuracy: 0.3610 - val_loss: 0.2530 - val_accuracy: 0.4180\n",
      "Epoch 9/10\n",
      "375/375 [==============================] - 3s 8ms/step - loss: 0.3797 - accuracy: 0.3616 - val_loss: 0.2516 - val_accuracy: 0.4193\n",
      "Epoch 10/10\n",
      "375/375 [==============================] - 4s 10ms/step - loss: 0.3797 - accuracy: 0.3609 - val_loss: 0.2457 - val_accuracy: 0.4114\n",
      "Epoch 1/10\n",
      "375/375 [==============================] - 3s 8ms/step - loss: 1.2030 - accuracy: 0.0556 - val_loss: 0.4614 - val_accuracy: 0.2732\n",
      "Epoch 2/10\n",
      "375/375 [==============================] - 4s 10ms/step - loss: 0.5351 - accuracy: 0.2574 - val_loss: 0.3045 - val_accuracy: 0.3312\n",
      "Epoch 3/10\n",
      "375/375 [==============================] - 4s 10ms/step - loss: 0.4640 - accuracy: 0.2872 - val_loss: 0.2909 - val_accuracy: 0.3276\n",
      "Epoch 4/10\n",
      "375/375 [==============================] - 4s 10ms/step - loss: 0.4430 - accuracy: 0.2941 - val_loss: 0.2897 - val_accuracy: 0.3354\n",
      "Epoch 5/10\n",
      "375/375 [==============================] - 4s 10ms/step - loss: 0.4184 - accuracy: 0.3016 - val_loss: 0.2863 - val_accuracy: 0.3345\n",
      "Epoch 6/10\n",
      "375/375 [==============================] - 2s 6ms/step - loss: 0.4156 - accuracy: 0.3062 - val_loss: 0.2841 - val_accuracy: 0.3385\n",
      "Epoch 7/10\n",
      "375/375 [==============================] - 1s 3ms/step - loss: 0.4152 - accuracy: 0.3012 - val_loss: 0.2757 - val_accuracy: 0.3333\n",
      "Epoch 8/10\n",
      "375/375 [==============================] - 2s 6ms/step - loss: 0.4072 - accuracy: 0.3035 - val_loss: 0.2643 - val_accuracy: 0.3393\n",
      "Epoch 9/10\n",
      "375/375 [==============================] - 4s 10ms/step - loss: 0.4104 - accuracy: 0.3004 - val_loss: 0.2677 - val_accuracy: 0.3355\n",
      "Epoch 10/10\n",
      "375/375 [==============================] - 3s 8ms/step - loss: 0.4057 - accuracy: 0.3003 - val_loss: 0.2736 - val_accuracy: 0.3356\n"
     ]
    },
    {
     "data": {
      "text/plain": [
       "<tensorflow.python.keras.callbacks.History at 0x7f51209dce80>"
      ]
     },
     "execution_count": 9,
     "metadata": {},
     "output_type": "execute_result"
    }
   ],
   "source": [
    "batch_size = 128\n",
    "s1.fit([X_train],s1Train,\n",
    "          batch_size=batch_size,\n",
    "          epochs=10,\n",
    "          verbose=1, validation_data=([X_val], s1Val))\n",
    "\n",
    "s2.fit([X_train],s2Train,\n",
    "          batch_size=batch_size,\n",
    "          epochs=10,\n",
    "          verbose=1, validation_data=([X_val], s2Val))"
   ]
  },
  {
   "cell_type": "markdown",
   "metadata": {
    "id": "kpcbf1dkUWMY"
   },
   "source": [
    "### **2 Students**"
   ]
  },
  {
   "cell_type": "code",
   "execution_count": 10,
   "metadata": {
    "id": "ulPysC0YNo7v"
   },
   "outputs": [],
   "source": [
    "o1=s1.get_layer(\"reqs1\").output\n",
    "o2=s2.get_layer(\"reqs2\").output\n",
    "output=tensorflow.keras.layers.concatenate([o1,o2])\n",
    "\n",
    "output=Activation('relu')(output)\n",
    "output2=Dropout(0.5)(output) # For reguralization\n",
    "output3=Dense(10,activation=\"softmax\", name=\"d1\")(output2)\n",
    "\n",
    "mm2=Model([s1.get_layer(\"s1\").input,s2.get_layer(\"s2\").input], output3)\n",
    "my_weights=teacher.get_layer('dense_2').get_weights()\n",
    "mm2.get_layer('d1').set_weights(my_weights)"
   ]
  },
  {
   "cell_type": "code",
   "execution_count": 11,
   "metadata": {
    "id": "13uCl_ihNo7u"
   },
   "outputs": [],
   "source": [
    "for l in mm2.layers[:len(mm2.layers)-1]:\n",
    "    l.trainable=False\n",
    "\n",
    "mm2.compile(loss='categorical_crossentropy',\n",
    "              optimizer='adam',\n",
    "              metrics=['accuracy'])\n"
   ]
  },
  {
   "cell_type": "code",
   "execution_count": 12,
   "metadata": {
    "colab": {
     "base_uri": "https://localhost:8080/",
     "height": 532
    },
    "executionInfo": {
     "elapsed": 6184,
     "status": "error",
     "timestamp": 1613840036632,
     "user": {
      "displayName": "Musab R.",
      "photoUrl": "https://lh3.googleusercontent.com/a-/AOh14Ggo6kK28_a_Swx27ReDE7W6SlcMcsOsRyiTC_xFvA=s64",
      "userId": "11675938905762231877"
     },
     "user_tz": -300
    },
    "id": "zoQTqTzpNo7t",
    "outputId": "a1aacda4-a786-4cf9-f485-041c2757035f",
    "scrolled": true
   },
   "outputs": [
    {
     "name": "stdout",
     "output_type": "stream",
     "text": [
      "Epoch 1/30\n",
      "375/375 [==============================] - 2s 5ms/step - loss: 0.8066 - accuracy: 0.7410 - val_loss: 0.4641 - val_accuracy: 0.8145\n",
      "Epoch 2/30\n",
      "375/375 [==============================] - 3s 9ms/step - loss: 0.6623 - accuracy: 0.7456 - val_loss: 0.4590 - val_accuracy: 0.8112\n",
      "Epoch 3/30\n",
      "375/375 [==============================] - 4s 9ms/step - loss: 0.6214 - accuracy: 0.7553 - val_loss: 0.4596 - val_accuracy: 0.8083\n",
      "Epoch 4/30\n",
      "375/375 [==============================] - 4s 10ms/step - loss: 0.6019 - accuracy: 0.7611 - val_loss: 0.4608 - val_accuracy: 0.8158\n",
      "Epoch 5/30\n",
      "375/375 [==============================] - 2s 6ms/step - loss: 0.6007 - accuracy: 0.7629 - val_loss: 0.4573 - val_accuracy: 0.8144\n",
      "Epoch 6/30\n",
      "375/375 [==============================] - 2s 6ms/step - loss: 0.5946 - accuracy: 0.7662 - val_loss: 0.4574 - val_accuracy: 0.8096\n",
      "Epoch 7/30\n",
      "375/375 [==============================] - 4s 11ms/step - loss: 0.5955 - accuracy: 0.7624 - val_loss: 0.4568 - val_accuracy: 0.8142\n",
      "Epoch 8/30\n",
      "375/375 [==============================] - 3s 8ms/step - loss: 0.5901 - accuracy: 0.7628 - val_loss: 0.4561 - val_accuracy: 0.8152\n",
      "Epoch 9/30\n",
      "375/375 [==============================] - 3s 9ms/step - loss: 0.5914 - accuracy: 0.7628 - val_loss: 0.4573 - val_accuracy: 0.8102\n",
      "Epoch 10/30\n",
      "375/375 [==============================] - 3s 9ms/step - loss: 0.5894 - accuracy: 0.7664 - val_loss: 0.4564 - val_accuracy: 0.8122\n",
      "Epoch 11/30\n",
      "375/375 [==============================] - 3s 9ms/step - loss: 0.5927 - accuracy: 0.7643 - val_loss: 0.4600 - val_accuracy: 0.8110\n",
      "Epoch 12/30\n",
      "375/375 [==============================] - 3s 7ms/step - loss: 0.5902 - accuracy: 0.7642 - val_loss: 0.4571 - val_accuracy: 0.8125\n",
      "Epoch 13/30\n",
      "375/375 [==============================] - 4s 11ms/step - loss: 0.5896 - accuracy: 0.7644 - val_loss: 0.4558 - val_accuracy: 0.8143\n",
      "Epoch 14/30\n",
      "375/375 [==============================] - 3s 8ms/step - loss: 0.5926 - accuracy: 0.7648 - val_loss: 0.4554 - val_accuracy: 0.8043\n",
      "Epoch 15/30\n",
      "375/375 [==============================] - 4s 10ms/step - loss: 0.5961 - accuracy: 0.7648 - val_loss: 0.4582 - val_accuracy: 0.8109\n",
      "Epoch 16/30\n",
      "375/375 [==============================] - 4s 10ms/step - loss: 0.5881 - accuracy: 0.7655 - val_loss: 0.4540 - val_accuracy: 0.8148\n",
      "Epoch 17/30\n",
      "375/375 [==============================] - 4s 10ms/step - loss: 0.5982 - accuracy: 0.7600 - val_loss: 0.4578 - val_accuracy: 0.8135\n",
      "Epoch 18/30\n",
      "375/375 [==============================] - 3s 9ms/step - loss: 0.5910 - accuracy: 0.7643 - val_loss: 0.4578 - val_accuracy: 0.8151\n",
      "Epoch 19/30\n",
      "375/375 [==============================] - 4s 10ms/step - loss: 0.5877 - accuracy: 0.7634 - val_loss: 0.4561 - val_accuracy: 0.8151\n",
      "Epoch 20/30\n",
      "375/375 [==============================] - 2s 6ms/step - loss: 0.5886 - accuracy: 0.7668 - val_loss: 0.4552 - val_accuracy: 0.8123\n",
      "Epoch 21/30\n",
      "375/375 [==============================] - 4s 10ms/step - loss: 0.5975 - accuracy: 0.7614 - val_loss: 0.4579 - val_accuracy: 0.8088\n",
      "Epoch 22/30\n",
      "375/375 [==============================] - 3s 8ms/step - loss: 0.5817 - accuracy: 0.7699 - val_loss: 0.4540 - val_accuracy: 0.8102\n",
      "Epoch 23/30\n",
      "375/375 [==============================] - 3s 9ms/step - loss: 0.5763 - accuracy: 0.7684 - val_loss: 0.4558 - val_accuracy: 0.8115\n",
      "Epoch 24/30\n",
      "375/375 [==============================] - 2s 5ms/step - loss: 0.5861 - accuracy: 0.7651 - val_loss: 0.4592 - val_accuracy: 0.8098\n",
      "Epoch 25/30\n",
      "375/375 [==============================] - 1s 4ms/step - loss: 0.5879 - accuracy: 0.7652 - val_loss: 0.4552 - val_accuracy: 0.8154\n",
      "Epoch 26/30\n",
      "375/375 [==============================] - 4s 10ms/step - loss: 0.5929 - accuracy: 0.7653 - val_loss: 0.4572 - val_accuracy: 0.8130\n",
      "Epoch 27/30\n",
      "375/375 [==============================] - 2s 6ms/step - loss: 0.5919 - accuracy: 0.7629 - val_loss: 0.4584 - val_accuracy: 0.8112\n",
      "Epoch 28/30\n",
      "375/375 [==============================] - 3s 8ms/step - loss: 0.5883 - accuracy: 0.7639 - val_loss: 0.4557 - val_accuracy: 0.8117\n",
      "Epoch 29/30\n",
      "375/375 [==============================] - 3s 7ms/step - loss: 0.5908 - accuracy: 0.7648 - val_loss: 0.4542 - val_accuracy: 0.8125\n",
      "Epoch 30/30\n",
      "375/375 [==============================] - 3s 7ms/step - loss: 0.5872 - accuracy: 0.7684 - val_loss: 0.4570 - val_accuracy: 0.8087\n"
     ]
    }
   ],
   "source": [
    "batch_size = 128\n",
    "mm2_history=mm2.fit([X_train,X_train], Y_train,\n",
    "          batch_size=batch_size,\n",
    "          epochs=30,\n",
    "          verbose=1, validation_data=([X_val,X_val], Y_val))"
   ]
  },
  {
   "cell_type": "code",
   "execution_count": 13,
   "metadata": {
    "colab": {
     "base_uri": "https://localhost:8080/"
    },
    "executionInfo": {
     "elapsed": 1653,
     "status": "ok",
     "timestamp": 1613839969998,
     "user": {
      "displayName": "Musab R.",
      "photoUrl": "https://lh3.googleusercontent.com/a-/AOh14Ggo6kK28_a_Swx27ReDE7W6SlcMcsOsRyiTC_xFvA=s64",
      "userId": "11675938905762231877"
     },
     "user_tz": -300
    },
    "id": "ZItNMtouNo7v",
    "outputId": "cf669488-d8b2-4587-c70f-62a91402e636"
   },
   "outputs": [
    {
     "name": "stdout",
     "output_type": "stream",
     "text": [
      "313/313 [==============================] - 2s 5ms/step - loss: 0.4759 - accuracy: 0.8012\n"
     ]
    },
    {
     "data": {
      "text/plain": [
       "(0.4759179651737213, 0.8011999726295471)"
      ]
     },
     "execution_count": 13,
     "metadata": {},
     "output_type": "execute_result"
    }
   ],
   "source": [
    "loss, acc = mm2.evaluate([X_test,X_test], Y_test, verbose=1)\n",
    "loss, acc "
   ]
  },
  {
   "cell_type": "code",
   "execution_count": null,
   "metadata": {},
   "outputs": [],
   "source": []
  }
 ],
 "metadata": {
  "accelerator": "GPU",
  "colab": {
   "collapsed_sections": [],
   "name": "[1,2,4,8] Students Configurations on FashionMNIST using GANs.ipynb",
   "provenance": [
    {
     "file_id": "1xZFzUDe8M-ikd-rsFrmtDLECCWSq3dzF",
     "timestamp": 1613663948275
    }
   ]
  },
  "kernelspec": {
   "display_name": "Python 3",
   "language": "python",
   "name": "python3"
  },
  "language_info": {
   "codemirror_mode": {
    "name": "ipython",
    "version": 3
   },
   "file_extension": ".py",
   "mimetype": "text/x-python",
   "name": "python",
   "nbconvert_exporter": "python",
   "pygments_lexer": "ipython3",
   "version": "3.6.9"
  }
 },
 "nbformat": 4,
 "nbformat_minor": 1
}
