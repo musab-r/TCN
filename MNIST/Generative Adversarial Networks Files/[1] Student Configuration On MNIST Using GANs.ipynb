{
 "cells": [
  {
   "cell_type": "markdown",
   "metadata": {
    "id": "EPdE7Fs3VdXY"
   },
   "source": [
    "# Distilling Knowledge in Multiple Students  using Generative models"
   ]
  },
  {
   "cell_type": "code",
   "execution_count": 1,
   "metadata": {
    "id": "2xlC_N0QVomM"
   },
   "outputs": [],
   "source": [
    "# !nvidia-smi"
   ]
  },
  {
   "cell_type": "code",
   "execution_count": 2,
   "metadata": {
    "id": "ce2GSoOKWFKP"
   },
   "outputs": [],
   "source": [
    "import numpy as np\n",
    "import tensorflow as tf\n",
    "import tensorflow.keras\n",
    "import tensorflow.keras.backend as K\n",
    "from tensorflow.keras.datasets import fashion_mnist,mnist,cifar10\n",
    "from tensorflow.keras.layers import Conv2D,Activation,BatchNormalization,UpSampling2D,Embedding,ZeroPadding2D, Input, Flatten, Dense, Reshape, LeakyReLU, Dropout,MaxPooling2D\n",
    "from tensorflow.keras.models import Sequential, Model\n",
    "from tensorflow.keras.optimizers import Adam, SGD, RMSprop\n",
    "from tensorflow.keras import regularizers\n",
    "\n",
    "from tensorflow.keras.utils import Progbar\n",
    "from keras.initializers import RandomNormal\n",
    "import random\n",
    "from sklearn.model_selection import train_test_split\n",
    "from tensorflow.keras import utils as np_utils\n",
    "\n",
    "physical_devices = tf.config.list_physical_devices('GPU')\n",
    "tf.config.experimental.set_memory_growth(physical_devices[0], True)"
   ]
  },
  {
   "cell_type": "markdown",
   "metadata": {
    "id": "NyzL58V7WNdL"
   },
   "source": [
    "### Teacher's Training"
   ]
  },
  {
   "cell_type": "code",
   "execution_count": 3,
   "metadata": {
    "colab": {
     "base_uri": "https://localhost:8080/"
    },
    "executionInfo": {
     "elapsed": 20712,
     "status": "ok",
     "timestamp": 1613652674507,
     "user": {
      "displayName": "Musab R.",
      "photoUrl": "https://lh3.googleusercontent.com/a-/AOh14Ggo6kK28_a_Swx27ReDE7W6SlcMcsOsRyiTC_xFvA=s64",
      "userId": "11675938905762231877"
     },
     "user_tz": -300
    },
    "id": "lyIJv1WRNo7G",
    "outputId": "aef3e3c5-b57d-44a1-e2c6-db851ca0e3b5",
    "scrolled": true
   },
   "outputs": [
    {
     "name": "stdout",
     "output_type": "stream",
     "text": [
      "Model: \"sequential\"\n",
      "_________________________________________________________________\n",
      "Layer (type)                 Output Shape              Param #   \n",
      "=================================================================\n",
      "conv2d (Conv2D)              (None, 26, 26, 32)        320       \n",
      "_________________________________________________________________\n",
      "conv2d_1 (Conv2D)            (None, 24, 24, 64)        18496     \n",
      "_________________________________________________________________\n",
      "max_pooling2d (MaxPooling2D) (None, 12, 12, 64)        0         \n",
      "_________________________________________________________________\n",
      "dropout (Dropout)            (None, 12, 12, 64)        0         \n",
      "_________________________________________________________________\n",
      "flatten (Flatten)            (None, 9216)              0         \n",
      "_________________________________________________________________\n",
      "dense (Dense)                (None, 256)               2359552   \n",
      "_________________________________________________________________\n",
      "dense_1 (Dense)              (None, 256)               65792     \n",
      "_________________________________________________________________\n",
      "dropout_1 (Dropout)          (None, 256)               0         \n",
      "_________________________________________________________________\n",
      "dense_2 (Dense)              (None, 10)                2570      \n",
      "_________________________________________________________________\n",
      "activation (Activation)      (None, 10)                0         \n",
      "=================================================================\n",
      "Total params: 2,446,730\n",
      "Trainable params: 2,446,730\n",
      "Non-trainable params: 0\n",
      "_________________________________________________________________\n",
      "None\n"
     ]
    }
   ],
   "source": [
    "#Loading and splitting the dataset into train, validation and test\n",
    "nb_classes = 10\n",
    "\n",
    "(X_Train, y_Train), (X_test, y_test) = mnist.load_data()\n",
    "X_train, X_val, y_train, y_val = train_test_split(X_Train, y_Train, test_size=0.20)\n",
    "Y_train = np_utils.to_categorical(y_train, nb_classes)\n",
    "Y_val = np_utils.to_categorical(y_val, nb_classes)\n",
    "\n",
    "X_train = X_train.reshape(48000, 28, 28, 1)\n",
    "X_val = X_val.reshape(12000, 28, 28, 1)\n",
    "\n",
    "X_train = X_train.astype('float32')\n",
    "X_val = X_val.astype('float32')\n",
    "\n",
    "# Normalize the values\n",
    "X_train /= 255\n",
    "X_val /= 255\n",
    "\n",
    "\n",
    "#Creating a teacher network\n",
    "input_shape = (28, 28, 1) # Input shape of each image\n",
    "\n",
    "teacher = Sequential()\n",
    "teacher.add(Conv2D(32, kernel_size=(3, 3),\n",
    "                 activation='relu',\n",
    "                 input_shape=input_shape))\n",
    "teacher.add(Conv2D(64, (3, 3), activation='relu'))\n",
    "teacher.add(MaxPooling2D(pool_size=(2, 2)))\n",
    "\n",
    "teacher.add(Dropout(0.25)) # For reguralization\n",
    "\n",
    "teacher.add(Flatten())\n",
    "teacher.add(Dense(256, activation='relu'))\n",
    "teacher.add(Dense(256, activation='relu', name=\"dense_1\"))\n",
    "\n",
    "teacher.add(Dropout(0.5)) # For reguralization\n",
    "\n",
    "teacher.add(Dense(nb_classes, name = 'dense_2'))\n",
    "teacher.add(Activation('softmax')) # Note that we add a normal softmax layer to begin with\n",
    "\n",
    "teacher.compile(loss='categorical_crossentropy',\n",
    "              optimizer='adam',\n",
    "              metrics=['accuracy'])\n",
    "\n",
    "print(teacher.summary())\n"
   ]
  },
  {
   "cell_type": "code",
   "execution_count": 4,
   "metadata": {
    "scrolled": true
   },
   "outputs": [
    {
     "data": {
      "text/plain": [
       "<tensorflow.python.keras.callbacks.History at 0x7f0f400b7630>"
      ]
     },
     "execution_count": 4,
     "metadata": {},
     "output_type": "execute_result"
    }
   ],
   "source": [
    "#  Train the teacher model as usual\n",
    "epochs = 0\n",
    "batch_size = 256\n",
    "teacher.fit(X_train, Y_train,\n",
    "          batch_size=batch_size,\n",
    "          epochs=epochs,\n",
    "          verbose=1,\n",
    "          validation_data=(X_val, Y_val))\n"
   ]
  },
  {
   "cell_type": "markdown",
   "metadata": {
    "id": "t8jy5iVRWGuE"
   },
   "source": [
    "### Evaluation "
   ]
  },
  {
   "cell_type": "code",
   "execution_count": 5,
   "metadata": {
    "id": "HhwY-3bONo7M"
   },
   "outputs": [],
   "source": [
    "Y_test = np_utils.to_categorical(y_test, nb_classes)"
   ]
  },
  {
   "cell_type": "code",
   "execution_count": 6,
   "metadata": {
    "id": "7l50L-8hRG6y"
   },
   "outputs": [],
   "source": [
    "X_test = X_test.reshape(10000, 28, 28, 1)\n",
    "X_test = X_test.astype('float32')\n",
    "# Normalize the values\n",
    "X_test /= 255"
   ]
  },
  {
   "cell_type": "code",
   "execution_count": 7,
   "metadata": {
    "id": "v6mBfSS7No7Q"
   },
   "outputs": [],
   "source": [
    "teacher.load_weights(\"Teacher_MNIST_98.h5\")"
   ]
  },
  {
   "cell_type": "code",
   "execution_count": 8,
   "metadata": {
    "colab": {
     "base_uri": "https://localhost:8080/"
    },
    "executionInfo": {
     "elapsed": 2989,
     "status": "ok",
     "timestamp": 1613652677603,
     "user": {
      "displayName": "Musab R.",
      "photoUrl": "https://lh3.googleusercontent.com/a-/AOh14Ggo6kK28_a_Swx27ReDE7W6SlcMcsOsRyiTC_xFvA=s64",
      "userId": "11675938905762231877"
     },
     "user_tz": -300
    },
    "id": "EoLx2I_dNo7N",
    "outputId": "a1183477-5b27-4136-953f-a0d65e4c1b23"
   },
   "outputs": [
    {
     "name": "stdout",
     "output_type": "stream",
     "text": [
      "313/313 [==============================] - 2s 3ms/step - loss: 0.0484 - accuracy: 0.9874\n"
     ]
    },
    {
     "data": {
      "text/plain": [
       "[0.03833923488855362, 0.9894999861717224]"
      ]
     },
     "execution_count": 8,
     "metadata": {},
     "output_type": "execute_result"
    }
   ],
   "source": [
    "teacher.evaluate(X_test,Y_test)"
   ]
  },
  {
   "cell_type": "markdown",
   "metadata": {
    "id": "Ka0RmVsXWW_h"
   },
   "source": [
    "### Dense Vector split"
   ]
  },
  {
   "cell_type": "code",
   "execution_count": 9,
   "metadata": {
    "id": "eIlRbRObW-kc"
   },
   "outputs": [],
   "source": [
    "teacher_WO_Softmax = Model(teacher.input, teacher.get_layer('dense_1').output)\n",
    "train_dense = teacher_WO_Softmax.predict(X_train)\n",
    "val_dense = teacher_WO_Softmax.predict(X_val)\n",
    "\n",
    "\n",
    "# 1 Student case\n",
    "# ---------------------------------------------\n",
    "s1Train=train_dense[:,:256]"
   ]
  },
  {
   "cell_type": "markdown",
   "metadata": {
    "id": "5BLAAcCSb70h"
   },
   "source": [
    "## GANs' Training"
   ]
  },
  {
   "cell_type": "code",
   "execution_count": 10,
   "metadata": {
    "id": "5Bf51HQeYB19"
   },
   "outputs": [],
   "source": [
    "# import np.random import random\n",
    "BATCH_SIZE=32\n",
    "def smooth_real_labels(y):\n",
    "    return y - 0.3+(np.random.random(y.shape)*0.5)\n",
    "def smooth_fake_labels(y):\n",
    "    return y + (0.3 * np.random.random(y.shape))\n",
    "def build_gan(gen,disc): \n",
    "    disc.trainable = False\n",
    "    input= Input(shape=input_shape)\n",
    "    output = gen(input)\n",
    "    output2= disc(output)\n",
    "    gan=Model(input,output2)\n",
    "\n",
    "    gan.compile(Adam(lr=0.0002),loss=['binary_crossentropy','mse'],metrics=['accuracy'])\n",
    "\n",
    "    return gan"
   ]
  },
  {
   "cell_type": "markdown",
   "metadata": {
    "id": "9Fu6K6TmFQBM"
   },
   "source": [
    "### Discriminator"
   ]
  },
  {
   "cell_type": "code",
   "execution_count": 11,
   "metadata": {
    "id": "7DN9rlsCXBHl"
   },
   "outputs": [],
   "source": [
    "def build_sdiscriminator():\n",
    "    \n",
    "    input2 = Input(shape=(256,),name='input')\n",
    "    inp=Dense(64)(input2)\n",
    "\n",
    "    leaky_relu = LeakyReLU(alpha=0.2)(inp)\n",
    "    \n",
    "    conv3 = Dense(128)(leaky_relu)\n",
    "    b_n = BatchNormalization()(conv3)\n",
    "    leaky_relu = LeakyReLU(alpha=0.2)(b_n)\n",
    "    conv4 = Dense(256)(leaky_relu)\n",
    "    b_n = BatchNormalization()(conv4)\n",
    "    leaky_relu = LeakyReLU(alpha=0.2)(b_n)\n",
    "    conv4 = Dense(512)(leaky_relu)\n",
    "    b_n = BatchNormalization()(conv4)\n",
    "    leaky_relu = LeakyReLU(alpha=0.2)(b_n)\n",
    "    conv4 = Dense(1024)(leaky_relu)\n",
    "    b_n = BatchNormalization()(conv4)\n",
    "    leaky_relu = LeakyReLU(alpha=0.2)(b_n)\n",
    "\n",
    "    dense = Dense(1,activation='sigmoid',name='dense')(leaky_relu)\n",
    "\n",
    "    output2=Dense(256)(leaky_relu)\n",
    "\n",
    "    \n",
    "    disc = Model(input2,[dense,output2])          \n",
    "    disc.compile(optd,loss=['binary_crossentropy','mse'],metrics=['accuracy'])\n",
    "\n",
    "\n",
    "    return disc"
   ]
  },
  {
   "cell_type": "code",
   "execution_count": 12,
   "metadata": {
    "id": "s12vr0BvNo7X"
   },
   "outputs": [],
   "source": [
    "optd = Adam(lr=0.0002)\n",
    "opt = Adam(lr=0.0002)"
   ]
  },
  {
   "cell_type": "code",
   "execution_count": 13,
   "metadata": {
    "colab": {
     "base_uri": "https://localhost:8080/"
    },
    "executionInfo": {
     "elapsed": 1224,
     "status": "ok",
     "timestamp": 1613660158283,
     "user": {
      "displayName": "Musab R.",
      "photoUrl": "https://lh3.googleusercontent.com/a-/AOh14Ggo6kK28_a_Swx27ReDE7W6SlcMcsOsRyiTC_xFvA=s64",
      "userId": "11675938905762231877"
     },
     "user_tz": -300
    },
    "id": "TUcuHmtYNo7W",
    "outputId": "4f328e32-0955-49ab-c725-f6b088cda273"
   },
   "outputs": [
    {
     "name": "stdout",
     "output_type": "stream",
     "text": [
      "Model: \"model_1\"\n",
      "__________________________________________________________________________________________________\n",
      "Layer (type)                    Output Shape         Param #     Connected to                     \n",
      "==================================================================================================\n",
      "input (InputLayer)              [(None, 256)]        0                                            \n",
      "__________________________________________________________________________________________________\n",
      "dense_1 (Dense)                 (None, 64)           16448       input[0][0]                      \n",
      "__________________________________________________________________________________________________\n",
      "leaky_re_lu (LeakyReLU)         (None, 64)           0           dense_1[0][0]                    \n",
      "__________________________________________________________________________________________________\n",
      "dense_2 (Dense)                 (None, 128)          8320        leaky_re_lu[0][0]                \n",
      "__________________________________________________________________________________________________\n",
      "batch_normalization (BatchNorma (None, 128)          512         dense_2[0][0]                    \n",
      "__________________________________________________________________________________________________\n",
      "leaky_re_lu_1 (LeakyReLU)       (None, 128)          0           batch_normalization[0][0]        \n",
      "__________________________________________________________________________________________________\n",
      "dense_3 (Dense)                 (None, 256)          33024       leaky_re_lu_1[0][0]              \n",
      "__________________________________________________________________________________________________\n",
      "batch_normalization_1 (BatchNor (None, 256)          1024        dense_3[0][0]                    \n",
      "__________________________________________________________________________________________________\n",
      "leaky_re_lu_2 (LeakyReLU)       (None, 256)          0           batch_normalization_1[0][0]      \n",
      "__________________________________________________________________________________________________\n",
      "dense_4 (Dense)                 (None, 512)          131584      leaky_re_lu_2[0][0]              \n",
      "__________________________________________________________________________________________________\n",
      "batch_normalization_2 (BatchNor (None, 512)          2048        dense_4[0][0]                    \n",
      "__________________________________________________________________________________________________\n",
      "leaky_re_lu_3 (LeakyReLU)       (None, 512)          0           batch_normalization_2[0][0]      \n",
      "__________________________________________________________________________________________________\n",
      "dense_5 (Dense)                 (None, 1024)         525312      leaky_re_lu_3[0][0]              \n",
      "__________________________________________________________________________________________________\n",
      "batch_normalization_3 (BatchNor (None, 1024)         4096        dense_5[0][0]                    \n",
      "__________________________________________________________________________________________________\n",
      "leaky_re_lu_4 (LeakyReLU)       (None, 1024)         0           batch_normalization_3[0][0]      \n",
      "__________________________________________________________________________________________________\n",
      "dense (Dense)                   (None, 1)            1025        leaky_re_lu_4[0][0]              \n",
      "__________________________________________________________________________________________________\n",
      "dense_6 (Dense)                 (None, 256)          262400      leaky_re_lu_4[0][0]              \n",
      "==================================================================================================\n",
      "Total params: 985,793\n",
      "Trainable params: 981,953\n",
      "Non-trainable params: 3,840\n",
      "__________________________________________________________________________________________________\n"
     ]
    }
   ],
   "source": [
    "d1= build_sdiscriminator()\n",
    "d1.summary()"
   ]
  },
  {
   "cell_type": "markdown",
   "metadata": {
    "id": "HtXOpFGFEYrH"
   },
   "source": [
    "### Generator"
   ]
  },
  {
   "cell_type": "code",
   "execution_count": 14,
   "metadata": {
    "id": "ElnQTkvSXE7h"
   },
   "outputs": [
    {
     "name": "stdout",
     "output_type": "stream",
     "text": [
      "Model: \"sequential_1\"\n",
      "_________________________________________________________________\n",
      "Layer (type)                 Output Shape              Param #   \n",
      "=================================================================\n",
      "s (Conv2D)                   (None, 26, 26, 64)        640       \n",
      "_________________________________________________________________\n",
      "conv2d_2 (Conv2D)            (None, 24, 24, 64)        36928     \n",
      "_________________________________________________________________\n",
      "max_pooling2d_1 (MaxPooling2 (None, 12, 12, 64)        0         \n",
      "_________________________________________________________________\n",
      "conv2d_3 (Conv2D)            (None, 10, 10, 16)        9232      \n",
      "_________________________________________________________________\n",
      "conv2d_4 (Conv2D)            (None, 8, 8, 16)          2320      \n",
      "_________________________________________________________________\n",
      "max_pooling2d_2 (MaxPooling2 (None, 4, 4, 16)          0         \n",
      "_________________________________________________________________\n",
      "dropout_2 (Dropout)          (None, 4, 4, 16)          0         \n",
      "_________________________________________________________________\n",
      "flatten_1 (Flatten)          (None, 256)               0         \n",
      "_________________________________________________________________\n",
      "dense_7 (Dense)              (None, 32)                8224      \n",
      "_________________________________________________________________\n",
      "dropout_3 (Dropout)          (None, 32)                0         \n",
      "_________________________________________________________________\n",
      "reqs (Dense)                 (None, 256)               8448      \n",
      "=================================================================\n",
      "Total params: 65,792\n",
      "Trainable params: 65,792\n",
      "Non-trainable params: 0\n",
      "_________________________________________________________________\n"
     ]
    }
   ],
   "source": [
    "def build_sgenerator(name):\n",
    "\n",
    "    student1 = Sequential()\n",
    "    student1.add(Conv2D(64, kernel_size=(3, 3),activation='relu',input_shape=(28, 28, 1),kernel_initializer='normal', name=name))\n",
    "    student1.add(Conv2D(64, (3, 3), activation='relu',kernel_initializer='normal'))\n",
    "    student1.add(MaxPooling2D(pool_size=(2, 2)))\n",
    "\n",
    "    student1.add(Conv2D(16, kernel_size=(3, 3),activation='relu',kernel_initializer='normal'))\n",
    "    student1.add(Conv2D(16, (3, 3), activation='relu',kernel_initializer='normal'))\n",
    "    student1.add(MaxPooling2D(pool_size=(2, 2)))\n",
    "\n",
    "    student1.add(Dropout(0.25)) # For reguralization\n",
    "    student1.add(Flatten())\n",
    "    student1.add(Dense(32, activation='relu'))\n",
    "    student1.add(Dropout(0.3))\n",
    "    student1.add(Dense(256,name='req'+name))\n",
    "\n",
    "    student1.compile(opt,loss='mean_squared_error',metrics=['accuracy'])\n",
    "    \n",
    "    return student1\n",
    "\n",
    "build_sgenerator('s').summary()"
   ]
  },
  {
   "cell_type": "code",
   "execution_count": 15,
   "metadata": {
    "id": "edsqBRYpNo7e"
   },
   "outputs": [],
   "source": [
    "def training(generator,discriminator,gan,features,epo=20):\n",
    "    # Setup Models here\n",
    "    BATCH_SIZE = 128\n",
    "    discriminator.trainable = True\n",
    "    total_size = X_train.shape[0]\n",
    "    indices = np.arange(0,total_size ,BATCH_SIZE)\n",
    "    all_disc_loss = []\n",
    "    all_gen_loss = []\n",
    "    all_class_loss=[]\n",
    "    if total_size % BATCH_SIZE:\n",
    "        indices = indices[:-1]\n",
    "    for e in range(epo):\n",
    "        \n",
    "        progress_bar = Progbar(target=len(indices))\n",
    "        np.random.shuffle(indices)\n",
    "        epoch_gen_loss = []\n",
    "        epoch_disc_loss = []\n",
    "        epoch_class_loss= []\n",
    "        for i,index in enumerate(indices):\n",
    "        \n",
    "            # Split\n",
    "            inputs=X_train[index:index+BATCH_SIZE]\n",
    "            sXtrain = features[index:index+BATCH_SIZE]\n",
    "\n",
    "            y_real = np.ones((BATCH_SIZE,1))\n",
    "            y_fake = np.zeros((BATCH_SIZE,1))\n",
    "\n",
    "            #Generator Training\n",
    "            fake_images = generator.predict_on_batch(inputs)\n",
    "\n",
    "            #Disrciminator Training\n",
    "            disc_real_loss1,_,disc_real_loss2,_,_= discriminator.train_on_batch(sXtrain,[y_real,sXtrain])\n",
    "            disc_fake_loss1,_,disc_fake_loss2,_,_= discriminator.train_on_batch(fake_images,[y_fake,sXtrain])\n",
    "\n",
    "            #Gans Training\n",
    "            discriminator.trainable = False\n",
    "            gan_loss,_,gan_loss2,_,_ = gan.train_on_batch(inputs, [y_real,sXtrain])\n",
    "\n",
    "            discriminator.trainable = True\n",
    "\n",
    "            disc_loss = (disc_fake_loss1 + disc_real_loss1)/2\n",
    "            epoch_disc_loss.append(disc_loss)\n",
    "            progress_bar.update(i+1)\n",
    "\n",
    "            epoch_gen_loss.append((gan_loss))\n",
    "\n",
    "        avg_epoch_disc_loss = np.array(epoch_disc_loss).mean()\n",
    "        avg_epoch_gen_loss = np.array(epoch_gen_loss).mean()\n",
    "        all_disc_loss.append(avg_epoch_disc_loss)\n",
    "        all_gen_loss.append(avg_epoch_gen_loss)\n",
    "        print(\"Epoch: %d | Discriminator Loss: %f | Generator Loss: %f | \" % (e+1,avg_epoch_disc_loss,avg_epoch_gen_loss))\n",
    "\n",
    "    return generator"
   ]
  },
  {
   "cell_type": "markdown",
   "metadata": {
    "id": "4W3HwYXRFYPf"
   },
   "source": [
    "You can initialize multiple instances here "
   ]
  },
  {
   "cell_type": "code",
   "execution_count": 16,
   "metadata": {
    "id": "X9oy60_SNo7k",
    "scrolled": true
   },
   "outputs": [],
   "source": [
    "discriminator1 = build_sdiscriminator()\n"
   ]
  },
  {
   "cell_type": "code",
   "execution_count": 17,
   "metadata": {
    "id": "MomgOJRaNo7l"
   },
   "outputs": [],
   "source": [
    "s1=build_sgenerator(\"s1\")\n"
   ]
  },
  {
   "cell_type": "code",
   "execution_count": 18,
   "metadata": {
    "id": "JivZOb38No7l"
   },
   "outputs": [],
   "source": [
    "gan1 = build_gan(s1,discriminator1)\n"
   ]
  },
  {
   "cell_type": "code",
   "execution_count": 19,
   "metadata": {
    "colab": {
     "base_uri": "https://localhost:8080/"
    },
    "executionInfo": {
     "elapsed": 3590314,
     "status": "ok",
     "timestamp": 1613663781923,
     "user": {
      "displayName": "Musab R.",
      "photoUrl": "https://lh3.googleusercontent.com/a-/AOh14Ggo6kK28_a_Swx27ReDE7W6SlcMcsOsRyiTC_xFvA=s64",
      "userId": "11675938905762231877"
     },
     "user_tz": -300
    },
    "id": "e8wjg4vrNo7l",
    "outputId": "48289479-1e6d-4b60-8bc2-b09996f7c40a"
   },
   "outputs": [
    {
     "name": "stdout",
     "output_type": "stream",
     "text": [
      "375/375 [==============================] - 17s 41ms/step\n",
      "Epoch: 1 | Discriminator Loss: 0.582220 | Generator Loss: 1.539414 | \n",
      "375/375 [==============================] - 16s 42ms/step\n",
      "Epoch: 2 | Discriminator Loss: 0.227771 | Generator Loss: 0.882904 | \n",
      "375/375 [==============================] - 16s 42ms/step\n",
      "Epoch: 3 | Discriminator Loss: 0.181847 | Generator Loss: 0.826187 | \n",
      "375/375 [==============================] - 15s 41ms/step\n",
      "Epoch: 4 | Discriminator Loss: 0.160961 | Generator Loss: 0.825641 | \n",
      "375/375 [==============================] - 15s 40ms/step\n",
      "Epoch: 5 | Discriminator Loss: 0.149631 | Generator Loss: 0.798059 | \n",
      "375/375 [==============================] - 16s 43ms/step\n",
      "Epoch: 6 | Discriminator Loss: 0.141141 | Generator Loss: 0.756727 | \n",
      "375/375 [==============================] - 15s 41ms/step\n",
      "Epoch: 7 | Discriminator Loss: 0.131618 | Generator Loss: 0.706982 | \n",
      "375/375 [==============================] - 15s 39ms/step\n",
      "Epoch: 8 | Discriminator Loss: 0.124924 | Generator Loss: 0.682142 | \n",
      "375/375 [==============================] - 16s 43ms/step\n",
      "Epoch: 9 | Discriminator Loss: 0.120865 | Generator Loss: 0.662087 | \n",
      "375/375 [==============================] - 15s 41ms/step\n",
      "Epoch: 10 | Discriminator Loss: 0.117540 | Generator Loss: 0.641247 | \n",
      "375/375 [==============================] - 15s 40ms/step\n",
      "Epoch: 11 | Discriminator Loss: 0.114112 | Generator Loss: 0.629284 | \n",
      "375/375 [==============================] - 15s 40ms/step\n",
      "Epoch: 12 | Discriminator Loss: 0.112102 | Generator Loss: 0.615312 | \n",
      "375/375 [==============================] - 17s 44ms/step\n",
      "Epoch: 13 | Discriminator Loss: 0.109626 | Generator Loss: 0.588240 | \n",
      "375/375 [==============================] - 15s 41ms/step\n",
      "Epoch: 14 | Discriminator Loss: 0.107392 | Generator Loss: 0.576593 | \n",
      "375/375 [==============================] - 15s 41ms/step\n",
      "Epoch: 15 | Discriminator Loss: 0.105443 | Generator Loss: 0.562202 | \n",
      "375/375 [==============================] - 15s 40ms/step\n",
      "Epoch: 16 | Discriminator Loss: 0.103314 | Generator Loss: 0.559410 | \n",
      "375/375 [==============================] - 15s 40ms/step\n",
      "Epoch: 17 | Discriminator Loss: 0.101531 | Generator Loss: 0.558526 | \n",
      "375/375 [==============================] - 15s 40ms/step\n",
      "Epoch: 18 | Discriminator Loss: 0.100008 | Generator Loss: 0.553438 | \n",
      "375/375 [==============================] - 15s 41ms/step\n",
      "Epoch: 19 | Discriminator Loss: 0.098791 | Generator Loss: 0.546796 | \n",
      "375/375 [==============================] - 16s 41ms/step\n",
      "Epoch: 20 | Discriminator Loss: 0.097421 | Generator Loss: 0.538962 | \n",
      "375/375 [==============================] - 15s 40ms/step\n",
      "Epoch: 21 | Discriminator Loss: 0.096135 | Generator Loss: 0.519184 | \n",
      "375/375 [==============================] - 15s 39ms/step\n",
      "Epoch: 22 | Discriminator Loss: 0.094699 | Generator Loss: 0.503343 | \n",
      "375/375 [==============================] - 15s 39ms/step\n",
      "Epoch: 23 | Discriminator Loss: 0.093461 | Generator Loss: 0.492265 | \n",
      "375/375 [==============================] - 15s 39ms/step\n",
      "Epoch: 24 | Discriminator Loss: 0.092001 | Generator Loss: 0.482397 | \n",
      "375/375 [==============================] - 15s 39ms/step\n",
      "Epoch: 25 | Discriminator Loss: 0.091655 | Generator Loss: 0.485537 | \n",
      "375/375 [==============================] - 15s 39ms/step\n",
      "Epoch: 26 | Discriminator Loss: 0.091090 | Generator Loss: 0.490209 | \n",
      "375/375 [==============================] - 15s 40ms/step\n",
      "Epoch: 27 | Discriminator Loss: 0.090553 | Generator Loss: 0.498243 | \n",
      "375/375 [==============================] - 15s 39ms/step\n",
      "Epoch: 28 | Discriminator Loss: 0.089667 | Generator Loss: 0.490880 | \n",
      "375/375 [==============================] - 14s 38ms/step\n",
      "Epoch: 29 | Discriminator Loss: 0.088229 | Generator Loss: 0.482523 | \n",
      "375/375 [==============================] - 15s 39ms/step\n",
      "Epoch: 30 | Discriminator Loss: 0.086591 | Generator Loss: 0.481081 | \n",
      "375/375 [==============================] - 15s 39ms/step\n",
      "Epoch: 31 | Discriminator Loss: 0.084697 | Generator Loss: 0.473381 | \n",
      "375/375 [==============================] - 15s 40ms/step\n",
      "Epoch: 32 | Discriminator Loss: 0.082901 | Generator Loss: 0.461348 | \n",
      "375/375 [==============================] - 14s 38ms/step\n",
      "Epoch: 33 | Discriminator Loss: 0.082009 | Generator Loss: 0.451349 | \n",
      "375/375 [==============================] - 15s 40ms/step\n",
      "Epoch: 34 | Discriminator Loss: 0.081283 | Generator Loss: 0.444498 | \n",
      "375/375 [==============================] - 14s 38ms/step\n",
      "Epoch: 35 | Discriminator Loss: 0.080533 | Generator Loss: 0.435973 | \n",
      "375/375 [==============================] - 15s 40ms/step\n",
      "Epoch: 36 | Discriminator Loss: 0.079437 | Generator Loss: 0.432168 | \n",
      "375/375 [==============================] - 14s 38ms/step\n",
      "Epoch: 37 | Discriminator Loss: 0.078916 | Generator Loss: 0.428492 | \n",
      "375/375 [==============================] - 14s 39ms/step\n",
      "Epoch: 38 | Discriminator Loss: 0.078176 | Generator Loss: 0.429138 | \n",
      "375/375 [==============================] - 15s 40ms/step\n",
      "Epoch: 39 | Discriminator Loss: 0.077663 | Generator Loss: 0.427432 | \n",
      "375/375 [==============================] - 15s 39ms/step\n",
      "Epoch: 40 | Discriminator Loss: 0.077241 | Generator Loss: 0.429443 | \n"
     ]
    }
   ],
   "source": [
    "s1 = training(s1,discriminator1,gan1,s1Train,epo=40)"
   ]
  },
  {
   "cell_type": "markdown",
   "metadata": {
    "id": "1P-Qe1RiScwO"
   },
   "source": [
    "### Single Student Configuration"
   ]
  },
  {
   "cell_type": "code",
   "execution_count": 20,
   "metadata": {
    "id": "T-kKVdyHNo7r"
   },
   "outputs": [],
   "source": [
    "o1=s1.get_layer(\"reqs1\").output\n",
    "\n",
    "output=Activation('relu')(o1)\n",
    "output2=Dropout(0.5)(output)\n",
    "output3=Dense(10,activation=\"softmax\", name=\"d1\")(output2)\n",
    "mm1=Model(s1.get_layer('s1').input, output3)\n",
    "my_weights=teacher.get_layer('dense_2').get_weights()"
   ]
  },
  {
   "cell_type": "code",
   "execution_count": 21,
   "metadata": {
    "id": "kA1_fLX1No7s"
   },
   "outputs": [],
   "source": [
    "# setting weights\n",
    "mm1.get_layer('d1').set_weights(my_weights)"
   ]
  },
  {
   "cell_type": "code",
   "execution_count": 22,
   "metadata": {
    "id": "rJcMVvWJNo7s"
   },
   "outputs": [],
   "source": [
    "# Freezing layers\n",
    "i=0\n",
    "for l in mm1.layers[:len(mm1.layers)-1]:\n",
    "    l.trainable=False\n",
    "#     print(l)"
   ]
  },
  {
   "cell_type": "code",
   "execution_count": 23,
   "metadata": {
    "id": "Njs_UlNENo7t"
   },
   "outputs": [],
   "source": [
    "opt = Adam(lr=0.0002, beta_1=0.5)\n",
    "mm1.compile(loss='categorical_crossentropy',\n",
    "              optimizer='adam',\n",
    "              metrics=['accuracy'])\n"
   ]
  },
  {
   "cell_type": "code",
   "execution_count": 24,
   "metadata": {
    "colab": {
     "base_uri": "https://localhost:8080/",
     "height": 601
    },
    "executionInfo": {
     "elapsed": 16906,
     "status": "error",
     "timestamp": 1613660117438,
     "user": {
      "displayName": "Musab R.",
      "photoUrl": "https://lh3.googleusercontent.com/a-/AOh14Ggo6kK28_a_Swx27ReDE7W6SlcMcsOsRyiTC_xFvA=s64",
      "userId": "11675938905762231877"
     },
     "user_tz": -300
    },
    "id": "yoeFAkcqebjM",
    "outputId": "b3082dca-7c65-4036-acf5-359402c0751b"
   },
   "outputs": [
    {
     "name": "stdout",
     "output_type": "stream",
     "text": [
      "Epoch 1/20\n",
      "375/375 [==============================] - 2s 6ms/step - loss: 2.3370 - accuracy: 0.6415 - val_loss: 0.0844 - val_accuracy: 0.9802\n",
      "Epoch 2/20\n",
      "375/375 [==============================] - 2s 6ms/step - loss: 0.4191 - accuracy: 0.8946 - val_loss: 0.0743 - val_accuracy: 0.9819\n",
      "Epoch 3/20\n",
      "375/375 [==============================] - 2s 5ms/step - loss: 0.3218 - accuracy: 0.9125 - val_loss: 0.0649 - val_accuracy: 0.9834\n",
      "Epoch 4/20\n",
      "375/375 [==============================] - 2s 5ms/step - loss: 0.2690 - accuracy: 0.9213 - val_loss: 0.0617 - val_accuracy: 0.9832\n",
      "Epoch 5/20\n",
      "375/375 [==============================] - 2s 5ms/step - loss: 0.2380 - accuracy: 0.9301 - val_loss: 0.0596 - val_accuracy: 0.9838\n",
      "Epoch 6/20\n",
      "375/375 [==============================] - 2s 4ms/step - loss: 0.2158 - accuracy: 0.9352 - val_loss: 0.0584 - val_accuracy: 0.9833\n",
      "Epoch 7/20\n",
      "375/375 [==============================] - 2s 5ms/step - loss: 0.2133 - accuracy: 0.9351 - val_loss: 0.0600 - val_accuracy: 0.9837\n",
      "Epoch 8/20\n",
      "375/375 [==============================] - 2s 5ms/step - loss: 0.2178 - accuracy: 0.9342 - val_loss: 0.0593 - val_accuracy: 0.9841\n",
      "Epoch 9/20\n",
      "375/375 [==============================] - 2s 5ms/step - loss: 0.2106 - accuracy: 0.9358 - val_loss: 0.0573 - val_accuracy: 0.9838\n",
      "Epoch 10/20\n",
      "375/375 [==============================] - 2s 5ms/step - loss: 0.2034 - accuracy: 0.9385 - val_loss: 0.0616 - val_accuracy: 0.9833\n",
      "Epoch 11/20\n",
      "375/375 [==============================] - 2s 5ms/step - loss: 0.2052 - accuracy: 0.9368 - val_loss: 0.0576 - val_accuracy: 0.9839\n",
      "Epoch 12/20\n",
      "375/375 [==============================] - 2s 5ms/step - loss: 0.2037 - accuracy: 0.9377 - val_loss: 0.0603 - val_accuracy: 0.9825\n",
      "Epoch 13/20\n",
      "375/375 [==============================] - 2s 5ms/step - loss: 0.2089 - accuracy: 0.9385 - val_loss: 0.0600 - val_accuracy: 0.9839\n",
      "Epoch 14/20\n",
      "375/375 [==============================] - 2s 5ms/step - loss: 0.2102 - accuracy: 0.9378 - val_loss: 0.0570 - val_accuracy: 0.9842\n",
      "Epoch 15/20\n",
      "375/375 [==============================] - 2s 5ms/step - loss: 0.1980 - accuracy: 0.9387 - val_loss: 0.0595 - val_accuracy: 0.9843\n",
      "Epoch 16/20\n",
      "375/375 [==============================] - 2s 5ms/step - loss: 0.2116 - accuracy: 0.9356 - val_loss: 0.0587 - val_accuracy: 0.9838\n",
      "Epoch 17/20\n",
      "375/375 [==============================] - 2s 5ms/step - loss: 0.2060 - accuracy: 0.9394 - val_loss: 0.0589 - val_accuracy: 0.9838\n",
      "Epoch 18/20\n",
      "375/375 [==============================] - 2s 5ms/step - loss: 0.2044 - accuracy: 0.9376 - val_loss: 0.0570 - val_accuracy: 0.9841\n",
      "Epoch 19/20\n",
      "375/375 [==============================] - 2s 5ms/step - loss: 0.1986 - accuracy: 0.9400 - val_loss: 0.0596 - val_accuracy: 0.9839\n",
      "Epoch 20/20\n",
      "375/375 [==============================] - 2s 5ms/step - loss: 0.2010 - accuracy: 0.9396 - val_loss: 0.0580 - val_accuracy: 0.9843\n"
     ]
    },
    {
     "data": {
      "text/plain": [
       "<tensorflow.python.keras.callbacks.History at 0x7f0f2c865470>"
      ]
     },
     "execution_count": 24,
     "metadata": {},
     "output_type": "execute_result"
    }
   ],
   "source": [
    "batch_size = 128\n",
    "mm1.fit(X_train, Y_train,\n",
    "          batch_size=batch_size,\n",
    "          epochs=20,\n",
    "          verbose=1, validation_data=(X_val, Y_val))"
   ]
  },
  {
   "cell_type": "code",
   "execution_count": null,
   "metadata": {
    "colab": {
     "base_uri": "https://localhost:8080/"
    },
    "executionInfo": {
     "elapsed": 1552,
     "status": "ok",
     "timestamp": 1613656737668,
     "user": {
      "displayName": "Musab R.",
      "photoUrl": "https://lh3.googleusercontent.com/a-/AOh14Ggo6kK28_a_Swx27ReDE7W6SlcMcsOsRyiTC_xFvA=s64",
      "userId": "11675938905762231877"
     },
     "user_tz": -300
    },
    "id": "vwsZwHVC0FX8",
    "outputId": "4b929b6e-1c5e-4a71-cecd-32f0c70b8c1c"
   },
   "outputs": [],
   "source": []
  },
  {
   "cell_type": "code",
   "execution_count": 25,
   "metadata": {
    "colab": {
     "base_uri": "https://localhost:8080/"
    },
    "executionInfo": {
     "elapsed": 1952,
     "status": "ok",
     "timestamp": 1613656762308,
     "user": {
      "displayName": "Musab R.",
      "photoUrl": "https://lh3.googleusercontent.com/a-/AOh14Ggo6kK28_a_Swx27ReDE7W6SlcMcsOsRyiTC_xFvA=s64",
      "userId": "11675938905762231877"
     },
     "user_tz": -300
    },
    "id": "fWGGV28ENo7u",
    "outputId": "1bafb68f-274f-4749-c164-5c7057b9271a"
   },
   "outputs": [
    {
     "name": "stdout",
     "output_type": "stream",
     "text": [
      "313/313 [==============================] - 1s 4ms/step - loss: 0.0537 - accuracy: 0.9852\n"
     ]
    }
   ],
   "source": [
    "loss, acc = mm1.evaluate(X_test, Y_test)"
   ]
  },
  {
   "cell_type": "code",
   "execution_count": 27,
   "metadata": {
    "id": "nkwBvZ-KNo8J"
   },
   "outputs": [
    {
     "name": "stdout",
     "output_type": "stream",
     "text": [
      "Model: \"model_4\"\n",
      "_________________________________________________________________\n",
      "Layer (type)                 Output Shape              Param #   \n",
      "=================================================================\n",
      "s1_input (InputLayer)        [(None, 28, 28, 1)]       0         \n",
      "_________________________________________________________________\n",
      "s1 (Conv2D)                  (None, 26, 26, 64)        640       \n",
      "_________________________________________________________________\n",
      "conv2d_5 (Conv2D)            (None, 24, 24, 64)        36928     \n",
      "_________________________________________________________________\n",
      "max_pooling2d_3 (MaxPooling2 (None, 12, 12, 64)        0         \n",
      "_________________________________________________________________\n",
      "conv2d_6 (Conv2D)            (None, 10, 10, 16)        9232      \n",
      "_________________________________________________________________\n",
      "conv2d_7 (Conv2D)            (None, 8, 8, 16)          2320      \n",
      "_________________________________________________________________\n",
      "max_pooling2d_4 (MaxPooling2 (None, 4, 4, 16)          0         \n",
      "_________________________________________________________________\n",
      "dropout_4 (Dropout)          (None, 4, 4, 16)          0         \n",
      "_________________________________________________________________\n",
      "flatten_2 (Flatten)          (None, 256)               0         \n",
      "_________________________________________________________________\n",
      "dense_14 (Dense)             (None, 32)                8224      \n",
      "_________________________________________________________________\n",
      "dropout_5 (Dropout)          (None, 32)                0         \n",
      "_________________________________________________________________\n",
      "reqs1 (Dense)                (None, 256)               8448      \n",
      "_________________________________________________________________\n",
      "activation_1 (Activation)    (None, 256)               0         \n",
      "_________________________________________________________________\n",
      "dropout_6 (Dropout)          (None, 256)               0         \n",
      "_________________________________________________________________\n",
      "d1 (Dense)                   (None, 10)                2570      \n",
      "=================================================================\n",
      "Total params: 68,362\n",
      "Trainable params: 2,570\n",
      "Non-trainable params: 65,792\n",
      "_________________________________________________________________\n"
     ]
    }
   ],
   "source": [
    "mm1.summary()"
   ]
  },
  {
   "cell_type": "code",
   "execution_count": null,
   "metadata": {},
   "outputs": [],
   "source": []
  },
  {
   "cell_type": "code",
   "execution_count": null,
   "metadata": {},
   "outputs": [],
   "source": []
  }
 ],
 "metadata": {
  "accelerator": "GPU",
  "colab": {
   "collapsed_sections": [],
   "name": "[1,2,4,8] Students Configuration On MNIST Using GANs.ipynb",
   "provenance": []
  },
  "kernelspec": {
   "display_name": "Python 3",
   "language": "python",
   "name": "python3"
  },
  "language_info": {
   "codemirror_mode": {
    "name": "ipython",
    "version": 3
   },
   "file_extension": ".py",
   "mimetype": "text/x-python",
   "name": "python",
   "nbconvert_exporter": "python",
   "pygments_lexer": "ipython3",
   "version": "3.6.9"
  }
 },
 "nbformat": 4,
 "nbformat_minor": 1
}
