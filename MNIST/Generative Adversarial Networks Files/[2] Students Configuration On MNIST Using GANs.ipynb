{
 "cells": [
  {
   "cell_type": "markdown",
   "metadata": {
    "id": "EPdE7Fs3VdXY"
   },
   "source": [
    "# Distilling Knowledge in Multiple Students  using Generative models"
   ]
  },
  {
   "cell_type": "code",
   "execution_count": 1,
   "metadata": {
    "id": "2xlC_N0QVomM"
   },
   "outputs": [],
   "source": [
    "# !nvidia-smi"
   ]
  },
  {
   "cell_type": "code",
   "execution_count": 1,
   "metadata": {
    "id": "ce2GSoOKWFKP"
   },
   "outputs": [],
   "source": [
    "import numpy as np\n",
    "import tensorflow as tf\n",
    "import tensorflow.keras\n",
    "import tensorflow.keras.backend as K\n",
    "from tensorflow.keras.datasets import fashion_mnist,mnist,cifar10\n",
    "from tensorflow.keras.layers import Conv2D,Activation,BatchNormalization,UpSampling2D,Embedding,ZeroPadding2D, Input, Flatten, Dense, Reshape, LeakyReLU, Dropout,MaxPooling2D\n",
    "from tensorflow.keras.models import Sequential, Model\n",
    "from tensorflow.keras.optimizers import Adam, SGD, RMSprop\n",
    "from tensorflow.keras import regularizers\n",
    "\n",
    "from tensorflow.keras.utils import Progbar\n",
    "from keras.initializers import RandomNormal\n",
    "import random\n",
    "from sklearn.model_selection import train_test_split\n",
    "from tensorflow.keras import utils as np_utils\n",
    "\n",
    "physical_devices = tf.config.list_physical_devices('GPU')\n",
    "tf.config.experimental.set_memory_growth(physical_devices[0], True)"
   ]
  },
  {
   "cell_type": "markdown",
   "metadata": {
    "id": "NyzL58V7WNdL"
   },
   "source": [
    "### Teacher's Training"
   ]
  },
  {
   "cell_type": "code",
   "execution_count": 2,
   "metadata": {
    "colab": {
     "base_uri": "https://localhost:8080/"
    },
    "executionInfo": {
     "elapsed": 20712,
     "status": "ok",
     "timestamp": 1613652674507,
     "user": {
      "displayName": "Musab R.",
      "photoUrl": "https://lh3.googleusercontent.com/a-/AOh14Ggo6kK28_a_Swx27ReDE7W6SlcMcsOsRyiTC_xFvA=s64",
      "userId": "11675938905762231877"
     },
     "user_tz": -300
    },
    "id": "lyIJv1WRNo7G",
    "outputId": "aef3e3c5-b57d-44a1-e2c6-db851ca0e3b5",
    "scrolled": true
   },
   "outputs": [],
   "source": [
    "#Loading and splitting the dataset into train, validation and test\n",
    "nb_classes = 10\n",
    "\n",
    "(X_Train, y_Train), (X_test, y_test) = mnist.load_data()\n",
    "X_train, X_val, y_train, y_val = train_test_split(X_Train, y_Train, test_size=0.20)\n",
    "Y_train = np_utils.to_categorical(y_train, nb_classes)\n",
    "Y_val = np_utils.to_categorical(y_val, nb_classes)\n",
    "\n",
    "X_train = X_train.reshape(48000, 28, 28, 1)\n",
    "X_val = X_val.reshape(12000, 28, 28, 1)\n",
    "\n",
    "X_train = X_train.astype('float32')\n",
    "X_val = X_val.astype('float32')\n",
    "\n",
    "# Normalize the values\n",
    "X_train /= 255\n",
    "X_val /= 255\n",
    "\n",
    "\n",
    "#Creating a teacher network\n",
    "input_shape = (28, 28, 1) # Input shape of each image\n",
    "\n",
    "teacher = Sequential()\n",
    "teacher.add(Conv2D(32, kernel_size=(3, 3),\n",
    "                 activation='relu',\n",
    "                 input_shape=input_shape))\n",
    "teacher.add(Conv2D(64, (3, 3), activation='relu'))\n",
    "teacher.add(MaxPooling2D(pool_size=(2, 2)))\n",
    "\n",
    "teacher.add(Dropout(0.25)) # For reguralization\n",
    "\n",
    "teacher.add(Flatten())\n",
    "teacher.add(Dense(256, activation='relu'))\n",
    "teacher.add(Dense(256, activation='relu', name=\"dense_1\"))\n",
    "\n",
    "teacher.add(Dropout(0.5)) # For reguralization\n",
    "\n",
    "teacher.add(Dense(nb_classes, name = 'dense_2'))\n",
    "teacher.add(Activation('softmax')) # Note that we add a normal softmax layer to begin with\n",
    "\n",
    "teacher.compile(loss='categorical_crossentropy',\n",
    "              optimizer='adam',\n",
    "              metrics=['accuracy'])\n",
    "\n",
    "# print(teacher.summary())"
   ]
  },
  {
   "cell_type": "code",
   "execution_count": 3,
   "metadata": {},
   "outputs": [
    {
     "name": "stdout",
     "output_type": "stream",
     "text": [
      "Epoch 1/12\n",
      "188/188 [==============================] - 4s 14ms/step - loss: 0.6123 - accuracy: 0.8004 - val_loss: 0.0700 - val_accuracy: 0.9800\n",
      "Epoch 2/12\n",
      "188/188 [==============================] - 2s 13ms/step - loss: 0.0814 - accuracy: 0.9761 - val_loss: 0.0588 - val_accuracy: 0.9823\n",
      "Epoch 3/12\n",
      "188/188 [==============================] - 2s 12ms/step - loss: 0.0456 - accuracy: 0.9849 - val_loss: 0.0511 - val_accuracy: 0.9840\n",
      "Epoch 4/12\n",
      "188/188 [==============================] - 2s 12ms/step - loss: 0.0354 - accuracy: 0.9885 - val_loss: 0.0476 - val_accuracy: 0.9862\n",
      "Epoch 5/12\n",
      "188/188 [==============================] - 2s 12ms/step - loss: 0.0246 - accuracy: 0.9923 - val_loss: 0.0440 - val_accuracy: 0.9876\n",
      "Epoch 6/12\n",
      "188/188 [==============================] - 2s 12ms/step - loss: 0.0185 - accuracy: 0.9943 - val_loss: 0.0429 - val_accuracy: 0.9893\n",
      "Epoch 7/12\n",
      "188/188 [==============================] - 2s 13ms/step - loss: 0.0167 - accuracy: 0.9948 - val_loss: 0.0432 - val_accuracy: 0.9900\n",
      "Epoch 8/12\n",
      "188/188 [==============================] - 2s 12ms/step - loss: 0.0111 - accuracy: 0.9967 - val_loss: 0.0486 - val_accuracy: 0.9889\n",
      "Epoch 9/12\n",
      "188/188 [==============================] - 2s 12ms/step - loss: 0.0108 - accuracy: 0.9966 - val_loss: 0.0419 - val_accuracy: 0.9899\n",
      "Epoch 10/12\n",
      "188/188 [==============================] - 2s 12ms/step - loss: 0.0075 - accuracy: 0.9975 - val_loss: 0.0528 - val_accuracy: 0.9882\n",
      "Epoch 11/12\n",
      "188/188 [==============================] - 2s 12ms/step - loss: 0.0089 - accuracy: 0.9969 - val_loss: 0.0473 - val_accuracy: 0.9893\n",
      "Epoch 12/12\n",
      "188/188 [==============================] - 2s 12ms/step - loss: 0.0108 - accuracy: 0.9966 - val_loss: 0.0485 - val_accuracy: 0.9887\n"
     ]
    },
    {
     "data": {
      "text/plain": [
       "<tensorflow.python.keras.callbacks.History at 0x7fce9038e1d0>"
      ]
     },
     "execution_count": 3,
     "metadata": {},
     "output_type": "execute_result"
    }
   ],
   "source": [
    "\n",
    "# Train the teacher model as usual\n",
    "epochs = 12\n",
    "batch_size = 256\n",
    "teacher.fit(X_train, Y_train,\n",
    "          batch_size=batch_size,\n",
    "          epochs=epochs,\n",
    "          verbose=1,\n",
    "          validation_data=(X_val, Y_val))\n",
    "\n",
    "\n",
    "# #checking teachers test accuracy\n",
    "# X_test = X_test.reshape(10000, 28, 28, 1)\n",
    "\n",
    "# X_test = X_test.astype('float32')\n",
    "# # Normalize the values\n",
    "# X_test /= 255\n",
    "# preds=teacher.predict(X_test)\n",
    "\n",
    "# numbers=[0,1,2,3,4,5,6,7,8,9]\n",
    "# preds2=[]\n",
    "# for p in preds:\n",
    "#     preds2.append(numbers[np.argmax(p)])\n",
    "# preds2=np.array(preds2)\n",
    "\n",
    "# print (y_test)\n",
    "# print (preds2)\n",
    "# print (np.sum(y_test==preds2))"
   ]
  },
  {
   "cell_type": "markdown",
   "metadata": {
    "id": "t8jy5iVRWGuE"
   },
   "source": [
    "### Evaluation "
   ]
  },
  {
   "cell_type": "code",
   "execution_count": 4,
   "metadata": {
    "id": "v6mBfSS7No7Q"
   },
   "outputs": [],
   "source": [
    "teacher.load_weights(\"Teacher_MNIST_98.h5\")"
   ]
  },
  {
   "cell_type": "code",
   "execution_count": 4,
   "metadata": {
    "id": "HhwY-3bONo7M"
   },
   "outputs": [],
   "source": [
    "Y_test = np_utils.to_categorical(y_test, nb_classes)"
   ]
  },
  {
   "cell_type": "code",
   "execution_count": 5,
   "metadata": {
    "id": "7l50L-8hRG6y"
   },
   "outputs": [],
   "source": [
    "X_test = X_test.reshape(10000, 28, 28, 1)\n",
    "X_test = X_test.astype('float32')\n",
    "# Normalize the values\n",
    "X_test /= 255"
   ]
  },
  {
   "cell_type": "code",
   "execution_count": 6,
   "metadata": {
    "colab": {
     "base_uri": "https://localhost:8080/"
    },
    "executionInfo": {
     "elapsed": 2989,
     "status": "ok",
     "timestamp": 1613652677603,
     "user": {
      "displayName": "Musab R.",
      "photoUrl": "https://lh3.googleusercontent.com/a-/AOh14Ggo6kK28_a_Swx27ReDE7W6SlcMcsOsRyiTC_xFvA=s64",
      "userId": "11675938905762231877"
     },
     "user_tz": -300
    },
    "id": "EoLx2I_dNo7N",
    "outputId": "a1183477-5b27-4136-953f-a0d65e4c1b23"
   },
   "outputs": [
    {
     "name": "stdout",
     "output_type": "stream",
     "text": [
      "313/313 [==============================] - 1s 3ms/step - loss: 0.0359 - accuracy: 0.9901\n"
     ]
    },
    {
     "data": {
      "text/plain": [
       "[0.03592796251177788, 0.9901000261306763]"
      ]
     },
     "execution_count": 6,
     "metadata": {},
     "output_type": "execute_result"
    }
   ],
   "source": [
    "teacher.evaluate(X_test,Y_test)"
   ]
  },
  {
   "cell_type": "markdown",
   "metadata": {
    "id": "Ka0RmVsXWW_h"
   },
   "source": [
    "### Dense Vector split"
   ]
  },
  {
   "cell_type": "code",
   "execution_count": 7,
   "metadata": {
    "id": "eIlRbRObW-kc"
   },
   "outputs": [],
   "source": [
    "teacher_WO_Softmax = Model(teacher.input, teacher.get_layer('dense_1').output)\n",
    "train_dense = teacher_WO_Softmax.predict(X_train)\n",
    "val_dense = teacher_WO_Softmax.predict(X_val)\n",
    "\n",
    "\n",
    "# 2 Students case\n",
    "# ---------------------------------------------\n",
    "s1Train=train_dense[:,:128]\n",
    "s2Train=train_dense[:,128:]"
   ]
  },
  {
   "cell_type": "markdown",
   "metadata": {
    "id": "5BLAAcCSb70h"
   },
   "source": [
    "## GANs' Training"
   ]
  },
  {
   "cell_type": "code",
   "execution_count": 8,
   "metadata": {
    "id": "5Bf51HQeYB19"
   },
   "outputs": [],
   "source": [
    "# import np.random import random\n",
    "BATCH_SIZE=32\n",
    "def smooth_real_labels(y):\n",
    "    return y - 0.3+(np.random.random(y.shape)*0.5)\n",
    "def smooth_fake_labels(y):\n",
    "    return y + (0.3 * np.random.random(y.shape))\n",
    "def build_gan(gen,disc): \n",
    "    disc.trainable = False\n",
    "    input= Input(shape=input_shape)\n",
    "    output = gen(input)\n",
    "    output2= disc(output)\n",
    "    gan=Model(input,output2)\n",
    "\n",
    "    gan.compile(Adam(lr=0.0002),loss=['binary_crossentropy','mse'],metrics=['accuracy'])\n",
    "\n",
    "    return gan"
   ]
  },
  {
   "cell_type": "markdown",
   "metadata": {
    "id": "9Fu6K6TmFQBM"
   },
   "source": [
    "### Discriminator"
   ]
  },
  {
   "cell_type": "code",
   "execution_count": 9,
   "metadata": {
    "id": "7DN9rlsCXBHl"
   },
   "outputs": [],
   "source": [
    "def build_sdiscriminator():\n",
    "    \n",
    "    input2 = Input(shape=(128,),name='input')\n",
    "    inp=Dense(64)(input2)\n",
    "\n",
    "    leaky_relu = LeakyReLU(alpha=0.2)(inp)\n",
    "    \n",
    "    conv3 = Dense(128)(leaky_relu)\n",
    "    b_n = BatchNormalization()(conv3)\n",
    "    leaky_relu = LeakyReLU(alpha=0.2)(b_n)\n",
    "    conv4 = Dense(256)(leaky_relu)\n",
    "    b_n = BatchNormalization()(conv4)\n",
    "    leaky_relu = LeakyReLU(alpha=0.2)(b_n)\n",
    "    conv4 = Dense(512)(leaky_relu)\n",
    "    b_n = BatchNormalization()(conv4)\n",
    "    leaky_relu = LeakyReLU(alpha=0.2)(b_n)\n",
    "    conv4 = Dense(1024)(leaky_relu)\n",
    "    b_n = BatchNormalization()(conv4)\n",
    "    leaky_relu = LeakyReLU(alpha=0.2)(b_n)\n",
    "\n",
    "    dense = Dense(1,activation='sigmoid',name='dense')(leaky_relu)\n",
    "\n",
    "    output2=Dense(128)(leaky_relu)\n",
    "\n",
    "    \n",
    "    disc = Model(input2,[dense,output2])          \n",
    "    disc.compile(optd,loss=['binary_crossentropy','mse'],metrics=['accuracy'])\n",
    "\n",
    "\n",
    "    return disc"
   ]
  },
  {
   "cell_type": "code",
   "execution_count": 10,
   "metadata": {
    "id": "s12vr0BvNo7X"
   },
   "outputs": [],
   "source": [
    "optd = Adam(lr=0.0002)\n",
    "opt = Adam(lr=0.0002)"
   ]
  },
  {
   "cell_type": "code",
   "execution_count": 28,
   "metadata": {
    "colab": {
     "base_uri": "https://localhost:8080/"
    },
    "executionInfo": {
     "elapsed": 1224,
     "status": "ok",
     "timestamp": 1613660158283,
     "user": {
      "displayName": "Musab R.",
      "photoUrl": "https://lh3.googleusercontent.com/a-/AOh14Ggo6kK28_a_Swx27ReDE7W6SlcMcsOsRyiTC_xFvA=s64",
      "userId": "11675938905762231877"
     },
     "user_tz": -300
    },
    "id": "TUcuHmtYNo7W",
    "outputId": "4f328e32-0955-49ab-c725-f6b088cda273"
   },
   "outputs": [],
   "source": [
    "# d1= build_sdiscriminator()\n",
    "# d1.summary()"
   ]
  },
  {
   "cell_type": "markdown",
   "metadata": {
    "id": "HtXOpFGFEYrH"
   },
   "source": [
    "### Generator"
   ]
  },
  {
   "cell_type": "code",
   "execution_count": 54,
   "metadata": {
    "id": "ElnQTkvSXE7h"
   },
   "outputs": [
    {
     "name": "stdout",
     "output_type": "stream",
     "text": [
      "Model: \"sequential_16\"\n",
      "_________________________________________________________________\n",
      "Layer (type)                 Output Shape              Param #   \n",
      "=================================================================\n",
      "s (Conv2D)                   (None, 24, 24, 32)        832       \n",
      "_________________________________________________________________\n",
      "conv2d_47 (Conv2D)           (None, 20, 20, 32)        25632     \n",
      "_________________________________________________________________\n",
      "max_pooling2d_29 (MaxPooling (None, 10, 10, 32)        0         \n",
      "_________________________________________________________________\n",
      "conv2d_48 (Conv2D)           (None, 8, 8, 16)          4624      \n",
      "_________________________________________________________________\n",
      "conv2d_49 (Conv2D)           (None, 6, 6, 16)          2320      \n",
      "_________________________________________________________________\n",
      "max_pooling2d_30 (MaxPooling (None, 3, 3, 16)          0         \n",
      "_________________________________________________________________\n",
      "dropout_31 (Dropout)         (None, 3, 3, 16)          0         \n",
      "_________________________________________________________________\n",
      "flatten_14 (Flatten)         (None, 144)               0         \n",
      "_________________________________________________________________\n",
      "dense_50 (Dense)             (None, 32)                4640      \n",
      "_________________________________________________________________\n",
      "dropout_32 (Dropout)         (None, 32)                0         \n",
      "_________________________________________________________________\n",
      "reqs (Dense)                 (None, 128)               4224      \n",
      "=================================================================\n",
      "Total params: 42,272\n",
      "Trainable params: 42,272\n",
      "Non-trainable params: 0\n",
      "_________________________________________________________________\n"
     ]
    }
   ],
   "source": [
    "def build_sgenerator(name):\n",
    "\n",
    "    student1 = Sequential()\n",
    "    student1.add(Conv2D(32, kernel_size=(5, 5),activation='relu',input_shape=(28, 28, 1),kernel_initializer='normal', name=name))\n",
    "    student1.add(Conv2D(32, (5, 5), activation='relu',kernel_initializer='normal'))\n",
    "    student1.add(MaxPooling2D(pool_size=(2, 2)))\n",
    "\n",
    "    student1.add(Conv2D(16, kernel_size=(3, 3),activation='relu',kernel_initializer='normal'))\n",
    "    student1.add(Conv2D(16, (3, 3), activation='relu',kernel_initializer='normal'))\n",
    "    student1.add(MaxPooling2D(pool_size=(2, 2)))\n",
    "\n",
    "    student1.add(Dropout(0.25)) # For reguralization\n",
    "    student1.add(Flatten())\n",
    "    student1.add(Dense(32, activation='relu'))\n",
    "    student1.add(Dropout(0.3))\n",
    "    student1.add(Dense(128,name='req'+name))\n",
    "\n",
    "    student1.compile(opt,loss='mean_squared_error',metrics=['accuracy'])\n",
    "    \n",
    "    return student1\n",
    "\n",
    "\n",
    "build_sgenerator('s').summary()"
   ]
  },
  {
   "cell_type": "code",
   "execution_count": 55,
   "metadata": {
    "id": "edsqBRYpNo7e"
   },
   "outputs": [],
   "source": [
    "def training(generator,discriminator,gan,features,epo=20):\n",
    "    # Setup Models here\n",
    "    BATCH_SIZE = 128\n",
    "    discriminator.trainable = True\n",
    "    total_size = X_train.shape[0]\n",
    "    indices = np.arange(0,total_size ,BATCH_SIZE)\n",
    "    all_disc_loss = []\n",
    "    all_gen_loss = []\n",
    "    all_class_loss=[]\n",
    "    if total_size % BATCH_SIZE:\n",
    "        indices = indices[:-1]\n",
    "    for e in range(epo):\n",
    "        \n",
    "        progress_bar = Progbar(target=len(indices))\n",
    "        np.random.shuffle(indices)\n",
    "        epoch_gen_loss = []\n",
    "        epoch_disc_loss = []\n",
    "        epoch_class_loss= []\n",
    "        for i,index in enumerate(indices):\n",
    "        \n",
    "            # Split\n",
    "            inputs=X_train[index:index+BATCH_SIZE]\n",
    "            sXtrain = features[index:index+BATCH_SIZE]\n",
    "\n",
    "            y_real = np.ones((BATCH_SIZE,1))\n",
    "            y_fake = np.zeros((BATCH_SIZE,1))\n",
    "\n",
    "            #Generator Training\n",
    "            fake_images = generator.predict_on_batch(inputs)\n",
    "\n",
    "            #Disrciminator Training\n",
    "            disc_real_loss1,_,disc_real_loss2,_,_= discriminator.train_on_batch(sXtrain,[y_real,sXtrain])\n",
    "            disc_fake_loss1,_,disc_fake_loss2,_,_= discriminator.train_on_batch(fake_images,[y_fake,sXtrain])\n",
    "\n",
    "            #Gans Training\n",
    "            discriminator.trainable = False\n",
    "            gan_loss,_,gan_loss2,_,_ = gan.train_on_batch(inputs, [y_real,sXtrain])\n",
    "            gan_loss,_,gan_loss2,_,_ = gan.train_on_batch(inputs, [y_real,sXtrain])\n",
    "\n",
    "            discriminator.trainable = True\n",
    "\n",
    "            disc_loss = (disc_fake_loss1 + disc_real_loss1)/2\n",
    "            epoch_disc_loss.append(disc_loss)\n",
    "            progress_bar.update(i+1)\n",
    "\n",
    "            epoch_gen_loss.append((gan_loss))\n",
    "\n",
    "        avg_epoch_disc_loss = np.array(epoch_disc_loss).mean()\n",
    "        avg_epoch_gen_loss = np.array(epoch_gen_loss).mean()\n",
    "        all_disc_loss.append(avg_epoch_disc_loss)\n",
    "        all_gen_loss.append(avg_epoch_gen_loss)\n",
    "        print(\"Epoch: %d | Discriminator Loss: %f | Generator Loss: %f | \" % (e+1,avg_epoch_disc_loss,avg_epoch_gen_loss))\n",
    "\n",
    "    return generator"
   ]
  },
  {
   "cell_type": "markdown",
   "metadata": {
    "id": "4W3HwYXRFYPf"
   },
   "source": [
    "You can initialize multiple instances here "
   ]
  },
  {
   "cell_type": "code",
   "execution_count": 56,
   "metadata": {
    "id": "X9oy60_SNo7k",
    "scrolled": true
   },
   "outputs": [],
   "source": [
    "discriminator1 = build_sdiscriminator()\n",
    "discriminator2 = build_sdiscriminator()"
   ]
  },
  {
   "cell_type": "code",
   "execution_count": 57,
   "metadata": {
    "id": "MomgOJRaNo7l"
   },
   "outputs": [],
   "source": [
    "s1=build_sgenerator(\"s1\")\n",
    "s2=build_sgenerator('s2')"
   ]
  },
  {
   "cell_type": "code",
   "execution_count": 58,
   "metadata": {
    "id": "JivZOb38No7l"
   },
   "outputs": [],
   "source": [
    "gan1 = build_gan(s1,discriminator1)\n",
    "gan2 = build_gan(s2,discriminator2)"
   ]
  },
  {
   "cell_type": "code",
   "execution_count": 59,
   "metadata": {
    "colab": {
     "base_uri": "https://localhost:8080/"
    },
    "executionInfo": {
     "elapsed": 3590314,
     "status": "ok",
     "timestamp": 1613663781923,
     "user": {
      "displayName": "Musab R.",
      "photoUrl": "https://lh3.googleusercontent.com/a-/AOh14Ggo6kK28_a_Swx27ReDE7W6SlcMcsOsRyiTC_xFvA=s64",
      "userId": "11675938905762231877"
     },
     "user_tz": -300
    },
    "id": "e8wjg4vrNo7l",
    "outputId": "48289479-1e6d-4b60-8bc2-b09996f7c40a"
   },
   "outputs": [
    {
     "name": "stdout",
     "output_type": "stream",
     "text": [
      "375/375 [==============================] - 21s 51ms/step\n",
      "Epoch: 1 | Discriminator Loss: 0.417165 | Generator Loss: 1.400226 | \n",
      "375/375 [==============================] - 19s 49ms/step\n",
      "Epoch: 2 | Discriminator Loss: 0.204496 | Generator Loss: 0.874988 | \n",
      "375/375 [==============================] - 19s 50ms/step\n",
      "Epoch: 3 | Discriminator Loss: 0.174200 | Generator Loss: 0.777061 | \n",
      "375/375 [==============================] - 18s 48ms/step\n",
      "Epoch: 4 | Discriminator Loss: 0.159355 | Generator Loss: 0.722006 | \n",
      "375/375 [==============================] - 19s 50ms/step\n",
      "Epoch: 5 | Discriminator Loss: 0.150087 | Generator Loss: 0.694982 | \n",
      "375/375 [==============================] - 19s 50ms/step\n",
      "Epoch: 6 | Discriminator Loss: 0.143383 | Generator Loss: 0.684482 | \n",
      "375/375 [==============================] - 18s 49ms/step\n",
      "Epoch: 7 | Discriminator Loss: 0.137977 | Generator Loss: 0.657637 | \n",
      "375/375 [==============================] - 18s 49ms/step\n",
      "Epoch: 8 | Discriminator Loss: 0.132203 | Generator Loss: 0.625158 | \n",
      "375/375 [==============================] - 18s 48ms/step\n",
      "Epoch: 9 | Discriminator Loss: 0.128117 | Generator Loss: 0.599787 | \n",
      "375/375 [==============================] - 18s 49ms/step\n",
      "Epoch: 10 | Discriminator Loss: 0.124501 | Generator Loss: 0.578555 | \n",
      "375/375 [==============================] - 19s 50ms/step\n",
      "Epoch: 11 | Discriminator Loss: 0.121014 | Generator Loss: 0.560582 | \n",
      "375/375 [==============================] - 19s 49ms/step\n",
      "Epoch: 12 | Discriminator Loss: 0.117689 | Generator Loss: 0.544077 | \n",
      "375/375 [==============================] - 18s 48ms/step\n",
      "Epoch: 13 | Discriminator Loss: 0.114339 | Generator Loss: 0.530041 | \n",
      "375/375 [==============================] - 18s 49ms/step\n",
      "Epoch: 14 | Discriminator Loss: 0.112644 | Generator Loss: 0.514575 | \n",
      "375/375 [==============================] - 18s 48ms/step\n",
      "Epoch: 15 | Discriminator Loss: 0.110104 | Generator Loss: 0.502135 | \n",
      "375/375 [==============================] - 18s 48ms/step\n",
      "Epoch: 16 | Discriminator Loss: 0.107269 | Generator Loss: 0.486587 | \n",
      "375/375 [==============================] - 18s 48ms/step\n",
      "Epoch: 17 | Discriminator Loss: 0.105925 | Generator Loss: 0.471187 | \n",
      "375/375 [==============================] - 18s 48ms/step\n",
      "Epoch: 18 | Discriminator Loss: 0.103854 | Generator Loss: 0.457329 | \n",
      "375/375 [==============================] - 19s 51ms/step\n",
      "Epoch: 19 | Discriminator Loss: 0.101959 | Generator Loss: 0.440194 | \n",
      "375/375 [==============================] - 18s 49ms/step\n",
      "Epoch: 20 | Discriminator Loss: 0.100112 | Generator Loss: 0.430674 | \n",
      "375/375 [==============================] - 18s 49ms/step\n",
      "Epoch: 21 | Discriminator Loss: 0.098664 | Generator Loss: 0.428185 | \n",
      "375/375 [==============================] - 18s 49ms/step\n",
      "Epoch: 22 | Discriminator Loss: 0.097174 | Generator Loss: 0.422956 | \n",
      "375/375 [==============================] - 18s 48ms/step\n",
      "Epoch: 23 | Discriminator Loss: 0.095853 | Generator Loss: 0.419251 | \n",
      "375/375 [==============================] - 19s 49ms/step\n",
      "Epoch: 24 | Discriminator Loss: 0.095090 | Generator Loss: 0.414054 | \n",
      "375/375 [==============================] - 18s 49ms/step\n",
      "Epoch: 25 | Discriminator Loss: 0.094308 | Generator Loss: 0.412832 | \n",
      "375/375 [==============================] - 19s 50ms/step\n",
      "Epoch: 26 | Discriminator Loss: 0.093721 | Generator Loss: 0.411053 | \n",
      "375/375 [==============================] - 19s 50ms/step\n",
      "Epoch: 27 | Discriminator Loss: 0.093300 | Generator Loss: 0.407331 | \n",
      "375/375 [==============================] - 18s 49ms/step\n",
      "Epoch: 28 | Discriminator Loss: 0.092237 | Generator Loss: 0.401997 | \n",
      "375/375 [==============================] - 19s 50ms/step\n",
      "Epoch: 29 | Discriminator Loss: 0.091214 | Generator Loss: 0.398294 | \n",
      "375/375 [==============================] - 18s 47ms/step\n",
      "Epoch: 30 | Discriminator Loss: 0.090118 | Generator Loss: 0.396128 | \n",
      "375/375 [==============================] - 19s 50ms/step\n",
      "Epoch: 31 | Discriminator Loss: 0.089261 | Generator Loss: 0.388562 | \n",
      "375/375 [==============================] - 18s 48ms/step\n",
      "Epoch: 32 | Discriminator Loss: 0.088501 | Generator Loss: 0.385832 | \n",
      "375/375 [==============================] - 18s 48ms/step\n",
      "Epoch: 33 | Discriminator Loss: 0.087716 | Generator Loss: 0.385795 | \n",
      "375/375 [==============================] - 19s 50ms/step\n",
      "Epoch: 34 | Discriminator Loss: 0.087494 | Generator Loss: 0.385639 | \n",
      "375/375 [==============================] - 18s 48ms/step\n",
      "Epoch: 35 | Discriminator Loss: 0.086953 | Generator Loss: 0.380856 | \n",
      "375/375 [==============================] - 19s 51ms/step\n",
      "Epoch: 36 | Discriminator Loss: 0.086256 | Generator Loss: 0.378903 | \n",
      "375/375 [==============================] - 19s 51ms/step\n",
      "Epoch: 37 | Discriminator Loss: 0.085083 | Generator Loss: 0.379275 | \n",
      "375/375 [==============================] - 19s 51ms/step\n",
      "Epoch: 38 | Discriminator Loss: 0.084533 | Generator Loss: 0.372332 | \n",
      "375/375 [==============================] - 19s 51ms/step\n",
      "Epoch: 39 | Discriminator Loss: 0.084307 | Generator Loss: 0.371361 | \n",
      "375/375 [==============================] - 19s 50ms/step\n",
      "Epoch: 40 | Discriminator Loss: 0.083713 | Generator Loss: 0.370013 | \n",
      "375/375 [==============================] - 20s 51ms/step\n",
      "Epoch: 1 | Discriminator Loss: 0.394355 | Generator Loss: 1.343838 | \n",
      "375/375 [==============================] - 19s 52ms/step\n",
      "Epoch: 2 | Discriminator Loss: 0.195874 | Generator Loss: 0.841116 | \n",
      "375/375 [==============================] - 19s 51ms/step\n",
      "Epoch: 3 | Discriminator Loss: 0.169758 | Generator Loss: 0.753057 | \n",
      "375/375 [==============================] - 19s 50ms/step\n",
      "Epoch: 4 | Discriminator Loss: 0.156812 | Generator Loss: 0.714471 | \n",
      "375/375 [==============================] - 19s 50ms/step\n",
      "Epoch: 5 | Discriminator Loss: 0.146338 | Generator Loss: 0.691210 | \n",
      "375/375 [==============================] - 19s 50ms/step\n",
      "Epoch: 6 | Discriminator Loss: 0.137981 | Generator Loss: 0.662430 | \n",
      "375/375 [==============================] - 19s 50ms/step\n",
      "Epoch: 7 | Discriminator Loss: 0.131063 | Generator Loss: 0.637589 | \n",
      "375/375 [==============================] - 19s 50ms/step\n",
      "Epoch: 8 | Discriminator Loss: 0.126851 | Generator Loss: 0.629803 | \n",
      "375/375 [==============================] - 17s 45ms/step\n",
      "Epoch: 9 | Discriminator Loss: 0.123913 | Generator Loss: 0.624964 | \n",
      "375/375 [==============================] - 17s 45ms/step\n",
      "Epoch: 10 | Discriminator Loss: 0.121397 | Generator Loss: 0.606734 | \n",
      "375/375 [==============================] - 18s 49ms/step\n",
      "Epoch: 11 | Discriminator Loss: 0.117439 | Generator Loss: 0.581175 | \n",
      "375/375 [==============================] - 17s 46ms/step\n",
      "Epoch: 12 | Discriminator Loss: 0.113816 | Generator Loss: 0.560065 | \n",
      "375/375 [==============================] - 18s 49ms/step\n",
      "Epoch: 13 | Discriminator Loss: 0.110693 | Generator Loss: 0.542280 | \n",
      "375/375 [==============================] - 17s 46ms/step\n",
      "Epoch: 14 | Discriminator Loss: 0.108486 | Generator Loss: 0.521961 | \n",
      "375/375 [==============================] - 17s 46ms/step\n",
      "Epoch: 15 | Discriminator Loss: 0.105999 | Generator Loss: 0.502346 | \n",
      "375/375 [==============================] - 18s 47ms/step\n",
      "Epoch: 16 | Discriminator Loss: 0.104455 | Generator Loss: 0.489633 | \n",
      "375/375 [==============================] - 17s 45ms/step\n",
      "Epoch: 17 | Discriminator Loss: 0.103696 | Generator Loss: 0.474665 | \n",
      "375/375 [==============================] - 18s 48ms/step\n",
      "Epoch: 18 | Discriminator Loss: 0.102069 | Generator Loss: 0.460220 | \n",
      "375/375 [==============================] - 17s 46ms/step\n",
      "Epoch: 19 | Discriminator Loss: 0.100508 | Generator Loss: 0.444322 | \n",
      "375/375 [==============================] - 17s 46ms/step\n",
      "Epoch: 20 | Discriminator Loss: 0.098504 | Generator Loss: 0.429887 | \n",
      "375/375 [==============================] - 17s 46ms/step\n",
      "Epoch: 21 | Discriminator Loss: 0.097083 | Generator Loss: 0.420557 | \n",
      "375/375 [==============================] - 17s 46ms/step\n",
      "Epoch: 22 | Discriminator Loss: 0.096012 | Generator Loss: 0.415252 | \n",
      "375/375 [==============================] - 18s 49ms/step\n",
      "Epoch: 23 | Discriminator Loss: 0.094738 | Generator Loss: 0.410787 | \n",
      "375/375 [==============================] - 17s 46ms/step\n",
      "Epoch: 24 | Discriminator Loss: 0.094082 | Generator Loss: 0.404158 | \n"
     ]
    },
    {
     "name": "stdout",
     "output_type": "stream",
     "text": [
      "375/375 [==============================] - 17s 46ms/step\n",
      "Epoch: 25 | Discriminator Loss: 0.093059 | Generator Loss: 0.400944 | \n",
      "375/375 [==============================] - 17s 46ms/step\n",
      "Epoch: 26 | Discriminator Loss: 0.091846 | Generator Loss: 0.397737 | \n",
      "375/375 [==============================] - 17s 44ms/step\n",
      "Epoch: 27 | Discriminator Loss: 0.091650 | Generator Loss: 0.393145 | \n",
      "375/375 [==============================] - 18s 47ms/step\n",
      "Epoch: 28 | Discriminator Loss: 0.091019 | Generator Loss: 0.388581 | \n",
      "375/375 [==============================] - 18s 47ms/step\n",
      "Epoch: 29 | Discriminator Loss: 0.090506 | Generator Loss: 0.383971 | \n",
      "375/375 [==============================] - 17s 46ms/step\n",
      "Epoch: 30 | Discriminator Loss: 0.089556 | Generator Loss: 0.381582 | \n",
      "375/375 [==============================] - 17s 46ms/step\n",
      "Epoch: 31 | Discriminator Loss: 0.088351 | Generator Loss: 0.380525 | \n",
      "375/375 [==============================] - 17s 46ms/step\n",
      "Epoch: 32 | Discriminator Loss: 0.087938 | Generator Loss: 0.380293 | \n",
      "375/375 [==============================] - 18s 47ms/step\n",
      "Epoch: 33 | Discriminator Loss: 0.087984 | Generator Loss: 0.378855 | \n",
      "375/375 [==============================] - 18s 48ms/step\n",
      "Epoch: 34 | Discriminator Loss: 0.087201 | Generator Loss: 0.377215 | \n",
      "375/375 [==============================] - 17s 46ms/step\n",
      "Epoch: 35 | Discriminator Loss: 0.086656 | Generator Loss: 0.377980 | \n",
      "375/375 [==============================] - 17s 45ms/step\n",
      "Epoch: 36 | Discriminator Loss: 0.085893 | Generator Loss: 0.377460 | \n",
      "375/375 [==============================] - 17s 46ms/step\n",
      "Epoch: 37 | Discriminator Loss: 0.085483 | Generator Loss: 0.374997 | \n",
      "375/375 [==============================] - 17s 44ms/step\n",
      "Epoch: 38 | Discriminator Loss: 0.085066 | Generator Loss: 0.375304 | \n",
      "375/375 [==============================] - 17s 46ms/step\n",
      "Epoch: 39 | Discriminator Loss: 0.085182 | Generator Loss: 0.375654 | \n",
      "375/375 [==============================] - 18s 47ms/step\n",
      "Epoch: 40 | Discriminator Loss: 0.085160 | Generator Loss: 0.373115 | \n",
      "375/375 [==============================] - 18s 47ms/step\n",
      "Epoch: 41 | Discriminator Loss: 0.084868 | Generator Loss: 0.374133 | \n",
      "375/375 [==============================] - 17s 46ms/step\n",
      "Epoch: 42 | Discriminator Loss: 0.084196 | Generator Loss: 0.374196 | \n",
      "375/375 [==============================] - 18s 48ms/step\n",
      "Epoch: 43 | Discriminator Loss: 0.083783 | Generator Loss: 0.371029 | \n",
      "375/375 [==============================] - 18s 47ms/step\n",
      "Epoch: 44 | Discriminator Loss: 0.083340 | Generator Loss: 0.368331 | \n",
      "375/375 [==============================] - 17s 46ms/step\n",
      "Epoch: 45 | Discriminator Loss: 0.083432 | Generator Loss: 0.368411 | \n"
     ]
    }
   ],
   "source": [
    "s1 = training(s1,discriminator1,gan1,s1Train,epo=40)\n",
    "s2 = training(s2,discriminator2,gan2,s2Train,epo=45)"
   ]
  },
  {
   "cell_type": "markdown",
   "metadata": {
    "id": "ab9neZh3SRdP"
   },
   "source": [
    "## **2 Students**"
   ]
  },
  {
   "cell_type": "code",
   "execution_count": 60,
   "metadata": {
    "id": "ulPysC0YNo7v"
   },
   "outputs": [],
   "source": [
    "o1=s1.get_layer(\"reqs1\").output\n",
    "o2=s2.get_layer(\"reqs2\").output\n",
    "output=tensorflow.keras.layers.concatenate([o1,o2])\n",
    "\n",
    "output=Activation('relu')(output)\n",
    "output2=Dropout(0.5)(output) # For reguralization\n",
    "output3=Dense(10,activation=\"softmax\", name=\"d1\")(output2)\n",
    "\n",
    "mm2=Model([s1.get_layer(\"s1\").input,s2.get_layer(\"s2\").input], output3)\n",
    "my_weights=teacher.get_layer('dense_2').get_weights()\n",
    "mm2.get_layer('d1').set_weights(my_weights)"
   ]
  },
  {
   "cell_type": "code",
   "execution_count": 61,
   "metadata": {
    "id": "13uCl_ihNo7u"
   },
   "outputs": [],
   "source": [
    "i=0\n",
    "for l in mm2.layers[:len(mm2.layers)-1]:\n",
    "    l.trainable=False\n",
    "\n",
    "mm2.compile(loss='categorical_crossentropy',\n",
    "              optimizer='adam',\n",
    "              metrics=['accuracy'])\n"
   ]
  },
  {
   "cell_type": "code",
   "execution_count": 62,
   "metadata": {
    "colab": {
     "base_uri": "https://localhost:8080/",
     "height": 992
    },
    "executionInfo": {
     "elapsed": 93014,
     "status": "error",
     "timestamp": 1613658841660,
     "user": {
      "displayName": "Musab R.",
      "photoUrl": "https://lh3.googleusercontent.com/a-/AOh14Ggo6kK28_a_Swx27ReDE7W6SlcMcsOsRyiTC_xFvA=s64",
      "userId": "11675938905762231877"
     },
     "user_tz": -300
    },
    "id": "zoQTqTzpNo7t",
    "outputId": "be397b8b-8bd4-468e-c29b-8240dcbd9a01",
    "scrolled": true
   },
   "outputs": [
    {
     "name": "stdout",
     "output_type": "stream",
     "text": [
      "Epoch 1/20\n",
      "375/375 [==============================] - 4s 9ms/step - loss: 1.4530 - accuracy: 0.7553 - val_loss: 0.0764 - val_accuracy: 0.9851\n",
      "Epoch 2/20\n",
      "375/375 [==============================] - 3s 8ms/step - loss: 0.1714 - accuracy: 0.9616 - val_loss: 0.0750 - val_accuracy: 0.9858\n",
      "Epoch 3/20\n",
      "375/375 [==============================] - 4s 10ms/step - loss: 0.1395 - accuracy: 0.9687 - val_loss: 0.0710 - val_accuracy: 0.9863\n",
      "Epoch 4/20\n",
      "375/375 [==============================] - 4s 10ms/step - loss: 0.1200 - accuracy: 0.9724 - val_loss: 0.0651 - val_accuracy: 0.9865\n",
      "Epoch 5/20\n",
      "375/375 [==============================] - 4s 10ms/step - loss: 0.1025 - accuracy: 0.9739 - val_loss: 0.0617 - val_accuracy: 0.9864\n",
      "Epoch 6/20\n",
      "375/375 [==============================] - 3s 9ms/step - loss: 0.0989 - accuracy: 0.9751 - val_loss: 0.0598 - val_accuracy: 0.9867\n",
      "Epoch 7/20\n",
      "375/375 [==============================] - 3s 8ms/step - loss: 0.0958 - accuracy: 0.9774 - val_loss: 0.0560 - val_accuracy: 0.9866\n",
      "Epoch 8/20\n",
      "375/375 [==============================] - 3s 9ms/step - loss: 0.0911 - accuracy: 0.9765 - val_loss: 0.0544 - val_accuracy: 0.9868\n",
      "Epoch 9/20\n",
      "375/375 [==============================] - 4s 10ms/step - loss: 0.0893 - accuracy: 0.9769 - val_loss: 0.0520 - val_accuracy: 0.9871\n",
      "Epoch 10/20\n",
      "375/375 [==============================] - 4s 10ms/step - loss: 0.0829 - accuracy: 0.9787 - val_loss: 0.0521 - val_accuracy: 0.9865\n",
      "Epoch 11/20\n",
      "375/375 [==============================] - 4s 9ms/step - loss: 0.0813 - accuracy: 0.9779 - val_loss: 0.0503 - val_accuracy: 0.9868\n",
      "Epoch 12/20\n",
      "375/375 [==============================] - 3s 8ms/step - loss: 0.0789 - accuracy: 0.9794 - val_loss: 0.0491 - val_accuracy: 0.9867\n",
      "Epoch 13/20\n",
      "375/375 [==============================] - 4s 10ms/step - loss: 0.0799 - accuracy: 0.9787 - val_loss: 0.0493 - val_accuracy: 0.9863\n",
      "Epoch 14/20\n",
      "375/375 [==============================] - 4s 10ms/step - loss: 0.0765 - accuracy: 0.9798 - val_loss: 0.0495 - val_accuracy: 0.9871\n",
      "Epoch 15/20\n",
      "375/375 [==============================] - 3s 9ms/step - loss: 0.0762 - accuracy: 0.9795 - val_loss: 0.0488 - val_accuracy: 0.9868\n",
      "Epoch 16/20\n",
      "375/375 [==============================] - 3s 9ms/step - loss: 0.0788 - accuracy: 0.9786 - val_loss: 0.0502 - val_accuracy: 0.9868\n",
      "Epoch 17/20\n",
      "375/375 [==============================] - 3s 9ms/step - loss: 0.0807 - accuracy: 0.9787 - val_loss: 0.0472 - val_accuracy: 0.9868\n",
      "Epoch 18/20\n",
      "375/375 [==============================] - 3s 8ms/step - loss: 0.0756 - accuracy: 0.9795 - val_loss: 0.0488 - val_accuracy: 0.9868\n",
      "Epoch 19/20\n",
      "375/375 [==============================] - 4s 10ms/step - loss: 0.0799 - accuracy: 0.9785 - val_loss: 0.0500 - val_accuracy: 0.9871\n",
      "Epoch 20/20\n",
      "375/375 [==============================] - 4s 10ms/step - loss: 0.0749 - accuracy: 0.9806 - val_loss: 0.0492 - val_accuracy: 0.9866\n"
     ]
    }
   ],
   "source": [
    "batch_size = 128\n",
    "mm2_history=mm2.fit([X_train,X_train], Y_train,\n",
    "          batch_size=batch_size,\n",
    "          epochs=20,\n",
    "          verbose=1, validation_data=([X_val,X_val], Y_val))"
   ]
  },
  {
   "cell_type": "code",
   "execution_count": 63,
   "metadata": {
    "colab": {
     "base_uri": "https://localhost:8080/"
    },
    "executionInfo": {
     "elapsed": 2537,
     "status": "ok",
     "timestamp": 1613658847281,
     "user": {
      "displayName": "Musab R.",
      "photoUrl": "https://lh3.googleusercontent.com/a-/AOh14Ggo6kK28_a_Swx27ReDE7W6SlcMcsOsRyiTC_xFvA=s64",
      "userId": "11675938905762231877"
     },
     "user_tz": -300
    },
    "id": "ZItNMtouNo7v",
    "outputId": "60ca30cf-1ff6-4d72-a368-d94ac7f58a05"
   },
   "outputs": [
    {
     "name": "stdout",
     "output_type": "stream",
     "text": [
      "313/313 [==============================] - 2s 6ms/step - loss: 0.0360 - accuracy: 0.9896\n"
     ]
    },
    {
     "data": {
      "text/plain": [
       "(0.03601359203457832, 0.9896000027656555)"
      ]
     },
     "execution_count": 63,
     "metadata": {},
     "output_type": "execute_result"
    }
   ],
   "source": [
    "loss, acc = mm2.evaluate([X_test,X_test], Y_test, verbose=1)\n",
    "loss, acc "
   ]
  },
  {
   "cell_type": "code",
   "execution_count": 64,
   "metadata": {},
   "outputs": [
    {
     "name": "stdout",
     "output_type": "stream",
     "text": [
      "Model: \"model_20\"\n",
      "__________________________________________________________________________________________________\n",
      "Layer (type)                    Output Shape         Param #     Connected to                     \n",
      "==================================================================================================\n",
      "s1_input (InputLayer)           [(None, 28, 28, 1)]  0                                            \n",
      "__________________________________________________________________________________________________\n",
      "s2_input (InputLayer)           [(None, 28, 28, 1)]  0                                            \n",
      "__________________________________________________________________________________________________\n",
      "s1 (Conv2D)                     (None, 24, 24, 32)   832         s1_input[0][0]                   \n",
      "__________________________________________________________________________________________________\n",
      "s2 (Conv2D)                     (None, 24, 24, 32)   832         s2_input[0][0]                   \n",
      "__________________________________________________________________________________________________\n",
      "conv2d_50 (Conv2D)              (None, 20, 20, 32)   25632       s1[0][0]                         \n",
      "__________________________________________________________________________________________________\n",
      "conv2d_53 (Conv2D)              (None, 20, 20, 32)   25632       s2[0][0]                         \n",
      "__________________________________________________________________________________________________\n",
      "max_pooling2d_31 (MaxPooling2D) (None, 10, 10, 32)   0           conv2d_50[0][0]                  \n",
      "__________________________________________________________________________________________________\n",
      "max_pooling2d_33 (MaxPooling2D) (None, 10, 10, 32)   0           conv2d_53[0][0]                  \n",
      "__________________________________________________________________________________________________\n",
      "conv2d_51 (Conv2D)              (None, 8, 8, 16)     4624        max_pooling2d_31[0][0]           \n",
      "__________________________________________________________________________________________________\n",
      "conv2d_54 (Conv2D)              (None, 8, 8, 16)     4624        max_pooling2d_33[0][0]           \n",
      "__________________________________________________________________________________________________\n",
      "conv2d_52 (Conv2D)              (None, 6, 6, 16)     2320        conv2d_51[0][0]                  \n",
      "__________________________________________________________________________________________________\n",
      "conv2d_55 (Conv2D)              (None, 6, 6, 16)     2320        conv2d_54[0][0]                  \n",
      "__________________________________________________________________________________________________\n",
      "max_pooling2d_32 (MaxPooling2D) (None, 3, 3, 16)     0           conv2d_52[0][0]                  \n",
      "__________________________________________________________________________________________________\n",
      "max_pooling2d_34 (MaxPooling2D) (None, 3, 3, 16)     0           conv2d_55[0][0]                  \n",
      "__________________________________________________________________________________________________\n",
      "dropout_33 (Dropout)            (None, 3, 3, 16)     0           max_pooling2d_32[0][0]           \n",
      "__________________________________________________________________________________________________\n",
      "dropout_35 (Dropout)            (None, 3, 3, 16)     0           max_pooling2d_34[0][0]           \n",
      "__________________________________________________________________________________________________\n",
      "flatten_15 (Flatten)            (None, 144)          0           dropout_33[0][0]                 \n",
      "__________________________________________________________________________________________________\n",
      "flatten_16 (Flatten)            (None, 144)          0           dropout_35[0][0]                 \n",
      "__________________________________________________________________________________________________\n",
      "dense_63 (Dense)                (None, 32)           4640        flatten_15[0][0]                 \n",
      "__________________________________________________________________________________________________\n",
      "dense_64 (Dense)                (None, 32)           4640        flatten_16[0][0]                 \n",
      "__________________________________________________________________________________________________\n",
      "dropout_34 (Dropout)            (None, 32)           0           dense_63[0][0]                   \n",
      "__________________________________________________________________________________________________\n",
      "dropout_36 (Dropout)            (None, 32)           0           dense_64[0][0]                   \n",
      "__________________________________________________________________________________________________\n",
      "reqs1 (Dense)                   (None, 128)          4224        dropout_34[0][0]                 \n",
      "__________________________________________________________________________________________________\n",
      "reqs2 (Dense)                   (None, 128)          4224        dropout_36[0][0]                 \n",
      "__________________________________________________________________________________________________\n",
      "concatenate_3 (Concatenate)     (None, 256)          0           reqs1[0][0]                      \n",
      "                                                                 reqs2[0][0]                      \n",
      "__________________________________________________________________________________________________\n",
      "activation_4 (Activation)       (None, 256)          0           concatenate_3[0][0]              \n",
      "__________________________________________________________________________________________________\n",
      "dropout_37 (Dropout)            (None, 256)          0           activation_4[0][0]               \n",
      "__________________________________________________________________________________________________\n",
      "d1 (Dense)                      (None, 10)           2570        dropout_37[0][0]                 \n",
      "==================================================================================================\n",
      "Total params: 87,114\n",
      "Trainable params: 2,570\n",
      "Non-trainable params: 84,544\n",
      "__________________________________________________________________________________________________\n"
     ]
    }
   ],
   "source": [
    "mm2.summary()"
   ]
  },
  {
   "cell_type": "markdown",
   "metadata": {},
   "source": []
  }
 ],
 "metadata": {
  "accelerator": "GPU",
  "colab": {
   "collapsed_sections": [],
   "name": "[1,2,4,8] Students Configuration On MNIST Using GANs.ipynb",
   "provenance": []
  },
  "kernelspec": {
   "display_name": "Python 3",
   "language": "python",
   "name": "python3"
  },
  "language_info": {
   "codemirror_mode": {
    "name": "ipython",
    "version": 3
   },
   "file_extension": ".py",
   "mimetype": "text/x-python",
   "name": "python",
   "nbconvert_exporter": "python",
   "pygments_lexer": "ipython3",
   "version": "3.6.9"
  }
 },
 "nbformat": 4,
 "nbformat_minor": 1
}
