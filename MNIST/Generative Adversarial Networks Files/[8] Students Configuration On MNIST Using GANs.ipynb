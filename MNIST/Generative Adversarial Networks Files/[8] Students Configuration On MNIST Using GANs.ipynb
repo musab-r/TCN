{
 "cells": [
  {
   "cell_type": "markdown",
   "metadata": {
    "id": "EPdE7Fs3VdXY"
   },
   "source": [
    "# Distilling Knowledge in Multiple Students  using Generative models"
   ]
  },
  {
   "cell_type": "code",
   "execution_count": 1,
   "metadata": {
    "id": "2xlC_N0QVomM"
   },
   "outputs": [],
   "source": [
    "# !nvidia-smi"
   ]
  },
  {
   "cell_type": "code",
   "execution_count": 1,
   "metadata": {
    "id": "ce2GSoOKWFKP"
   },
   "outputs": [],
   "source": [
    "import numpy as np\n",
    "import tensorflow as tf\n",
    "import tensorflow.keras\n",
    "import tensorflow.keras.backend as K\n",
    "from tensorflow.keras.datasets import fashion_mnist,mnist,cifar10\n",
    "from tensorflow.keras.layers import Conv2D,Activation,BatchNormalization,UpSampling2D,Embedding,ZeroPadding2D, Input, Flatten, Dense, Reshape, LeakyReLU, Dropout,MaxPooling2D\n",
    "from tensorflow.keras.models import Sequential, Model\n",
    "from tensorflow.keras.optimizers import Adam, SGD, RMSprop\n",
    "from tensorflow.keras import regularizers\n",
    "\n",
    "from tensorflow.keras.utils import Progbar\n",
    "from keras.initializers import RandomNormal\n",
    "import random\n",
    "from sklearn.model_selection import train_test_split\n",
    "from tensorflow.keras import utils as np_utils\n",
    "\n",
    "physical_devices = tf.config.list_physical_devices('GPU')\n",
    "tf.config.experimental.set_memory_growth(physical_devices[0], True)"
   ]
  },
  {
   "cell_type": "markdown",
   "metadata": {
    "id": "NyzL58V7WNdL"
   },
   "source": [
    "### Teacher's Training"
   ]
  },
  {
   "cell_type": "code",
   "execution_count": 2,
   "metadata": {
    "colab": {
     "base_uri": "https://localhost:8080/"
    },
    "executionInfo": {
     "elapsed": 20712,
     "status": "ok",
     "timestamp": 1613652674507,
     "user": {
      "displayName": "Musab R.",
      "photoUrl": "https://lh3.googleusercontent.com/a-/AOh14Ggo6kK28_a_Swx27ReDE7W6SlcMcsOsRyiTC_xFvA=s64",
      "userId": "11675938905762231877"
     },
     "user_tz": -300
    },
    "id": "lyIJv1WRNo7G",
    "outputId": "aef3e3c5-b57d-44a1-e2c6-db851ca0e3b5",
    "scrolled": true
   },
   "outputs": [
    {
     "name": "stdout",
     "output_type": "stream",
     "text": [
      "Model: \"sequential\"\n",
      "_________________________________________________________________\n",
      "Layer (type)                 Output Shape              Param #   \n",
      "=================================================================\n",
      "conv2d (Conv2D)              (None, 26, 26, 32)        320       \n",
      "_________________________________________________________________\n",
      "conv2d_1 (Conv2D)            (None, 24, 24, 64)        18496     \n",
      "_________________________________________________________________\n",
      "max_pooling2d (MaxPooling2D) (None, 12, 12, 64)        0         \n",
      "_________________________________________________________________\n",
      "dropout (Dropout)            (None, 12, 12, 64)        0         \n",
      "_________________________________________________________________\n",
      "flatten (Flatten)            (None, 9216)              0         \n",
      "_________________________________________________________________\n",
      "dense (Dense)                (None, 256)               2359552   \n",
      "_________________________________________________________________\n",
      "dense_1 (Dense)              (None, 256)               65792     \n",
      "_________________________________________________________________\n",
      "dropout_1 (Dropout)          (None, 256)               0         \n",
      "_________________________________________________________________\n",
      "dense_2 (Dense)              (None, 10)                2570      \n",
      "_________________________________________________________________\n",
      "activation (Activation)      (None, 10)                0         \n",
      "=================================================================\n",
      "Total params: 2,446,730\n",
      "Trainable params: 2,446,730\n",
      "Non-trainable params: 0\n",
      "_________________________________________________________________\n",
      "None\n"
     ]
    }
   ],
   "source": [
    "#Loading and splitting the dataset into train, validation and test\n",
    "nb_classes = 10\n",
    "\n",
    "(X_Train, y_Train), (X_test, y_test) = mnist.load_data()\n",
    "X_train, X_val, y_train, y_val = train_test_split(X_Train, y_Train, test_size=0.20)\n",
    "Y_train = np_utils.to_categorical(y_train, nb_classes)\n",
    "Y_val = np_utils.to_categorical(y_val, nb_classes)\n",
    "\n",
    "X_train = X_train.reshape(48000, 28, 28, 1)\n",
    "X_val = X_val.reshape(12000, 28, 28, 1)\n",
    "\n",
    "X_train = X_train.astype('float32')\n",
    "X_val = X_val.astype('float32')\n",
    "\n",
    "# Normalize the values\n",
    "X_train /= 255\n",
    "X_val /= 255\n",
    "\n",
    "\n",
    "#Creating a teacher network\n",
    "input_shape = (28, 28, 1) # Input shape of each image\n",
    "\n",
    "teacher = Sequential()\n",
    "teacher.add(Conv2D(32, kernel_size=(3, 3),\n",
    "                 activation='relu',\n",
    "                 input_shape=input_shape))\n",
    "teacher.add(Conv2D(64, (3, 3), activation='relu'))\n",
    "teacher.add(MaxPooling2D(pool_size=(2, 2)))\n",
    "\n",
    "teacher.add(Dropout(0.25)) # For reguralization\n",
    "\n",
    "teacher.add(Flatten())\n",
    "teacher.add(Dense(256, activation='relu'))\n",
    "teacher.add(Dense(256, activation='relu', name=\"dense_1\"))\n",
    "\n",
    "teacher.add(Dropout(0.5)) # For reguralization\n",
    "\n",
    "teacher.add(Dense(nb_classes, name = 'dense_2'))\n",
    "teacher.add(Activation('softmax')) # Note that we add a normal softmax layer to begin with\n",
    "\n",
    "teacher.compile(loss='categorical_crossentropy',\n",
    "              optimizer='adadelta',\n",
    "              metrics=['accuracy'])\n",
    "\n",
    "print(teacher.summary())\n"
   ]
  },
  {
   "cell_type": "code",
   "execution_count": null,
   "metadata": {},
   "outputs": [],
   "source": [
    "# Train the teacher model as usual\n",
    "epochs = 0\n",
    "batch_size = 256\n",
    "teacher.fit(X_train, Y_train,\n",
    "          batch_size=batch_size,\n",
    "          epochs=epochs,\n",
    "          verbose=1,\n",
    "          validation_data=(X_val, Y_val))\n"
   ]
  },
  {
   "cell_type": "markdown",
   "metadata": {
    "id": "t8jy5iVRWGuE"
   },
   "source": [
    "### Evaluation "
   ]
  },
  {
   "cell_type": "code",
   "execution_count": 3,
   "metadata": {
    "id": "v6mBfSS7No7Q"
   },
   "outputs": [],
   "source": [
    "teacher.load_weights(\"Teacher_MNIST_98.h5\")"
   ]
  },
  {
   "cell_type": "code",
   "execution_count": 4,
   "metadata": {
    "id": "HhwY-3bONo7M"
   },
   "outputs": [],
   "source": [
    "Y_test = np_utils.to_categorical(y_test, nb_classes)"
   ]
  },
  {
   "cell_type": "code",
   "execution_count": 5,
   "metadata": {
    "id": "7l50L-8hRG6y"
   },
   "outputs": [],
   "source": [
    "X_test = X_test.reshape(10000, 28, 28, 1)\n",
    "\n",
    "X_test = X_test.astype('float32')\n",
    "# Normalize the values\n",
    "X_test /= 255"
   ]
  },
  {
   "cell_type": "code",
   "execution_count": 6,
   "metadata": {
    "colab": {
     "base_uri": "https://localhost:8080/"
    },
    "executionInfo": {
     "elapsed": 2989,
     "status": "ok",
     "timestamp": 1613652677603,
     "user": {
      "displayName": "Musab R.",
      "photoUrl": "https://lh3.googleusercontent.com/a-/AOh14Ggo6kK28_a_Swx27ReDE7W6SlcMcsOsRyiTC_xFvA=s64",
      "userId": "11675938905762231877"
     },
     "user_tz": -300
    },
    "id": "EoLx2I_dNo7N",
    "outputId": "a1183477-5b27-4136-953f-a0d65e4c1b23"
   },
   "outputs": [
    {
     "name": "stdout",
     "output_type": "stream",
     "text": [
      "313/313 [==============================] - 2s 3ms/step - loss: 0.0484 - accuracy: 0.9874\n"
     ]
    },
    {
     "data": {
      "text/plain": [
       "[0.03833923488855362, 0.9894999861717224]"
      ]
     },
     "execution_count": 6,
     "metadata": {},
     "output_type": "execute_result"
    }
   ],
   "source": [
    "teacher.evaluate(X_test,Y_test)"
   ]
  },
  {
   "cell_type": "markdown",
   "metadata": {
    "id": "Ka0RmVsXWW_h"
   },
   "source": [
    "### Dense Vector split"
   ]
  },
  {
   "cell_type": "code",
   "execution_count": 7,
   "metadata": {
    "id": "eIlRbRObW-kc"
   },
   "outputs": [],
   "source": [
    "teacher_WO_Softmax = Model(teacher.input, teacher.get_layer('dense_1').output)\n",
    "train_dense = teacher_WO_Softmax.predict(X_train)\n",
    "val_dense = teacher_WO_Softmax.predict(X_val)\n",
    "\n",
    "# 8 Students case\n",
    "# ---------------------------------------------\n",
    "s1Train=train_dense[:,:32]\n",
    "s2Train=train_dense[:,32:64]\n",
    "s3Train=train_dense[:,64:96]\n",
    "s4Train=train_dense[:,96:128]\n",
    "s5Train=train_dense[:,128:160]\n",
    "s6Train=train_dense[:,160:192]\n",
    "s7Train=train_dense[:,192:224]\n",
    "s8Train=train_dense[:,224:]"
   ]
  },
  {
   "cell_type": "markdown",
   "metadata": {
    "id": "5BLAAcCSb70h"
   },
   "source": [
    "## GANs' Training"
   ]
  },
  {
   "cell_type": "code",
   "execution_count": 8,
   "metadata": {
    "id": "5Bf51HQeYB19"
   },
   "outputs": [],
   "source": [
    "# import np.random import random\n",
    "BATCH_SIZE=32\n",
    "def smooth_real_labels(y):\n",
    "    return y - 0.3+(np.random.random(y.shape)*0.5)\n",
    "def smooth_fake_labels(y):\n",
    "    return y + (0.3 * np.random.random(y.shape))\n",
    "def build_gan(gen,disc): \n",
    "    disc.trainable = False\n",
    "    input= Input(shape=input_shape)\n",
    "    output = gen(input)\n",
    "    output2= disc(output)\n",
    "    gan=Model(input,output2)\n",
    "\n",
    "    gan.compile(Adam(lr=0.0002),loss=['binary_crossentropy','mse'],metrics=['accuracy'])\n",
    "\n",
    "    return gan"
   ]
  },
  {
   "cell_type": "markdown",
   "metadata": {
    "id": "9Fu6K6TmFQBM"
   },
   "source": [
    "### Discriminator"
   ]
  },
  {
   "cell_type": "code",
   "execution_count": 9,
   "metadata": {
    "id": "7DN9rlsCXBHl"
   },
   "outputs": [],
   "source": [
    "def build_sdiscriminator():\n",
    "    \n",
    "    input2 = Input(shape=(32,),name='input')\n",
    "    inp=Dense(64)(input2)\n",
    "\n",
    "    leaky_relu = LeakyReLU(alpha=0.2)(inp)\n",
    "    \n",
    "    conv3 = Dense(128)(leaky_relu)\n",
    "    b_n = BatchNormalization()(conv3)\n",
    "    leaky_relu = LeakyReLU(alpha=0.2)(b_n)\n",
    "    conv4 = Dense(256)(leaky_relu)\n",
    "    b_n = BatchNormalization()(conv4)\n",
    "    leaky_relu = LeakyReLU(alpha=0.2)(b_n)\n",
    "    conv4 = Dense(512)(leaky_relu)\n",
    "    b_n = BatchNormalization()(conv4)\n",
    "    leaky_relu = LeakyReLU(alpha=0.2)(b_n)\n",
    "    conv4 = Dense(1024)(leaky_relu)\n",
    "    b_n = BatchNormalization()(conv4)\n",
    "    leaky_relu = LeakyReLU(alpha=0.2)(b_n)\n",
    "\n",
    "    dense = Dense(1,activation='sigmoid',name='dense')(leaky_relu)\n",
    "\n",
    "    output2=Dense(32)(leaky_relu)\n",
    "\n",
    "    \n",
    "    disc = Model(input2,[dense,output2])          \n",
    "    disc.compile(optd,loss=['binary_crossentropy','mse'],metrics=['accuracy'])\n",
    "\n",
    "\n",
    "    return disc"
   ]
  },
  {
   "cell_type": "code",
   "execution_count": 10,
   "metadata": {
    "id": "s12vr0BvNo7X"
   },
   "outputs": [],
   "source": [
    "optd = Adam(lr=0.0002)\n",
    "opt = Adam(lr=0.0002)"
   ]
  },
  {
   "cell_type": "code",
   "execution_count": 11,
   "metadata": {
    "colab": {
     "base_uri": "https://localhost:8080/"
    },
    "executionInfo": {
     "elapsed": 1224,
     "status": "ok",
     "timestamp": 1613660158283,
     "user": {
      "displayName": "Musab R.",
      "photoUrl": "https://lh3.googleusercontent.com/a-/AOh14Ggo6kK28_a_Swx27ReDE7W6SlcMcsOsRyiTC_xFvA=s64",
      "userId": "11675938905762231877"
     },
     "user_tz": -300
    },
    "id": "TUcuHmtYNo7W",
    "outputId": "4f328e32-0955-49ab-c725-f6b088cda273"
   },
   "outputs": [],
   "source": [
    "# d1= build_sdiscriminator()\n",
    "# d1.summary()"
   ]
  },
  {
   "cell_type": "markdown",
   "metadata": {
    "id": "HtXOpFGFEYrH"
   },
   "source": [
    "### Generator"
   ]
  },
  {
   "cell_type": "code",
   "execution_count": 14,
   "metadata": {
    "id": "ElnQTkvSXE7h"
   },
   "outputs": [
    {
     "name": "stdout",
     "output_type": "stream",
     "text": [
      "Model: \"sequential_3\"\n",
      "_________________________________________________________________\n",
      "Layer (type)                 Output Shape              Param #   \n",
      "=================================================================\n",
      "conv2d_10 (Conv2D)           (None, 26, 26, 16)        160       \n",
      "_________________________________________________________________\n",
      "conv2d_11 (Conv2D)           (None, 24, 24, 16)        2320      \n",
      "_________________________________________________________________\n",
      "max_pooling2d_5 (MaxPooling2 (None, 12, 12, 16)        0         \n",
      "_________________________________________________________________\n",
      "conv2d_12 (Conv2D)           (None, 10, 10, 16)        2320      \n",
      "_________________________________________________________________\n",
      "conv2d_13 (Conv2D)           (None, 8, 8, 16)          2320      \n",
      "_________________________________________________________________\n",
      "max_pooling2d_6 (MaxPooling2 (None, 4, 4, 16)          0         \n",
      "_________________________________________________________________\n",
      "flatten_3 (Flatten)          (None, 256)               0         \n",
      "_________________________________________________________________\n",
      "dense_3 (Dense)              (None, 8)                 2056      \n",
      "_________________________________________________________________\n",
      "dropout_6 (Dropout)          (None, 8)                 0         \n",
      "_________________________________________________________________\n",
      "req (Dense)                  (None, 32)                288       \n",
      "=================================================================\n",
      "Total params: 9,464\n",
      "Trainable params: 9,464\n",
      "Non-trainable params: 0\n",
      "_________________________________________________________________\n"
     ]
    }
   ],
   "source": [
    "def build_sgenerator(name):\n",
    "\n",
    "    student1 = Sequential()\n",
    "    student1.add(Conv2D(16, kernel_size=(3, 3),activation='relu',input_shape=(28, 28, 1),kernel_initializer='normal', name=name))\n",
    "    student1.add(Conv2D(16, (3, 3), activation='relu',kernel_initializer='normal'))\n",
    "    student1.add(MaxPooling2D(pool_size=(2, 2)))\n",
    "\n",
    "    student1.add(Conv2D(16, kernel_size=(3, 3),activation='relu',kernel_initializer='normal'))\n",
    "    student1.add(Conv2D(16, (3, 3), activation='relu',kernel_initializer='normal'))\n",
    "    student1.add(MaxPooling2D(pool_size=(2, 2)))\n",
    "\n",
    "    student1.add(Flatten())\n",
    "    student1.add(Dense(8, activation='relu'))\n",
    "    student1.add(Dropout(0.2))\n",
    "    student1.add(Dense(32,name='req'+name))\n",
    "\n",
    "    student1.compile(opt,loss='mean_squared_error',metrics=['accuracy'])\n",
    "    \n",
    "    return student1\n",
    "\n",
    "build_sgenerator('').summary()"
   ]
  },
  {
   "cell_type": "code",
   "execution_count": 15,
   "metadata": {
    "id": "edsqBRYpNo7e"
   },
   "outputs": [],
   "source": [
    "def training(generator,discriminator,gan,features,epo=20):\n",
    "    # Setup Models here\n",
    "    BATCH_SIZE = 128\n",
    "    discriminator.trainable = True\n",
    "    total_size = X_train.shape[0]\n",
    "    indices = np.arange(0,total_size ,BATCH_SIZE)\n",
    "    all_disc_loss = []\n",
    "    all_gen_loss = []\n",
    "    all_class_loss=[]\n",
    "    if total_size % BATCH_SIZE:\n",
    "        indices = indices[:-1]\n",
    "    for e in range(epo):\n",
    "        \n",
    "        progress_bar = Progbar(target=len(indices))\n",
    "        np.random.shuffle(indices)\n",
    "        epoch_gen_loss = []\n",
    "        epoch_disc_loss = []\n",
    "        epoch_class_loss= []\n",
    "        for i,index in enumerate(indices):\n",
    "        \n",
    "            # Split\n",
    "            inputs=X_train[index:index+BATCH_SIZE]\n",
    "            sXtrain = features[index:index+BATCH_SIZE]\n",
    "\n",
    "            y_real = np.ones((BATCH_SIZE,1))\n",
    "            y_fake = np.zeros((BATCH_SIZE,1))\n",
    "\n",
    "            #Generator Training\n",
    "            fake_images = generator.predict_on_batch(inputs)\n",
    "\n",
    "            #Disrciminator Training\n",
    "            disc_real_loss1,_,disc_real_loss2,_,_= discriminator.train_on_batch(sXtrain,[y_real,sXtrain])\n",
    "            disc_fake_loss1,_,disc_fake_loss2,_,_= discriminator.train_on_batch(fake_images,[y_fake,sXtrain])\n",
    "\n",
    "            #Gans Training\n",
    "            discriminator.trainable = False\n",
    "            gan_loss,_,gan_loss2,_,_ = gan.train_on_batch(inputs, [y_real,sXtrain])\n",
    "\n",
    "            discriminator.trainable = True\n",
    "\n",
    "            disc_loss = (disc_fake_loss1 + disc_real_loss1)/2\n",
    "            epoch_disc_loss.append(disc_loss)\n",
    "            progress_bar.update(i+1)\n",
    "\n",
    "            epoch_gen_loss.append((gan_loss))\n",
    "\n",
    "        avg_epoch_disc_loss = np.array(epoch_disc_loss).mean()\n",
    "        avg_epoch_gen_loss = np.array(epoch_gen_loss).mean()\n",
    "        all_disc_loss.append(avg_epoch_disc_loss)\n",
    "        all_gen_loss.append(avg_epoch_gen_loss)\n",
    "        print(\"Epoch: %d | Discriminator Loss: %f | Generator Loss: %f | \" % (e+1,avg_epoch_disc_loss,avg_epoch_gen_loss))\n",
    "\n",
    "    return generator"
   ]
  },
  {
   "cell_type": "markdown",
   "metadata": {
    "id": "4W3HwYXRFYPf"
   },
   "source": [
    "You can initialize multiple instances here "
   ]
  },
  {
   "cell_type": "code",
   "execution_count": 16,
   "metadata": {
    "id": "X9oy60_SNo7k",
    "scrolled": true
   },
   "outputs": [],
   "source": [
    "discriminator1 = build_sdiscriminator()\n",
    "discriminator2 = build_sdiscriminator()\n",
    "discriminator3 = build_sdiscriminator()\n",
    "discriminator4 = build_sdiscriminator()\n",
    "discriminator5 = build_sdiscriminator()\n",
    "discriminator6 = build_sdiscriminator()\n",
    "discriminator7 = build_sdiscriminator()\n",
    "discriminator8 = build_sdiscriminator()\n"
   ]
  },
  {
   "cell_type": "code",
   "execution_count": 17,
   "metadata": {
    "id": "MomgOJRaNo7l"
   },
   "outputs": [],
   "source": [
    "s1=build_sgenerator(\"s1\")\n",
    "s2=build_sgenerator('s2')\n",
    "s3=build_sgenerator(\"s3\")\n",
    "s4=build_sgenerator('s4')\n",
    "s5=build_sgenerator(\"s5\")\n",
    "s6=build_sgenerator('s6')\n",
    "s7=build_sgenerator(\"s7\")\n",
    "s8=build_sgenerator('s8')\n"
   ]
  },
  {
   "cell_type": "code",
   "execution_count": 18,
   "metadata": {
    "id": "JivZOb38No7l"
   },
   "outputs": [],
   "source": [
    "gan1 = build_gan(s1,discriminator1)\n",
    "gan2 = build_gan(s2,discriminator2)\n",
    "gan3 = build_gan(s3,discriminator3)\n",
    "gan4 = build_gan(s4,discriminator4)\n",
    "gan5 = build_gan(s5,discriminator5)\n",
    "gan6 = build_gan(s6,discriminator6)\n",
    "gan7 = build_gan(s7,discriminator7)\n",
    "gan8 = build_gan(s8,discriminator8)"
   ]
  },
  {
   "cell_type": "code",
   "execution_count": 19,
   "metadata": {
    "colab": {
     "base_uri": "https://localhost:8080/"
    },
    "executionInfo": {
     "elapsed": 3590314,
     "status": "ok",
     "timestamp": 1613663781923,
     "user": {
      "displayName": "Musab R.",
      "photoUrl": "https://lh3.googleusercontent.com/a-/AOh14Ggo6kK28_a_Swx27ReDE7W6SlcMcsOsRyiTC_xFvA=s64",
      "userId": "11675938905762231877"
     },
     "user_tz": -300
    },
    "id": "e8wjg4vrNo7l",
    "outputId": "48289479-1e6d-4b60-8bc2-b09996f7c40a"
   },
   "outputs": [
    {
     "name": "stdout",
     "output_type": "stream",
     "text": [
      "375/375 [==============================] - 14s 35ms/step\n",
      "Epoch: 1 | Discriminator Loss: 0.610805 | Generator Loss: 1.859144 | \n",
      "375/375 [==============================] - 14s 36ms/step\n",
      "Epoch: 2 | Discriminator Loss: 0.258086 | Generator Loss: 1.366812 | \n",
      "375/375 [==============================] - 14s 36ms/step\n",
      "Epoch: 3 | Discriminator Loss: 0.202305 | Generator Loss: 1.261209 | \n",
      "375/375 [==============================] - 13s 34ms/step\n",
      "Epoch: 4 | Discriminator Loss: 0.181961 | Generator Loss: 1.220852 | \n",
      "375/375 [==============================] - 13s 34ms/step\n",
      "Epoch: 5 | Discriminator Loss: 0.169446 | Generator Loss: 1.150024 | \n",
      "375/375 [==============================] - 13s 35ms/step\n",
      "Epoch: 6 | Discriminator Loss: 0.162774 | Generator Loss: 1.079804 | \n",
      "375/375 [==============================] - 13s 35ms/step\n",
      "Epoch: 7 | Discriminator Loss: 0.159599 | Generator Loss: 1.012977 | \n",
      "375/375 [==============================] - 13s 35ms/step\n",
      "Epoch: 8 | Discriminator Loss: 0.156496 | Generator Loss: 0.996097 | \n",
      "375/375 [==============================] - 13s 35ms/step\n",
      "Epoch: 9 | Discriminator Loss: 0.158079 | Generator Loss: 1.030014 | \n",
      "375/375 [==============================] - 14s 36ms/step\n",
      "Epoch: 10 | Discriminator Loss: 0.154638 | Generator Loss: 1.042378 | \n",
      "375/375 [==============================] - 13s 36ms/step\n",
      "Epoch: 11 | Discriminator Loss: 0.149733 | Generator Loss: 1.047510 | \n",
      "375/375 [==============================] - 13s 35ms/step\n",
      "Epoch: 12 | Discriminator Loss: 0.151000 | Generator Loss: 1.074338 | \n",
      "375/375 [==============================] - 13s 36ms/step\n",
      "Epoch: 13 | Discriminator Loss: 0.150898 | Generator Loss: 1.054802 | \n",
      "375/375 [==============================] - 14s 36ms/step\n",
      "Epoch: 14 | Discriminator Loss: 0.151066 | Generator Loss: 1.037259 | \n",
      "375/375 [==============================] - 12s 33ms/step\n",
      "Epoch: 15 | Discriminator Loss: 0.144036 | Generator Loss: 0.958791 | \n",
      "375/375 [==============================] - 13s 35ms/step\n",
      "Epoch: 16 | Discriminator Loss: 0.145672 | Generator Loss: 0.958873 | \n",
      "375/375 [==============================] - 13s 35ms/step\n",
      "Epoch: 17 | Discriminator Loss: 0.145066 | Generator Loss: 0.933494 | \n",
      "375/375 [==============================] - 14s 37ms/step\n",
      "Epoch: 18 | Discriminator Loss: 0.142613 | Generator Loss: 0.944043 | \n",
      "375/375 [==============================] - 13s 36ms/step\n",
      "Epoch: 19 | Discriminator Loss: 0.142215 | Generator Loss: 0.914527 | \n",
      "375/375 [==============================] - 14s 36ms/step\n",
      "Epoch: 20 | Discriminator Loss: 0.143107 | Generator Loss: 0.893003 | \n",
      "375/375 [==============================] - 14s 37ms/step\n",
      "Epoch: 21 | Discriminator Loss: 0.139004 | Generator Loss: 0.841609 | \n",
      "375/375 [==============================] - 14s 37ms/step\n",
      "Epoch: 22 | Discriminator Loss: 0.145144 | Generator Loss: 0.891031 | \n",
      "375/375 [==============================] - 13s 35ms/step\n",
      "Epoch: 23 | Discriminator Loss: 0.242898 | Generator Loss: 1.173957 | \n",
      "375/375 [==============================] - 13s 34ms/step\n",
      "Epoch: 24 | Discriminator Loss: 0.263382 | Generator Loss: 1.155629 | \n",
      "375/375 [==============================] - 14s 38ms/step\n",
      "Epoch: 25 | Discriminator Loss: 0.274118 | Generator Loss: 1.205764 | \n",
      "375/375 [==============================] - 14s 38ms/step\n",
      "Epoch: 26 | Discriminator Loss: 0.273582 | Generator Loss: 1.191904 | \n",
      "375/375 [==============================] - 14s 37ms/step\n",
      "Epoch: 27 | Discriminator Loss: 0.272953 | Generator Loss: 1.150881 | \n",
      "375/375 [==============================] - 14s 36ms/step\n",
      "Epoch: 28 | Discriminator Loss: 0.269367 | Generator Loss: 1.101124 | \n",
      "375/375 [==============================] - 14s 37ms/step\n",
      "Epoch: 29 | Discriminator Loss: 0.259757 | Generator Loss: 1.094297 | \n",
      "375/375 [==============================] - 15s 39ms/step\n",
      "Epoch: 30 | Discriminator Loss: 0.240201 | Generator Loss: 0.996123 | \n",
      "375/375 [==============================] - 14s 37ms/step\n",
      "Epoch: 31 | Discriminator Loss: 0.223121 | Generator Loss: 0.980976 | \n",
      "375/375 [==============================] - 14s 37ms/step\n",
      "Epoch: 32 | Discriminator Loss: 0.216633 | Generator Loss: 0.954456 | \n",
      "375/375 [==============================] - 13s 36ms/step\n",
      "Epoch: 33 | Discriminator Loss: 0.212885 | Generator Loss: 0.937766 | \n",
      "375/375 [==============================] - 13s 36ms/step\n",
      "Epoch: 34 | Discriminator Loss: 0.211598 | Generator Loss: 0.913662 | \n",
      "375/375 [==============================] - 13s 36ms/step\n",
      "Epoch: 35 | Discriminator Loss: 0.213608 | Generator Loss: 0.921856 | \n",
      "375/375 [==============================] - 13s 36ms/step\n",
      "Epoch: 36 | Discriminator Loss: 0.212181 | Generator Loss: 0.906570 | \n",
      "375/375 [==============================] - 14s 36ms/step\n",
      "Epoch: 37 | Discriminator Loss: 0.207452 | Generator Loss: 0.874568 | \n",
      "375/375 [==============================] - 13s 34ms/step\n",
      "Epoch: 38 | Discriminator Loss: 0.197816 | Generator Loss: 0.848818 | \n",
      "375/375 [==============================] - 13s 35ms/step\n",
      "Epoch: 39 | Discriminator Loss: 0.193412 | Generator Loss: 0.827259 | \n",
      "375/375 [==============================] - 13s 36ms/step\n",
      "Epoch: 40 | Discriminator Loss: 0.190429 | Generator Loss: 0.817247 | \n",
      "375/375 [==============================] - 14s 35ms/step\n",
      "Epoch: 1 | Discriminator Loss: 0.530128 | Generator Loss: 1.845499 | \n",
      "375/375 [==============================] - 14s 36ms/step\n",
      "Epoch: 2 | Discriminator Loss: 0.233868 | Generator Loss: 1.360620 | \n",
      "375/375 [==============================] - 13s 36ms/step\n",
      "Epoch: 3 | Discriminator Loss: 0.192490 | Generator Loss: 1.214221 | \n",
      "375/375 [==============================] - 13s 35ms/step\n",
      "Epoch: 4 | Discriminator Loss: 0.173802 | Generator Loss: 1.123611 | \n",
      "375/375 [==============================] - 14s 37ms/step\n",
      "Epoch: 5 | Discriminator Loss: 0.156222 | Generator Loss: 1.052206 | \n",
      "375/375 [==============================] - 13s 34ms/step\n",
      "Epoch: 6 | Discriminator Loss: 0.144874 | Generator Loss: 0.993865 | \n",
      "375/375 [==============================] - 13s 35ms/step\n",
      "Epoch: 7 | Discriminator Loss: 0.140129 | Generator Loss: 0.957624 | \n",
      "375/375 [==============================] - 13s 35ms/step\n",
      "Epoch: 8 | Discriminator Loss: 0.143007 | Generator Loss: 0.994180 | \n",
      "375/375 [==============================] - 13s 35ms/step\n",
      "Epoch: 9 | Discriminator Loss: 0.142657 | Generator Loss: 1.000677 | \n",
      "375/375 [==============================] - 13s 36ms/step\n",
      "Epoch: 10 | Discriminator Loss: 0.135574 | Generator Loss: 0.964846 | \n",
      "375/375 [==============================] - 13s 34ms/step\n",
      "Epoch: 11 | Discriminator Loss: 0.129273 | Generator Loss: 0.916218 | \n",
      "375/375 [==============================] - 14s 36ms/step\n",
      "Epoch: 12 | Discriminator Loss: 0.125229 | Generator Loss: 0.904218 | \n",
      "375/375 [==============================] - 13s 34ms/step\n",
      "Epoch: 13 | Discriminator Loss: 0.121810 | Generator Loss: 0.892604 | \n",
      "375/375 [==============================] - 13s 34ms/step\n",
      "Epoch: 14 | Discriminator Loss: 0.118966 | Generator Loss: 0.881480 | \n",
      "375/375 [==============================] - 13s 34ms/step\n",
      "Epoch: 15 | Discriminator Loss: 0.118252 | Generator Loss: 0.874741 | \n",
      "375/375 [==============================] - 13s 34ms/step\n",
      "Epoch: 16 | Discriminator Loss: 0.119383 | Generator Loss: 0.845932 | \n",
      "375/375 [==============================] - 13s 36ms/step\n",
      "Epoch: 17 | Discriminator Loss: 0.118514 | Generator Loss: 0.803441 | \n",
      "375/375 [==============================] - 13s 34ms/step\n",
      "Epoch: 18 | Discriminator Loss: 0.118387 | Generator Loss: 0.785546 | \n",
      "375/375 [==============================] - 12s 33ms/step\n",
      "Epoch: 19 | Discriminator Loss: 0.118650 | Generator Loss: 0.778954 | \n",
      "375/375 [==============================] - 14s 36ms/step\n",
      "Epoch: 20 | Discriminator Loss: 0.116999 | Generator Loss: 0.754743 | \n",
      "375/375 [==============================] - 13s 34ms/step\n",
      "Epoch: 21 | Discriminator Loss: 0.115648 | Generator Loss: 0.737816 | \n",
      "375/375 [==============================] - 12s 32ms/step\n",
      "Epoch: 22 | Discriminator Loss: 0.114842 | Generator Loss: 0.715182 | \n",
      "375/375 [==============================] - 12s 33ms/step\n",
      "Epoch: 23 | Discriminator Loss: 0.113571 | Generator Loss: 0.695401 | \n",
      "375/375 [==============================] - 13s 34ms/step\n",
      "Epoch: 24 | Discriminator Loss: 0.112824 | Generator Loss: 0.683658 | \n"
     ]
    },
    {
     "name": "stdout",
     "output_type": "stream",
     "text": [
      "375/375 [==============================] - 13s 35ms/step\n",
      "Epoch: 25 | Discriminator Loss: 0.111280 | Generator Loss: 0.666995 | \n",
      "375/375 [==============================] - 13s 36ms/step\n",
      "Epoch: 26 | Discriminator Loss: 0.109028 | Generator Loss: 0.659777 | \n",
      "375/375 [==============================] - 13s 36ms/step\n",
      "Epoch: 27 | Discriminator Loss: 0.107637 | Generator Loss: 0.658450 | \n",
      "375/375 [==============================] - 13s 35ms/step\n",
      "Epoch: 28 | Discriminator Loss: 0.108057 | Generator Loss: 0.653270 | \n",
      "375/375 [==============================] - 12s 32ms/step\n",
      "Epoch: 29 | Discriminator Loss: 0.107762 | Generator Loss: 0.645326 | \n",
      "375/375 [==============================] - 12s 32ms/step\n",
      "Epoch: 30 | Discriminator Loss: 0.108339 | Generator Loss: 0.642249 | \n",
      "375/375 [==============================] - 12s 31ms/step\n",
      "Epoch: 31 | Discriminator Loss: 0.106973 | Generator Loss: 0.626940 | \n",
      "375/375 [==============================] - 12s 33ms/step\n",
      "Epoch: 32 | Discriminator Loss: 0.106111 | Generator Loss: 0.634499 | \n",
      "375/375 [==============================] - 13s 33ms/step\n",
      "Epoch: 33 | Discriminator Loss: 0.104942 | Generator Loss: 0.623581 | \n",
      "375/375 [==============================] - 12s 32ms/step\n",
      "Epoch: 34 | Discriminator Loss: 0.103811 | Generator Loss: 0.623812 | \n",
      "375/375 [==============================] - 12s 33ms/step\n",
      "Epoch: 35 | Discriminator Loss: 0.103014 | Generator Loss: 0.623496 | \n",
      "375/375 [==============================] - 13s 32ms/step\n",
      "Epoch: 1 | Discriminator Loss: 0.671430 | Generator Loss: 2.135574 | \n",
      "375/375 [==============================] - 12s 31ms/step\n",
      "Epoch: 2 | Discriminator Loss: 0.374701 | Generator Loss: 1.565369 | \n",
      "375/375 [==============================] - 12s 32ms/step\n",
      "Epoch: 3 | Discriminator Loss: 0.271199 | Generator Loss: 1.343226 | \n",
      "375/375 [==============================] - 12s 33ms/step\n",
      "Epoch: 4 | Discriminator Loss: 0.213595 | Generator Loss: 1.201221 | \n",
      "375/375 [==============================] - 12s 31ms/step\n",
      "Epoch: 5 | Discriminator Loss: 0.194342 | Generator Loss: 1.140898 | \n",
      "375/375 [==============================] - 12s 33ms/step\n",
      "Epoch: 6 | Discriminator Loss: 0.184320 | Generator Loss: 1.069065 | \n",
      "375/375 [==============================] - 12s 31ms/step\n",
      "Epoch: 7 | Discriminator Loss: 0.176369 | Generator Loss: 0.997687 | \n",
      "375/375 [==============================] - 13s 34ms/step\n",
      "Epoch: 8 | Discriminator Loss: 0.170213 | Generator Loss: 0.961712 | \n",
      "375/375 [==============================] - 13s 34ms/step\n",
      "Epoch: 9 | Discriminator Loss: 0.163506 | Generator Loss: 0.919914 | \n",
      "375/375 [==============================] - 12s 32ms/step\n",
      "Epoch: 10 | Discriminator Loss: 0.156922 | Generator Loss: 0.893161 | \n",
      "375/375 [==============================] - 12s 33ms/step\n",
      "Epoch: 11 | Discriminator Loss: 0.150626 | Generator Loss: 0.848577 | \n",
      "375/375 [==============================] - 13s 34ms/step\n",
      "Epoch: 12 | Discriminator Loss: 0.147768 | Generator Loss: 0.835367 | \n",
      "375/375 [==============================] - 12s 33ms/step\n",
      "Epoch: 13 | Discriminator Loss: 0.147522 | Generator Loss: 0.836667 | \n",
      "375/375 [==============================] - 13s 34ms/step\n",
      "Epoch: 14 | Discriminator Loss: 0.146934 | Generator Loss: 0.824689 | \n",
      "375/375 [==============================] - 13s 34ms/step\n",
      "Epoch: 15 | Discriminator Loss: 0.151069 | Generator Loss: 0.845657 | \n",
      "375/375 [==============================] - 12s 32ms/step\n",
      "Epoch: 16 | Discriminator Loss: 0.160632 | Generator Loss: 0.888736 | \n",
      "375/375 [==============================] - 13s 33ms/step\n",
      "Epoch: 17 | Discriminator Loss: 0.184136 | Generator Loss: 1.019641 | \n",
      "375/375 [==============================] - 12s 31ms/step\n",
      "Epoch: 18 | Discriminator Loss: 0.183578 | Generator Loss: 1.044678 | \n",
      "375/375 [==============================] - 13s 33ms/step\n",
      "Epoch: 19 | Discriminator Loss: 0.167627 | Generator Loss: 0.951889 | \n",
      "375/375 [==============================] - 12s 31ms/step\n",
      "Epoch: 20 | Discriminator Loss: 0.166247 | Generator Loss: 0.899558 | \n",
      "375/375 [==============================] - 13s 34ms/step\n",
      "Epoch: 21 | Discriminator Loss: 0.160072 | Generator Loss: 0.852479 | \n",
      "375/375 [==============================] - 13s 34ms/step\n",
      "Epoch: 22 | Discriminator Loss: 0.155269 | Generator Loss: 0.819456 | \n",
      "375/375 [==============================] - 12s 33ms/step\n",
      "Epoch: 23 | Discriminator Loss: 0.152714 | Generator Loss: 0.808566 | \n",
      "375/375 [==============================] - 13s 34ms/step\n",
      "Epoch: 24 | Discriminator Loss: 0.147341 | Generator Loss: 0.769443 | \n",
      "375/375 [==============================] - 12s 32ms/step\n",
      "Epoch: 25 | Discriminator Loss: 0.141140 | Generator Loss: 0.734375 | \n",
      "375/375 [==============================] - 12s 32ms/step\n",
      "Epoch: 26 | Discriminator Loss: 0.137916 | Generator Loss: 0.736326 | \n",
      "375/375 [==============================] - 12s 33ms/step\n",
      "Epoch: 27 | Discriminator Loss: 0.134969 | Generator Loss: 0.727602 | \n",
      "375/375 [==============================] - 12s 32ms/step\n",
      "Epoch: 28 | Discriminator Loss: 0.131487 | Generator Loss: 0.711894 | \n",
      "375/375 [==============================] - 12s 32ms/step\n",
      "Epoch: 29 | Discriminator Loss: 0.128111 | Generator Loss: 0.698740 | \n",
      "375/375 [==============================] - 13s 33ms/step\n",
      "Epoch: 30 | Discriminator Loss: 0.126664 | Generator Loss: 0.701633 | \n",
      "375/375 [==============================] - 13s 35ms/step\n",
      "Epoch: 31 | Discriminator Loss: 0.124362 | Generator Loss: 0.695324 | \n",
      "375/375 [==============================] - 12s 31ms/step\n",
      "Epoch: 32 | Discriminator Loss: 0.122612 | Generator Loss: 0.734830 | \n",
      "375/375 [==============================] - 12s 32ms/step\n",
      "Epoch: 33 | Discriminator Loss: 0.151835 | Generator Loss: 0.865600 | \n",
      "375/375 [==============================] - 12s 33ms/step\n",
      "Epoch: 34 | Discriminator Loss: 0.165946 | Generator Loss: 0.919515 | \n",
      "375/375 [==============================] - 12s 32ms/step\n",
      "Epoch: 35 | Discriminator Loss: 0.157541 | Generator Loss: 0.826895 | \n",
      "375/375 [==============================] - 12s 32ms/step\n",
      "Epoch: 36 | Discriminator Loss: 0.127209 | Generator Loss: 0.729062 | \n",
      "375/375 [==============================] - 12s 32ms/step\n",
      "Epoch: 37 | Discriminator Loss: 0.120783 | Generator Loss: 0.686908 | \n",
      "375/375 [==============================] - 12s 32ms/step\n",
      "Epoch: 38 | Discriminator Loss: 0.117659 | Generator Loss: 0.653921 | \n",
      "375/375 [==============================] - 13s 34ms/step\n",
      "Epoch: 39 | Discriminator Loss: 0.115961 | Generator Loss: 0.635968 | \n",
      "375/375 [==============================] - 13s 34ms/step\n",
      "Epoch: 40 | Discriminator Loss: 0.115266 | Generator Loss: 0.645182 | \n",
      "375/375 [==============================] - 13s 32ms/step\n",
      "Epoch: 1 | Discriminator Loss: 0.486530 | Generator Loss: 1.927779 | \n",
      "375/375 [==============================] - 13s 33ms/step\n",
      "Epoch: 2 | Discriminator Loss: 0.235687 | Generator Loss: 1.360142 | \n",
      "375/375 [==============================] - 13s 34ms/step\n",
      "Epoch: 3 | Discriminator Loss: 0.190987 | Generator Loss: 1.158121 | \n",
      "375/375 [==============================] - 13s 35ms/step\n",
      "Epoch: 4 | Discriminator Loss: 0.171133 | Generator Loss: 1.126561 | \n",
      "375/375 [==============================] - 13s 34ms/step\n",
      "Epoch: 5 | Discriminator Loss: 0.156353 | Generator Loss: 1.093483 | \n",
      "375/375 [==============================] - 13s 34ms/step\n",
      "Epoch: 6 | Discriminator Loss: 0.150038 | Generator Loss: 1.074499 | \n",
      "375/375 [==============================] - 13s 35ms/step\n",
      "Epoch: 7 | Discriminator Loss: 0.148951 | Generator Loss: 1.042640 | \n",
      "375/375 [==============================] - 13s 34ms/step\n",
      "Epoch: 8 | Discriminator Loss: 0.148633 | Generator Loss: 1.041933 | \n",
      "375/375 [==============================] - 13s 34ms/step\n",
      "Epoch: 9 | Discriminator Loss: 0.149902 | Generator Loss: 1.064044 | \n",
      "375/375 [==============================] - 13s 34ms/step\n",
      "Epoch: 10 | Discriminator Loss: 0.149602 | Generator Loss: 1.048408 | \n",
      "375/375 [==============================] - 13s 34ms/step\n",
      "Epoch: 11 | Discriminator Loss: 0.147860 | Generator Loss: 1.002774 | \n",
      "375/375 [==============================] - 13s 34ms/step\n",
      "Epoch: 12 | Discriminator Loss: 0.147487 | Generator Loss: 0.954758 | \n",
      "375/375 [==============================] - 12s 33ms/step\n",
      "Epoch: 13 | Discriminator Loss: 0.148226 | Generator Loss: 0.947557 | \n"
     ]
    },
    {
     "name": "stdout",
     "output_type": "stream",
     "text": [
      "375/375 [==============================] - 13s 35ms/step\n",
      "Epoch: 14 | Discriminator Loss: 0.149544 | Generator Loss: 0.932659 | \n",
      "375/375 [==============================] - 13s 35ms/step\n",
      "Epoch: 15 | Discriminator Loss: 0.152267 | Generator Loss: 0.976963 | \n",
      "375/375 [==============================] - 13s 34ms/step\n",
      "Epoch: 16 | Discriminator Loss: 0.153405 | Generator Loss: 0.938478 | \n",
      "375/375 [==============================] - 13s 34ms/step\n",
      "Epoch: 17 | Discriminator Loss: 0.171029 | Generator Loss: 0.987870 | \n",
      "375/375 [==============================] - 13s 35ms/step\n",
      "Epoch: 18 | Discriminator Loss: 0.837781 | Generator Loss: 2.998919 | \n",
      "375/375 [==============================] - 13s 34ms/step\n",
      "Epoch: 19 | Discriminator Loss: 0.768313 | Generator Loss: 2.834702 | \n",
      "375/375 [==============================] - 14s 37ms/step\n",
      "Epoch: 20 | Discriminator Loss: 0.766245 | Generator Loss: 2.553581 | \n",
      "375/375 [==============================] - 14s 36ms/step\n",
      "Epoch: 21 | Discriminator Loss: 0.765208 | Generator Loss: 2.374185 | \n",
      "375/375 [==============================] - 14s 37ms/step\n",
      "Epoch: 22 | Discriminator Loss: 0.764657 | Generator Loss: 2.228440 | \n",
      "375/375 [==============================] - 13s 35ms/step\n",
      "Epoch: 23 | Discriminator Loss: 0.764024 | Generator Loss: 2.098474 | \n",
      "375/375 [==============================] - 13s 35ms/step\n",
      "Epoch: 24 | Discriminator Loss: 0.763613 | Generator Loss: 2.021402 | \n",
      "375/375 [==============================] - 13s 34ms/step\n",
      "Epoch: 25 | Discriminator Loss: 0.763273 | Generator Loss: 1.957961 | \n",
      "375/375 [==============================] - 13s 35ms/step\n",
      "Epoch: 26 | Discriminator Loss: 0.762958 | Generator Loss: 1.907200 | \n",
      "375/375 [==============================] - 13s 35ms/step\n",
      "Epoch: 27 | Discriminator Loss: 0.762596 | Generator Loss: 1.862342 | \n",
      "375/375 [==============================] - 13s 35ms/step\n",
      "Epoch: 28 | Discriminator Loss: 0.762445 | Generator Loss: 1.823743 | \n",
      "375/375 [==============================] - 14s 36ms/step\n",
      "Epoch: 29 | Discriminator Loss: 0.762082 | Generator Loss: 1.795604 | \n",
      "375/375 [==============================] - 14s 36ms/step\n",
      "Epoch: 30 | Discriminator Loss: 0.761887 | Generator Loss: 1.771994 | \n",
      "375/375 [==============================] - 13s 35ms/step\n",
      "Epoch: 31 | Discriminator Loss: 0.761684 | Generator Loss: 1.747537 | \n",
      "375/375 [==============================] - 14s 37ms/step\n",
      "Epoch: 32 | Discriminator Loss: 0.761613 | Generator Loss: 1.730379 | \n",
      "375/375 [==============================] - 13s 35ms/step\n",
      "Epoch: 33 | Discriminator Loss: 0.761430 | Generator Loss: 1.719431 | \n",
      "375/375 [==============================] - 13s 36ms/step\n",
      "Epoch: 34 | Discriminator Loss: 0.761210 | Generator Loss: 1.702444 | \n",
      "375/375 [==============================] - 13s 34ms/step\n",
      "Epoch: 35 | Discriminator Loss: 0.761041 | Generator Loss: 1.700524 | \n"
     ]
    }
   ],
   "source": [
    "s1 = training(s1,discriminator1,gan1,s1Train,epo=40)\n",
    "s2 = training(s2,discriminator2,gan2,s2Train,epo=35)\n",
    "s3 = training(s3,discriminator3,gan3,s3Train,epo=40)\n",
    "s4 = training(s4,discriminator4,gan4,s4Train,epo=35)"
   ]
  },
  {
   "cell_type": "code",
   "execution_count": 20,
   "metadata": {},
   "outputs": [
    {
     "name": "stdout",
     "output_type": "stream",
     "text": [
      "375/375 [==============================] - 14s 35ms/step\n",
      "Epoch: 1 | Discriminator Loss: 0.602180 | Generator Loss: 2.024832 | \n",
      "375/375 [==============================] - 13s 36ms/step\n",
      "Epoch: 2 | Discriminator Loss: 0.316920 | Generator Loss: 1.462762 | \n",
      "375/375 [==============================] - 14s 38ms/step\n",
      "Epoch: 3 | Discriminator Loss: 0.256590 | Generator Loss: 1.336074 | \n",
      "375/375 [==============================] - 14s 37ms/step\n",
      "Epoch: 4 | Discriminator Loss: 0.210634 | Generator Loss: 1.210713 | \n",
      "375/375 [==============================] - 14s 38ms/step\n",
      "Epoch: 5 | Discriminator Loss: 0.190840 | Generator Loss: 1.096297 | \n",
      "375/375 [==============================] - 13s 36ms/step\n",
      "Epoch: 6 | Discriminator Loss: 0.181825 | Generator Loss: 1.021782 | \n",
      "375/375 [==============================] - 13s 35ms/step\n",
      "Epoch: 7 | Discriminator Loss: 0.177091 | Generator Loss: 0.991264 | \n",
      "375/375 [==============================] - 13s 36ms/step\n",
      "Epoch: 8 | Discriminator Loss: 0.171314 | Generator Loss: 0.960569 | \n",
      "375/375 [==============================] - 14s 36ms/step\n",
      "Epoch: 9 | Discriminator Loss: 0.164866 | Generator Loss: 0.953682 | \n",
      "375/375 [==============================] - 13s 36ms/step\n",
      "Epoch: 10 | Discriminator Loss: 0.158549 | Generator Loss: 0.932271 | \n",
      "375/375 [==============================] - 14s 36ms/step\n",
      "Epoch: 11 | Discriminator Loss: 0.154170 | Generator Loss: 0.907300 | \n",
      "375/375 [==============================] - 13s 35ms/step\n",
      "Epoch: 12 | Discriminator Loss: 0.150641 | Generator Loss: 0.871706 | \n",
      "375/375 [==============================] - 14s 36ms/step\n",
      "Epoch: 13 | Discriminator Loss: 0.147923 | Generator Loss: 0.842210 | \n",
      "375/375 [==============================] - 14s 37ms/step\n",
      "Epoch: 14 | Discriminator Loss: 0.144514 | Generator Loss: 0.818142 | \n",
      "375/375 [==============================] - 13s 36ms/step\n",
      "Epoch: 15 | Discriminator Loss: 0.141920 | Generator Loss: 0.812462 | \n",
      "375/375 [==============================] - 13s 35ms/step\n",
      "Epoch: 16 | Discriminator Loss: 0.138027 | Generator Loss: 0.792543 | \n",
      "375/375 [==============================] - 13s 35ms/step\n",
      "Epoch: 17 | Discriminator Loss: 0.133971 | Generator Loss: 0.788848 | \n",
      "375/375 [==============================] - 14s 38ms/step\n",
      "Epoch: 18 | Discriminator Loss: 0.131389 | Generator Loss: 0.773475 | \n",
      "375/375 [==============================] - 13s 34ms/step\n",
      "Epoch: 19 | Discriminator Loss: 0.129191 | Generator Loss: 0.757610 | \n",
      "375/375 [==============================] - 13s 35ms/step\n",
      "Epoch: 20 | Discriminator Loss: 0.128609 | Generator Loss: 0.753209 | \n",
      "375/375 [==============================] - 13s 35ms/step\n",
      "Epoch: 21 | Discriminator Loss: 0.127129 | Generator Loss: 0.752066 | \n",
      "375/375 [==============================] - 14s 38ms/step\n",
      "Epoch: 22 | Discriminator Loss: 0.126774 | Generator Loss: 0.747738 | \n",
      "375/375 [==============================] - 13s 36ms/step\n",
      "Epoch: 23 | Discriminator Loss: 0.126185 | Generator Loss: 0.743099 | \n",
      "375/375 [==============================] - 13s 35ms/step\n",
      "Epoch: 24 | Discriminator Loss: 0.124184 | Generator Loss: 0.737892 | \n",
      "375/375 [==============================] - 14s 39ms/step\n",
      "Epoch: 25 | Discriminator Loss: 0.122334 | Generator Loss: 0.726151 | \n",
      "375/375 [==============================] - 14s 38ms/step\n",
      "Epoch: 26 | Discriminator Loss: 0.121012 | Generator Loss: 0.708978 | \n",
      "375/375 [==============================] - 14s 36ms/step\n",
      "Epoch: 27 | Discriminator Loss: 0.119525 | Generator Loss: 0.706198 | \n",
      "375/375 [==============================] - 13s 34ms/step\n",
      "Epoch: 28 | Discriminator Loss: 0.117625 | Generator Loss: 0.695357 | \n",
      "375/375 [==============================] - 14s 37ms/step\n",
      "Epoch: 29 | Discriminator Loss: 0.116828 | Generator Loss: 0.685542 | \n",
      "375/375 [==============================] - 14s 36ms/step\n",
      "Epoch: 30 | Discriminator Loss: 0.334751 | Generator Loss: 1.718101 | \n",
      "375/375 [==============================] - 14s 36ms/step\n",
      "Epoch: 31 | Discriminator Loss: 0.279984 | Generator Loss: 1.341254 | \n",
      "375/375 [==============================] - 14s 36ms/step\n",
      "Epoch: 32 | Discriminator Loss: 0.198303 | Generator Loss: 1.057405 | \n",
      "375/375 [==============================] - 14s 36ms/step\n",
      "Epoch: 33 | Discriminator Loss: 0.178452 | Generator Loss: 1.077647 | \n",
      "375/375 [==============================] - 13s 35ms/step\n",
      "Epoch: 34 | Discriminator Loss: 0.160730 | Generator Loss: 0.944953 | \n",
      "375/375 [==============================] - 13s 34ms/step\n",
      "Epoch: 35 | Discriminator Loss: 0.151896 | Generator Loss: 0.879342 | \n",
      "375/375 [==============================] - 13s 34ms/step\n",
      "Epoch: 36 | Discriminator Loss: 0.142951 | Generator Loss: 0.864391 | \n",
      "375/375 [==============================] - 13s 35ms/step\n",
      "Epoch: 37 | Discriminator Loss: 0.136153 | Generator Loss: 0.838584 | \n",
      "375/375 [==============================] - 14s 36ms/step\n",
      "Epoch: 38 | Discriminator Loss: 0.131945 | Generator Loss: 0.816022 | \n",
      "375/375 [==============================] - 13s 36ms/step\n",
      "Epoch: 39 | Discriminator Loss: 0.128459 | Generator Loss: 0.805633 | \n",
      "375/375 [==============================] - 13s 35ms/step\n",
      "Epoch: 40 | Discriminator Loss: 0.126630 | Generator Loss: 0.802217 | \n",
      "375/375 [==============================] - 15s 37ms/step\n",
      "Epoch: 1 | Discriminator Loss: 0.578687 | Generator Loss: 1.714682 | \n",
      "375/375 [==============================] - 13s 35ms/step\n",
      "Epoch: 2 | Discriminator Loss: 0.320097 | Generator Loss: 1.304895 | \n",
      "375/375 [==============================] - 14s 36ms/step\n",
      "Epoch: 3 | Discriminator Loss: 0.251651 | Generator Loss: 1.142553 | \n",
      "375/375 [==============================] - 13s 35ms/step\n",
      "Epoch: 4 | Discriminator Loss: 0.219665 | Generator Loss: 1.029254 | \n",
      "375/375 [==============================] - 13s 35ms/step\n",
      "Epoch: 5 | Discriminator Loss: 0.196637 | Generator Loss: 0.960313 | \n",
      "375/375 [==============================] - 13s 34ms/step\n",
      "Epoch: 6 | Discriminator Loss: 0.181350 | Generator Loss: 0.962720 | \n",
      "375/375 [==============================] - 13s 36ms/step\n",
      "Epoch: 7 | Discriminator Loss: 0.176122 | Generator Loss: 0.990328 | \n",
      "375/375 [==============================] - 13s 35ms/step\n",
      "Epoch: 8 | Discriminator Loss: 0.185700 | Generator Loss: 1.005348 | \n",
      "375/375 [==============================] - 13s 34ms/step\n",
      "Epoch: 9 | Discriminator Loss: 0.189456 | Generator Loss: 0.990813 | \n",
      "375/375 [==============================] - 13s 36ms/step\n",
      "Epoch: 10 | Discriminator Loss: 0.189760 | Generator Loss: 0.993282 | \n",
      "375/375 [==============================] - 13s 34ms/step\n",
      "Epoch: 11 | Discriminator Loss: 0.190395 | Generator Loss: 0.994955 | \n",
      "375/375 [==============================] - 14s 36ms/step\n",
      "Epoch: 12 | Discriminator Loss: 0.184845 | Generator Loss: 0.964967 | \n",
      "375/375 [==============================] - 13s 35ms/step\n",
      "Epoch: 13 | Discriminator Loss: 0.208749 | Generator Loss: 1.063600 | \n",
      "375/375 [==============================] - 13s 34ms/step\n",
      "Epoch: 14 | Discriminator Loss: 0.223876 | Generator Loss: 1.179356 | \n",
      "375/375 [==============================] - 13s 34ms/step\n",
      "Epoch: 15 | Discriminator Loss: 0.486314 | Generator Loss: 1.627898 | \n",
      "375/375 [==============================] - 13s 34ms/step\n",
      "Epoch: 16 | Discriminator Loss: 0.517183 | Generator Loss: 1.355723 | \n",
      "375/375 [==============================] - 12s 33ms/step\n",
      "Epoch: 17 | Discriminator Loss: 0.503217 | Generator Loss: 1.353724 | \n",
      "375/375 [==============================] - 13s 34ms/step\n",
      "Epoch: 18 | Discriminator Loss: 0.497639 | Generator Loss: 1.336041 | \n",
      "375/375 [==============================] - 12s 33ms/step\n",
      "Epoch: 19 | Discriminator Loss: 0.500016 | Generator Loss: 1.333902 | \n",
      "375/375 [==============================] - 13s 36ms/step\n",
      "Epoch: 20 | Discriminator Loss: 0.510292 | Generator Loss: 1.320693 | \n",
      "375/375 [==============================] - 13s 35ms/step\n",
      "Epoch: 21 | Discriminator Loss: 0.521288 | Generator Loss: 1.335122 | \n",
      "375/375 [==============================] - 12s 33ms/step\n",
      "Epoch: 22 | Discriminator Loss: 0.519948 | Generator Loss: 1.329335 | \n",
      "375/375 [==============================] - 14s 36ms/step\n",
      "Epoch: 23 | Discriminator Loss: 0.505673 | Generator Loss: 1.313191 | \n",
      "375/375 [==============================] - 13s 34ms/step\n",
      "Epoch: 24 | Discriminator Loss: 0.479383 | Generator Loss: 1.302564 | \n"
     ]
    },
    {
     "name": "stdout",
     "output_type": "stream",
     "text": [
      "375/375 [==============================] - 13s 35ms/step\n",
      "Epoch: 25 | Discriminator Loss: 0.478025 | Generator Loss: 1.272705 | \n",
      "375/375 [==============================] - 13s 35ms/step\n",
      "Epoch: 26 | Discriminator Loss: 0.471157 | Generator Loss: 1.252849 | \n",
      "375/375 [==============================] - 13s 36ms/step\n",
      "Epoch: 27 | Discriminator Loss: 0.459086 | Generator Loss: 1.304870 | \n",
      "375/375 [==============================] - 14s 37ms/step\n",
      "Epoch: 28 | Discriminator Loss: 0.454498 | Generator Loss: 1.332359 | \n",
      "375/375 [==============================] - 13s 35ms/step\n",
      "Epoch: 29 | Discriminator Loss: 0.498249 | Generator Loss: 1.374321 | \n",
      "375/375 [==============================] - 14s 37ms/step\n",
      "Epoch: 30 | Discriminator Loss: 0.473220 | Generator Loss: 1.322039 | \n",
      "375/375 [==============================] - 13s 35ms/step\n",
      "Epoch: 31 | Discriminator Loss: 0.455974 | Generator Loss: 1.359948 | \n",
      "375/375 [==============================] - 13s 36ms/step\n",
      "Epoch: 32 | Discriminator Loss: 0.430157 | Generator Loss: 1.244474 | \n",
      "375/375 [==============================] - 13s 35ms/step\n",
      "Epoch: 33 | Discriminator Loss: 0.436119 | Generator Loss: 1.282787 | \n",
      "375/375 [==============================] - 14s 36ms/step\n",
      "Epoch: 34 | Discriminator Loss: 0.506755 | Generator Loss: 1.311760 | \n",
      "375/375 [==============================] - 13s 36ms/step\n",
      "Epoch: 35 | Discriminator Loss: 0.485710 | Generator Loss: 1.288043 | \n",
      "375/375 [==============================] - 15s 35ms/step\n",
      "Epoch: 1 | Discriminator Loss: 0.638479 | Generator Loss: 2.257310 | \n",
      "375/375 [==============================] - 13s 34ms/step\n",
      "Epoch: 2 | Discriminator Loss: 0.343384 | Generator Loss: 2.010418 | \n",
      "375/375 [==============================] - 14s 37ms/step\n",
      "Epoch: 3 | Discriminator Loss: 0.283303 | Generator Loss: 1.565891 | \n",
      "375/375 [==============================] - 14s 38ms/step\n",
      "Epoch: 4 | Discriminator Loss: 0.222651 | Generator Loss: 1.299378 | \n",
      "375/375 [==============================] - 13s 36ms/step\n",
      "Epoch: 5 | Discriminator Loss: 0.194801 | Generator Loss: 1.204603 | \n",
      "375/375 [==============================] - 14s 36ms/step\n",
      "Epoch: 6 | Discriminator Loss: 0.168261 | Generator Loss: 1.061160 | \n",
      "375/375 [==============================] - 13s 36ms/step\n",
      "Epoch: 7 | Discriminator Loss: 0.153896 | Generator Loss: 1.017871 | \n",
      "375/375 [==============================] - 13s 35ms/step\n",
      "Epoch: 8 | Discriminator Loss: 0.149234 | Generator Loss: 0.975124 | \n",
      "375/375 [==============================] - 13s 35ms/step\n",
      "Epoch: 9 | Discriminator Loss: 0.144814 | Generator Loss: 0.938706 | \n",
      "375/375 [==============================] - 13s 34ms/step\n",
      "Epoch: 10 | Discriminator Loss: 0.142521 | Generator Loss: 0.905016 | \n",
      "375/375 [==============================] - 14s 37ms/step\n",
      "Epoch: 11 | Discriminator Loss: 0.140944 | Generator Loss: 0.887916 | \n",
      "375/375 [==============================] - 14s 36ms/step\n",
      "Epoch: 12 | Discriminator Loss: 0.140330 | Generator Loss: 0.885266 | \n",
      "375/375 [==============================] - 13s 35ms/step\n",
      "Epoch: 13 | Discriminator Loss: 0.139112 | Generator Loss: 0.860141 | \n",
      "375/375 [==============================] - 14s 38ms/step\n",
      "Epoch: 14 | Discriminator Loss: 0.136546 | Generator Loss: 0.853185 | \n",
      "375/375 [==============================] - 13s 35ms/step\n",
      "Epoch: 15 | Discriminator Loss: 0.144519 | Generator Loss: 0.919634 | \n",
      "375/375 [==============================] - 13s 36ms/step\n",
      "Epoch: 16 | Discriminator Loss: 0.146636 | Generator Loss: 0.897614 | \n",
      "375/375 [==============================] - 13s 36ms/step\n",
      "Epoch: 17 | Discriminator Loss: 0.143812 | Generator Loss: 0.849232 | \n",
      "375/375 [==============================] - 12s 33ms/step\n",
      "Epoch: 18 | Discriminator Loss: 0.139969 | Generator Loss: 0.832815 | \n",
      "375/375 [==============================] - 13s 35ms/step\n",
      "Epoch: 19 | Discriminator Loss: 0.134689 | Generator Loss: 0.803494 | \n",
      "375/375 [==============================] - 14s 37ms/step\n",
      "Epoch: 20 | Discriminator Loss: 0.130585 | Generator Loss: 0.761596 | \n",
      "375/375 [==============================] - 13s 35ms/step\n",
      "Epoch: 21 | Discriminator Loss: 0.127565 | Generator Loss: 0.738039 | \n",
      "375/375 [==============================] - 13s 34ms/step\n",
      "Epoch: 22 | Discriminator Loss: 0.124561 | Generator Loss: 0.727939 | \n",
      "375/375 [==============================] - 13s 35ms/step\n",
      "Epoch: 23 | Discriminator Loss: 0.123333 | Generator Loss: 0.718040 | \n",
      "375/375 [==============================] - 13s 35ms/step\n",
      "Epoch: 24 | Discriminator Loss: 0.121320 | Generator Loss: 0.709828 | \n",
      "375/375 [==============================] - 13s 35ms/step\n",
      "Epoch: 25 | Discriminator Loss: 0.119718 | Generator Loss: 0.711711 | \n",
      "375/375 [==============================] - 13s 33ms/step\n",
      "Epoch: 26 | Discriminator Loss: 0.119436 | Generator Loss: 0.716231 | \n",
      "375/375 [==============================] - 13s 34ms/step\n",
      "Epoch: 27 | Discriminator Loss: 0.118170 | Generator Loss: 0.694874 | \n",
      "375/375 [==============================] - 13s 36ms/step\n",
      "Epoch: 28 | Discriminator Loss: 0.118229 | Generator Loss: 0.693751 | \n",
      "375/375 [==============================] - 13s 35ms/step\n",
      "Epoch: 29 | Discriminator Loss: 0.117341 | Generator Loss: 0.690660 | \n",
      "375/375 [==============================] - 13s 34ms/step\n",
      "Epoch: 30 | Discriminator Loss: 0.115820 | Generator Loss: 0.674502 | \n",
      "375/375 [==============================] - 13s 34ms/step\n",
      "Epoch: 31 | Discriminator Loss: 0.115271 | Generator Loss: 0.681030 | \n",
      "375/375 [==============================] - 13s 34ms/step\n",
      "Epoch: 32 | Discriminator Loss: 0.114951 | Generator Loss: 0.679903 | \n",
      "375/375 [==============================] - 12s 33ms/step\n",
      "Epoch: 33 | Discriminator Loss: 0.114330 | Generator Loss: 0.677239 | \n",
      "375/375 [==============================] - 13s 35ms/step\n",
      "Epoch: 34 | Discriminator Loss: 0.115017 | Generator Loss: 0.676171 | \n",
      "375/375 [==============================] - 12s 32ms/step\n",
      "Epoch: 35 | Discriminator Loss: 0.115209 | Generator Loss: 0.687626 | \n",
      "375/375 [==============================] - 12s 33ms/step\n",
      "Epoch: 36 | Discriminator Loss: 0.115409 | Generator Loss: 0.678244 | \n",
      "375/375 [==============================] - 12s 33ms/step\n",
      "Epoch: 37 | Discriminator Loss: 0.116785 | Generator Loss: 0.680867 | \n",
      "375/375 [==============================] - 13s 34ms/step\n",
      "Epoch: 38 | Discriminator Loss: 0.115733 | Generator Loss: 0.695353 | \n",
      "375/375 [==============================] - 12s 32ms/step\n",
      "Epoch: 39 | Discriminator Loss: 0.113925 | Generator Loss: 0.693267 | \n",
      "375/375 [==============================] - 12s 32ms/step\n",
      "Epoch: 40 | Discriminator Loss: 0.113440 | Generator Loss: 0.684626 | \n",
      "375/375 [==============================] - 13s 32ms/step\n",
      "Epoch: 1 | Discriminator Loss: 0.516536 | Generator Loss: 2.041355 | \n",
      "375/375 [==============================] - 12s 32ms/step\n",
      "Epoch: 2 | Discriminator Loss: 0.289595 | Generator Loss: 1.549714 | \n",
      "375/375 [==============================] - 13s 35ms/step\n",
      "Epoch: 3 | Discriminator Loss: 0.255819 | Generator Loss: 1.418730 | \n",
      "375/375 [==============================] - 12s 32ms/step\n",
      "Epoch: 4 | Discriminator Loss: 0.240733 | Generator Loss: 1.325591 | \n",
      "375/375 [==============================] - 13s 33ms/step\n",
      "Epoch: 5 | Discriminator Loss: 0.209797 | Generator Loss: 1.248379 | \n",
      "375/375 [==============================] - 13s 34ms/step\n",
      "Epoch: 6 | Discriminator Loss: 0.189239 | Generator Loss: 1.292615 | \n",
      "375/375 [==============================] - 12s 33ms/step\n",
      "Epoch: 7 | Discriminator Loss: 0.190514 | Generator Loss: 1.337261 | \n",
      "375/375 [==============================] - 12s 32ms/step\n",
      "Epoch: 8 | Discriminator Loss: 0.187923 | Generator Loss: 1.300526 | \n",
      "375/375 [==============================] - 12s 32ms/step\n",
      "Epoch: 9 | Discriminator Loss: 0.175862 | Generator Loss: 1.228443 | \n",
      "375/375 [==============================] - 12s 33ms/step\n",
      "Epoch: 10 | Discriminator Loss: 0.203764 | Generator Loss: 1.268513 | \n",
      "375/375 [==============================] - 12s 32ms/step\n",
      "Epoch: 11 | Discriminator Loss: 0.178774 | Generator Loss: 1.082514 | \n",
      "375/375 [==============================] - 12s 33ms/step\n",
      "Epoch: 12 | Discriminator Loss: 0.160663 | Generator Loss: 0.992187 | \n",
      "375/375 [==============================] - 13s 34ms/step\n",
      "Epoch: 13 | Discriminator Loss: 0.149794 | Generator Loss: 0.938584 | \n"
     ]
    },
    {
     "name": "stdout",
     "output_type": "stream",
     "text": [
      "375/375 [==============================] - 13s 34ms/step\n",
      "Epoch: 14 | Discriminator Loss: 0.187353 | Generator Loss: 1.008779 | \n",
      "375/375 [==============================] - 13s 34ms/step\n",
      "Epoch: 15 | Discriminator Loss: 0.179574 | Generator Loss: 0.945480 | \n",
      "375/375 [==============================] - 13s 35ms/step\n",
      "Epoch: 16 | Discriminator Loss: 0.178816 | Generator Loss: 0.934864 | \n",
      "375/375 [==============================] - 13s 36ms/step\n",
      "Epoch: 17 | Discriminator Loss: 0.174315 | Generator Loss: 0.953885 | \n",
      "375/375 [==============================] - 13s 35ms/step\n",
      "Epoch: 18 | Discriminator Loss: 0.170118 | Generator Loss: 0.953975 | \n",
      "375/375 [==============================] - 13s 34ms/step\n",
      "Epoch: 19 | Discriminator Loss: 0.171914 | Generator Loss: 0.959371 | \n",
      "375/375 [==============================] - 14s 37ms/step\n",
      "Epoch: 20 | Discriminator Loss: 0.161668 | Generator Loss: 0.943163 | \n",
      "375/375 [==============================] - 13s 34ms/step\n",
      "Epoch: 21 | Discriminator Loss: 0.159665 | Generator Loss: 0.929806 | \n",
      "375/375 [==============================] - 13s 35ms/step\n",
      "Epoch: 22 | Discriminator Loss: 0.155512 | Generator Loss: 0.905956 | \n",
      "375/375 [==============================] - 13s 34ms/step\n",
      "Epoch: 23 | Discriminator Loss: 0.150283 | Generator Loss: 0.886790 | \n",
      "375/375 [==============================] - 13s 35ms/step\n",
      "Epoch: 24 | Discriminator Loss: 0.149929 | Generator Loss: 0.875339 | \n",
      "375/375 [==============================] - 14s 37ms/step\n",
      "Epoch: 25 | Discriminator Loss: 0.146856 | Generator Loss: 0.866555 | \n",
      "375/375 [==============================] - 13s 35ms/step\n",
      "Epoch: 26 | Discriminator Loss: 0.145195 | Generator Loss: 0.868628 | \n",
      "375/375 [==============================] - 13s 34ms/step\n",
      "Epoch: 27 | Discriminator Loss: 0.141564 | Generator Loss: 0.839024 | \n",
      "375/375 [==============================] - 13s 34ms/step\n",
      "Epoch: 28 | Discriminator Loss: 0.139682 | Generator Loss: 0.821392 | \n",
      "375/375 [==============================] - 13s 34ms/step\n",
      "Epoch: 29 | Discriminator Loss: 0.136772 | Generator Loss: 0.806184 | \n",
      "375/375 [==============================] - 13s 35ms/step\n",
      "Epoch: 30 | Discriminator Loss: 0.134532 | Generator Loss: 0.793652 | \n",
      "375/375 [==============================] - 13s 34ms/step\n",
      "Epoch: 31 | Discriminator Loss: 0.133997 | Generator Loss: 0.791725 | \n",
      "375/375 [==============================] - 12s 33ms/step\n",
      "Epoch: 32 | Discriminator Loss: 0.132134 | Generator Loss: 0.784160 | \n",
      "375/375 [==============================] - 13s 35ms/step\n",
      "Epoch: 33 | Discriminator Loss: 0.131195 | Generator Loss: 0.780625 | \n",
      "375/375 [==============================] - 13s 35ms/step\n",
      "Epoch: 34 | Discriminator Loss: 0.130977 | Generator Loss: 0.786211 | \n",
      "375/375 [==============================] - 14s 36ms/step\n",
      "Epoch: 35 | Discriminator Loss: 0.129968 | Generator Loss: 0.775863 | \n"
     ]
    }
   ],
   "source": [
    "s5 = training(s5,discriminator5,gan5,s5Train,epo=40)\n",
    "s6 = training(s6,discriminator6,gan6,s6Train,epo=35)\n",
    "s7 = training(s7,discriminator7,gan7,s7Train,epo=40)\n",
    "s8 = training(s8,discriminator8,gan8,s8Train,epo=35)"
   ]
  },
  {
   "cell_type": "markdown",
   "metadata": {
    "id": "j4up5WvQSodk"
   },
   "source": [
    "## **8 Students**"
   ]
  },
  {
   "cell_type": "code",
   "execution_count": 21,
   "metadata": {
    "id": "Zy44O0FFNo7w"
   },
   "outputs": [
    {
     "name": "stdout",
     "output_type": "stream",
     "text": [
      "(None, 256)\n"
     ]
    }
   ],
   "source": [
    "o1=s1.get_layer(\"reqs1\").output\n",
    "o2=s2.get_layer(\"reqs2\").output\n",
    "o3=s3.get_layer(\"reqs3\").output\n",
    "o4=s4.get_layer(\"reqs4\").output\n",
    "\n",
    "o5=s5.get_layer(\"reqs5\").output\n",
    "o6=s6.get_layer(\"reqs6\").output\n",
    "o7=s7.get_layer(\"reqs7\").output\n",
    "o8=s8.get_layer(\"reqs8\").output\n",
    "\n",
    "output=tensorflow.keras.layers.concatenate([o1,o2,o3,o4, o5,o6,o7,o8])\n",
    "print (output.shape)\n",
    "output=Activation('relu')(output)\n",
    "output2=Dropout(0.5)(output) # For reguralization\n",
    "output3=Dense(10,activation=\"softmax\", name=\"d1\")(output2)\n",
    "mm8=Model([s1.get_layer(\"s1\").input,s2.get_layer(\"s2\").input,s3.get_layer(\"s3\").input,s4.get_layer(\"s4\").input,\n",
    "                  s5.get_layer(\"s5\").input, s6.get_layer(\"s6\").input,s7.get_layer(\"s7\").input,s8.get_layer(\"s8\").input],output3)\n",
    "my_weights=teacher.get_layer('dense_2').get_weights()"
   ]
  },
  {
   "cell_type": "code",
   "execution_count": null,
   "metadata": {
    "id": "5BLMOpCMNo70"
   },
   "outputs": [],
   "source": []
  },
  {
   "cell_type": "code",
   "execution_count": 22,
   "metadata": {
    "id": "qrlNsqfMNo71"
   },
   "outputs": [],
   "source": [
    "# i=0\n",
    "for l in mm8.layers[:len(mm8.layers)-1]:\n",
    "    l.trainable=False\n",
    "\n",
    "mm8.compile(loss='categorical_crossentropy',\n",
    "            optimizer='adam',\n",
    "            metrics=['accuracy'])"
   ]
  },
  {
   "cell_type": "code",
   "execution_count": null,
   "metadata": {
    "id": "PY8jzu06No74",
    "scrolled": true
   },
   "outputs": [
    {
     "name": "stdout",
     "output_type": "stream",
     "text": [
      "Epoch 1/100\n",
      "375/375 [==============================] - 7s 16ms/step - loss: 1.4075 - accuracy: 0.6342 - val_loss: 0.0824 - val_accuracy: 0.9758\n",
      "Epoch 2/100\n",
      "375/375 [==============================] - 5s 13ms/step - loss: 0.1955 - accuracy: 0.9433 - val_loss: 0.0768 - val_accuracy: 0.9778\n",
      "Epoch 3/100\n",
      "375/375 [==============================] - 5s 12ms/step - loss: 0.1589 - accuracy: 0.9552 - val_loss: 0.0757 - val_accuracy: 0.9780\n",
      "Epoch 4/100\n",
      "375/375 [==============================] - 5s 14ms/step - loss: 0.1487 - accuracy: 0.9565 - val_loss: 0.0738 - val_accuracy: 0.9781\n",
      "Epoch 5/100\n",
      "375/375 [==============================] - 5s 13ms/step - loss: 0.1370 - accuracy: 0.9615 - val_loss: 0.0716 - val_accuracy: 0.9787\n",
      "Epoch 6/100\n",
      "375/375 [==============================] - 5s 13ms/step - loss: 0.1328 - accuracy: 0.9641 - val_loss: 0.0710 - val_accuracy: 0.9789\n",
      "Epoch 7/100\n",
      "375/375 [==============================] - 5s 14ms/step - loss: 0.1352 - accuracy: 0.9620 - val_loss: 0.0720 - val_accuracy: 0.9789\n",
      "Epoch 8/100\n",
      "375/375 [==============================] - 5s 14ms/step - loss: 0.1267 - accuracy: 0.9633 - val_loss: 0.0721 - val_accuracy: 0.9778\n",
      "Epoch 9/100\n",
      "375/375 [==============================] - 8s 20ms/step - loss: 0.1260 - accuracy: 0.9645 - val_loss: 0.0707 - val_accuracy: 0.9791\n",
      "Epoch 10/100\n",
      "374/375 [============================>.] - ETA: 0s - loss: 0.1265 - accuracy: 0.9638"
     ]
    }
   ],
   "source": [
    "batch_size = 128\n",
    "mm8_history=mm8.fit([X_train,X_train,X_train,X_train,X_train,X_train,X_train,X_train], Y_train,\n",
    "          batch_size=batch_size,\n",
    "          epochs=100,\n",
    "          verbose=1, validation_data=([X_val, X_val, X_val, X_val,X_val, X_val, X_val, X_val], Y_val))"
   ]
  },
  {
   "cell_type": "code",
   "execution_count": null,
   "metadata": {
    "id": "e_b2fM7yNo76"
   },
   "outputs": [],
   "source": [
    "loss, acc = mm8.evaluate([X_test,X_test,X_test,X_test,X_test,X_test,X_test,X_test], Y_test, verbose=1)\n",
    "loss, acc"
   ]
  },
  {
   "cell_type": "code",
   "execution_count": null,
   "metadata": {
    "id": "nkwBvZ-KNo8J"
   },
   "outputs": [],
   "source": [
    "mm8.summary()"
   ]
  },
  {
   "cell_type": "code",
   "execution_count": null,
   "metadata": {},
   "outputs": [],
   "source": []
  }
 ],
 "metadata": {
  "accelerator": "GPU",
  "colab": {
   "collapsed_sections": [],
   "name": "[1,2,4,8] Students Configuration On MNIST Using GANs.ipynb",
   "provenance": []
  },
  "kernelspec": {
   "display_name": "Python 3",
   "language": "python",
   "name": "python3"
  },
  "language_info": {
   "codemirror_mode": {
    "name": "ipython",
    "version": 3
   },
   "file_extension": ".py",
   "mimetype": "text/x-python",
   "name": "python",
   "nbconvert_exporter": "python",
   "pygments_lexer": "ipython3",
   "version": "3.6.9"
  }
 },
 "nbformat": 4,
 "nbformat_minor": 1
}
