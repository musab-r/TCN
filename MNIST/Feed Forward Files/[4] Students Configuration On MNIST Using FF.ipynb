{
 "cells": [
  {
   "cell_type": "markdown",
   "metadata": {
    "id": "EPdE7Fs3VdXY"
   },
   "source": [
    "# Distilling Knowledge in Multiple Students  using Generative models"
   ]
  },
  {
   "cell_type": "code",
   "execution_count": 1,
   "metadata": {
    "id": "2xlC_N0QVomM"
   },
   "outputs": [],
   "source": [
    "# !nvidia-smi"
   ]
  },
  {
   "cell_type": "code",
   "execution_count": 1,
   "metadata": {
    "id": "ce2GSoOKWFKP"
   },
   "outputs": [],
   "source": [
    "import numpy as np\n",
    "import tensorflow as tf\n",
    "import tensorflow.keras\n",
    "import tensorflow.keras.backend as K\n",
    "from tensorflow.keras.datasets import fashion_mnist,mnist,cifar10\n",
    "from tensorflow.keras.layers import Conv2D,Activation,BatchNormalization,UpSampling2D,Embedding,ZeroPadding2D, Input, Flatten, Dense, Reshape, LeakyReLU, Dropout,MaxPooling2D\n",
    "from tensorflow.keras.models import Sequential, Model\n",
    "from tensorflow.keras.optimizers import Adam, SGD, RMSprop\n",
    "from tensorflow.keras import regularizers\n",
    "\n",
    "from tensorflow.keras.utils import Progbar\n",
    "from keras.initializers import RandomNormal\n",
    "import random\n",
    "from sklearn.model_selection import train_test_split\n",
    "from tensorflow.keras import utils as np_utils\n",
    "\n",
    "physical_devices = tf.config.list_physical_devices('GPU')\n",
    "tf.config.experimental.set_memory_growth(physical_devices[0], True)"
   ]
  },
  {
   "cell_type": "markdown",
   "metadata": {
    "id": "NyzL58V7WNdL"
   },
   "source": [
    "### Teacher's Training"
   ]
  },
  {
   "cell_type": "code",
   "execution_count": 2,
   "metadata": {
    "colab": {
     "base_uri": "https://localhost:8080/"
    },
    "executionInfo": {
     "elapsed": 20712,
     "status": "ok",
     "timestamp": 1613652674507,
     "user": {
      "displayName": "Musab R.",
      "photoUrl": "https://lh3.googleusercontent.com/a-/AOh14Ggo6kK28_a_Swx27ReDE7W6SlcMcsOsRyiTC_xFvA=s64",
      "userId": "11675938905762231877"
     },
     "user_tz": -300
    },
    "id": "lyIJv1WRNo7G",
    "outputId": "aef3e3c5-b57d-44a1-e2c6-db851ca0e3b5",
    "scrolled": true
   },
   "outputs": [
    {
     "name": "stdout",
     "output_type": "stream",
     "text": [
      "Model: \"sequential\"\n",
      "_________________________________________________________________\n",
      "Layer (type)                 Output Shape              Param #   \n",
      "=================================================================\n",
      "conv2d (Conv2D)              (None, 26, 26, 32)        320       \n",
      "_________________________________________________________________\n",
      "conv2d_1 (Conv2D)            (None, 24, 24, 64)        18496     \n",
      "_________________________________________________________________\n",
      "max_pooling2d (MaxPooling2D) (None, 12, 12, 64)        0         \n",
      "_________________________________________________________________\n",
      "dropout (Dropout)            (None, 12, 12, 64)        0         \n",
      "_________________________________________________________________\n",
      "flatten (Flatten)            (None, 9216)              0         \n",
      "_________________________________________________________________\n",
      "dense (Dense)                (None, 256)               2359552   \n",
      "_________________________________________________________________\n",
      "dense_1 (Dense)              (None, 256)               65792     \n",
      "_________________________________________________________________\n",
      "dropout_1 (Dropout)          (None, 256)               0         \n",
      "_________________________________________________________________\n",
      "dense_2 (Dense)              (None, 10)                2570      \n",
      "_________________________________________________________________\n",
      "activation (Activation)      (None, 10)                0         \n",
      "=================================================================\n",
      "Total params: 2,446,730\n",
      "Trainable params: 2,446,730\n",
      "Non-trainable params: 0\n",
      "_________________________________________________________________\n",
      "None\n"
     ]
    }
   ],
   "source": [
    "#Loading and splitting the dataset into train, validation and test\n",
    "nb_classes = 10\n",
    "\n",
    "(X_Train, y_Train), (X_test, y_test) = mnist.load_data()\n",
    "X_train, X_val, y_train, y_val = train_test_split(X_Train, y_Train, test_size=0.20)\n",
    "Y_train = np_utils.to_categorical(y_train, nb_classes)\n",
    "Y_val = np_utils.to_categorical(y_val, nb_classes)\n",
    "\n",
    "X_train = X_train.reshape(48000, 28, 28, 1)\n",
    "X_val = X_val.reshape(12000, 28, 28, 1)\n",
    "\n",
    "X_train = X_train.astype('float32')\n",
    "X_val = X_val.astype('float32')\n",
    "\n",
    "# Normalize the values\n",
    "X_train /= 255\n",
    "X_val /= 255\n",
    "\n",
    "\n",
    "#Creating a teacher network\n",
    "input_shape = (28, 28, 1) # Input shape of each image\n",
    "\n",
    "teacher = Sequential()\n",
    "teacher.add(Conv2D(32, kernel_size=(3, 3),\n",
    "                 activation='relu',\n",
    "                 input_shape=input_shape))\n",
    "teacher.add(Conv2D(64, (3, 3), activation='relu'))\n",
    "teacher.add(MaxPooling2D(pool_size=(2, 2)))\n",
    "\n",
    "teacher.add(Dropout(0.25)) # For reguralization\n",
    "\n",
    "teacher.add(Flatten())\n",
    "teacher.add(Dense(256, activation='relu'))\n",
    "teacher.add(Dense(256, activation='relu', name=\"dense_1\"))\n",
    "\n",
    "teacher.add(Dropout(0.5)) # For reguralization\n",
    "\n",
    "teacher.add(Dense(nb_classes, name = 'dense_2'))\n",
    "teacher.add(Activation('softmax')) # Note that we add a normal softmax layer to begin with\n",
    "\n",
    "teacher.compile(loss='categorical_crossentropy',\n",
    "              optimizer='adadelta',\n",
    "              metrics=['accuracy'])\n",
    "\n",
    "print(teacher.summary())"
   ]
  },
  {
   "cell_type": "code",
   "execution_count": 3,
   "metadata": {
    "id": "v6mBfSS7No7Q"
   },
   "outputs": [],
   "source": [
    "teacher.load_weights(\"Teacher_MNIST_98.h5\")"
   ]
  },
  {
   "cell_type": "code",
   "execution_count": 4,
   "metadata": {},
   "outputs": [
    {
     "name": "stdout",
     "output_type": "stream",
     "text": [
      "[7 2 1 ... 4 5 6]\n",
      "[7 2 1 ... 4 5 6]\n",
      "9899\n"
     ]
    }
   ],
   "source": [
    "# Train the teacher model as usual\n",
    "epochs = 0\n",
    "batch_size = 256\n",
    "teacher.fit(X_train, Y_train,\n",
    "          batch_size=batch_size,\n",
    "          epochs=epochs,\n",
    "          verbose=1,\n",
    "          validation_data=(X_val, Y_val))\n",
    "\n",
    "\n",
    "#checking teachers test accuracy\n",
    "X_test = X_test.reshape(10000, 28, 28, 1)\n",
    "\n",
    "X_test = X_test.astype('float32')\n",
    "# Normalize the values\n",
    "X_test /= 255\n",
    "preds=teacher.predict(X_test)\n",
    "\n",
    "numbers=[0,1,2,3,4,5,6,7,8,9]\n",
    "preds2=[]\n",
    "for p in preds:\n",
    "    preds2.append(numbers[np.argmax(p)])\n",
    "preds2=np.array(preds2)\n",
    "\n",
    "print (y_test)\n",
    "print (preds2)\n",
    "print (np.sum(y_test==preds2))"
   ]
  },
  {
   "cell_type": "markdown",
   "metadata": {
    "id": "t8jy5iVRWGuE"
   },
   "source": [
    "### Evaluation "
   ]
  },
  {
   "cell_type": "code",
   "execution_count": 5,
   "metadata": {
    "id": "HhwY-3bONo7M"
   },
   "outputs": [],
   "source": [
    "Y_test = np_utils.to_categorical(y_test, nb_classes)"
   ]
  },
  {
   "cell_type": "code",
   "execution_count": 7,
   "metadata": {
    "id": "7l50L-8hRG6y"
   },
   "outputs": [],
   "source": [
    "X_test = X_test.reshape(10000, 28, 28, 1)"
   ]
  },
  {
   "cell_type": "code",
   "execution_count": 6,
   "metadata": {
    "colab": {
     "base_uri": "https://localhost:8080/"
    },
    "executionInfo": {
     "elapsed": 2989,
     "status": "ok",
     "timestamp": 1613652677603,
     "user": {
      "displayName": "Musab R.",
      "photoUrl": "https://lh3.googleusercontent.com/a-/AOh14Ggo6kK28_a_Swx27ReDE7W6SlcMcsOsRyiTC_xFvA=s64",
      "userId": "11675938905762231877"
     },
     "user_tz": -300
    },
    "id": "EoLx2I_dNo7N",
    "outputId": "a1183477-5b27-4136-953f-a0d65e4c1b23"
   },
   "outputs": [
    {
     "name": "stdout",
     "output_type": "stream",
     "text": [
      "313/313 [==============================] - 1s 2ms/step - loss: 0.0541 - accuracy: 0.9869\n"
     ]
    },
    {
     "data": {
      "text/plain": [
       "[0.03862640634179115, 0.9898999929428101]"
      ]
     },
     "execution_count": 6,
     "metadata": {},
     "output_type": "execute_result"
    }
   ],
   "source": [
    "teacher.evaluate(X_test,Y_test)"
   ]
  },
  {
   "cell_type": "markdown",
   "metadata": {
    "id": "Ka0RmVsXWW_h"
   },
   "source": [
    "### Dense Vector split"
   ]
  },
  {
   "cell_type": "code",
   "execution_count": 27,
   "metadata": {
    "id": "eIlRbRObW-kc"
   },
   "outputs": [],
   "source": [
    "teacher_WO_Softmax = Model(teacher.input, teacher.get_layer('dense_1').output)\n",
    "train_dense = teacher_WO_Softmax.predict(X_train)\n",
    "val_dense = teacher_WO_Softmax.predict(X_val)\n",
    "\n",
    "# 4 Students case\n",
    "# ---------------------------------------------\n",
    "s1Train=train_dense[:,:64]\n",
    "s2Train=train_dense[:,64:128]\n",
    "s3Train=train_dense[:,128:192]\n",
    "s4Train=train_dense[:,192:]\n",
    "\n",
    "s1Val=val_dense[:,:64]\n",
    "s2Val=val_dense[:,64:128]\n",
    "s3Val=val_dense[:,128:192]\n",
    "s4Val=val_dense[:,192:]"
   ]
  },
  {
   "cell_type": "markdown",
   "metadata": {
    "id": "HtXOpFGFEYrH"
   },
   "source": [
    "### Student"
   ]
  },
  {
   "cell_type": "code",
   "execution_count": 28,
   "metadata": {
    "id": "ElnQTkvSXE7h"
   },
   "outputs": [],
   "source": [
    "def define_student(name):\n",
    "\n",
    "    student1 = Sequential()\n",
    "    student1.add(Conv2D(32, kernel_size=(3, 3),activation='relu',input_shape=(28, 28, 1),kernel_initializer='normal', name=name))\n",
    "    student1.add(Conv2D(32, (3, 3), activation='relu',kernel_initializer='normal'))\n",
    "    student1.add(MaxPooling2D(pool_size=(2, 2)))\n",
    "\n",
    "    student1.add(Conv2D(16, kernel_size=(3, 3),activation='relu',kernel_initializer='normal'))\n",
    "    student1.add(Conv2D(16, (3, 3), activation='relu',kernel_initializer='normal'))\n",
    "    student1.add(MaxPooling2D(pool_size=(2, 2)))\n",
    "\n",
    "    student1.add(Dropout(0.25)) # For reguralization\n",
    "    student1.add(Flatten())\n",
    "    student1.add(Dense(8, activation='relu'))\n",
    "    student1.add(Dropout(0.3))\n",
    "    student1.add(Dense(64,name='req'+name))\n",
    "\n",
    "    student1.compile('adam',loss='mean_squared_error',metrics=['accuracy'])\n",
    "    \n",
    "    return student1\n",
    "\n"
   ]
  },
  {
   "cell_type": "markdown",
   "metadata": {
    "id": "4W3HwYXRFYPf"
   },
   "source": [
    "You can initialize multiple instances here "
   ]
  },
  {
   "cell_type": "code",
   "execution_count": 29,
   "metadata": {
    "id": "MomgOJRaNo7l"
   },
   "outputs": [],
   "source": [
    "s1=define_student(\"s1\")\n",
    "s2=define_student('s2')\n",
    "s3=define_student(\"s3\")\n",
    "s4=define_student('s4')\n"
   ]
  },
  {
   "cell_type": "code",
   "execution_count": 30,
   "metadata": {
    "colab": {
     "base_uri": "https://localhost:8080/"
    },
    "executionInfo": {
     "elapsed": 3590314,
     "status": "ok",
     "timestamp": 1613663781923,
     "user": {
      "displayName": "Musab R.",
      "photoUrl": "https://lh3.googleusercontent.com/a-/AOh14Ggo6kK28_a_Swx27ReDE7W6SlcMcsOsRyiTC_xFvA=s64",
      "userId": "11675938905762231877"
     },
     "user_tz": -300
    },
    "id": "e8wjg4vrNo7l",
    "outputId": "48289479-1e6d-4b60-8bc2-b09996f7c40a"
   },
   "outputs": [
    {
     "name": "stdout",
     "output_type": "stream",
     "text": [
      "Epoch 1/10\n",
      "188/188 [==============================] - 3s 11ms/step - loss: 2.1434 - accuracy: 0.0492 - val_loss: 1.2337 - val_accuracy: 0.1730\n",
      "Epoch 2/10\n",
      "188/188 [==============================] - 2s 8ms/step - loss: 1.3028 - accuracy: 0.1711 - val_loss: 0.7762 - val_accuracy: 0.2561\n",
      "Epoch 3/10\n",
      "188/188 [==============================] - 2s 10ms/step - loss: 1.0305 - accuracy: 0.2316 - val_loss: 0.6440 - val_accuracy: 0.3099\n",
      "Epoch 4/10\n",
      "188/188 [==============================] - 2s 10ms/step - loss: 0.9530 - accuracy: 0.2431 - val_loss: 0.6111 - val_accuracy: 0.3196\n",
      "Epoch 5/10\n",
      "188/188 [==============================] - 2s 11ms/step - loss: 0.9215 - accuracy: 0.2480 - val_loss: 0.5882 - val_accuracy: 0.3078\n",
      "Epoch 6/10\n",
      "188/188 [==============================] - 2s 10ms/step - loss: 0.8874 - accuracy: 0.2443 - val_loss: 0.5763 - val_accuracy: 0.3107\n",
      "Epoch 7/10\n",
      "188/188 [==============================] - 2s 10ms/step - loss: 0.8680 - accuracy: 0.2462 - val_loss: 0.5281 - val_accuracy: 0.3385\n",
      "Epoch 8/10\n",
      "188/188 [==============================] - 2s 12ms/step - loss: 0.8349 - accuracy: 0.2660 - val_loss: 0.5321 - val_accuracy: 0.3438\n",
      "Epoch 9/10\n",
      "188/188 [==============================] - 2s 10ms/step - loss: 0.8194 - accuracy: 0.2767 - val_loss: 0.5143 - val_accuracy: 0.3359\n",
      "Epoch 10/10\n",
      "188/188 [==============================] - 2s 10ms/step - loss: 0.8087 - accuracy: 0.2774 - val_loss: 0.5185 - val_accuracy: 0.3365\n",
      "Epoch 1/10\n",
      "188/188 [==============================] - 2s 10ms/step - loss: 1.8759 - accuracy: 0.0444 - val_loss: 1.1121 - val_accuracy: 0.1972\n",
      "Epoch 2/10\n",
      "188/188 [==============================] - 2s 10ms/step - loss: 1.1868 - accuracy: 0.1809 - val_loss: 0.7663 - val_accuracy: 0.2873\n",
      "Epoch 3/10\n",
      "188/188 [==============================] - 2s 9ms/step - loss: 0.9676 - accuracy: 0.2335 - val_loss: 0.6173 - val_accuracy: 0.3240\n",
      "Epoch 4/10\n",
      "188/188 [==============================] - 2s 10ms/step - loss: 0.8782 - accuracy: 0.2435 - val_loss: 0.5449 - val_accuracy: 0.3356\n",
      "Epoch 5/10\n",
      "188/188 [==============================] - 2s 10ms/step - loss: 0.8360 - accuracy: 0.2488 - val_loss: 0.5245 - val_accuracy: 0.3433\n",
      "Epoch 6/10\n",
      "188/188 [==============================] - 2s 11ms/step - loss: 0.8057 - accuracy: 0.2488 - val_loss: 0.5184 - val_accuracy: 0.3519\n",
      "Epoch 7/10\n",
      "188/188 [==============================] - 2s 9ms/step - loss: 0.7943 - accuracy: 0.2547 - val_loss: 0.5068 - val_accuracy: 0.3513\n",
      "Epoch 8/10\n",
      "188/188 [==============================] - 2s 10ms/step - loss: 0.7794 - accuracy: 0.2572 - val_loss: 0.5003 - val_accuracy: 0.3522\n",
      "Epoch 9/10\n",
      "188/188 [==============================] - 2s 10ms/step - loss: 0.7612 - accuracy: 0.2623 - val_loss: 0.5142 - val_accuracy: 0.3503\n",
      "Epoch 10/10\n",
      "188/188 [==============================] - 2s 10ms/step - loss: 0.7713 - accuracy: 0.2566 - val_loss: 0.4967 - val_accuracy: 0.3428\n",
      "Epoch 1/10\n",
      "188/188 [==============================] - 2s 11ms/step - loss: 1.9078 - accuracy: 0.0407 - val_loss: 1.1746 - val_accuracy: 0.2012\n",
      "Epoch 2/10\n",
      "188/188 [==============================] - 2s 9ms/step - loss: 1.2079 - accuracy: 0.1511 - val_loss: 0.7084 - val_accuracy: 0.2613\n",
      "Epoch 3/10\n",
      "188/188 [==============================] - 2s 11ms/step - loss: 0.9188 - accuracy: 0.1845 - val_loss: 0.5913 - val_accuracy: 0.2643\n",
      "Epoch 4/10\n",
      "188/188 [==============================] - 2s 11ms/step - loss: 0.8279 - accuracy: 0.1947 - val_loss: 0.5154 - val_accuracy: 0.2912\n",
      "Epoch 5/10\n",
      "188/188 [==============================] - 2s 11ms/step - loss: 0.7866 - accuracy: 0.2118 - val_loss: 0.4929 - val_accuracy: 0.3135\n",
      "Epoch 6/10\n",
      "188/188 [==============================] - 2s 10ms/step - loss: 0.7665 - accuracy: 0.2143 - val_loss: 0.4977 - val_accuracy: 0.3081\n",
      "Epoch 7/10\n",
      "188/188 [==============================] - 2s 11ms/step - loss: 0.7477 - accuracy: 0.2189 - val_loss: 0.5012 - val_accuracy: 0.3178\n",
      "Epoch 8/10\n",
      "188/188 [==============================] - 2s 11ms/step - loss: 0.7317 - accuracy: 0.2201 - val_loss: 0.4996 - val_accuracy: 0.3152\n",
      "Epoch 9/10\n",
      "188/188 [==============================] - 2s 11ms/step - loss: 0.7296 - accuracy: 0.2232 - val_loss: 0.4653 - val_accuracy: 0.3137\n",
      "Epoch 10/10\n",
      "188/188 [==============================] - 2s 11ms/step - loss: 0.7230 - accuracy: 0.2403 - val_loss: 0.4881 - val_accuracy: 0.3288\n",
      "Epoch 1/10\n",
      "188/188 [==============================] - 2s 11ms/step - loss: 1.9355 - accuracy: 0.0377 - val_loss: 1.1769 - val_accuracy: 0.2036\n",
      "Epoch 2/10\n",
      "188/188 [==============================] - 2s 10ms/step - loss: 1.2182 - accuracy: 0.1604 - val_loss: 0.7597 - val_accuracy: 0.2422\n",
      "Epoch 3/10\n",
      "188/188 [==============================] - 2s 10ms/step - loss: 0.9641 - accuracy: 0.1680 - val_loss: 0.6030 - val_accuracy: 0.2611\n",
      "Epoch 4/10\n",
      "188/188 [==============================] - 2s 10ms/step - loss: 0.8881 - accuracy: 0.2018 - val_loss: 0.5906 - val_accuracy: 0.3092\n",
      "Epoch 5/10\n",
      "188/188 [==============================] - 2s 10ms/step - loss: 0.8672 - accuracy: 0.2142 - val_loss: 0.5598 - val_accuracy: 0.3003\n",
      "Epoch 6/10\n",
      "188/188 [==============================] - 2s 10ms/step - loss: 0.8436 - accuracy: 0.2140 - val_loss: 0.5638 - val_accuracy: 0.2941\n",
      "Epoch 7/10\n",
      "188/188 [==============================] - 2s 12ms/step - loss: 0.8259 - accuracy: 0.2176 - val_loss: 0.5470 - val_accuracy: 0.2846\n",
      "Epoch 8/10\n",
      "188/188 [==============================] - 2s 10ms/step - loss: 0.8154 - accuracy: 0.2138 - val_loss: 0.5593 - val_accuracy: 0.2882\n",
      "Epoch 9/10\n",
      "188/188 [==============================] - 2s 9ms/step - loss: 0.8015 - accuracy: 0.2176 - val_loss: 0.5584 - val_accuracy: 0.2829\n",
      "Epoch 10/10\n",
      "188/188 [==============================] - 2s 10ms/step - loss: 0.8028 - accuracy: 0.2120 - val_loss: 0.5568 - val_accuracy: 0.2833\n"
     ]
    },
    {
     "data": {
      "text/plain": [
       "<tensorflow.python.keras.callbacks.History at 0x7f52c521f908>"
      ]
     },
     "execution_count": 30,
     "metadata": {},
     "output_type": "execute_result"
    }
   ],
   "source": [
    "s1.fit(X_train, s1Train,\n",
    "          batch_size=batch_size,\n",
    "          epochs=10,\n",
    "          verbose=1, validation_data=(X_val, s1Val))\n",
    "s2.fit(X_train, s2Train,\n",
    "          batch_size=batch_size,\n",
    "          epochs=10,verbose=1, validation_data=(X_val, s2Val))\n",
    "s3.fit(X_train, s3Train,\n",
    "          batch_size=batch_size,\n",
    "          epochs=10,verbose=1, validation_data=(X_val, s3Val))\n",
    "s4.fit(X_train, s4Train,\n",
    "          batch_size=batch_size,\n",
    "          epochs=10,verbose=1, validation_data=(X_val, s4Val))"
   ]
  },
  {
   "cell_type": "markdown",
   "metadata": {
    "id": "QgKdRFNFShtt"
   },
   "source": [
    "## **4 Students**"
   ]
  },
  {
   "cell_type": "code",
   "execution_count": 31,
   "metadata": {
    "colab": {
     "base_uri": "https://localhost:8080/"
    },
    "executionInfo": {
     "elapsed": 1430,
     "status": "ok",
     "timestamp": 1613663783843,
     "user": {
      "displayName": "Musab R.",
      "photoUrl": "https://lh3.googleusercontent.com/a-/AOh14Ggo6kK28_a_Swx27ReDE7W6SlcMcsOsRyiTC_xFvA=s64",
      "userId": "11675938905762231877"
     },
     "user_tz": -300
    },
    "id": "QvsGpSuiNo7v",
    "outputId": "7aaa8f15-d1fd-427c-98f9-6788e0b9b8df"
   },
   "outputs": [
    {
     "name": "stdout",
     "output_type": "stream",
     "text": [
      "(None, 256)\n"
     ]
    }
   ],
   "source": [
    "o1=s1.get_layer(\"reqs1\").output\n",
    "o2=s2.get_layer(\"reqs2\").output\n",
    "o3=s3.get_layer(\"reqs3\").output\n",
    "o4=s4.get_layer(\"reqs4\").output\n",
    "output=tensorflow.keras.layers.concatenate([o1,o2,o3,o4])\n",
    "print (output.shape)\n",
    "output=Activation('relu')(output)\n",
    "output2=Dropout(0.5)(output) # For reguralization\n",
    "output3=Dense(10,activation=\"softmax\", name=\"d1\")(output2)\n",
    "mm4=Model([s1.get_layer(\"s1\").input,s2.get_layer(\"s2\").input,s3.get_layer(\"s3\").input,s4.get_layer(\"s4\").input],output3)\n",
    "my_weights=teacher.get_layer('dense_2').get_weights()\n",
    "mm4.get_layer('d1').set_weights(my_weights)"
   ]
  },
  {
   "cell_type": "code",
   "execution_count": 32,
   "metadata": {
    "id": "E4_9eYYqbLxS"
   },
   "outputs": [],
   "source": [
    "for l in mm4.layers[:len(mm4.layers)-1]:\n",
    "    l.trainable=False\n",
    "\n",
    "mm4.compile(loss='categorical_crossentropy',\n",
    "              optimizer='adam',\n",
    "              metrics=['accuracy'])\n"
   ]
  },
  {
   "cell_type": "code",
   "execution_count": 33,
   "metadata": {
    "colab": {
     "base_uri": "https://localhost:8080/",
     "height": 743
    },
    "executionInfo": {
     "elapsed": 101153,
     "status": "error",
     "timestamp": 1613663883630,
     "user": {
      "displayName": "Musab R.",
      "photoUrl": "https://lh3.googleusercontent.com/a-/AOh14Ggo6kK28_a_Swx27ReDE7W6SlcMcsOsRyiTC_xFvA=s64",
      "userId": "11675938905762231877"
     },
     "user_tz": -300
    },
    "id": "Y75ac5rlbLs2",
    "outputId": "7e724833-7a69-404c-e5cb-90ff358c2867"
   },
   "outputs": [
    {
     "name": "stdout",
     "output_type": "stream",
     "text": [
      "Epoch 1/5\n",
      "375/375 [==============================] - 7s 18ms/step - loss: 0.2656 - accuracy: 0.9120 - val_loss: 0.0661 - val_accuracy: 0.9808\n",
      "Epoch 2/5\n",
      "375/375 [==============================] - 5s 14ms/step - loss: 0.2279 - accuracy: 0.9272 - val_loss: 0.0659 - val_accuracy: 0.9814\n",
      "Epoch 3/5\n",
      "375/375 [==============================] - 5s 14ms/step - loss: 0.2140 - accuracy: 0.9332 - val_loss: 0.0651 - val_accuracy: 0.9812\n",
      "Epoch 4/5\n",
      "375/375 [==============================] - 6s 16ms/step - loss: 0.2085 - accuracy: 0.9345 - val_loss: 0.0659 - val_accuracy: 0.9803\n",
      "Epoch 5/5\n",
      "375/375 [==============================] - 5s 13ms/step - loss: 0.2043 - accuracy: 0.9366 - val_loss: 0.0637 - val_accuracy: 0.9818\n"
     ]
    }
   ],
   "source": [
    "batch_size = 128\n",
    "mm2_history=mm4.fit([X_train,X_train,X_train,X_train], Y_train,\n",
    "          batch_size=batch_size,\n",
    "          epochs=5,\n",
    "          verbose=1, validation_data=([X_val,X_val,X_val,X_val], Y_val))"
   ]
  },
  {
   "cell_type": "code",
   "execution_count": 34,
   "metadata": {
    "colab": {
     "base_uri": "https://localhost:8080/"
    },
    "executionInfo": {
     "elapsed": 2601,
     "status": "ok",
     "timestamp": 1613663893809,
     "user": {
      "displayName": "Musab R.",
      "photoUrl": "https://lh3.googleusercontent.com/a-/AOh14Ggo6kK28_a_Swx27ReDE7W6SlcMcsOsRyiTC_xFvA=s64",
      "userId": "11675938905762231877"
     },
     "user_tz": -300
    },
    "id": "h9cFOtEQbLoa",
    "outputId": "4c45eb3b-12cc-4d85-9a16-4fb4f492473f"
   },
   "outputs": [
    {
     "name": "stdout",
     "output_type": "stream",
     "text": [
      "313/313 [==============================] - 2s 6ms/step - loss: 0.0566 - accuracy: 0.9842\n"
     ]
    },
    {
     "data": {
      "text/plain": [
       "(0.056572265923023224, 0.9842000007629395)"
      ]
     },
     "execution_count": 34,
     "metadata": {},
     "output_type": "execute_result"
    }
   ],
   "source": [
    "loss, acc = mm4.evaluate([X_test,X_test,X_test,X_test], Y_test, verbose=1)\n",
    "loss, acc "
   ]
  },
  {
   "cell_type": "code",
   "execution_count": 21,
   "metadata": {},
   "outputs": [
    {
     "name": "stdout",
     "output_type": "stream",
     "text": [
      "Model: \"sequential_9\"\n",
      "_________________________________________________________________\n",
      "Layer (type)                 Output Shape              Param #   \n",
      "=================================================================\n",
      "s1 (Conv2D)                  (None, 26, 26, 32)        320       \n",
      "_________________________________________________________________\n",
      "conv2d_26 (Conv2D)           (None, 24, 24, 32)        9248      \n",
      "_________________________________________________________________\n",
      "max_pooling2d_17 (MaxPooling (None, 12, 12, 32)        0         \n",
      "_________________________________________________________________\n",
      "conv2d_27 (Conv2D)           (None, 10, 10, 16)        4624      \n",
      "_________________________________________________________________\n",
      "conv2d_28 (Conv2D)           (None, 8, 8, 16)          2320      \n",
      "_________________________________________________________________\n",
      "max_pooling2d_18 (MaxPooling (None, 4, 4, 16)          0         \n",
      "_________________________________________________________________\n",
      "dropout_20 (Dropout)         (None, 4, 4, 16)          0         \n",
      "_________________________________________________________________\n",
      "flatten_9 (Flatten)          (None, 256)               0         \n",
      "_________________________________________________________________\n",
      "dense_9 (Dense)              (None, 16)                4112      \n",
      "_________________________________________________________________\n",
      "dropout_21 (Dropout)         (None, 16)                0         \n",
      "_________________________________________________________________\n",
      "reqs1 (Dense)                (None, 64)                1088      \n",
      "=================================================================\n",
      "Total params: 21,712\n",
      "Trainable params: 21,712\n",
      "Non-trainable params: 0\n",
      "_________________________________________________________________\n"
     ]
    }
   ],
   "source": [
    "s1.summary()"
   ]
  },
  {
   "cell_type": "code",
   "execution_count": 35,
   "metadata": {},
   "outputs": [
    {
     "name": "stdout",
     "output_type": "stream",
     "text": [
      "Model: \"model_6\"\n",
      "__________________________________________________________________________________________________\n",
      "Layer (type)                    Output Shape         Param #     Connected to                     \n",
      "==================================================================================================\n",
      "s1_input (InputLayer)           [(None, 28, 28, 1)]  0                                            \n",
      "__________________________________________________________________________________________________\n",
      "s2_input (InputLayer)           [(None, 28, 28, 1)]  0                                            \n",
      "__________________________________________________________________________________________________\n",
      "s3_input (InputLayer)           [(None, 28, 28, 1)]  0                                            \n",
      "__________________________________________________________________________________________________\n",
      "s4_input (InputLayer)           [(None, 28, 28, 1)]  0                                            \n",
      "__________________________________________________________________________________________________\n",
      "s1 (Conv2D)                     (None, 26, 26, 32)   320         s1_input[0][0]                   \n",
      "__________________________________________________________________________________________________\n",
      "s2 (Conv2D)                     (None, 26, 26, 32)   320         s2_input[0][0]                   \n",
      "__________________________________________________________________________________________________\n",
      "s3 (Conv2D)                     (None, 26, 26, 32)   320         s3_input[0][0]                   \n",
      "__________________________________________________________________________________________________\n",
      "s4 (Conv2D)                     (None, 26, 26, 32)   320         s4_input[0][0]                   \n",
      "__________________________________________________________________________________________________\n",
      "conv2d_50 (Conv2D)              (None, 24, 24, 32)   9248        s1[0][0]                         \n",
      "__________________________________________________________________________________________________\n",
      "conv2d_53 (Conv2D)              (None, 24, 24, 32)   9248        s2[0][0]                         \n",
      "__________________________________________________________________________________________________\n",
      "conv2d_56 (Conv2D)              (None, 24, 24, 32)   9248        s3[0][0]                         \n",
      "__________________________________________________________________________________________________\n",
      "conv2d_59 (Conv2D)              (None, 24, 24, 32)   9248        s4[0][0]                         \n",
      "__________________________________________________________________________________________________\n",
      "max_pooling2d_33 (MaxPooling2D) (None, 12, 12, 32)   0           conv2d_50[0][0]                  \n",
      "__________________________________________________________________________________________________\n",
      "max_pooling2d_35 (MaxPooling2D) (None, 12, 12, 32)   0           conv2d_53[0][0]                  \n",
      "__________________________________________________________________________________________________\n",
      "max_pooling2d_37 (MaxPooling2D) (None, 12, 12, 32)   0           conv2d_56[0][0]                  \n",
      "__________________________________________________________________________________________________\n",
      "max_pooling2d_39 (MaxPooling2D) (None, 12, 12, 32)   0           conv2d_59[0][0]                  \n",
      "__________________________________________________________________________________________________\n",
      "conv2d_51 (Conv2D)              (None, 10, 10, 16)   4624        max_pooling2d_33[0][0]           \n",
      "__________________________________________________________________________________________________\n",
      "conv2d_54 (Conv2D)              (None, 10, 10, 16)   4624        max_pooling2d_35[0][0]           \n",
      "__________________________________________________________________________________________________\n",
      "conv2d_57 (Conv2D)              (None, 10, 10, 16)   4624        max_pooling2d_37[0][0]           \n",
      "__________________________________________________________________________________________________\n",
      "conv2d_60 (Conv2D)              (None, 10, 10, 16)   4624        max_pooling2d_39[0][0]           \n",
      "__________________________________________________________________________________________________\n",
      "conv2d_52 (Conv2D)              (None, 8, 8, 16)     2320        conv2d_51[0][0]                  \n",
      "__________________________________________________________________________________________________\n",
      "conv2d_55 (Conv2D)              (None, 8, 8, 16)     2320        conv2d_54[0][0]                  \n",
      "__________________________________________________________________________________________________\n",
      "conv2d_58 (Conv2D)              (None, 8, 8, 16)     2320        conv2d_57[0][0]                  \n",
      "__________________________________________________________________________________________________\n",
      "conv2d_61 (Conv2D)              (None, 8, 8, 16)     2320        conv2d_60[0][0]                  \n",
      "__________________________________________________________________________________________________\n",
      "max_pooling2d_34 (MaxPooling2D) (None, 4, 4, 16)     0           conv2d_52[0][0]                  \n",
      "__________________________________________________________________________________________________\n",
      "max_pooling2d_36 (MaxPooling2D) (None, 4, 4, 16)     0           conv2d_55[0][0]                  \n",
      "__________________________________________________________________________________________________\n",
      "max_pooling2d_38 (MaxPooling2D) (None, 4, 4, 16)     0           conv2d_58[0][0]                  \n",
      "__________________________________________________________________________________________________\n",
      "max_pooling2d_40 (MaxPooling2D) (None, 4, 4, 16)     0           conv2d_61[0][0]                  \n",
      "__________________________________________________________________________________________________\n",
      "dropout_38 (Dropout)            (None, 4, 4, 16)     0           max_pooling2d_34[0][0]           \n",
      "__________________________________________________________________________________________________\n",
      "dropout_40 (Dropout)            (None, 4, 4, 16)     0           max_pooling2d_36[0][0]           \n",
      "__________________________________________________________________________________________________\n",
      "dropout_42 (Dropout)            (None, 4, 4, 16)     0           max_pooling2d_38[0][0]           \n",
      "__________________________________________________________________________________________________\n",
      "dropout_44 (Dropout)            (None, 4, 4, 16)     0           max_pooling2d_40[0][0]           \n",
      "__________________________________________________________________________________________________\n",
      "flatten_17 (Flatten)            (None, 256)          0           dropout_38[0][0]                 \n",
      "__________________________________________________________________________________________________\n",
      "flatten_18 (Flatten)            (None, 256)          0           dropout_40[0][0]                 \n",
      "__________________________________________________________________________________________________\n",
      "flatten_19 (Flatten)            (None, 256)          0           dropout_42[0][0]                 \n",
      "__________________________________________________________________________________________________\n",
      "flatten_20 (Flatten)            (None, 256)          0           dropout_44[0][0]                 \n",
      "__________________________________________________________________________________________________\n",
      "dense_17 (Dense)                (None, 8)            2056        flatten_17[0][0]                 \n",
      "__________________________________________________________________________________________________\n",
      "dense_18 (Dense)                (None, 8)            2056        flatten_18[0][0]                 \n",
      "__________________________________________________________________________________________________\n",
      "dense_19 (Dense)                (None, 8)            2056        flatten_19[0][0]                 \n",
      "__________________________________________________________________________________________________\n",
      "dense_20 (Dense)                (None, 8)            2056        flatten_20[0][0]                 \n",
      "__________________________________________________________________________________________________\n",
      "dropout_39 (Dropout)            (None, 8)            0           dense_17[0][0]                   \n",
      "__________________________________________________________________________________________________\n",
      "dropout_41 (Dropout)            (None, 8)            0           dense_18[0][0]                   \n",
      "__________________________________________________________________________________________________\n",
      "dropout_43 (Dropout)            (None, 8)            0           dense_19[0][0]                   \n",
      "__________________________________________________________________________________________________\n",
      "dropout_45 (Dropout)            (None, 8)            0           dense_20[0][0]                   \n",
      "__________________________________________________________________________________________________\n",
      "reqs1 (Dense)                   (None, 64)           576         dropout_39[0][0]                 \n",
      "__________________________________________________________________________________________________\n",
      "reqs2 (Dense)                   (None, 64)           576         dropout_41[0][0]                 \n",
      "__________________________________________________________________________________________________\n",
      "reqs3 (Dense)                   (None, 64)           576         dropout_43[0][0]                 \n",
      "__________________________________________________________________________________________________\n",
      "reqs4 (Dense)                   (None, 64)           576         dropout_45[0][0]                 \n",
      "__________________________________________________________________________________________________\n",
      "concatenate_4 (Concatenate)     (None, 256)          0           reqs1[0][0]                      \n",
      "                                                                 reqs2[0][0]                      \n",
      "                                                                 reqs3[0][0]                      \n",
      "                                                                 reqs4[0][0]                      \n",
      "__________________________________________________________________________________________________\n",
      "activation_5 (Activation)       (None, 256)          0           concatenate_4[0][0]              \n",
      "__________________________________________________________________________________________________\n",
      "dropout_46 (Dropout)            (None, 256)          0           activation_5[0][0]               \n",
      "__________________________________________________________________________________________________\n",
      "d1 (Dense)                      (None, 10)           2570        dropout_46[0][0]                 \n",
      "==================================================================================================\n",
      "Total params: 79,146\n",
      "Trainable params: 2,570\n",
      "Non-trainable params: 76,576\n",
      "__________________________________________________________________________________________________\n"
     ]
    }
   ],
   "source": [
    "mm4.summary()"
   ]
  },
  {
   "cell_type": "code",
   "execution_count": null,
   "metadata": {},
   "outputs": [],
   "source": []
  }
 ],
 "metadata": {
  "accelerator": "GPU",
  "colab": {
   "collapsed_sections": [],
   "name": "[1,2,4,8] Students Configuration On MNIST Using GANs.ipynb",
   "provenance": []
  },
  "kernelspec": {
   "display_name": "Python 3",
   "language": "python",
   "name": "python3"
  },
  "language_info": {
   "codemirror_mode": {
    "name": "ipython",
    "version": 3
   },
   "file_extension": ".py",
   "mimetype": "text/x-python",
   "name": "python",
   "nbconvert_exporter": "python",
   "pygments_lexer": "ipython3",
   "version": "3.6.9"
  }
 },
 "nbformat": 4,
 "nbformat_minor": 1
}
