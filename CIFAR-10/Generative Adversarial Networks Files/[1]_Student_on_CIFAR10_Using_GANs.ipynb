{
  "nbformat": 4,
  "nbformat_minor": 0,
  "metadata": {
    "accelerator": "GPU",
    "colab": {
      "name": "[1] Student on CIFAR10 Using GANs.ipynb",
      "provenance": [],
      "collapsed_sections": []
    },
    "kernelspec": {
      "display_name": "Python 3",
      "language": "python",
      "name": "python3"
    },
    "language_info": {
      "codemirror_mode": {
        "name": "ipython",
        "version": 3
      },
      "file_extension": ".py",
      "mimetype": "text/x-python",
      "name": "python",
      "nbconvert_exporter": "python",
      "pygments_lexer": "ipython3",
      "version": "3.6.9"
    }
  },
  "cells": [
    {
      "cell_type": "markdown",
      "metadata": {
        "id": "YAi6k17QhC0g"
      },
      "source": [
        "# **Distilling Knowledge In Multiple Students Using GANs**"
      ]
    },
    {
      "cell_type": "code",
      "metadata": {
        "id": "imgZBevn_klO"
      },
      "source": [
        "# %tensorflow_version 1.x\n",
        "# !pip install --upgrade opencv-python==3.4.2.17\n",
        "import numpy as np\n",
        "import tensorflow as tf\n",
        "import tensorflow.keras\n",
        "import tensorflow.keras.backend as K\n",
        "# import os\n",
        "from tensorflow.keras.datasets import fashion_mnist,mnist,cifar10\n",
        "# import keras.backend as K\n",
        "from tensorflow.keras.layers import Conv2D,Activation,BatchNormalization,UpSampling2D,Embedding,ZeroPadding2D, Input, Flatten, Dense, Reshape, LeakyReLU, Dropout,MaxPooling2D\n",
        "from tensorflow.keras.models import Sequential, Model\n",
        "from tensorflow.keras.optimizers import Adam, SGD, RMSprop\n",
        "from tensorflow.keras import regularizers\n",
        "\n",
        "from tensorflow.keras.utils import Progbar\n",
        "from keras.initializers import RandomNormal\n",
        "import random\n",
        "from sklearn.model_selection import train_test_split\n",
        "# from keras.utils import np_utils\n",
        "from tensorflow.keras import utils as np_utils"
      ],
      "execution_count": null,
      "outputs": []
    },
    {
      "cell_type": "code",
      "metadata": {
        "id": "v0-DYwB8kiFk"
      },
      "source": [
        "nb_classes = 10\n",
        "batch_size = 128\n",
        "maxepoches = 250\n",
        "learning_rate = 0.1\n",
        "lr_decay = 1e-6\n",
        "lr_drop = 20\n",
        "def lr_scheduler(epoch):\n",
        "    return learning_rate * (0.5 ** (epoch // lr_drop))\n",
        "reduce_lr = tf.keras.callbacks.LearningRateScheduler(lr_scheduler)"
      ],
      "execution_count": null,
      "outputs": []
    },
    {
      "cell_type": "code",
      "metadata": {
        "colab": {
          "base_uri": "https://localhost:8080/"
        },
        "id": "e04yi6rW_qJg",
        "outputId": "56ad5ed8-5f55-4198-b15c-fc23f6a7dab8"
      },
      "source": [
        "#Loading and splitting the dataset into train, validation and test\n",
        "(X_Train, y_Train), (X_test, y_test) = cifar10.load_data()\n",
        "X_train, X_val, y_train, y_val = train_test_split(X_Train, y_Train, test_size=0.20)\n",
        "# convert y_train and y_test to categorical binary values \n",
        "Y_train = np_utils.to_categorical(y_train, nb_classes)\n",
        "Y_val = np_utils.to_categorical(y_val, nb_classes)\n",
        "y_test = np_utils.to_categorical(y_test, nb_classes)"
      ],
      "execution_count": null,
      "outputs": [
        {
          "output_type": "stream",
          "text": [
            "Downloading data from https://www.cs.toronto.edu/~kriz/cifar-10-python.tar.gz\n",
            "170500096/170498071 [==============================] - 4s 0us/step\n",
            "170508288/170498071 [==============================] - 4s 0us/step\n"
          ],
          "name": "stdout"
        }
      ]
    },
    {
      "cell_type": "code",
      "metadata": {
        "colab": {
          "base_uri": "https://localhost:8080/"
        },
        "id": "Lj_XM_dfmqnV",
        "outputId": "9ae5f3ce-ffed-4060-f6f6-b44a6233e66c"
      },
      "source": [
        "X_Train.shape"
      ],
      "execution_count": null,
      "outputs": [
        {
          "output_type": "execute_result",
          "data": {
            "text/plain": [
              "(50000, 32, 32, 3)"
            ]
          },
          "metadata": {
            "tags": []
          },
          "execution_count": 4
        }
      ]
    },
    {
      "cell_type": "code",
      "metadata": {
        "id": "443_UL2p_qyQ"
      },
      "source": [
        "# Reshape them to batch_size, width,height,#channels\n",
        "X_train = X_train.reshape(40000, 32, 32, 3)\n",
        "X_val = X_val.reshape(10000, 32, 32, 3)\n",
        "X_test = X_test.reshape(10000, 32, 32, 3)\n",
        "\n",
        "X_train = X_train.astype('float32')\n",
        "X_val = X_val.astype('float32')\n",
        "X_test = X_test.astype('float32')\n",
        "\n",
        "# Normalize the values\n",
        "X_train /= 255\n",
        "X_val /= 255\n",
        "X_test /= 255"
      ],
      "execution_count": null,
      "outputs": []
    },
    {
      "cell_type": "code",
      "metadata": {
        "id": "5aQn2hUFNVDY",
        "colab": {
          "base_uri": "https://localhost:8080/"
        },
        "outputId": "79b6f33a-42d2-4927-805a-e22c6a862e32"
      },
      "source": [
        "# Teacher Network -- VGG16\n",
        "init=RandomNormal(mean=0,stddev=0.02)\n",
        "input_shape = (32, 32, 3) # Input shape of each image\n",
        "weight_decay = 0.0005\n",
        "\n",
        "def build_model():\n",
        "\n",
        "    model = Sequential()\n",
        "\n",
        "    model.add(Conv2D(64, (3, 3), padding='same',\n",
        "                     input_shape=input_shape,kernel_regularizer=regularizers.l2(weight_decay)))\n",
        "    model.add(Activation('relu'))\n",
        "    model.add(BatchNormalization())\n",
        "    model.add(Dropout(0.3))\n",
        "\n",
        "    model.add(Conv2D(64, (3, 3), padding='same',kernel_regularizer=regularizers.l2(weight_decay)))\n",
        "    model.add(Activation('relu'))\n",
        "    model.add(BatchNormalization())\n",
        "\n",
        "    model.add(MaxPooling2D(pool_size=(2, 2),padding='same'))\n",
        "\n",
        "    model.add(Conv2D(128, (3, 3), padding='same',kernel_regularizer=regularizers.l2(weight_decay)))\n",
        "    model.add(Activation('relu'))\n",
        "    model.add(BatchNormalization())\n",
        "    model.add(Dropout(0.4))\n",
        "\n",
        "    model.add(Conv2D(128, (3, 3), padding='same',kernel_regularizer=regularizers.l2(weight_decay)))\n",
        "    model.add(Activation('relu'))\n",
        "    model.add(BatchNormalization())\n",
        "\n",
        "    model.add(MaxPooling2D(pool_size=(2, 2),padding='same'))\n",
        "\n",
        "    model.add(Conv2D(256, (3, 3), padding='same',kernel_regularizer=regularizers.l2(weight_decay)))\n",
        "    model.add(Activation('relu'))\n",
        "    model.add(BatchNormalization())\n",
        "    model.add(Dropout(0.4))\n",
        "\n",
        "    model.add(Conv2D(256, (3, 3), padding='same',kernel_regularizer=regularizers.l2(weight_decay)))\n",
        "    model.add(Activation('relu'))\n",
        "    model.add(BatchNormalization())\n",
        "    model.add(Dropout(0.4))\n",
        "\n",
        "    model.add(Conv2D(256, (3, 3), padding='same',kernel_regularizer=regularizers.l2(weight_decay)))\n",
        "    model.add(Activation('relu'))\n",
        "    model.add(BatchNormalization())\n",
        "\n",
        "    model.add(MaxPooling2D(pool_size=(2, 2),padding='same'))\n",
        "\n",
        "    model.add(Conv2D(512, (3, 3), padding='same',kernel_regularizer=regularizers.l2(weight_decay)))\n",
        "    model.add(Activation('relu'))\n",
        "    model.add(BatchNormalization())\n",
        "    model.add(Dropout(0.4))\n",
        "\n",
        "    model.add(Conv2D(512, (3, 3), padding='same',kernel_regularizer=regularizers.l2(weight_decay)))\n",
        "    model.add(Activation('relu'))\n",
        "    model.add(BatchNormalization())\n",
        "    model.add(Dropout(0.4))\n",
        "\n",
        "    model.add(Conv2D(512, (3, 3), padding='same',kernel_regularizer=regularizers.l2(weight_decay)))\n",
        "    model.add(Activation('relu'))\n",
        "    model.add(BatchNormalization())\n",
        "\n",
        "    model.add(MaxPooling2D(pool_size=(2, 2),padding='same'))\n",
        "\n",
        "    model.add(Conv2D(512, (3, 3), padding='same',kernel_regularizer=regularizers.l2(weight_decay)))\n",
        "    model.add(Activation('relu'))\n",
        "    model.add(BatchNormalization())\n",
        "    model.add(Dropout(0.4))\n",
        "\n",
        "    model.add(Conv2D(512, (3, 3), padding='same',kernel_regularizer=regularizers.l2(weight_decay)))\n",
        "    model.add(Activation('relu'))\n",
        "    model.add(BatchNormalization())\n",
        "    model.add(Dropout(0.4))\n",
        "\n",
        "    model.add(Conv2D(512, (3, 3), padding='same',kernel_regularizer=regularizers.l2(weight_decay)))\n",
        "    model.add(Activation('relu'))\n",
        "    model.add(BatchNormalization())\n",
        "\n",
        "    model.add(MaxPooling2D(pool_size=(2, 2),padding='same'))\n",
        "    model.add(Dropout(0.5))\n",
        "\n",
        "    model.add(Flatten())\n",
        "    model.add(Dense(256,kernel_regularizer=regularizers.l2(weight_decay), name='dense_1'))\n",
        "    model.add(Activation('relu'))\n",
        "    model.add(BatchNormalization())\n",
        "\n",
        "    model.add(Dropout(0.5))\n",
        "    model.add(Dense(10, name='dense_2'))\n",
        "    model.add(Activation('softmax'))\n",
        "    return model\n",
        "\n",
        "teacher = build_model()\n",
        "sgd = SGD(lr=learning_rate, decay=lr_decay, momentum=0.9, nesterov=True)\n",
        "teacher.compile(loss='categorical_crossentropy',optimizer=sgd, metrics=['accuracy'])"
      ],
      "execution_count": null,
      "outputs": [
        {
          "output_type": "stream",
          "text": [
            "/usr/local/lib/python3.7/dist-packages/keras/optimizer_v2/optimizer_v2.py:356: UserWarning: The `lr` argument is deprecated, use `learning_rate` instead.\n",
            "  \"The `lr` argument is deprecated, use `learning_rate` instead.\")\n"
          ],
          "name": "stderr"
        }
      ]
    },
    {
      "cell_type": "code",
      "metadata": {
        "id": "QofxNbrUbH_z"
      },
      "source": [
        "teacher.load_weights(\"Cifar10_Teacher.h5\")"
      ],
      "execution_count": null,
      "outputs": []
    },
    {
      "cell_type": "code",
      "metadata": {
        "id": "mp4il80HMRFn"
      },
      "source": [
        "# teacher.fit(X_train,Y_train,batch_size=128,epochs=150,verbose=1,callbacks=[reduce_lr],validation_data=(X_val,Y_val))"
      ],
      "execution_count": null,
      "outputs": []
    },
    {
      "cell_type": "code",
      "metadata": {
        "colab": {
          "base_uri": "https://localhost:8080/"
        },
        "id": "zBZO-MXLmml_",
        "outputId": "f821ea53-2b0e-4e2b-d245-99b3234f9af2"
      },
      "source": [
        "loss, acc =teacher.evaluate(X_test, y_test, verbose=1)\n",
        "loss, acc"
      ],
      "execution_count": null,
      "outputs": [
        {
          "output_type": "stream",
          "text": [
            "313/313 [==============================] - 34s 11ms/step - loss: 0.8343 - accuracy: 0.8992\n"
          ],
          "name": "stdout"
        },
        {
          "output_type": "execute_result",
          "data": {
            "text/plain": [
              "(0.834343433380127, 0.8992000222206116)"
            ]
          },
          "metadata": {
            "tags": []
          },
          "execution_count": 10
        }
      ]
    },
    {
      "cell_type": "code",
      "metadata": {
        "id": "bPVxVj6L_sCz"
      },
      "source": [
        "#Collect the dense vector from the previous layer output and store it in a different model\n",
        "teacher_WO_Softmax = Model(teacher.input, teacher.get_layer('dense_1').output)"
      ],
      "execution_count": null,
      "outputs": []
    },
    {
      "cell_type": "code",
      "metadata": {
        "id": "GhcEQ0Z-_scF"
      },
      "source": [
        "#Extracting dense representation from the teacher network\n",
        "train_dense = teacher_WO_Softmax.predict(X_train)"
      ],
      "execution_count": null,
      "outputs": []
    },
    {
      "cell_type": "code",
      "metadata": {
        "id": "XG0WGCpM_suF"
      },
      "source": [
        "#Splitting the training dense vector among N students\n",
        "# 1 Student Case\n",
        "# --------------------------------------------\n",
        "s1Train=train_dense[:,:256]\n"
      ],
      "execution_count": null,
      "outputs": []
    },
    {
      "cell_type": "code",
      "metadata": {
        "colab": {
          "base_uri": "https://localhost:8080/"
        },
        "id": "MKx8VcoJxwH0",
        "outputId": "771953e9-1d04-40f7-f4ea-2b0de64e7ff1"
      },
      "source": [
        "def define_model(name):\n",
        "  model2 = Sequential()\n",
        "  # model.add(Conv2D(32, (3, 3), activation='relu', input_shape=(32, 32, 3),name=name))\n",
        "  weight_decay = 1e-4\n",
        "  model2 = Sequential()\n",
        "  model2.add(Conv2D(256, (3,3), padding='same', kernel_regularizer=regularizers.l2(weight_decay), input_shape=(32,32,3), name=name))\n",
        "  model2.add(Activation('elu'))\n",
        "  model2.add(BatchNormalization())\n",
        "  model2.add(Conv2D(256, (3,3), padding='same', kernel_regularizer=regularizers.l2(weight_decay)))\n",
        "  model2.add(Activation('elu'))\n",
        "  model2.add(BatchNormalization())\n",
        "  model2.add(MaxPooling2D(pool_size=(2,2)))\n",
        "  model2.add(Dropout(0.2))\n",
        "\n",
        "  model2.add(Conv2D(128, (3,3), padding='same', kernel_regularizer=regularizers.l2(weight_decay)))\n",
        "  model2.add(Activation('elu'))\n",
        "  model2.add(BatchNormalization())\n",
        "  model2.add(Conv2D(128, (3,3), padding='same', kernel_regularizer=regularizers.l2(weight_decay)))\n",
        "  model2.add(Activation('elu'))\n",
        "  model2.add(BatchNormalization())\n",
        "  model2.add(MaxPooling2D(pool_size=(2,2)))\n",
        "  model2.add(Dropout(0.3))\n",
        "\n",
        "  model2.add(Flatten())\n",
        "  model2.add(Dense(32, activation='relu'))\n",
        "  model2.add(Dense(256, activation='relu',name='req'+name))\n",
        "\n",
        "  model2.compile(optimizer='adam', loss='mse', metrics=['accuracy'])\n",
        "  return model2\n",
        "\n",
        "student1 = define_model('s1')\n",
        "student1.summary()"
      ],
      "execution_count": null,
      "outputs": [
        {
          "output_type": "stream",
          "text": [
            "Model: \"sequential_2\"\n",
            "_________________________________________________________________\n",
            "Layer (type)                 Output Shape              Param #   \n",
            "=================================================================\n",
            "s1 (Conv2D)                  (None, 32, 32, 256)       7168      \n",
            "_________________________________________________________________\n",
            "activation_15 (Activation)   (None, 32, 32, 256)       0         \n",
            "_________________________________________________________________\n",
            "batch_normalization_14 (Batc (None, 32, 32, 256)       1024      \n",
            "_________________________________________________________________\n",
            "conv2d_13 (Conv2D)           (None, 32, 32, 256)       590080    \n",
            "_________________________________________________________________\n",
            "activation_16 (Activation)   (None, 32, 32, 256)       0         \n",
            "_________________________________________________________________\n",
            "batch_normalization_15 (Batc (None, 32, 32, 256)       1024      \n",
            "_________________________________________________________________\n",
            "max_pooling2d_5 (MaxPooling2 (None, 16, 16, 256)       0         \n",
            "_________________________________________________________________\n",
            "dropout_10 (Dropout)         (None, 16, 16, 256)       0         \n",
            "_________________________________________________________________\n",
            "conv2d_14 (Conv2D)           (None, 16, 16, 128)       295040    \n",
            "_________________________________________________________________\n",
            "activation_17 (Activation)   (None, 16, 16, 128)       0         \n",
            "_________________________________________________________________\n",
            "batch_normalization_16 (Batc (None, 16, 16, 128)       512       \n",
            "_________________________________________________________________\n",
            "conv2d_15 (Conv2D)           (None, 16, 16, 128)       147584    \n",
            "_________________________________________________________________\n",
            "activation_18 (Activation)   (None, 16, 16, 128)       0         \n",
            "_________________________________________________________________\n",
            "batch_normalization_17 (Batc (None, 16, 16, 128)       512       \n",
            "_________________________________________________________________\n",
            "max_pooling2d_6 (MaxPooling2 (None, 8, 8, 128)         0         \n",
            "_________________________________________________________________\n",
            "dropout_11 (Dropout)         (None, 8, 8, 128)         0         \n",
            "_________________________________________________________________\n",
            "flatten_1 (Flatten)          (None, 8192)              0         \n",
            "_________________________________________________________________\n",
            "dense (Dense)                (None, 32)                262176    \n",
            "_________________________________________________________________\n",
            "reqs1 (Dense)                (None, 256)               8448      \n",
            "=================================================================\n",
            "Total params: 1,313,568\n",
            "Trainable params: 1,312,032\n",
            "Non-trainable params: 1,536\n",
            "_________________________________________________________________\n"
          ],
          "name": "stdout"
        }
      ]
    },
    {
      "cell_type": "code",
      "metadata": {
        "id": "5Bf51HQeYB19"
      },
      "source": [
        "# import np.random import random\n",
        "BATCH_SIZE=32\n",
        "def build_gan(gen,disc): \n",
        "    disc.trainable = False\n",
        "    input= Input(shape=input_shape)\n",
        "    output = gen(input)\n",
        "    output2= disc(output)\n",
        "    gan=Model(input,output2)\n",
        "\n",
        "    gan.compile('adam',loss=['binary_crossentropy','mse'],metrics=['accuracy'])\n",
        "\n",
        "    return gan"
      ],
      "execution_count": null,
      "outputs": []
    },
    {
      "cell_type": "code",
      "metadata": {
        "id": "7DN9rlsCXBHl"
      },
      "source": [
        "def build_sdiscriminator():\n",
        "    \n",
        "    input2 = Input(shape=(256,),name='input')\n",
        "    inp=Dense(128)(input2)\n",
        "\n",
        "    leaky_relu = LeakyReLU(alpha=0.2)(inp)\n",
        "    \n",
        "    conv3 = Dense(128,activation='relu')(leaky_relu)\n",
        "    b_n = BatchNormalization()(conv3)\n",
        "    # leaky_relu = LeakyReLU(alpha=0.2)(b_n)\n",
        "    conv3 = Dense(128,activation='relu')(leaky_relu)\n",
        "    b_n = BatchNormalization()(conv3)\n",
        "    # leaky_relu = LeakyReLU(alpha=0.2)(b_n)\n",
        "    conv3 = Dense(128,activation='relu')(b_n)\n",
        "    b_n = BatchNormalization()(conv3)\n",
        "    # leaky_relu = LeakyReLU(alpha=0.2)(b_n)\n",
        "    conv4 = Dense(256,activation='relu')(b_n)\n",
        "    b_n = BatchNormalization()(conv4)\n",
        "    # leaky_relu = LeakyReLU(alpha=0.2)(b_n)\n",
        "    conv4 = Dense(256,activation='relu')(b_n)\n",
        "    b_n = BatchNormalization()(conv4)\n",
        "    leaky_relu = LeakyReLU(alpha=0.2)(b_n)\n",
        "    conv4 = Dense(512)(leaky_relu)\n",
        "    b_n = BatchNormalization()(conv4)\n",
        "    leaky_relu = LeakyReLU(alpha=0.2)(b_n)\n",
        "    conv4 = Dense(512,activation='relu')(b_n)\n",
        "    b_n = BatchNormalization()(conv4)\n",
        "    leaky_relu = LeakyReLU(alpha=0.2)(b_n)\n",
        "    conv4 = Dense(1024)(leaky_relu)\n",
        "    b_n = BatchNormalization()(conv4)\n",
        "    leaky_relu = LeakyReLU(alpha=0.2)(b_n)\n",
        "\n",
        "    dense = Dense(1,activation='sigmoid')(b_n)\n",
        "\n",
        "    output2=Dense(256)(b_n)\n",
        "    disc = Model(input2,[dense,output2])          \n",
        "    disc.compile(optd,loss=['binary_crossentropy','mse'],metrics=['accuracy'])\n",
        "\n",
        "\n",
        "    return disc"
      ],
      "execution_count": null,
      "outputs": []
    },
    {
      "cell_type": "code",
      "metadata": {
        "id": "HP0r1sO5ACHS"
      },
      "source": [
        "def training(generator,discriminator,gan,features,epo=20):\n",
        "    # Setup Models here\n",
        "    BATCH_SIZE = 128\n",
        "    discriminator.trainable = True\n",
        "    total_size = X_train.shape[0]\n",
        "    indices = np.arange(0,total_size ,BATCH_SIZE)\n",
        "    all_disc_loss = []\n",
        "    all_gen_loss = []\n",
        "    all_class_loss=[]\n",
        "    if total_size % BATCH_SIZE:\n",
        "        indices = indices[:-1]\n",
        "    for e in range(epo):\n",
        "        \n",
        "        progress_bar = Progbar(target=len(indices))\n",
        "        np.random.shuffle(indices)\n",
        "        epoch_gen_loss = []\n",
        "        epoch_disc_loss = []\n",
        "        epoch_class_loss= []\n",
        "        for i,index in enumerate(indices):\n",
        "        \n",
        "            # Write your code here\n",
        "            inputs=X_train[index:index+BATCH_SIZE]\n",
        "            real_image = features[index:index+BATCH_SIZE]\n",
        "            y_train = features[index:index+BATCH_SIZE]\n",
        "\n",
        "            y_real = np.ones((BATCH_SIZE,1))\n",
        "            y_fake = np.zeros((BATCH_SIZE,1))\n",
        "\n",
        "            #Generator Training\n",
        "            fake_images = generator.predict_on_batch(inputs)\n",
        "\n",
        "            #Disrciminator Training\n",
        "            disc_real_loss1,_,disc_real_loss2,_,_= discriminator.train_on_batch(real_image,[y_real,y_train])\n",
        "            disc_fake_loss1,_,disc_fake_loss2,_,_= discriminator.train_on_batch(fake_images,[y_fake,y_train])\n",
        "\n",
        "            #Gans Training\n",
        "            discriminator.trainable = False\n",
        "            gan_loss,_,gan_loss2,_,_ = gan.train_on_batch(inputs, [y_real,y_train])\n",
        "\n",
        "            discriminator.trainable = True\n",
        "\n",
        "            disc_loss = (disc_fake_loss1 + disc_real_loss1)/2\n",
        "            epoch_disc_loss.append(disc_loss)\n",
        "            progress_bar.update(i+1)\n",
        "\n",
        "            epoch_gen_loss.append((gan_loss))\n",
        "\n",
        "        avg_epoch_disc_loss = np.array(epoch_disc_loss).mean()\n",
        "        avg_epoch_gen_loss = np.array(epoch_gen_loss).mean()\n",
        "        all_disc_loss.append(avg_epoch_disc_loss)\n",
        "        all_gen_loss.append(avg_epoch_gen_loss)\n",
        "        print(\"Epoch: %d | Discriminator Loss: %f | Generator Loss: %f | \" % (e+1,avg_epoch_disc_loss,avg_epoch_gen_loss))\n",
        "        # generator.save_weights(path+\"generator.h5\")\n",
        "\n",
        "    return generator"
      ],
      "execution_count": null,
      "outputs": []
    },
    {
      "cell_type": "code",
      "metadata": {
        "colab": {
          "base_uri": "https://localhost:8080/"
        },
        "id": "fMuyg_3pACVM",
        "outputId": "94a73225-0ddb-4114-95cf-1a1e098063e9"
      },
      "source": [
        "optd = Adam(lr=0.0002)\n",
        "opt = Adam(lr=0.0002)\n",
        "\n",
        "discriminator1 = build_sdiscriminator()\n",
        "s1=define_model(\"s1\")\n",
        "gan1 = build_gan(s1,discriminator1)\n",
        "s1 = training(s1,discriminator1,gan1,s1Train,epo=40)"
      ],
      "execution_count": null,
      "outputs": [
        {
          "output_type": "stream",
          "text": [
            "/usr/local/lib/python3.7/dist-packages/keras/optimizer_v2/optimizer_v2.py:356: UserWarning: The `lr` argument is deprecated, use `learning_rate` instead.\n",
            "  \"The `lr` argument is deprecated, use `learning_rate` instead.\")\n"
          ],
          "name": "stderr"
        },
        {
          "output_type": "stream",
          "text": [
            "312/312 [==============================] - 259s 806ms/step\n",
            "Epoch: 1 | Discriminator Loss: 1.583424 | Generator Loss: 1.885882 | \n",
            "312/312 [==============================] - 250s 802ms/step\n",
            "Epoch: 2 | Discriminator Loss: 1.156387 | Generator Loss: 1.488683 | \n",
            "312/312 [==============================] - 249s 797ms/step\n",
            "Epoch: 3 | Discriminator Loss: 1.072917 | Generator Loss: 1.345922 | \n",
            "312/312 [==============================] - 249s 798ms/step\n",
            "Epoch: 4 | Discriminator Loss: 1.021174 | Generator Loss: 1.268823 | \n",
            "312/312 [==============================] - 249s 799ms/step\n",
            "Epoch: 5 | Discriminator Loss: 0.983091 | Generator Loss: 1.206750 | \n",
            "312/312 [==============================] - 248s 794ms/step\n",
            "Epoch: 6 | Discriminator Loss: 0.953136 | Generator Loss: 1.162449 | \n",
            "312/312 [==============================] - 249s 798ms/step\n",
            "Epoch: 7 | Discriminator Loss: 0.922658 | Generator Loss: 1.121799 | \n",
            "312/312 [==============================] - 249s 797ms/step\n",
            "Epoch: 8 | Discriminator Loss: 0.904129 | Generator Loss: 1.090355 | \n",
            "312/312 [==============================] - 247s 793ms/step\n",
            "Epoch: 9 | Discriminator Loss: 0.885656 | Generator Loss: 1.060244 | \n",
            "312/312 [==============================] - 247s 793ms/step\n",
            "Epoch: 10 | Discriminator Loss: 0.868144 | Generator Loss: 1.034660 | \n",
            "312/312 [==============================] - 247s 793ms/step\n",
            "Epoch: 11 | Discriminator Loss: 0.854352 | Generator Loss: 1.012221 | \n",
            "312/312 [==============================] - 247s 791ms/step\n",
            "Epoch: 12 | Discriminator Loss: 0.841302 | Generator Loss: 0.993610 | \n",
            "312/312 [==============================] - 247s 791ms/step\n",
            "Epoch: 13 | Discriminator Loss: 0.829772 | Generator Loss: 0.976423 | \n",
            "312/312 [==============================] - 246s 789ms/step\n",
            "Epoch: 14 | Discriminator Loss: 0.820106 | Generator Loss: 0.963923 | \n",
            "312/312 [==============================] - 246s 788ms/step\n",
            "Epoch: 15 | Discriminator Loss: 0.813815 | Generator Loss: 0.952993 | \n",
            "312/312 [==============================] - 245s 786ms/step\n",
            "Epoch: 16 | Discriminator Loss: 0.802718 | Generator Loss: 0.940487 | \n",
            "312/312 [==============================] - 246s 788ms/step\n",
            "Epoch: 17 | Discriminator Loss: 0.803227 | Generator Loss: 0.936005 | \n",
            "312/312 [==============================] - 247s 790ms/step\n",
            "Epoch: 18 | Discriminator Loss: 0.795887 | Generator Loss: 0.924593 | \n",
            "312/312 [==============================] - 246s 789ms/step\n",
            "Epoch: 19 | Discriminator Loss: 0.788321 | Generator Loss: 0.916870 | \n",
            "312/312 [==============================] - 246s 789ms/step\n",
            "Epoch: 20 | Discriminator Loss: 0.789058 | Generator Loss: 0.915276 | \n",
            "312/312 [==============================] - 246s 789ms/step\n",
            "Epoch: 21 | Discriminator Loss: 0.780277 | Generator Loss: 0.906425 | \n",
            "312/312 [==============================] - 246s 787ms/step\n",
            "Epoch: 22 | Discriminator Loss: 0.779840 | Generator Loss: 0.901962 | \n",
            "312/312 [==============================] - 245s 785ms/step\n",
            "Epoch: 23 | Discriminator Loss: 0.776556 | Generator Loss: 0.898771 | \n",
            "312/312 [==============================] - 246s 787ms/step\n",
            "Epoch: 24 | Discriminator Loss: 0.773908 | Generator Loss: 0.895219 | \n",
            "312/312 [==============================] - 245s 787ms/step\n",
            "Epoch: 25 | Discriminator Loss: 0.770958 | Generator Loss: 0.888233 | \n",
            "312/312 [==============================] - 245s 785ms/step\n",
            "Epoch: 26 | Discriminator Loss: 0.768463 | Generator Loss: 0.885775 | \n",
            "312/312 [==============================] - 246s 787ms/step\n",
            "Epoch: 27 | Discriminator Loss: 0.769000 | Generator Loss: 0.882774 | \n",
            "312/312 [==============================] - 245s 787ms/step\n",
            "Epoch: 28 | Discriminator Loss: 0.767667 | Generator Loss: 0.880171 | \n",
            "312/312 [==============================] - 246s 788ms/step\n",
            "Epoch: 29 | Discriminator Loss: 0.765070 | Generator Loss: 0.875922 | \n",
            "312/312 [==============================] - 246s 787ms/step\n",
            "Epoch: 30 | Discriminator Loss: 0.763756 | Generator Loss: 0.876677 | \n",
            "312/312 [==============================] - 246s 789ms/step\n",
            "Epoch: 31 | Discriminator Loss: 0.762307 | Generator Loss: 0.872972 | \n",
            "312/312 [==============================] - 244s 783ms/step\n",
            "Epoch: 32 | Discriminator Loss: 0.759730 | Generator Loss: 0.869270 | \n",
            "312/312 [==============================] - 245s 786ms/step\n",
            "Epoch: 33 | Discriminator Loss: 0.757526 | Generator Loss: 0.863841 | \n",
            "312/312 [==============================] - 246s 789ms/step\n",
            "Epoch: 34 | Discriminator Loss: 0.757174 | Generator Loss: 0.865078 | \n",
            "312/312 [==============================] - 246s 787ms/step\n",
            "Epoch: 35 | Discriminator Loss: 0.757369 | Generator Loss: 0.862142 | \n",
            "312/312 [==============================] - 245s 786ms/step\n",
            "Epoch: 36 | Discriminator Loss: 0.756786 | Generator Loss: 0.859509 | \n",
            "191/312 [=================>............] - ETA: 1:35"
          ],
          "name": "stdout"
        }
      ]
    },
    {
      "cell_type": "code",
      "metadata": {
        "id": "9SF0whGaBMjz"
      },
      "source": [
        "o1=s1.get_layer(\"reqs1\").output\n",
        "output=Activation('relu')(o1)\n",
        "output=Dropout(0.5)(output)\n",
        "output=Dense(10,activation=\"softmax\", name=\"d1\")(output)\n",
        "compressed_model = Model(s1.get_layer('s1').input, output)\n",
        "my_weights=teacher.get_layer('dense_2').get_weights()"
      ],
      "execution_count": null,
      "outputs": []
    },
    {
      "cell_type": "code",
      "metadata": {
        "id": "e7gP-upUPA7C",
        "colab": {
          "base_uri": "https://localhost:8080/"
        },
        "outputId": "006a74ce-c8ca-46bd-95ad-d32ed56f91d0"
      },
      "source": [
        "compressed_model.summary()"
      ],
      "execution_count": null,
      "outputs": [
        {
          "output_type": "stream",
          "text": [
            "Model: \"model_1\"\n",
            "_________________________________________________________________\n",
            "Layer (type)                 Output Shape              Param #   \n",
            "=================================================================\n",
            "s1_input (InputLayer)        [(None, 32, 32, 3)]       0         \n",
            "_________________________________________________________________\n",
            "s1 (Conv2D)                  (None, 32, 32, 256)       7168      \n",
            "_________________________________________________________________\n",
            "activation_19 (Activation)   (None, 32, 32, 256)       0         \n",
            "_________________________________________________________________\n",
            "batch_normalization_18 (Batc (None, 32, 32, 256)       1024      \n",
            "_________________________________________________________________\n",
            "conv2d_16 (Conv2D)           (None, 32, 32, 256)       590080    \n",
            "_________________________________________________________________\n",
            "activation_20 (Activation)   (None, 32, 32, 256)       0         \n",
            "_________________________________________________________________\n",
            "batch_normalization_19 (Batc (None, 32, 32, 256)       1024      \n",
            "_________________________________________________________________\n",
            "max_pooling2d_7 (MaxPooling2 (None, 16, 16, 256)       0         \n",
            "_________________________________________________________________\n",
            "dropout_12 (Dropout)         (None, 16, 16, 256)       0         \n",
            "_________________________________________________________________\n",
            "conv2d_17 (Conv2D)           (None, 16, 16, 128)       295040    \n",
            "_________________________________________________________________\n",
            "activation_21 (Activation)   (None, 16, 16, 128)       0         \n",
            "_________________________________________________________________\n",
            "batch_normalization_20 (Batc (None, 16, 16, 128)       512       \n",
            "_________________________________________________________________\n",
            "conv2d_18 (Conv2D)           (None, 16, 16, 128)       147584    \n",
            "_________________________________________________________________\n",
            "activation_22 (Activation)   (None, 16, 16, 128)       0         \n",
            "_________________________________________________________________\n",
            "batch_normalization_21 (Batc (None, 16, 16, 128)       512       \n",
            "_________________________________________________________________\n",
            "max_pooling2d_8 (MaxPooling2 (None, 8, 8, 128)         0         \n",
            "_________________________________________________________________\n",
            "dropout_13 (Dropout)         (None, 8, 8, 128)         0         \n",
            "_________________________________________________________________\n",
            "flatten_2 (Flatten)          (None, 8192)              0         \n",
            "_________________________________________________________________\n",
            "dense_1 (Dense)              (None, 32)                262176    \n",
            "_________________________________________________________________\n",
            "reqs1 (Dense)                (None, 256)               8448      \n",
            "_________________________________________________________________\n",
            "activation_23 (Activation)   (None, 256)               0         \n",
            "_________________________________________________________________\n",
            "dropout_14 (Dropout)         (None, 256)               0         \n",
            "_________________________________________________________________\n",
            "d1 (Dense)                   (None, 10)                2570      \n",
            "=================================================================\n",
            "Total params: 1,316,138\n",
            "Trainable params: 1,314,602\n",
            "Non-trainable params: 1,536\n",
            "_________________________________________________________________\n"
          ],
          "name": "stdout"
        }
      ]
    },
    {
      "cell_type": "code",
      "metadata": {
        "id": "rw_XLiVWBmij"
      },
      "source": [
        "#assigning the extracted weights as a starting point to the combined student network\n",
        "compressed_model.get_layer('d1').set_weights(my_weights)"
      ],
      "execution_count": null,
      "outputs": []
    },
    {
      "cell_type": "code",
      "metadata": {
        "id": "aa1YEvef3nhi"
      },
      "source": [
        "for l in compressed_model.layers[:len(compressed_model.layers)-2]:\n",
        "    l.trainable=False\n"
      ],
      "execution_count": null,
      "outputs": []
    },
    {
      "cell_type": "code",
      "metadata": {
        "id": "u2Ys_A3GBvqi"
      },
      "source": [
        "compressed_model.compile(loss='categorical_crossentropy',\n",
        "              optimizer='adam',\n",
        "              metrics=['accuracy'])"
      ],
      "execution_count": null,
      "outputs": []
    },
    {
      "cell_type": "code",
      "metadata": {
        "id": "da5xVGuhOKww",
        "colab": {
          "base_uri": "https://localhost:8080/"
        },
        "outputId": "a5970a21-2c16-4d40-fa0e-1d99dc252ec8"
      },
      "source": [
        "# With finetune\n",
        "batch_size = 256\n",
        "mm_history = compressed_model.fit(X_train, Y_train,\n",
        "          batch_size=batch_size,\n",
        "          epochs=10,\n",
        "          verbose=1,\n",
        "          validation_data=(X_val, Y_val))"
      ],
      "execution_count": null,
      "outputs": [
        {
          "output_type": "stream",
          "text": [
            "Epoch 1/10\n",
            "157/157 [==============================] - 12s 79ms/step - loss: 1.3043 - accuracy: 0.6449 - val_loss: 0.4187 - val_accuracy: 0.9108\n",
            "Epoch 2/10\n",
            "157/157 [==============================] - 11s 73ms/step - loss: 0.7552 - accuracy: 0.8054 - val_loss: 0.3739 - val_accuracy: 0.9217\n",
            "Epoch 3/10\n",
            "157/157 [==============================] - 12s 74ms/step - loss: 0.6365 - accuracy: 0.8434 - val_loss: 0.3590 - val_accuracy: 0.9253\n",
            "Epoch 4/10\n",
            "157/157 [==============================] - 12s 74ms/step - loss: 0.5885 - accuracy: 0.8590 - val_loss: 0.3517 - val_accuracy: 0.9266\n",
            "Epoch 5/10\n",
            "157/157 [==============================] - 12s 74ms/step - loss: 0.5668 - accuracy: 0.8683 - val_loss: 0.3468 - val_accuracy: 0.9275\n",
            "Epoch 6/10\n",
            "157/157 [==============================] - 12s 75ms/step - loss: 0.5442 - accuracy: 0.8730 - val_loss: 0.3435 - val_accuracy: 0.9282\n",
            "Epoch 7/10\n",
            "157/157 [==============================] - 12s 75ms/step - loss: 0.5281 - accuracy: 0.8768 - val_loss: 0.3418 - val_accuracy: 0.9284\n",
            "Epoch 8/10\n",
            "157/157 [==============================] - 12s 75ms/step - loss: 0.5225 - accuracy: 0.8789 - val_loss: 0.3407 - val_accuracy: 0.9291\n",
            "Epoch 9/10\n",
            "157/157 [==============================] - 12s 75ms/step - loss: 0.5172 - accuracy: 0.8807 - val_loss: 0.3394 - val_accuracy: 0.9299\n",
            "Epoch 10/10\n",
            "157/157 [==============================] - 12s 75ms/step - loss: 0.5053 - accuracy: 0.8826 - val_loss: 0.3378 - val_accuracy: 0.9309\n"
          ],
          "name": "stdout"
        }
      ]
    },
    {
      "cell_type": "code",
      "metadata": {
        "id": "G7SsTY8acE59",
        "colab": {
          "base_uri": "https://localhost:8080/"
        },
        "outputId": "04945741-b282-42cf-bfb8-cff6b586ca73"
      },
      "source": [
        "l,a = compressed_model.evaluate(X_test, y_test)\n",
        "l, a"
      ],
      "execution_count": null,
      "outputs": [
        {
          "output_type": "stream",
          "text": [
            "313/313 [==============================] - 3s 9ms/step - loss: 0.7503 - accuracy: 0.8029\n"
          ],
          "name": "stdout"
        },
        {
          "output_type": "execute_result",
          "data": {
            "text/plain": [
              "(0.7502911686897278, 0.8029000163078308)"
            ]
          },
          "metadata": {
            "tags": []
          },
          "execution_count": 27
        }
      ]
    },
    {
      "cell_type": "code",
      "metadata": {
        "id": "7_RLuLLV4Rry",
        "colab": {
          "base_uri": "https://localhost:8080/",
          "height": 573
        },
        "outputId": "6d3e91f7-ae89-4492-fa06-0a6973229d85"
      },
      "source": [
        "import matplotlib.pyplot as plt\n",
        "plt.plot(mm_history.history['accuracy'])\n",
        "plt.plot(mm_history.history['val_accuracy'])\n",
        "plt.title('model accuracy')\n",
        "plt.ylabel('accuracy')\n",
        "plt.xlabel('epoch')\n",
        "plt.legend(['train', 'test'], loc='upper left')\n",
        "plt.show()\n",
        "# summarize history for loss\n",
        "plt.plot(mm_history.history['loss'])\n",
        "plt.plot(mm_history.history['val_loss'])\n",
        "plt.title('model loss')\n",
        "plt.ylabel('loss')\n",
        "plt.xlabel('epoch')\n",
        "plt.legend(['train', 'test'], loc='upper left')\n",
        "plt.show()"
      ],
      "execution_count": null,
      "outputs": [
        {
          "output_type": "display_data",
          "data": {
            "image/png": "[encoded data removed]",
            "text/plain": [
              "<Figure size 432x288 with 1 Axes>"
            ]
          },
          "metadata": {
            "tags": [],
            "needs_background": "light"
          }
        },
        {
          "output_type": "display_data",
          "data": {
            "image/png": "[encoded data removed]",
            "text/plain": [
              "<Figure size 432x288 with 1 Axes>"
            ]
          },
          "metadata": {
            "tags": [],
            "needs_background": "light"
          }
        }
      ]
    },
    {
      "cell_type": "code",
      "metadata": {
        "id": "bsbVOyW_612E"
      },
      "source": [
        ""
      ],
      "execution_count": null,
      "outputs": []
    }
  ]
}